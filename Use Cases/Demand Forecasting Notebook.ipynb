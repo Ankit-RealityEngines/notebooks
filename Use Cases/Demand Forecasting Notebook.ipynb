{
 "cells": [
  {
   "cell_type": "markdown",
   "metadata": {
    "colab_type": "text",
    "id": "0SfpcGwm-q51"
   },
   "source": [
    "## How-to guide for Demand Forecasting use-case on Abacus.AI platform\n",
    "This notebook provides you with a hands on environment to build a forecasting model using the Abacus.AI Python Client Library.\n",
    "\n",
    "We'll be using the [Store Sales Data](https://s3.amazonaws.com/realityengines.exampledatasets/sales_forecasting/store_sales_w_holidays_timeseries.csv) and [Store Attributes](https://s3.amazonaws.com/realityengines.exampledatasets/sales_forecasting/store_metadata.csv) datasets, which contain information about multiple stores' sales and their attributes."
   ]
  },
  {
   "cell_type": "markdown",
   "metadata": {
    "colab_type": "text",
    "id": "86-amG5MVlv9"
   },
   "source": [
    "1. Install the Abacus.AI library."
   ]
  },
  {
   "cell_type": "code",
   "execution_count": null,
   "metadata": {
    "colab": {
     "base_uri": "https://localhost:8080/",
     "height": 326
    },
    "colab_type": "code",
    "executionInfo": {
     "elapsed": 6434,
     "status": "ok",
     "timestamp": 1596653297227,
     "user": {
      "displayName": "Ashni Sheth",
      "photoUrl": "https://lh3.googleusercontent.com/a-/AOh14Gj5hwKgDpwIJPCrdFXQB60XSkRPTEWGv9jeKLpnMo0=s64",
      "userId": "15098545459592232887"
     },
     "user_tz": 420
    },
    "id": "DDFMTaef6FV2",
    "outputId": "5010c88c-ebf2-4b8d-eae1-d155bfc6ef54"
   },
   "outputs": [],
   "source": [
    "!pip install abacusai"
   ]
  },
  {
   "cell_type": "markdown",
   "metadata": {
    "colab_type": "text",
    "id": "s9Xj_eYXVntL"
   },
   "source": [
    "We'll also import pandas and pprint tools for neat visualization in this notebook."
   ]
  },
  {
   "cell_type": "code",
   "execution_count": null,
   "metadata": {
    "colab": {},
    "colab_type": "code",
    "id": "kcwfHka1QqcK"
   },
   "outputs": [],
   "source": [
    "import pandas as pd # A tool we'll use to download and preview CSV files\n",
    "import pprint # A tool to pretty print dictionary outputs\n",
    "pp = pprint.PrettyPrinter(indent=2)"
   ]
  },
  {
   "cell_type": "markdown",
   "metadata": {
    "colab_type": "text",
    "id": "TIZO6YCZVqln"
   },
   "source": [
    "2. Add your Abacus.AI [API Key](https://abacus.ai/app/profile/apikey) generated using the API dashboard as follows:"
   ]
  },
  {
   "cell_type": "code",
   "execution_count": null,
   "metadata": {
    "colab": {},
    "colab_type": "code",
    "id": "PDghrVmKQrg7"
   },
   "outputs": [],
   "source": [
    "#@title Abacus.AI API Key\n",
    "\n",
    "api_key = ''  #@param {type: \"string\"}"
   ]
  },
  {
   "cell_type": "markdown",
   "metadata": {
    "colab_type": "text",
    "id": "u4uBc3OtVs6C"
   },
   "source": [
    "3. Import the Abacus.AI library and instantiate a client."
   ]
  },
  {
   "cell_type": "code",
   "execution_count": null,
   "metadata": {
    "colab": {},
    "colab_type": "code",
    "id": "H9uIxZfAQtzh"
   },
   "outputs": [],
   "source": [
    "from abacusai import ApiClient\n",
    "client = ApiClient(api_key)"
   ]
  },
  {
   "cell_type": "markdown",
   "metadata": {
    "colab_type": "text",
    "id": "DzePW7fyVvMl"
   },
   "source": [
    "## 1. Create a Project\n",
    "\n",
    "Abacus.AI projects are containers that have datasets and trained models. By specifying a business **Use Case**, Abacus.AI tailors the deep learning algorithms to produce the best performing model catered specifically for your data.\n",
    "\n",
    "We'll call the `list_use_cases` method to retrieve a list of the Use Cases currently available on the Abacus.AI platform."
   ]
  },
  {
   "cell_type": "code",
   "execution_count": null,
   "metadata": {
    "colab": {
     "base_uri": "https://localhost:8080/",
     "height": 326
    },
    "colab_type": "code",
    "executionInfo": {
     "elapsed": 1618,
     "status": "ok",
     "timestamp": 1596653313087,
     "user": {
      "displayName": "Ashni Sheth",
      "photoUrl": "https://lh3.googleusercontent.com/a-/AOh14Gj5hwKgDpwIJPCrdFXQB60XSkRPTEWGv9jeKLpnMo0=s64",
      "userId": "15098545459592232887"
     },
     "user_tz": 420
    },
    "id": "ts0RBfwnQvMr",
    "outputId": "669e2448-269b-47ca-c208-80b097640d44"
   },
   "outputs": [],
   "source": [
    "client.list_use_cases()"
   ]
  },
  {
   "cell_type": "markdown",
   "metadata": {
    "colab_type": "text",
    "id": "w4mjNiWzVxUB"
   },
   "source": [
    "In this notebook, we're going to create a forecasting model using the Store Sales Data and Store Attributes datasets. The 'RETAIL' use case is best tailored for this situation."
   ]
  },
  {
   "cell_type": "code",
   "execution_count": null,
   "metadata": {
    "colab": {},
    "colab_type": "code",
    "id": "fgCCVD-cQwVd"
   },
   "outputs": [],
   "source": [
    "#@title Abacus.AI Use Case\n",
    "\n",
    "use_case = 'RETAIL'  #@param {type: \"string\"}"
   ]
  },
  {
   "cell_type": "markdown",
   "metadata": {
    "colab_type": "text",
    "id": "wkW3tkWpV-6p"
   },
   "source": [
    "By calling the `describe_use_case_requirements` method we can view what datasets are required for this use_case."
   ]
  },
  {
   "cell_type": "code",
   "execution_count": null,
   "metadata": {
    "colab": {
     "base_uri": "https://localhost:8080/",
     "height": 986
    },
    "colab_type": "code",
    "executionInfo": {
     "elapsed": 1379,
     "status": "ok",
     "timestamp": 1596653316668,
     "user": {
      "displayName": "Ashni Sheth",
      "photoUrl": "https://lh3.googleusercontent.com/a-/AOh14Gj5hwKgDpwIJPCrdFXQB60XSkRPTEWGv9jeKLpnMo0=s64",
      "userId": "15098545459592232887"
     },
     "user_tz": 420
    },
    "id": "LD1m3UXWQ3Zb",
    "outputId": "199bf028-6c9b-4dc1-8985-e26a53b66bbd"
   },
   "outputs": [],
   "source": [
    "for requirement in client.describe_use_case_requirements(use_case):\n",
    "  pp.pprint(requirement.to_dict())"
   ]
  },
  {
   "cell_type": "markdown",
   "metadata": {
    "colab_type": "text",
    "id": "QEMPQL7JWAFm"
   },
   "source": [
    "Finally, let's create the project."
   ]
  },
  {
   "cell_type": "code",
   "execution_count": null,
   "metadata": {
    "colab": {
     "base_uri": "https://localhost:8080/",
     "height": 85
    },
    "colab_type": "code",
    "executionInfo": {
     "elapsed": 1491,
     "status": "ok",
     "timestamp": 1596653545589,
     "user": {
      "displayName": "Ashni Sheth",
      "photoUrl": "https://lh3.googleusercontent.com/a-/AOh14Gj5hwKgDpwIJPCrdFXQB60XSkRPTEWGv9jeKLpnMo0=s64",
      "userId": "15098545459592232887"
     },
     "user_tz": 420
    },
    "id": "jwakgRFxQ4ug",
    "outputId": "d8ee37c7-37df-46e0-8b00-c32efa66e7cc"
   },
   "outputs": [],
   "source": [
    "demand_forecasting_project = client.create_project(name='Store Sales Forecasting', use_case=use_case)\n",
    "demand_forecasting_project.to_dict()"
   ]
  },
  {
   "cell_type": "markdown",
   "metadata": {
    "colab_type": "text",
    "id": "3imQdznBWCwQ"
   },
   "source": [
    "## 2. Add Datasets to your Project\n",
    "\n",
    "Abacus.AI can read datasets directly from `AWS S3` or `Google Cloud Storage` buckets, otherwise you can also directly upload and store your datasets with Abacus.AI. For this notebook, we will have Abacus.AI read the datasets directly from a public S3 bucket's location.\n",
    "\n",
    "We are using two datasets for this notebook. We'll tell Abacus.AI how each dataset should be used when creating it by tagging the dataset with a special Abacus.AI **Dataset Type**.\n",
    "- [Store Sales Data](https://s3.amazonaws.com/realityengines.exampledatasets/sales_forecasting/store_sales_w_holidays_timeseries.csv) (**TIMESERIES**): \n",
    "This dataset contains information about store sales.\n",
    "- [Sales Attributes](https://s3.amazonaws.com/realityengines.exampledatasets/sales_forecasting/store_metadata.csv) (**ITEM_ATTRIBUTES**): This dataset contains store attributes."
   ]
  },
  {
   "cell_type": "markdown",
   "metadata": {
    "colab_type": "text",
    "id": "gBqIUOPRHvHT"
   },
   "source": [
    "### Add the dataset to Abacus.AI\n",
    "\n",
    "First we'll use Pandas to preview the file, then add it to Abacus.AI."
   ]
  },
  {
   "cell_type": "code",
   "execution_count": null,
   "metadata": {
    "colab": {
     "base_uri": "https://localhost:8080/",
     "height": 307
    },
    "colab_type": "code",
    "executionInfo": {
     "elapsed": 704,
     "status": "error",
     "timestamp": 1597729964601,
     "user": {
      "displayName": "Ashni Sheth",
      "photoUrl": "https://lh3.googleusercontent.com/a-/AOh14GiJ_2Wmsyck4UcIkioKJ0fnDbXK1T3Ve99O4UfHxvI=s64",
      "userId": "15098545459592232887"
     },
     "user_tz": 420
    },
    "id": "vO0Y7luNHvWr",
    "outputId": "47846ae3-bba2-4366-db8a-4ce187cb2c2f"
   },
   "outputs": [],
   "source": [
    "pd.read_csv('https://s3.amazonaws.com/realityengines.exampledatasets/sales_forecasting/store_sales_w_holidays_timeseries.csv')"
   ]
  },
  {
   "cell_type": "code",
   "execution_count": null,
   "metadata": {
    "colab": {
     "base_uri": "https://localhost:8080/",
     "height": 439
    },
    "colab_type": "code",
    "executionInfo": {
     "elapsed": 402,
     "status": "ok",
     "timestamp": 1597729967350,
     "user": {
      "displayName": "Ashni Sheth",
      "photoUrl": "https://lh3.googleusercontent.com/a-/AOh14GiJ_2Wmsyck4UcIkioKJ0fnDbXK1T3Ve99O4UfHxvI=s64",
      "userId": "15098545459592232887"
     },
     "user_tz": 420
    },
    "id": "mSNGZMvAHwQT",
    "outputId": "7a7a5623-fa07-44c8-a2de-db38d5e2f0c4"
   },
   "outputs": [],
   "source": [
    "pd.read_csv('https://s3.amazonaws.com/realityengines.exampledatasets/sales_forecasting/store_metadata.csv')"
   ]
  },
  {
   "cell_type": "markdown",
   "metadata": {
    "colab_type": "text",
    "id": "CeR19HoPYTjM"
   },
   "source": [
    "Using the Create Dataset API, we can tell Abacus.AI the public S3 URI of where to find the datasets. We will also give each dataset a Refresh Schedule, which tells Abacus.AI when it should refresh the dataset (take an updated/latest copy of the dataset).\n",
    "\n",
    "If you're unfamiliar with Cron Syntax, Crontab Guru can help translate the syntax back into natural language: [https://crontab.guru/#0_12_\\*_\\*_\\*](https://crontab.guru/#0_12_*_*_*)\n",
    "\n",
    "**Note: This cron string will be evaluated in UTC time zone**"
   ]
  },
  {
   "cell_type": "code",
   "execution_count": null,
   "metadata": {
    "colab": {},
    "colab_type": "code",
    "id": "LubPDtsUdZwU"
   },
   "outputs": [],
   "source": [
    "store_sales_dataset = client.create_dataset('Store Sales Data', \n",
    "                                     location='s3://realityengines.exampledatasets/sales_forecasting/store_sales_w_holidays_timeseries.csv',\n",
    "                                     project_id=demand_forecasting_project.project_id, \n",
    "                                     dataset_type='TIMESERIES',\n",
    "                                     refresh_schedule='0 12 * * *')\n",
    "\n",
    "store_attributes_dataset = client.create_dataset('Store Attributes', \n",
    "                                     location='s3://realityengines.exampledatasets/sales_forecasting/store_metadata.csv',\n",
    "                                     project_id=demand_forecasting_project.project_id, \n",
    "                                     dataset_type='ITEM_ATTRIBUTES',\n",
    "                                     refresh_schedule='0 12 * * *')\n",
    "\n",
    "datasets = [store_sales_dataset, store_attributes_dataset]"
   ]
  },
  {
   "cell_type": "markdown",
   "metadata": {
    "colab_type": "text",
    "id": "91X3ctl4YYmA"
   },
   "source": [
    "### Check dataset processing status and get dataset schemas when processing finishes"
   ]
  },
  {
   "cell_type": "code",
   "execution_count": null,
   "metadata": {
    "colab": {
     "base_uri": "https://localhost:8080/",
     "height": 374
    },
    "colab_type": "code",
    "executionInfo": {
     "elapsed": 36537,
     "status": "ok",
     "timestamp": 1596653598371,
     "user": {
      "displayName": "Ashni Sheth",
      "photoUrl": "https://lh3.googleusercontent.com/a-/AOh14Gj5hwKgDpwIJPCrdFXQB60XSkRPTEWGv9jeKLpnMo0=s64",
      "userId": "15098545459592232887"
     },
     "user_tz": 420
    },
    "id": "x6e99u7AfWwn",
    "outputId": "5a699390-6fbf-483a-babf-6ab0cab78e25"
   },
   "outputs": [],
   "source": [
    "for dataset in datasets:\n",
    "    dataset.wait_for_inspection()\n",
    "    print(f'{dataset.name} Schema:')\n",
    "    pp.pprint(client.get_schema(demand_forecasting_project.project_id, dataset.dataset_id))"
   ]
  },
  {
   "cell_type": "markdown",
   "metadata": {
    "colab_type": "text",
    "id": "XloXedrbYZPI"
   },
   "source": [
    "Each column in a **Dataset** gets a **Column Data Type**.\n",
    "All we need to do now is to tell Abacus.AI what field we want to predict from our **Dataset**.\n",
    "\n",
    "For each **Dataset Type** in a **Use Case**, there are special **Column Mappings** that can be applied to a column. We can find the list of available **Column Mappings** by calling the *Describe Use Case Requirements* API."
   ]
  },
  {
   "cell_type": "code",
   "execution_count": null,
   "metadata": {
    "colab": {
     "base_uri": "https://localhost:8080/",
     "height": 292
    },
    "colab_type": "code",
    "executionInfo": {
     "elapsed": 1285,
     "status": "ok",
     "timestamp": 1596653689241,
     "user": {
      "displayName": "Ashni Sheth",
      "photoUrl": "https://lh3.googleusercontent.com/a-/AOh14Gj5hwKgDpwIJPCrdFXQB60XSkRPTEWGv9jeKLpnMo0=s64",
      "userId": "15098545459592232887"
     },
     "user_tz": 420
    },
    "id": "VVYDdUeDRMMF",
    "outputId": "7fb231f1-6fe0-473e-8088-9b550461e463"
   },
   "outputs": [],
   "source": [
    "client.describe_use_case_requirements(use_case)[0].allowed_column_mappings"
   ]
  },
  {
   "cell_type": "markdown",
   "metadata": {
    "colab_type": "text",
    "id": "PUt3CsfBY38m"
   },
   "source": [
    "We would map the *Store* column as **ITEM_ID**, the *Sales* column as **DEMAND**, and the *Date* column as **DATE**.\n",
    "\n",
    "The result of this call will be the updated schema after the **Column Mapping** is applied."
   ]
  },
  {
   "cell_type": "code",
   "execution_count": null,
   "metadata": {
    "colab": {},
    "colab_type": "code",
    "id": "PeroqsOxZ6wz"
   },
   "outputs": [],
   "source": [
    "client.set_column_mapping(project_id=demand_forecasting_project.project_id, dataset_id=store_sales_dataset.dataset_id,\n",
    "                          column='Store', column_mapping='ITEM_ID')\n",
    "\n",
    "client.set_column_mapping(project_id=demand_forecasting_project.project_id, dataset_id=store_sales_dataset.dataset_id,\n",
    "                          column='Sales', column_mapping='DEMAND')\n",
    "\n",
    "client.set_column_mapping(project_id=demand_forecasting_project.project_id, dataset_id=store_sales_dataset.dataset_id,\n",
    "                          column='Date', column_mapping='DATE')"
   ]
  },
  {
   "cell_type": "markdown",
   "metadata": {
    "colab_type": "text",
    "id": "wMilDDIFagvw"
   },
   "source": [
    "## 3. Train a Model"
   ]
  },
  {
   "cell_type": "markdown",
   "metadata": {
    "colab_type": "text",
    "id": "c1g4NLkDaix-"
   },
   "source": [
    "Now that we've uploaded the datasets, we're almost ready to train a model!\n",
    "\n",
    "To be sure that our project is ready to go, let's call `project.validate` to confirm that all the project requirements have been met."
   ]
  },
  {
   "cell_type": "code",
   "execution_count": null,
   "metadata": {
    "colab": {
     "base_uri": "https://localhost:8080/",
     "height": 34
    },
    "colab_type": "code",
    "executionInfo": {
     "elapsed": 1713,
     "status": "ok",
     "timestamp": 1596653691563,
     "user": {
      "displayName": "Ashni Sheth",
      "photoUrl": "https://lh3.googleusercontent.com/a-/AOh14Gj5hwKgDpwIJPCrdFXQB60XSkRPTEWGv9jeKLpnMo0=s64",
      "userId": "15098545459592232887"
     },
     "user_tz": 420
    },
    "id": "48n5jAjoRPas",
    "outputId": "6e583db9-7a64-4b05-a85e-1060ee9ee9d8"
   },
   "outputs": [],
   "source": [
    "demand_forecasting_project.validate()"
   ]
  },
  {
   "cell_type": "markdown",
   "metadata": {
    "colab_type": "text",
    "id": "O3-9JT_PanOx"
   },
   "source": [
    "For each **Use Case**, Abacus.AI has a bunch of options for training. We can call the *Get Training Config Options* API to see the available options."
   ]
  },
  {
   "cell_type": "code",
   "execution_count": null,
   "metadata": {
    "colab": {
     "base_uri": "https://localhost:8080/",
     "height": 156
    },
    "colab_type": "code",
    "executionInfo": {
     "elapsed": 1563,
     "status": "ok",
     "timestamp": 1596653696916,
     "user": {
      "displayName": "Ashni Sheth",
      "photoUrl": "https://lh3.googleusercontent.com/a-/AOh14Gj5hwKgDpwIJPCrdFXQB60XSkRPTEWGv9jeKLpnMo0=s64",
      "userId": "15098545459592232887"
     },
     "user_tz": 420
    },
    "id": "S1AoE9GbRQ1H",
    "outputId": "bf547dc7-2712-4299-e8a9-a8022c033c1e"
   },
   "outputs": [],
   "source": [
    "demand_forecasting_project.get_training_config_options()"
   ]
  },
  {
   "cell_type": "markdown",
   "metadata": {
    "colab_type": "text",
    "id": "dhtpojWUap6d"
   },
   "source": [
    "In this notebook, we'll just train with the default options, but definitely feel free to experiment, especially if you have familiarity with Machine Learning."
   ]
  },
  {
   "cell_type": "code",
   "execution_count": null,
   "metadata": {
    "colab": {
     "base_uri": "https://localhost:8080/",
     "height": 238
    },
    "colab_type": "code",
    "executionInfo": {
     "elapsed": 932,
     "status": "ok",
     "timestamp": 1595451474663,
     "user": {
      "displayName": "Ashni Sheth",
      "photoUrl": "https://lh3.googleusercontent.com/a-/AOh14Gj5hwKgDpwIJPCrdFXQB60XSkRPTEWGv9jeKLpnMo0=s64",
      "userId": "15098545459592232887"
     },
     "user_tz": 420
    },
    "id": "LWK7tl22RR8I",
    "outputId": "af83e62e-148e-4692-a242-62f58746ca05"
   },
   "outputs": [],
   "source": [
    "demand_forecasting_model = demand_forecasting_project.train_model(training_config={})\n",
    "demand_forecasting_model.to_dict()"
   ]
  },
  {
   "cell_type": "markdown",
   "metadata": {
    "colab_type": "text",
    "id": "RzOdliWPasQI"
   },
   "source": [
    "After we start training the model, we can call this blocking call that routinely checks the status of the model until it is trained and evaluated."
   ]
  },
  {
   "cell_type": "code",
   "execution_count": null,
   "metadata": {
    "colab": {
     "base_uri": "https://localhost:8080/",
     "height": 54
    },
    "colab_type": "code",
    "executionInfo": {
     "elapsed": 796524,
     "status": "ok",
     "timestamp": 1595455922475,
     "user": {
      "displayName": "Ashni Sheth",
      "photoUrl": "https://lh3.googleusercontent.com/a-/AOh14Gj5hwKgDpwIJPCrdFXQB60XSkRPTEWGv9jeKLpnMo0=s64",
      "userId": "15098545459592232887"
     },
     "user_tz": 420
    },
    "id": "wqkTK1HERTCw",
    "outputId": "8e43e9d2-312a-4d6e-eafa-76ede0849f11"
   },
   "outputs": [],
   "source": [
    "demand_forecasting_model.wait_for_evaluation()"
   ]
  },
  {
   "cell_type": "markdown",
   "metadata": {
    "colab_type": "text",
    "id": "rS1n0ux4a-4q"
   },
   "source": [
    "## **(Checkpoint)**\n",
    "Training can take an hour or two to complete, but we encourage you to run the remaining calls on your own time. If your page times out or you hit refresh, you can restore your progress using the code segment below:"
   ]
  },
  {
   "cell_type": "code",
   "execution_count": null,
   "metadata": {
    "colab": {},
    "colab_type": "code",
    "id": "xMCt0wyDa_Z5"
   },
   "outputs": [],
   "source": [
    "!pip install abacusai\n",
    "import pandas as pd\n",
    "import pprint\n",
    "pp = pprint.PrettyPrinter(indent=2)\n",
    "api_key = ''  #@param {type: \"string\"}\n",
    "from abacusai import ApiClient\n",
    "client = ApiClient(api_key)\n",
    "demand_forecasting_project = next(project for project in client.list_projects() if project.name == 'Store Sales Forecasting')\n",
    "demand_forecasting_model = demand_forecasting_project.list_models()[-1]\n",
    "demand_forecasting_model.wait_for_evaluation()"
   ]
  },
  {
   "cell_type": "markdown",
   "metadata": {
    "colab_type": "text",
    "id": "FZ5CdVUWbRXw"
   },
   "source": [
    "## Evaluate your Model Metrics\n",
    "\n",
    "After your model is done training you can inspect the model's quality by reviewing the model's metrics"
   ]
  },
  {
   "cell_type": "code",
   "execution_count": null,
   "metadata": {
    "colab": {
     "base_uri": "https://localhost:8080/",
     "height": 136
    },
    "colab_type": "code",
    "executionInfo": {
     "elapsed": 1236,
     "status": "ok",
     "timestamp": 1595456087307,
     "user": {
      "displayName": "Ashni Sheth",
      "photoUrl": "https://lh3.googleusercontent.com/a-/AOh14Gj5hwKgDpwIJPCrdFXQB60XSkRPTEWGv9jeKLpnMo0=s64",
      "userId": "15098545459592232887"
     },
     "user_tz": 420
    },
    "id": "HWYmFmroRUWM",
    "outputId": "1b78fb44-f937-42de-9bea-138d1a069d9e"
   },
   "outputs": [],
   "source": [
    "pp.pprint(demand_forecasting_model.get_metrics().to_dict())"
   ]
  },
  {
   "cell_type": "markdown",
   "metadata": {
    "colab_type": "text",
    "id": "1pOSL213bVJr"
   },
   "source": [
    "To get a better understanding on what these metrics mean, visit our [documentation](https://abacus.ai/app/help/useCases/RETAIL/training) page."
   ]
  },
  {
   "cell_type": "markdown",
   "metadata": {
    "colab_type": "text",
    "id": "cH-q-HmMbb-C"
   },
   "source": [
    "## 4. Deploy Model"
   ]
  },
  {
   "cell_type": "markdown",
   "metadata": {
    "colab_type": "text",
    "id": "T8cKW56WbdWL"
   },
   "source": [
    "After the model has been trained, we need to deploy the model to be able to start making predictions. Deploying a model will reserve cloud resources to host the model for Realtime and/or batch predictions."
   ]
  },
  {
   "cell_type": "code",
   "execution_count": null,
   "metadata": {
    "colab": {
     "base_uri": "https://localhost:8080/",
     "height": 54
    },
    "colab_type": "code",
    "executionInfo": {
     "elapsed": 52695,
     "status": "ok",
     "timestamp": 1595456141789,
     "user": {
      "displayName": "Ashni Sheth",
      "photoUrl": "https://lh3.googleusercontent.com/a-/AOh14Gj5hwKgDpwIJPCrdFXQB60XSkRPTEWGv9jeKLpnMo0=s64",
      "userId": "15098545459592232887"
     },
     "user_tz": 420
    },
    "id": "QNDAUuHARVsz",
    "outputId": "6f9dd507-e536-4b7f-9c7a-c56f0cc448c4"
   },
   "outputs": [],
   "source": [
    "demand_forecasting_deployment = demand_forecasting_model.create_deployment('Store Sales Deployment')\n",
    "demand_forecasting_deployment.wait_for_deployment()"
   ]
  },
  {
   "cell_type": "markdown",
   "metadata": {
    "colab_type": "text",
    "id": "deLW72q9bfBJ"
   },
   "source": [
    "After the model is deployed, we need to create a deployment token for authenticating prediction requests. This token is only authorized to predict on deployments in this project, so it's safe to embed this token inside of a user-facing application or website."
   ]
  },
  {
   "cell_type": "code",
   "execution_count": null,
   "metadata": {
    "colab": {
     "base_uri": "https://localhost:8080/",
     "height": 35
    },
    "colab_type": "code",
    "executionInfo": {
     "elapsed": 1243,
     "status": "ok",
     "timestamp": 1595456144812,
     "user": {
      "displayName": "Ashni Sheth",
      "photoUrl": "https://lh3.googleusercontent.com/a-/AOh14Gj5hwKgDpwIJPCrdFXQB60XSkRPTEWGv9jeKLpnMo0=s64",
      "userId": "15098545459592232887"
     },
     "user_tz": 420
    },
    "id": "pzmWmzk1RXeK",
    "outputId": "5bd520fd-9a50-4bb2-f0f8-0c1e88b0ef95"
   },
   "outputs": [],
   "source": [
    "deployment_token = demand_forecasting_project.create_deployment_token().deployment_token\n",
    "deployment_token"
   ]
  },
  {
   "cell_type": "markdown",
   "metadata": {
    "colab_type": "text",
    "id": "uMNq7WPObjyi"
   },
   "source": [
    "## 5. Predict\n"
   ]
  },
  {
   "cell_type": "markdown",
   "metadata": {
    "colab_type": "text",
    "id": "KT7y7v6TblTF"
   },
   "source": [
    "Now that you have an active deployment and a deployment token to authenticate requests, you can make the `get_forecast` API call below.\n",
    "\n",
    "This command will return a forecast under each percentile for the specified store. With the dataset we've specified, the forecast is made based on a pattern in the number of sales for the specified store/entity."
   ]
  },
  {
   "cell_type": "code",
   "execution_count": null,
   "metadata": {
    "colab": {
     "base_uri": "https://localhost:8080/",
     "height": 374
    },
    "colab_type": "code",
    "executionInfo": {
     "elapsed": 3727,
     "status": "ok",
     "timestamp": 1595456150660,
     "user": {
      "displayName": "Ashni Sheth",
      "photoUrl": "https://lh3.googleusercontent.com/a-/AOh14Gj5hwKgDpwIJPCrdFXQB60XSkRPTEWGv9jeKLpnMo0=s64",
      "userId": "15098545459592232887"
     },
     "user_tz": 420
    },
    "id": "Kyn_yIIxUugS",
    "outputId": "e491900d-d485-4110-f8e0-9ca0c48ed1db"
   },
   "outputs": [],
   "source": [
    "ApiClient().get_forecast(deployment_token=deployment_token, \n",
    "               deployment_id=demand_forecasting_deployment.deployment_id, \n",
    "               query_data={\"Store\":\"1\"})"
   ]
  }
 ],
 "metadata": {
  "colab": {
   "authorship_tag": "ABX9TyOPMefaazE8/+R+/bEf59vo",
   "collapsed_sections": [],
   "name": "Demand Forecasting Notebook.ipynb",
   "provenance": []
  },
  "kernelspec": {
   "display_name": "Python 3",
   "name": "python3"
  }
 },
 "nbformat": 4,
 "nbformat_minor": 0
}
