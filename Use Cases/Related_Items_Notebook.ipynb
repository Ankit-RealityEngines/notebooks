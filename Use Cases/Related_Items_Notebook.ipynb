{
 "cells": [
  {
   "cell_type": "markdown",
   "metadata": {
    "id": "ZDJnyHsATwzH"
   },
   "source": [
    "## How-to guide for Related Items use-case on Abacus.AI platform\n",
    "This notebook provides you with a hands on environment to build a model that suggests related items using the Abacus.AI Python Client Library.\n",
    "\n",
    "We'll be using the [User Item Recommendations](https://s3.amazonaws.com//realityengines.exampledatasets/user_recommendations/user_movie_ratings.csv), [Movie Attributes](https://s3.amazonaws.com//realityengines.exampledatasets/user_recommendations/movies_metadata.csv), and [User Attributes](https://s3.amazonaws.com//realityengines.exampledatasets/user_recommendations/users_metadata.csv) datasets, each of which has information about the user and/or their choice of movies."
   ]
  },
  {
   "cell_type": "markdown",
   "metadata": {
    "id": "6cNn_EHKWbkG"
   },
   "source": [
    "1. Install the Abacus.AI library."
   ]
  },
  {
   "cell_type": "code",
   "execution_count": null,
   "metadata": {
    "colab": {
     "base_uri": "https://localhost:8080/"
    },
    "id": "hiMF9uCkwiwk",
    "outputId": "bd90e591-44c1-4c08-8f7b-ad0c9fd07a68"
   },
   "outputs": [],
   "source": [
    "!pip install abacusai"
   ]
  },
  {
   "cell_type": "markdown",
   "metadata": {
    "id": "Q5_X_u8NYFsk"
   },
   "source": [
    "We'll also import pandas and pprint tools for visualization in this notebook."
   ]
  },
  {
   "cell_type": "code",
   "execution_count": 1,
   "metadata": {
    "id": "wEjuioFPwvfZ"
   },
   "outputs": [],
   "source": [
    "import pandas as pd # A tool we'll use to download and preview CSV files\n",
    "import pprint # A tool to pretty print dictionary outputs\n",
    "pp = pprint.PrettyPrinter(indent=2)"
   ]
  },
  {
   "cell_type": "markdown",
   "metadata": {
    "id": "yfH6B0lOYHqX"
   },
   "source": [
    "2. Add your Abacus.AI [API Key](https://abacus.ai/app/profile/apikey) generated using the API dashboard as follows:"
   ]
  },
  {
   "cell_type": "code",
   "execution_count": 2,
   "metadata": {
    "id": "tpRTYgT3wxVA"
   },
   "outputs": [],
   "source": [
    "#@title Abacus.AI API Key\n",
    "\n",
    "api_key = '2fdecde877dc45fab937eff82b70eff0'  #@param {type: \"string\"}"
   ]
  },
  {
   "cell_type": "markdown",
   "metadata": {
    "id": "VpvhR7-iYKZs"
   },
   "source": [
    "3. Import the Abacus.AI library and instantiate a client."
   ]
  },
  {
   "cell_type": "code",
   "execution_count": 3,
   "metadata": {
    "colab": {
     "base_uri": "https://localhost:8080/"
    },
    "id": "0uS3rcY6wyhZ",
    "outputId": "efe7d96d-c7af-412f-f8ad-fffab0a37e4c"
   },
   "outputs": [],
   "source": [
    "from abacusai import ApiClient\n",
    "client = ApiClient(api_key)"
   ]
  },
  {
   "cell_type": "markdown",
   "metadata": {
    "id": "4jeBT9uBYMNO"
   },
   "source": [
    "## 1. Create a Project\n",
    "\n",
    "Abacus.AI projects are containers that have datasets and trained models. By specifying a business **Use Case**, Abacus.AI tailors the deep learning algorithms to produce the best performing model possible for your data.\n",
    "\n",
    "We'll call the `list_use_cases` method to retrieve a list of the available Use Cases currently available on the Abacus.AI platform."
   ]
  },
  {
   "cell_type": "code",
   "execution_count": 4,
   "metadata": {
    "colab": {
     "base_uri": "https://localhost:8080/"
    },
    "id": "CECTDnxdwzha",
    "outputId": "dba47294-7a61-4161-e2f3-f07410c76d13"
   },
   "outputs": [
    {
     "data": {
      "text/plain": [
       "[UseCase(use_case='UCPLUGANDPLAY',\n",
       "   pretty_name='Plug & Play Your Tensorflow Model',\n",
       "   description='Upload your already trained model and leverage our model serving infrastructure.. Host your models on our infrastructure and get a JSON api with auto scaling and more!'),\n",
       " UseCase(use_case='EMBEDDINGS_ONLY',\n",
       "   pretty_name='Vector Matching Engine',\n",
       "   description='Upload embeddings and leverage our similarity search infrastructure.. Scale to high traffic, update your index in near realtime'),\n",
       " UseCase(use_case='MODEL_WITH_EMBEDDINGS',\n",
       "   pretty_name='Tensorflow Model With Vector Matching Engine',\n",
       "   description='Upload your already trained model and leverage our model serving infrastructure.. Host your models on our infrastructure and get a JSON api with auto scaling and more!'),\n",
       " UseCase(use_case='TORCH_MODEL_WITH_EMBEDDINGS',\n",
       "   pretty_name='PyTorch Model With Vector Matching Engine',\n",
       "   description='Upload your already trained model and leverage our model serving infrastructure.. Host your models on our infrastructure and get a JSON api with auto scaling and more!'),\n",
       " UseCase(use_case='PYTHON_MODEL',\n",
       "   pretty_name='Custom Python Model',\n",
       "   description='Upload your training code and let Abacus.AI handle training. Host your models on our infrastructure and get a JSON api with auto scaling and more!'),\n",
       " UseCase(use_case='DOCKER_MODEL',\n",
       "   pretty_name='Plug & Play Your Dockerized Model',\n",
       "   description='Upload your already trained model and leverage our model serving infrastructure.. Host your models on our infrastructure and get a JSON api with auto scaling and more!'),\n",
       " UseCase(use_case='DOCKER_MODEL_WITH_EMBEDDINGS',\n",
       "   pretty_name='Plug & Play Your Dockerized Model with Vector Matching Engine',\n",
       "   description='Upload your already trained model and leverage our model serving infrastructure.. Host your models on our infrastructure and get a JSON api with auto scaling and more!'),\n",
       " UseCase(use_case='CUSTOMER_CHURN',\n",
       "   pretty_name='Customer Churn Prediction',\n",
       "   description='Identify customers who are most likely to churn out of your system and send them marketing promotions/emails to retain them. Deploy a real-time deep learning model that identifies customers who are most likely to leave and increase retention.'),\n",
       " UseCase(use_case='ENERGY',\n",
       "   pretty_name='Real-Time Forecasting',\n",
       "   description='Accurately forecast energy or computation usage in real-time. Make downstream planning decisions based on your predictions. We use generative modeling (GANs) to augment your dataset with synthetic data. This unique approach allows us to make accurate predictions in real-time, even when you have little historical data.'),\n",
       " UseCase(use_case='FINANCIAL_METRICS',\n",
       "   pretty_name='Financial Metrics Forecasting',\n",
       "   description='Accurately plan your cash flow, revenue, and sales with state-of-the-art deep learning-based forecasting. We use generative modeling (GANs) to augment your dataset with synthetic data. This unique approach allows us to make accurate predictions, even when you have little historical data.'),\n",
       " UseCase(use_case='FRAUD_ACCOUNT',\n",
       "   pretty_name='Account Takeover and Defense',\n",
       "   description=\"Shield your customers from account takeovers by blocking bots and fake sign-ups. Behind the scenes, our AI engine will develop a custom deep learning model to prevent bot attacks and stops account takeovers in real-time. Setup is super simple and doesn't require any engineering or cumbersome data preparation.\"),\n",
       " UseCase(use_case='FRAUD_THREAT',\n",
       "   pretty_name='Intelligent Threat Detection',\n",
       "   description=\"Stop breachers in their tracks by continuously monitoring your environment for malicious activity. Prevent alert fatigue by reducing the number of false positives over time. Behind the scenes, our AI engine develops a deep learning model customized for your data to continuously monitors all your logs and alerts you of any malicious activity. Setup is super simple and doesn't require any ML expertise.\"),\n",
       " UseCase(use_case='FRAUD_TRANSACTIONS',\n",
       "   pretty_name='Transaction/Credit Card Fraud',\n",
       "   description=\"Accept payments with confidence, reduce chargebacks, and catch payment fraud instantly as it happens. Behind the scenes, our AI engine develops a custom deep learning model for you that prevents transaction fraud and catches fraudsters in real-time. Set up is super simple and doesn't require any engineering and cumbersome data preparation.\"),\n",
       " UseCase(use_case='OPERATIONS_CLOUD',\n",
       "   pretty_name='Cloud Spend Alerts',\n",
       "   description='Deploy state-of-the-art deep learning models to monitor your cloud spend, spot anomalies, spot runaway incidents, mitigate cost incidents, and get alerts so they can be remedied as quickly as possible. Use deep learning to find anomalies in your cloud usage and get alerts on them to mitigate cost incidents.'),\n",
       " UseCase(use_case='CLOUD_SPEND',\n",
       "   pretty_name='Cloud Spend Alerts',\n",
       "   description='Deploy state-of-the-art deep learning models to monitor your cloud spend, spot anomalies, spot runaway incidents, mitigate cost incidents, and get alerts so they can be remedied as quickly as possible. Use deep learning to find anomalies in your cloud usage and get alerts on them to mitigate cost incidents.'),\n",
       " UseCase(use_case='TIMESERIES_ANOMALY_DETECTION',\n",
       "   pretty_name='Timeseries Anomaly Detection',\n",
       "   description='Spot anomalies in your time series data by using deep learning models to increase revenue, save costs and reduce risks. With Abacus.AI you can set up state of the art deep learning models for time series anomaly detection within hours. These models adjust in real time and spot both simple one dimensional and complex multidimensional anomalies. Our models also help you find the root cause of the anomalies. No cumbersome data preparation or engineering effort to deploy the models in production are required.'),\n",
       " UseCase(use_case='OPERATIONS_MAINTENANCE',\n",
       "   pretty_name='Predictive Maintenance',\n",
       "   description='Leverage deep learning models to proactively assess the health of your assets and perform timely maintenance to reduce downtime and save costs. With Abacus.ai you can set up state of the art deep learning models for predictive maintenance within hours. These models learn from your past failures as well as spot anomalies that can lead to new failures. No cumbersome data preparation or engineering effort to deploy the models in production is required.'),\n",
       " UseCase(use_case='PERS_PROMOTIONS',\n",
       "   pretty_name='Personalized Promotions',\n",
       "   description='Send personalized promotions to your customers and increase engagement. Personalize promotions based on catalog items, marketing messages, delivery channels, and discount terms. Deploy a real-time deep learning model that targets relevant promotions to customers and increases engagement. No cumbersome data preparation required and setup is super easy.'),\n",
       " UseCase(use_case='PREDICTING',\n",
       "   pretty_name='Predictive Modeling',\n",
       "   description='Use historical data to predict future occurrences. Train state-of-the-art predictive models customized specifically according to your data and deploy it in production in hours, not months!. You can create a deep learning model for your specific needs simply by pointing us to your data and specifying the inputs/outputs. Our expert AI engine will do the data cleaning and processing, algorithm selection (classification or regression), and model creation. You will be ready to generate intelligent predictions from the deployed model in production in just a few hours.'),\n",
       " UseCase(use_case='RETAIL',\n",
       "   pretty_name='Demand Forecasting',\n",
       "   description='Accurately forecast retail demand. We use generative modeling (GANs) to augment your dataset with synthetic data. This allows us to make accurate predictions even when you have little historical data.'),\n",
       " UseCase(use_case='SALES_FORECASTING',\n",
       "   pretty_name='Sales and Revenue Forecasting',\n",
       "   description='Forecast sales and revenue across your sales reps, products, business units, and locations. Use deep learning to forecast your sales across multiple dimensions. Make better planning discussions and anticipate future problems so you can mitigate them.'),\n",
       " UseCase(use_case='SALES_SCORING',\n",
       "   pretty_name='Predictive Lead Scoring',\n",
       "   description='Identify the sales leads that are most likely to convert into paying customers and increase revenue. Just point our AI engine to your data, and it will create a deep learning model customized for your data to score all your leads and identify the best ones for conversion.'),\n",
       " UseCase(use_case='USER_RANKINGS',\n",
       "   pretty_name='Personalized Search',\n",
       "   description='Re-rank search results or list of items based on a user preferences. Maximize user engagement and revenue. Our unique blend of reinforcement learning and deep learning-based technology works even when you have little historical data and have to deal with a fast-changing catalog or multiple new users.'),\n",
       " UseCase(use_case='NAMED_ENTITY_RECOGNITION',\n",
       "   pretty_name='Text extraction and classification',\n",
       "   description='Find and label fields within text documents such as emails, chats, receipts, invoices or any other unstructured data set. With Abacus.AI you can set up state of the art deep learning models for text extraction and classification within hours. Based on your specific domain and use-case, Abacus.AI can fine-tune pre-trained models, apply transfer learning or simply train new language models from scratch.  No cumbersome data preparation or engineering effort to deploy the models in production are required.'),\n",
       " UseCase(use_case='USER_RECOMMENDATIONS',\n",
       "   pretty_name='Personalized Recommendations',\n",
       "   description='Increase user engagement and revenue with personalized recommendations on your app/website. Our unique blend of reinforcement learning and deep learning-based technology works even when you have little historical data and have to deal with a fast-changing catalog or multiple new users.'),\n",
       " UseCase(use_case='USER_RELATED',\n",
       "   pretty_name='Related Items',\n",
       "   description='Maximize revenue and user engagement. Immerse your customers into your app/website by providing them with a rich browse and related items experience. Our unique blend of reinforcement learning and deep learning-based technology works even when you have little historical data and have to deal with a fast-changing catalog or multiple new users.'),\n",
       " UseCase(use_case='VISION',\n",
       "   pretty_name='Image Classification & Detection',\n",
       "   description='Train an image classification & detection model specific to your domain and use it to classify and detect relevant objects. With Abacus.AI you can set up state of the art deep learning models for Image classification & detection within hours. Based on your specific domain and use-case, Abacus.AI can fine-tune pre-trained models, apply transfer learning or simply train new vision models from scratch. No cumbersome data preparation or engineering effort to deploy the models in production are required.')]"
      ]
     },
     "execution_count": 4,
     "metadata": {},
     "output_type": "execute_result"
    }
   ],
   "source": [
    "client.list_use_cases()"
   ]
  },
  {
   "cell_type": "markdown",
   "metadata": {
    "id": "MIAvuJxmYO4a"
   },
   "source": [
    "In this notebook, we're going to create a model that suggests related items using the User Item Recommendations, Movie Attributes, and User Attributes datasets. The 'USER_RELATED' use case is best tailored for this situation. For the purpose of taking an example, we will use the IMDB movie dataset that has movie metadata, user metadata, and user-movie ratings."
   ]
  },
  {
   "cell_type": "code",
   "execution_count": 5,
   "metadata": {
    "id": "CMxcAhtsw0xk"
   },
   "outputs": [],
   "source": [
    "#@title Abacus.AI Use Case\n",
    "\n",
    "use_case = 'USER_RELATED'  #@param {type: \"string\"}"
   ]
  },
  {
   "cell_type": "markdown",
   "metadata": {
    "id": "ATVhWoI5YbBr"
   },
   "source": [
    "By calling the `describe_use_case_requirements` method we can view what datasets are required for this use_case."
   ]
  },
  {
   "cell_type": "code",
   "execution_count": 6,
   "metadata": {
    "colab": {
     "base_uri": "https://localhost:8080/"
    },
    "id": "XHBWwIrEw19Y",
    "outputId": "6e3f21b7-39cd-44df-9770-206b287b27be"
   },
   "outputs": [
    {
     "name": "stdout",
     "output_type": "stream",
     "text": [
      "{ 'allowed_feature_mappings': { 'ACTION_TYPE': { 'allowed_feature_types': [ 'CATEGORICAL'],\n",
      "                                                 'description': 'This is an '\n",
      "                                                                'optional '\n",
      "                                                                'column that '\n",
      "                                                                'specifies the '\n",
      "                                                                'type of '\n",
      "                                                                'action the '\n",
      "                                                                'user took. '\n",
      "                                                                'This could '\n",
      "                                                                'include any '\n",
      "                                                                'action that '\n",
      "                                                                'is specific '\n",
      "                                                                'to you (e.g., '\n",
      "                                                                'view, click, '\n",
      "                                                                'purchase, '\n",
      "                                                                'rating, '\n",
      "                                                                'comment, '\n",
      "                                                                'like, etc). '\n",
      "                                                                'You can '\n",
      "                                                                'always upload '\n",
      "                                                                'a dataset '\n",
      "                                                                'that has no '\n",
      "                                                                'action_type '\n",
      "                                                                'column if all '\n",
      "                                                                'the actions '\n",
      "                                                                'in the '\n",
      "                                                                'dataset are '\n",
      "                                                                'the same '\n",
      "                                                                '(e.g., a '\n",
      "                                                                'dataset of '\n",
      "                                                                'only '\n",
      "                                                                'purchases or '\n",
      "                                                                'clicks).',\n",
      "                                                 'required': False},\n",
      "                                'ACTION_WEIGHT': { 'allowed_feature_types': [ 'NUMERICAL'],\n",
      "                                                   'description': 'This is an '\n",
      "                                                                  'optional '\n",
      "                                                                  'column that '\n",
      "                                                                  'specifies '\n",
      "                                                                  'the weight '\n",
      "                                                                  'of the '\n",
      "                                                                  'action '\n",
      "                                                                  '(e.g., '\n",
      "                                                                  'video watch '\n",
      "                                                                  'time, price '\n",
      "                                                                  'of item '\n",
      "                                                                  'purchased). '\n",
      "                                                                  'This is '\n",
      "                                                                  'used to '\n",
      "                                                                  'optimize '\n",
      "                                                                  'the the '\n",
      "                                                                  'model to '\n",
      "                                                                  'maximize '\n",
      "                                                                  'actions '\n",
      "                                                                  'with this '\n",
      "                                                                  'value.',\n",
      "                                                   'required': False},\n",
      "                                'IGNORE': { 'description': 'Ignore this column '\n",
      "                                                           'in training',\n",
      "                                            'multiple': True,\n",
      "                                            'required': False},\n",
      "                                'ITEM_ID': { 'allowed_feature_types': [ 'CATEGORICAL'],\n",
      "                                             'description': 'This is the '\n",
      "                                                            'unique identifier '\n",
      "                                                            'of each item in '\n",
      "                                                            'your catalog. '\n",
      "                                                            'This is typically '\n",
      "                                                            'your product id, '\n",
      "                                                            'article id, or '\n",
      "                                                            'the video id.',\n",
      "                                             'required': True},\n",
      "                                'TIMESTAMP': { 'allowed_feature_types': [ 'TIMESTAMP'],\n",
      "                                               'description': 'The timestamp '\n",
      "                                                              'when a '\n",
      "                                                              'particular '\n",
      "                                                              'action '\n",
      "                                                              'occurred.',\n",
      "                                               'required': False},\n",
      "                                'USER_ID': { 'allowed_feature_types': [ 'CATEGORICAL'],\n",
      "                                             'description': 'This is a unique '\n",
      "                                                            'identifier of '\n",
      "                                                            'each user in your '\n",
      "                                                            'user base.',\n",
      "                                             'required': True}},\n",
      "  'allowed_nested_feature_mappings': None,\n",
      "  'dataset_type': 'USER_ITEM_INTERACTIONS',\n",
      "  'description': 'This dataset corresponds to all the user-item interactions '\n",
      "                 'on your website or application. For example, all the actions '\n",
      "                 '(e.g. click, purchase, view) taken by a particular user on a '\n",
      "                 'particular item (e.g product, video. article) recorded as a '\n",
      "                 'time-based log.',\n",
      "  'name': 'User-Item Interactions',\n",
      "  'required': True}\n",
      "{ 'allowed_feature_mappings': { 'IGNORE': { 'description': 'Ignore this column '\n",
      "                                                           'in training',\n",
      "                                            'multiple': True,\n",
      "                                            'required': False},\n",
      "                                'ITEM_ID': { 'allowed_feature_types': [ 'CATEGORICAL'],\n",
      "                                             'description': 'This is a unique '\n",
      "                                                            'identifier of '\n",
      "                                                            'each item in your '\n",
      "                                                            'catalog. This is '\n",
      "                                                            'typically your '\n",
      "                                                            'product id, '\n",
      "                                                            'article id, or '\n",
      "                                                            'video id.',\n",
      "                                             'required': True},\n",
      "                                'PREDICTION_RESTRICT': { 'allowed_feature_types': [ 'CATEGORICAL'],\n",
      "                                                         'description': 'This '\n",
      "                                                                        'is an '\n",
      "                                                                        'optional '\n",
      "                                                                        'column '\n",
      "                                                                        'that '\n",
      "                                                                        'is '\n",
      "                                                                        'used '\n",
      "                                                                        'to '\n",
      "                                                                        'restrict '\n",
      "                                                                        'predictions '\n",
      "                                                                        'to '\n",
      "                                                                        'items '\n",
      "                                                                        'matching '\n",
      "                                                                        'a '\n",
      "                                                                        'specific '\n",
      "                                                                        'value '\n",
      "                                                                        'of '\n",
      "                                                                        'this '\n",
      "                                                                        'column. '\n",
      "                                                                        'If '\n",
      "                                                                        'this '\n",
      "                                                                        'is '\n",
      "                                                                        'set, '\n",
      "                                                                        'then '\n",
      "                                                                        'the '\n",
      "                                                                        'prediction '\n",
      "                                                                        'api '\n",
      "                                                                        'call '\n",
      "                                                                        'will '\n",
      "                                                                        'require '\n",
      "                                                                        'that '\n",
      "                                                                        'a '\n",
      "                                                                        'includeFilter '\n",
      "                                                                        'specifying '\n",
      "                                                                        'a '\n",
      "                                                                        'value '\n",
      "                                                                        'for '\n",
      "                                                                        'this '\n",
      "                                                                        'column '\n",
      "                                                                        'be '\n",
      "                                                                        'included.',\n",
      "                                                         'required': False}},\n",
      "  'allowed_nested_feature_mappings': None,\n",
      "  'dataset_type': 'CATALOG_ATTRIBUTES',\n",
      "  'description': 'This dataset corresponds to all the information you have in '\n",
      "                 'your catalog. If you want to recommend actions instead of '\n",
      "                 'items to users, you are welcome to upload an action catalog.',\n",
      "  'name': 'Catalog Attributes',\n",
      "  'required': None}\n",
      "{ 'allowed_feature_mappings': { 'IGNORE': { 'description': 'Ignore this column '\n",
      "                                                           'in training',\n",
      "                                            'multiple': True,\n",
      "                                            'required': False},\n",
      "                                'USER_ID': { 'allowed_feature_types': [ 'CATEGORICAL'],\n",
      "                                             'description': 'The unique '\n",
      "                                                            'identifier for '\n",
      "                                                            'the user.',\n",
      "                                             'required': True}},\n",
      "  'allowed_nested_feature_mappings': None,\n",
      "  'dataset_type': 'USER_ATTRIBUTES',\n",
      "  'description': 'This dataset corresponds to all the attributes or meta-data '\n",
      "                 'that you have about your user base. Any user profile '\n",
      "                 'information will be relevant here.',\n",
      "  'name': 'User Attributes',\n",
      "  'required': None}\n"
     ]
    }
   ],
   "source": [
    "for requirement in client.describe_use_case_requirements(use_case):\n",
    "  pp.pprint(requirement.to_dict())"
   ]
  },
  {
   "cell_type": "markdown",
   "metadata": {
    "id": "HQ-PIxhFYc2J"
   },
   "source": [
    "Finally, let's create the project."
   ]
  },
  {
   "cell_type": "code",
   "execution_count": 7,
   "metadata": {
    "colab": {
     "base_uri": "https://localhost:8080/"
    },
    "id": "CP470Q6Tw5OB",
    "outputId": "64689a47-086c-42a0-90fe-efa2a6e6f23b"
   },
   "outputs": [
    {
     "data": {
      "text/plain": [
       "{'project_id': '15e31351a2',\n",
       " 'name': 'Related Movies',\n",
       " 'use_case': 'USER_RELATED',\n",
       " 'created_at': '2021-11-23T19:28:45+00:00',\n",
       " 'feature_groups_enabled': True}"
      ]
     },
     "execution_count": 7,
     "metadata": {},
     "output_type": "execute_result"
    }
   ],
   "source": [
    "related_items_project = client.create_project(name='Related Movies', use_case=use_case)\n",
    "related_items_project.to_dict()"
   ]
  },
  {
   "cell_type": "markdown",
   "metadata": {
    "id": "xoxojjU6IROU"
   },
   "source": [
    "**Note: When feature_groups_enabled is False then the use case does not support feature groups (collection of ML features). Therefore, Datasets are created at the organization level and tied to a project to further use them for training ML models**"
   ]
  },
  {
   "cell_type": "markdown",
   "metadata": {
    "id": "GdXDn61PYefA"
   },
   "source": [
    "## 2. Add Datasets to your Project\n",
    "\n",
    "Abacus.AI can read datasets directly from `AWS S3` or `Google Cloud Storage` buckets, otherwise you can also directly upload and store your datasets with Abacus.AI. For this notebook, we will have Abacus.AI read the datasets directly from a public S3 bucket's location.\n",
    "\n",
    "We are using three datasets for this notebook. We'll tell Abacus.AI how the datasets should be used when creating it by tagging each dataset with a special Abacus.AI **Dataset Type**.\n",
    "- [User Item Recommendations](https://s3.amazonaws.com//realityengines.exampledatasets/user_recommendations/user_movie_ratings.csv) (**USER_ITEM_INTERACTIONS**): \n",
    "This dataset contains information about multiple users' ratings of movies with specified IDs.\n",
    "- [Movie Attributes](https://s3.amazonaws.com//realityengines.exampledatasets/user_recommendations/movies_metadata.csv) (**CATALOG_ATTRIBUTES**): This dataset contains attributes about movies with specified IDs, such as each movie's name and genre.\n",
    "- [User Attributes](https://s3.amazonaws.com//realityengines.exampledatasets/user_recommendations/users_metadata.csv) (**USER_ATTRIBUTES**): This dataset contains information about users with specified IDs, such as their age, gender, occupation, and zip code. "
   ]
  },
  {
   "cell_type": "markdown",
   "metadata": {
    "id": "ziXTkDqhawo-"
   },
   "source": [
    "### Add the datasets to Abacus.AI\n",
    "\n",
    "First we'll use Pandas to preview the files, then add them to Abacus.AI."
   ]
  },
  {
   "cell_type": "code",
   "execution_count": 8,
   "metadata": {
    "colab": {
     "base_uri": "https://localhost:8080/",
     "height": 417
    },
    "id": "0OBm5KVHxD-M",
    "outputId": "27fbe75e-6b08-4658-8a05-dc9e16debd18"
   },
   "outputs": [
    {
     "data": {
      "text/html": [
       "<div>\n",
       "<style scoped>\n",
       "    .dataframe tbody tr th:only-of-type {\n",
       "        vertical-align: middle;\n",
       "    }\n",
       "\n",
       "    .dataframe tbody tr th {\n",
       "        vertical-align: top;\n",
       "    }\n",
       "\n",
       "    .dataframe thead th {\n",
       "        text-align: right;\n",
       "    }\n",
       "</style>\n",
       "<table border=\"1\" class=\"dataframe\">\n",
       "  <thead>\n",
       "    <tr style=\"text-align: right;\">\n",
       "      <th></th>\n",
       "      <th>user_id</th>\n",
       "      <th>movie_id</th>\n",
       "      <th>rating</th>\n",
       "      <th>timestamp</th>\n",
       "    </tr>\n",
       "  </thead>\n",
       "  <tbody>\n",
       "    <tr>\n",
       "      <th>0</th>\n",
       "      <td>1</td>\n",
       "      <td>1193</td>\n",
       "      <td>5</td>\n",
       "      <td>978300760</td>\n",
       "    </tr>\n",
       "    <tr>\n",
       "      <th>1</th>\n",
       "      <td>1</td>\n",
       "      <td>3408</td>\n",
       "      <td>4</td>\n",
       "      <td>978300275</td>\n",
       "    </tr>\n",
       "    <tr>\n",
       "      <th>2</th>\n",
       "      <td>1</td>\n",
       "      <td>2355</td>\n",
       "      <td>5</td>\n",
       "      <td>978824291</td>\n",
       "    </tr>\n",
       "    <tr>\n",
       "      <th>3</th>\n",
       "      <td>1</td>\n",
       "      <td>1287</td>\n",
       "      <td>5</td>\n",
       "      <td>978302039</td>\n",
       "    </tr>\n",
       "    <tr>\n",
       "      <th>4</th>\n",
       "      <td>1</td>\n",
       "      <td>2804</td>\n",
       "      <td>5</td>\n",
       "      <td>978300719</td>\n",
       "    </tr>\n",
       "    <tr>\n",
       "      <th>...</th>\n",
       "      <td>...</td>\n",
       "      <td>...</td>\n",
       "      <td>...</td>\n",
       "      <td>...</td>\n",
       "    </tr>\n",
       "    <tr>\n",
       "      <th>575276</th>\n",
       "      <td>6040</td>\n",
       "      <td>1089</td>\n",
       "      <td>4</td>\n",
       "      <td>956704996</td>\n",
       "    </tr>\n",
       "    <tr>\n",
       "      <th>575277</th>\n",
       "      <td>6040</td>\n",
       "      <td>1094</td>\n",
       "      <td>5</td>\n",
       "      <td>956704887</td>\n",
       "    </tr>\n",
       "    <tr>\n",
       "      <th>575278</th>\n",
       "      <td>6040</td>\n",
       "      <td>562</td>\n",
       "      <td>5</td>\n",
       "      <td>956704746</td>\n",
       "    </tr>\n",
       "    <tr>\n",
       "      <th>575279</th>\n",
       "      <td>6040</td>\n",
       "      <td>1096</td>\n",
       "      <td>4</td>\n",
       "      <td>956715648</td>\n",
       "    </tr>\n",
       "    <tr>\n",
       "      <th>575280</th>\n",
       "      <td>6040</td>\n",
       "      <td>1097</td>\n",
       "      <td>4</td>\n",
       "      <td>956715569</td>\n",
       "    </tr>\n",
       "  </tbody>\n",
       "</table>\n",
       "<p>575281 rows × 4 columns</p>\n",
       "</div>"
      ],
      "text/plain": [
       "        user_id  movie_id  rating  timestamp\n",
       "0             1      1193       5  978300760\n",
       "1             1      3408       4  978300275\n",
       "2             1      2355       5  978824291\n",
       "3             1      1287       5  978302039\n",
       "4             1      2804       5  978300719\n",
       "...         ...       ...     ...        ...\n",
       "575276     6040      1089       4  956704996\n",
       "575277     6040      1094       5  956704887\n",
       "575278     6040       562       5  956704746\n",
       "575279     6040      1096       4  956715648\n",
       "575280     6040      1097       4  956715569\n",
       "\n",
       "[575281 rows x 4 columns]"
      ]
     },
     "execution_count": 8,
     "metadata": {},
     "output_type": "execute_result"
    }
   ],
   "source": [
    "pd.read_csv('https://s3.amazonaws.com//realityengines.exampledatasets/user_recommendations/user_movie_ratings.csv')"
   ]
  },
  {
   "cell_type": "code",
   "execution_count": 9,
   "metadata": {
    "colab": {
     "base_uri": "https://localhost:8080/",
     "height": 417
    },
    "id": "VTXdaK8ExF-W",
    "outputId": "96cc91e1-b03e-42e9-929b-f61073b2336f"
   },
   "outputs": [
    {
     "data": {
      "text/html": [
       "<div>\n",
       "<style scoped>\n",
       "    .dataframe tbody tr th:only-of-type {\n",
       "        vertical-align: middle;\n",
       "    }\n",
       "\n",
       "    .dataframe tbody tr th {\n",
       "        vertical-align: top;\n",
       "    }\n",
       "\n",
       "    .dataframe thead th {\n",
       "        text-align: right;\n",
       "    }\n",
       "</style>\n",
       "<table border=\"1\" class=\"dataframe\">\n",
       "  <thead>\n",
       "    <tr style=\"text-align: right;\">\n",
       "      <th></th>\n",
       "      <th>movie_id</th>\n",
       "      <th>movie</th>\n",
       "      <th>genres</th>\n",
       "    </tr>\n",
       "  </thead>\n",
       "  <tbody>\n",
       "    <tr>\n",
       "      <th>0</th>\n",
       "      <td>1</td>\n",
       "      <td>Toy Story (1995)</td>\n",
       "      <td>Animation|Children's|Comedy</td>\n",
       "    </tr>\n",
       "    <tr>\n",
       "      <th>1</th>\n",
       "      <td>2</td>\n",
       "      <td>Jumanji (1995)</td>\n",
       "      <td>Adventure|Children's|Fantasy</td>\n",
       "    </tr>\n",
       "    <tr>\n",
       "      <th>2</th>\n",
       "      <td>3</td>\n",
       "      <td>Grumpier Old Men (1995)</td>\n",
       "      <td>Comedy|Romance</td>\n",
       "    </tr>\n",
       "    <tr>\n",
       "      <th>3</th>\n",
       "      <td>4</td>\n",
       "      <td>Waiting to Exhale (1995)</td>\n",
       "      <td>Comedy|Drama</td>\n",
       "    </tr>\n",
       "    <tr>\n",
       "      <th>4</th>\n",
       "      <td>5</td>\n",
       "      <td>Father of the Bride Part II (1995)</td>\n",
       "      <td>Comedy</td>\n",
       "    </tr>\n",
       "    <tr>\n",
       "      <th>...</th>\n",
       "      <td>...</td>\n",
       "      <td>...</td>\n",
       "      <td>...</td>\n",
       "    </tr>\n",
       "    <tr>\n",
       "      <th>3878</th>\n",
       "      <td>3948</td>\n",
       "      <td>Meet the Parents (2000)</td>\n",
       "      <td>Comedy</td>\n",
       "    </tr>\n",
       "    <tr>\n",
       "      <th>3879</th>\n",
       "      <td>3949</td>\n",
       "      <td>Requiem for a Dream (2000)</td>\n",
       "      <td>Drama</td>\n",
       "    </tr>\n",
       "    <tr>\n",
       "      <th>3880</th>\n",
       "      <td>3950</td>\n",
       "      <td>Tigerland (2000)</td>\n",
       "      <td>Drama</td>\n",
       "    </tr>\n",
       "    <tr>\n",
       "      <th>3881</th>\n",
       "      <td>3951</td>\n",
       "      <td>Two Family House (2000)</td>\n",
       "      <td>Drama</td>\n",
       "    </tr>\n",
       "    <tr>\n",
       "      <th>3882</th>\n",
       "      <td>3952</td>\n",
       "      <td>Contender, The (2000)</td>\n",
       "      <td>Drama|Thriller</td>\n",
       "    </tr>\n",
       "  </tbody>\n",
       "</table>\n",
       "<p>3883 rows × 3 columns</p>\n",
       "</div>"
      ],
      "text/plain": [
       "      movie_id                               movie  \\\n",
       "0            1                    Toy Story (1995)   \n",
       "1            2                      Jumanji (1995)   \n",
       "2            3             Grumpier Old Men (1995)   \n",
       "3            4            Waiting to Exhale (1995)   \n",
       "4            5  Father of the Bride Part II (1995)   \n",
       "...        ...                                 ...   \n",
       "3878      3948             Meet the Parents (2000)   \n",
       "3879      3949          Requiem for a Dream (2000)   \n",
       "3880      3950                    Tigerland (2000)   \n",
       "3881      3951             Two Family House (2000)   \n",
       "3882      3952               Contender, The (2000)   \n",
       "\n",
       "                            genres  \n",
       "0      Animation|Children's|Comedy  \n",
       "1     Adventure|Children's|Fantasy  \n",
       "2                   Comedy|Romance  \n",
       "3                     Comedy|Drama  \n",
       "4                           Comedy  \n",
       "...                            ...  \n",
       "3878                        Comedy  \n",
       "3879                         Drama  \n",
       "3880                         Drama  \n",
       "3881                         Drama  \n",
       "3882                Drama|Thriller  \n",
       "\n",
       "[3883 rows x 3 columns]"
      ]
     },
     "execution_count": 9,
     "metadata": {},
     "output_type": "execute_result"
    }
   ],
   "source": [
    "pd.read_csv('https://s3.amazonaws.com//realityengines.exampledatasets/user_recommendations/movies_metadata.csv')"
   ]
  },
  {
   "cell_type": "code",
   "execution_count": 10,
   "metadata": {
    "colab": {
     "base_uri": "https://localhost:8080/",
     "height": 417
    },
    "id": "4Yg7Ys9TxHLo",
    "outputId": "cbe688e2-9264-4c3c-dab3-c9a059bf41c8"
   },
   "outputs": [
    {
     "data": {
      "text/html": [
       "<div>\n",
       "<style scoped>\n",
       "    .dataframe tbody tr th:only-of-type {\n",
       "        vertical-align: middle;\n",
       "    }\n",
       "\n",
       "    .dataframe tbody tr th {\n",
       "        vertical-align: top;\n",
       "    }\n",
       "\n",
       "    .dataframe thead th {\n",
       "        text-align: right;\n",
       "    }\n",
       "</style>\n",
       "<table border=\"1\" class=\"dataframe\">\n",
       "  <thead>\n",
       "    <tr style=\"text-align: right;\">\n",
       "      <th></th>\n",
       "      <th>user_id</th>\n",
       "      <th>gender</th>\n",
       "      <th>age</th>\n",
       "      <th>occupation</th>\n",
       "      <th>zip_code</th>\n",
       "    </tr>\n",
       "  </thead>\n",
       "  <tbody>\n",
       "    <tr>\n",
       "      <th>0</th>\n",
       "      <td>1</td>\n",
       "      <td>F</td>\n",
       "      <td>Under 18</td>\n",
       "      <td>K-12 student</td>\n",
       "      <td>48067</td>\n",
       "    </tr>\n",
       "    <tr>\n",
       "      <th>1</th>\n",
       "      <td>2</td>\n",
       "      <td>M</td>\n",
       "      <td>56+</td>\n",
       "      <td>self-employed</td>\n",
       "      <td>70072</td>\n",
       "    </tr>\n",
       "    <tr>\n",
       "      <th>2</th>\n",
       "      <td>3</td>\n",
       "      <td>M</td>\n",
       "      <td>25-34</td>\n",
       "      <td>scientist</td>\n",
       "      <td>55117</td>\n",
       "    </tr>\n",
       "    <tr>\n",
       "      <th>3</th>\n",
       "      <td>4</td>\n",
       "      <td>M</td>\n",
       "      <td>45-49</td>\n",
       "      <td>executive/managerial</td>\n",
       "      <td>02460</td>\n",
       "    </tr>\n",
       "    <tr>\n",
       "      <th>4</th>\n",
       "      <td>5</td>\n",
       "      <td>M</td>\n",
       "      <td>25-34</td>\n",
       "      <td>writer</td>\n",
       "      <td>55455</td>\n",
       "    </tr>\n",
       "    <tr>\n",
       "      <th>...</th>\n",
       "      <td>...</td>\n",
       "      <td>...</td>\n",
       "      <td>...</td>\n",
       "      <td>...</td>\n",
       "      <td>...</td>\n",
       "    </tr>\n",
       "    <tr>\n",
       "      <th>6035</th>\n",
       "      <td>6036</td>\n",
       "      <td>F</td>\n",
       "      <td>25-34</td>\n",
       "      <td>scientist</td>\n",
       "      <td>32603</td>\n",
       "    </tr>\n",
       "    <tr>\n",
       "      <th>6036</th>\n",
       "      <td>6037</td>\n",
       "      <td>F</td>\n",
       "      <td>45-49</td>\n",
       "      <td>academic/educator</td>\n",
       "      <td>76006</td>\n",
       "    </tr>\n",
       "    <tr>\n",
       "      <th>6037</th>\n",
       "      <td>6038</td>\n",
       "      <td>F</td>\n",
       "      <td>56+</td>\n",
       "      <td>academic/educator</td>\n",
       "      <td>14706</td>\n",
       "    </tr>\n",
       "    <tr>\n",
       "      <th>6038</th>\n",
       "      <td>6039</td>\n",
       "      <td>F</td>\n",
       "      <td>45-49</td>\n",
       "      <td>other</td>\n",
       "      <td>01060</td>\n",
       "    </tr>\n",
       "    <tr>\n",
       "      <th>6039</th>\n",
       "      <td>6040</td>\n",
       "      <td>M</td>\n",
       "      <td>25-34</td>\n",
       "      <td>doctor/health care</td>\n",
       "      <td>11106</td>\n",
       "    </tr>\n",
       "  </tbody>\n",
       "</table>\n",
       "<p>6040 rows × 5 columns</p>\n",
       "</div>"
      ],
      "text/plain": [
       "      user_id gender       age            occupation zip_code\n",
       "0           1      F  Under 18          K-12 student    48067\n",
       "1           2      M       56+         self-employed    70072\n",
       "2           3      M     25-34             scientist    55117\n",
       "3           4      M     45-49  executive/managerial    02460\n",
       "4           5      M     25-34                writer    55455\n",
       "...       ...    ...       ...                   ...      ...\n",
       "6035     6036      F     25-34             scientist    32603\n",
       "6036     6037      F     45-49     academic/educator    76006\n",
       "6037     6038      F       56+     academic/educator    14706\n",
       "6038     6039      F     45-49                 other    01060\n",
       "6039     6040      M     25-34    doctor/health care    11106\n",
       "\n",
       "[6040 rows x 5 columns]"
      ]
     },
     "execution_count": 10,
     "metadata": {},
     "output_type": "execute_result"
    }
   ],
   "source": [
    "pd.read_csv('https://s3.amazonaws.com//realityengines.exampledatasets/user_recommendations/users_metadata.csv')"
   ]
  },
  {
   "cell_type": "markdown",
   "metadata": {
    "id": "1QCTQIG5a0Tp"
   },
   "source": [
    "Using the Create Dataset API, we can tell Abacus.AI the public S3 URI of where to find the datasets. We will also give each dataset a Refresh Schedule, which tells Abacus.AI when it should refresh the dataset (take an updated/latest copy of the dataset).\n",
    "\n",
    "If you're unfamiliar with Cron Syntax, Crontab Guru can help translate the syntax back into natural language: [https://crontab.guru/#0_12_\\*_\\*_\\*](https://crontab.guru/#0_12_*_*_*)\n",
    "\n",
    "**Note: This cron string will be evaluated in UTC time zone**"
   ]
  },
  {
   "cell_type": "code",
   "execution_count": 19,
   "metadata": {
    "id": "DmGP4miAxK-r"
   },
   "outputs": [],
   "source": [
    "user_item_dataset = client.create_dataset_from_file_connector(name='User Item Recommendations', table_name='User_Item_Recommendations',\n",
    "                                     location='s3://realityengines.exampledatasets/user_recommendations/user_movie_ratings.csv',\n",
    "                                     refresh_schedule='0 12 * * *')\n",
    "\n",
    "movie_attributes_dataset = client.create_dataset_from_file_connector(name='Movie Attributes', table_name='Movie_Attributes',\n",
    "                                     location='s3://realityengines.exampledatasets/user_recommendations/movies_metadata.csv',\n",
    "                                     refresh_schedule='0 12 * * *')\n",
    "\n",
    "user_attributes_dataset = client.create_dataset_from_file_connector(name='User Attributes', table_name='User_Attributes',\n",
    "                                     location='s3://realityengines.exampledatasets/user_recommendations/users_metadata.csv',\n",
    "                                     refresh_schedule='0 12 * * *')\n",
    "\n",
    "datasets = [user_item_dataset, movie_attributes_dataset, user_attributes_dataset]"
   ]
  },
  {
   "cell_type": "markdown",
   "metadata": {
    "id": "xDTfJwE0a4jz"
   },
   "source": [
    "## 3. Create Feature Groups and add them to your Project\n",
    "\n",
    "Datasets are created at the organization level and can be used to create feature groups as follows:"
   ]
  },
  {
   "cell_type": "code",
   "execution_count": 23,
   "metadata": {
    "colab": {
     "base_uri": "https://localhost:8080/"
    },
    "id": "HXLqYPEgxL2k",
    "outputId": "8e946f2d-f29e-42fd-ddeb-d1417c9ced34"
   },
   "outputs": [],
   "source": [
    "feature_group = client.create_feature_group(table_name='Related_Items1',sql='select * from User_Item_Recommendations')"
   ]
  },
  {
   "cell_type": "markdown",
   "metadata": {},
   "source": [
    "Adding Feature Group to the project:"
   ]
  },
  {
   "cell_type": "code",
   "execution_count": 24,
   "metadata": {},
   "outputs": [],
   "source": [
    "client.add_feature_group_to_project(feature_group_id=feature_group.feature_group_id,project_id = related_items_project.project_id)"
   ]
  },
  {
   "cell_type": "markdown",
   "metadata": {},
   "source": [
    "Setting the Feature Group type according to the use case requirements:"
   ]
  },
  {
   "cell_type": "code",
   "execution_count": 25,
   "metadata": {},
   "outputs": [],
   "source": [
    "client.set_feature_group_type(feature_group_id=feature_group.feature_group_id, project_id = related_items_project.project_id, feature_group_type= \"USER_ITEM_INTERACTIONS\")"
   ]
  },
  {
   "cell_type": "markdown",
   "metadata": {},
   "source": [
    "Check current Feature Group schema:"
   ]
  },
  {
   "cell_type": "code",
   "execution_count": 26,
   "metadata": {},
   "outputs": [
    {
     "data": {
      "text/plain": [
       "[Feature(name='user_id',\n",
       "   select_clause=None,\n",
       "   feature_mapping=None,\n",
       "   source_table='User_Item_Recommendations12',\n",
       "   original_name=None,\n",
       "   using_clause=None,\n",
       "   order_clause=None,\n",
       "   where_clause=None,\n",
       "   feature_type='CATEGORICAL',\n",
       "   data_type='STRING',\n",
       "   columns=None,\n",
       "   point_in_time_info=None),\n",
       " Feature(name='movie_id',\n",
       "   select_clause=None,\n",
       "   feature_mapping=None,\n",
       "   source_table='User_Item_Recommendations12',\n",
       "   original_name=None,\n",
       "   using_clause=None,\n",
       "   order_clause=None,\n",
       "   where_clause=None,\n",
       "   feature_type='CATEGORICAL',\n",
       "   data_type='STRING',\n",
       "   columns=None,\n",
       "   point_in_time_info=None),\n",
       " Feature(name='rating',\n",
       "   select_clause=None,\n",
       "   feature_mapping=None,\n",
       "   source_table='User_Item_Recommendations12',\n",
       "   original_name=None,\n",
       "   using_clause=None,\n",
       "   order_clause=None,\n",
       "   where_clause=None,\n",
       "   feature_type='CATEGORICAL',\n",
       "   data_type='STRING',\n",
       "   columns=None,\n",
       "   point_in_time_info=None),\n",
       " Feature(name='timestamp',\n",
       "   select_clause=None,\n",
       "   feature_mapping=None,\n",
       "   source_table='User_Item_Recommendations12',\n",
       "   original_name=None,\n",
       "   using_clause=None,\n",
       "   order_clause=None,\n",
       "   where_clause=None,\n",
       "   feature_type='TIMESTAMP',\n",
       "   data_type='DATETIME',\n",
       "   columns=None,\n",
       "   point_in_time_info=None)]"
      ]
     },
     "execution_count": 26,
     "metadata": {},
     "output_type": "execute_result"
    }
   ],
   "source": [
    "client.get_feature_group_schema(feature_group_id=feature_group.feature_group_id)"
   ]
  },
  {
   "cell_type": "markdown",
   "metadata": {},
   "source": [
    "#### For each **Use Case**, there are special **Column Mappings** that must be applied to a column to fulfill use case requirements. We can find the list of available **Column Mappings** by calling the *Describe Use Case Requirements* API:"
   ]
  },
  {
   "cell_type": "code",
   "execution_count": 27,
   "metadata": {
    "colab": {
     "base_uri": "https://localhost:8080/"
    },
    "id": "7lJ7MtLFxO6Q",
    "outputId": "44f9090a-5bc5-4862-b0ea-278c1af63128"
   },
   "outputs": [
    {
     "data": {
      "text/plain": [
       "{'ITEM_ID': {'description': 'This is the unique identifier of each item in your catalog. This is typically your product id, article id, or the video id.',\n",
       "  'allowed_feature_types': ['CATEGORICAL'],\n",
       "  'required': True},\n",
       " 'USER_ID': {'description': 'This is a unique identifier of each user in your user base.',\n",
       "  'allowed_feature_types': ['CATEGORICAL'],\n",
       "  'required': True},\n",
       " 'ACTION_TYPE': {'description': 'This is an optional column that specifies the type of action the user took. This could include any action that is specific to you (e.g., view, click, purchase, rating, comment, like, etc). You can always upload a dataset that has no action_type column if all the actions in the dataset are the same (e.g., a dataset of only purchases or clicks).',\n",
       "  'allowed_feature_types': ['CATEGORICAL'],\n",
       "  'required': False},\n",
       " 'TIMESTAMP': {'description': 'The timestamp when a particular action occurred.',\n",
       "  'allowed_feature_types': ['TIMESTAMP'],\n",
       "  'required': False},\n",
       " 'ACTION_WEIGHT': {'description': 'This is an optional column that specifies the weight of the action (e.g., video watch time, price of item purchased). This is used to optimize the the model to maximize actions with this value.',\n",
       "  'allowed_feature_types': ['NUMERICAL'],\n",
       "  'required': False},\n",
       " 'IGNORE': {'description': 'Ignore this column in training',\n",
       "  'multiple': True,\n",
       "  'required': False}}"
      ]
     },
     "execution_count": 27,
     "metadata": {},
     "output_type": "execute_result"
    }
   ],
   "source": [
    "client.describe_use_case_requirements(use_case)[0].allowed_feature_mappings"
   ]
  },
  {
   "cell_type": "code",
   "execution_count": 28,
   "metadata": {},
   "outputs": [
    {
     "data": {
      "text/plain": [
       "[Feature(name='user_id',\n",
       "   select_clause=None,\n",
       "   feature_mapping='USER_ID',\n",
       "   source_table='User_Item_Recommendations12',\n",
       "   original_name=None,\n",
       "   using_clause=None,\n",
       "   order_clause=None,\n",
       "   where_clause=None,\n",
       "   feature_type='CATEGORICAL',\n",
       "   data_type='STRING',\n",
       "   columns=None,\n",
       "   point_in_time_info=None),\n",
       " Feature(name='movie_id',\n",
       "   select_clause=None,\n",
       "   feature_mapping='ITEM_ID',\n",
       "   source_table='User_Item_Recommendations12',\n",
       "   original_name=None,\n",
       "   using_clause=None,\n",
       "   order_clause=None,\n",
       "   where_clause=None,\n",
       "   feature_type='CATEGORICAL',\n",
       "   data_type='STRING',\n",
       "   columns=None,\n",
       "   point_in_time_info=None),\n",
       " Feature(name='rating',\n",
       "   select_clause=None,\n",
       "   feature_mapping=None,\n",
       "   source_table='User_Item_Recommendations12',\n",
       "   original_name=None,\n",
       "   using_clause=None,\n",
       "   order_clause=None,\n",
       "   where_clause=None,\n",
       "   feature_type='CATEGORICAL',\n",
       "   data_type='STRING',\n",
       "   columns=None,\n",
       "   point_in_time_info=None),\n",
       " Feature(name='timestamp',\n",
       "   select_clause=None,\n",
       "   feature_mapping='TIMESTAMP',\n",
       "   source_table='User_Item_Recommendations12',\n",
       "   original_name=None,\n",
       "   using_clause=None,\n",
       "   order_clause=None,\n",
       "   where_clause=None,\n",
       "   feature_type='TIMESTAMP',\n",
       "   data_type='DATETIME',\n",
       "   columns=None,\n",
       "   point_in_time_info=None)]"
      ]
     },
     "execution_count": 28,
     "metadata": {},
     "output_type": "execute_result"
    }
   ],
   "source": [
    "client.set_feature_mapping(project_id=related_items_project.project_id, feature_group_id= feature_group.feature_group_id, feature_name='movie_id', feature_mapping='ITEM_ID')\n",
    "client.set_feature_mapping(project_id=related_items_project.project_id, feature_group_id= feature_group.feature_group_id,feature_name='user_id', feature_mapping='USER_ID')\n",
    "client.set_feature_mapping(project_id=related_items_project.project_id, feature_group_id= feature_group.feature_group_id,feature_name='timestamp', feature_mapping='TIMESTAMP')"
   ]
  },
  {
   "cell_type": "markdown",
   "metadata": {
    "id": "FJehFqjrJn6A"
   },
   "source": [
    "For each required Feature Group Type within the use case, you must assign the Feature group to be used for training the model:"
   ]
  },
  {
   "cell_type": "code",
   "execution_count": 29,
   "metadata": {},
   "outputs": [],
   "source": [
    "client.use_feature_group_for_training(project_id=related_items_project.project_id, feature_group_id=feature_group.feature_group_id)"
   ]
  },
  {
   "cell_type": "markdown",
   "metadata": {
    "id": "LvjFCXlIbHoo"
   },
   "source": [
    "Now that we've our feature groups assigned, we're almost ready to train a model!\n",
    "\n",
    "To be sure that our project is ready to go, let's call project.validate to confirm that all the project requirements have been met:"
   ]
  },
  {
   "cell_type": "code",
   "execution_count": 30,
   "metadata": {
    "colab": {
     "base_uri": "https://localhost:8080/"
    },
    "id": "KwzR_hL9xRef",
    "outputId": "2ed1d8fa-bd57-4074-a986-8ce5510091a7"
   },
   "outputs": [
    {
     "data": {
      "text/plain": [
       "ProjectValidation(valid=True,\n",
       "  dataset_errors=[],\n",
       "  column_hints={})"
      ]
     },
     "execution_count": 30,
     "metadata": {},
     "output_type": "execute_result"
    }
   ],
   "source": [
    "related_items_project.validate()"
   ]
  },
  {
   "cell_type": "markdown",
   "metadata": {
    "id": "ExtgtxBWbGTa"
   },
   "source": [
    "## 4. Train a Model"
   ]
  },
  {
   "cell_type": "markdown",
   "metadata": {
    "id": "XKtExRakbJne"
   },
   "source": [
    "For each **Use Case**, Abacus.AI has a bunch of options for training. We can call the *Get Training Config Options* API to see the available options."
   ]
  },
  {
   "cell_type": "code",
   "execution_count": 31,
   "metadata": {
    "colab": {
     "base_uri": "https://localhost:8080/"
    },
    "id": "pJ06Ya8LxX_y",
    "outputId": "b09231ca-5a51-4951-cfdb-6f206aaf5e00"
   },
   "outputs": [
    {
     "data": {
      "text/plain": [
       "[TrainingConfigOptions(name='TEST_SPLIT',\n",
       "   data_type='INTEGER',\n",
       "   value_type=None,\n",
       "   value_options=None,\n",
       "   value=None,\n",
       "   default=None,\n",
       "   options={'range': [5, 20]},\n",
       "   description='Percent of dataset to use for test data. We support using a range between 6% to 20% of your dataset to use as test data.',\n",
       "   required=None,\n",
       "   last_model_value=None),\n",
       " TrainingConfigOptions(name='DROPOUT_RATE',\n",
       "   data_type='INTEGER',\n",
       "   value_type=None,\n",
       "   value_options=None,\n",
       "   value=None,\n",
       "   default=None,\n",
       "   options={'range': [0, 90]},\n",
       "   description='Dropout percentage rate.',\n",
       "   required=None,\n",
       "   last_model_value=None),\n",
       " TrainingConfigOptions(name='BATCH_SIZE',\n",
       "   data_type='ENUM',\n",
       "   value_type=None,\n",
       "   value_options=None,\n",
       "   value=None,\n",
       "   default=None,\n",
       "   options={'values': [8, 16, 32, 64, 128, 256, 384, 512, 740, 1024]},\n",
       "   description='Batch size.',\n",
       "   required=None,\n",
       "   last_model_value=None),\n",
       " TrainingConfigOptions(name='SKIP_HISTORY_FILTERING',\n",
       "   data_type='BOOLEAN',\n",
       "   value_type=None,\n",
       "   value_options=None,\n",
       "   value=None,\n",
       "   default=False,\n",
       "   options=None,\n",
       "   description='Do not remove items which have past interactions from recommendations.',\n",
       "   required=None,\n",
       "   last_model_value=None),\n",
       " TrainingConfigOptions(name='MAX_HISTORY_LENGTH',\n",
       "   data_type='INTEGER',\n",
       "   value_type=None,\n",
       "   value_options=None,\n",
       "   value=None,\n",
       "   default=None,\n",
       "   options={'range': [0, 200]},\n",
       "   description='Maximum length of user-item history to include user in training examples.',\n",
       "   required=None,\n",
       "   last_model_value=None),\n",
       " TrainingConfigOptions(name='USE_ITEM_ATTRIBUTE_BUCKETING',\n",
       "   data_type='BOOLEAN',\n",
       "   value_type=None,\n",
       "   value_options=None,\n",
       "   value=None,\n",
       "   default=None,\n",
       "   options=None,\n",
       "   description='Prefer recommending items which have attribute similarity. Useful when we have natural item categories which are related, like e-commerce categories.',\n",
       "   required=None,\n",
       "   last_model_value=None),\n",
       " TrainingConfigOptions(name='UNORDERED_HISTORY',\n",
       "   data_type='BOOLEAN',\n",
       "   value_type=None,\n",
       "   value_options=None,\n",
       "   value=None,\n",
       "   default=False,\n",
       "   options=None,\n",
       "   description='Order of user item interactions is not important.',\n",
       "   required=None,\n",
       "   last_model_value=None),\n",
       " TrainingConfigOptions(name='MAX_USER_HISTORY_LEN_PERCENTILE',\n",
       "   data_type='INTEGER',\n",
       "   value_type=None,\n",
       "   value_options=None,\n",
       "   value=None,\n",
       "   default=None,\n",
       "   options={'range': [95, 100]},\n",
       "   description='Filter out users with history length above this percentile.',\n",
       "   required=None,\n",
       "   last_model_value=None),\n",
       " TrainingConfigOptions(name='DOWNSAMPLE_ITEM_POPULARITY_PERCENTILE',\n",
       "   data_type='DECIMAL',\n",
       "   value_type=None,\n",
       "   value_options=None,\n",
       "   value=None,\n",
       "   default=None,\n",
       "   options={'range': [0.1, 1.0]},\n",
       "   description='Downsample items more popular than this percentile.',\n",
       "   required=None,\n",
       "   last_model_value=None),\n",
       " TrainingConfigOptions(name='RECENT_DAYS_FOR_TRAINING',\n",
       "   data_type='INTEGER',\n",
       "   value_type=None,\n",
       "   value_options=None,\n",
       "   value=None,\n",
       "   default=None,\n",
       "   options={'range': [1, 1000]},\n",
       "   description='Limit training data to a certain latest number of days.',\n",
       "   required=None,\n",
       "   last_model_value=None),\n",
       " TrainingConfigOptions(name='TRAINING_START_DATE',\n",
       "   data_type='DATETIME',\n",
       "   value_type=None,\n",
       "   value_options=None,\n",
       "   value=None,\n",
       "   default=None,\n",
       "   options=None,\n",
       "   description='Only consider training interaction data after this date. Specified in the timezone of the dataset.',\n",
       "   required=None,\n",
       "   last_model_value=None),\n",
       " TrainingConfigOptions(name='TEST_ON_USER_SPLIT',\n",
       "   data_type='BOOLEAN',\n",
       "   value_type=None,\n",
       "   value_options=None,\n",
       "   value=None,\n",
       "   default=False,\n",
       "   options=None,\n",
       "   description='Use user splits instead of using time splits, when validating and testing the model.',\n",
       "   required=None,\n",
       "   last_model_value=None),\n",
       " TrainingConfigOptions(name='TRAINING_CANDIDATE_ITEMS_LIMIT',\n",
       "   data_type='INTEGER',\n",
       "   value_type=None,\n",
       "   value_options=None,\n",
       "   value=None,\n",
       "   default=None,\n",
       "   options={'range': [1000, 150000]},\n",
       "   description='Limit training data to these many \"best performing\" items. We use target events and weights to calculate it',\n",
       "   required=None,\n",
       "   last_model_value=None),\n",
       " TrainingConfigOptions(name='MIN_INTERACTIONS',\n",
       "   data_type='INTEGER',\n",
       "   value_type=None,\n",
       "   value_options=None,\n",
       "   value=None,\n",
       "   default=None,\n",
       "   options={'range': [0, 10000]},\n",
       "   description='Select candidate items with at least this many interactions.',\n",
       "   required=None,\n",
       "   last_model_value=None),\n",
       " TrainingConfigOptions(name='MIN_TARGET_INTERACTIONS',\n",
       "   data_type='INTEGER',\n",
       "   value_type=None,\n",
       "   value_options=None,\n",
       "   value=None,\n",
       "   default=None,\n",
       "   options={'range': [0, 10000]},\n",
       "   description='Select candidate items with at least this many target interactions.',\n",
       "   required=None,\n",
       "   last_model_value=None),\n",
       " TrainingConfigOptions(name='CANDIDATE_SELECTION_TARGET_RATE_SCORING',\n",
       "   data_type='BOOLEAN',\n",
       "   value_type=None,\n",
       "   value_options=None,\n",
       "   value=None,\n",
       "   default=False,\n",
       "   options=None,\n",
       "   description='Use the rate of target events to select the candidates instead of the total score. Use this to make sure new items are considered in the selection',\n",
       "   required=None,\n",
       "   last_model_value=None),\n",
       " TrainingConfigOptions(name='CANDIDATE_SELECTION_MAX_OTHER_EVENT_RATE',\n",
       "   data_type='DECIMAL',\n",
       "   value_type=None,\n",
       "   value_options=None,\n",
       "   value=None,\n",
       "   default=None,\n",
       "   options=None,\n",
       "   description='To prevent selecting outliers, cap the rate of target events (which are not part of session events) for candidate items to not exceed this value',\n",
       "   required=None,\n",
       "   last_model_value=None),\n",
       " TrainingConfigOptions(name='SEARCH_QUERY_COLUMN',\n",
       "   data_type='ENUM',\n",
       "   value_type=None,\n",
       "   value_options=None,\n",
       "   value=None,\n",
       "   default=None,\n",
       "   options={'values': ['rating']},\n",
       "   description='Column which specifies a search query term that will be used for personalization.',\n",
       "   required=None,\n",
       "   last_model_value=None),\n",
       " TrainingConfigOptions(name='EXPLORE_LOOKBACK_HOURS',\n",
       "   data_type='DECIMAL',\n",
       "   value_type=None,\n",
       "   value_options=None,\n",
       "   value=None,\n",
       "   default=None,\n",
       "   options={'range': [1, 168]},\n",
       "   description='Number of hours since creation time that an item is eligiblefor explore fraction.',\n",
       "   required=None,\n",
       "   last_model_value=None)]"
      ]
     },
     "execution_count": 31,
     "metadata": {},
     "output_type": "execute_result"
    }
   ],
   "source": [
    "related_items_project.get_training_config_options()"
   ]
  },
  {
   "cell_type": "markdown",
   "metadata": {
    "id": "bX7JSKz1bLQb"
   },
   "source": [
    "In this notebook, we'll just train with the default options, but definitely feel free to experiment, especially if you have familiarity with Machine Learning."
   ]
  },
  {
   "cell_type": "code",
   "execution_count": 32,
   "metadata": {
    "colab": {
     "base_uri": "https://localhost:8080/"
    },
    "id": "zEuiL5eMxbDc",
    "outputId": "d3c29731-8d93-4ea2-ffa3-b939f47efbb0"
   },
   "outputs": [
    {
     "data": {
      "text/plain": [
       "{'name': 'Related Movies Model',\n",
       " 'model_id': '1bb3a9d48',\n",
       " 'model_config': {},\n",
       " 'created_at': '2021-11-24T01:56:45+00:00',\n",
       " 'project_id': '15e31351a2',\n",
       " 'shared': False,\n",
       " 'shared_at': None,\n",
       " 'train_function_name': None,\n",
       " 'predict_function_name': None,\n",
       " 'training_input_tables': None,\n",
       " 'source_code': None,\n",
       " 'location': None,\n",
       " 'refresh_schedules': None,\n",
       " 'latest_model_version': {'model_version': 'a0d9f3f46',\n",
       "  'status': 'PENDING',\n",
       "  'model_id': '1bb3a9d48',\n",
       "  'model_config': {},\n",
       "  'training_started_at': None,\n",
       "  'training_completed_at': None,\n",
       "  'dataset_versions': None,\n",
       "  'error': None,\n",
       "  'pending_deployment_ids': None,\n",
       "  'failed_deployment_ids': None}}"
      ]
     },
     "execution_count": 32,
     "metadata": {},
     "output_type": "execute_result"
    }
   ],
   "source": [
    "related_items_model = related_items_project.train_model(training_config={})\n",
    "related_items_model.to_dict()"
   ]
  },
  {
   "cell_type": "markdown",
   "metadata": {
    "id": "4iT1sUz8bNGD"
   },
   "source": [
    "After we start training the model, we can call this blocking call that routinely checks the status of the model until it is trained and evaluated:"
   ]
  },
  {
   "cell_type": "code",
   "execution_count": 33,
   "metadata": {
    "colab": {
     "base_uri": "https://localhost:8080/"
    },
    "id": "Iz4TrVRSxfM5",
    "outputId": "3a7aa5d0-ca2a-4a5c-e387-7e4c61acab40"
   },
   "outputs": [
    {
     "data": {
      "text/plain": [
       "Model(name='Related Movies Model',\n",
       "  model_id='1bb3a9d48',\n",
       "  model_config={},\n",
       "  created_at='2021-11-24T01:56:45+00:00',\n",
       "  project_id='15e31351a2',\n",
       "  shared=False,\n",
       "  shared_at=None,\n",
       "  train_function_name=None,\n",
       "  predict_function_name=None,\n",
       "  training_input_tables=None,\n",
       "  source_code=None,\n",
       "  location=None,\n",
       "  refresh_schedules=None,\n",
       "  latest_model_version=ModelVersion(model_version='a0d9f3f46',\n",
       "  status='COMPLETE',\n",
       "  model_id='1bb3a9d48',\n",
       "  model_config={},\n",
       "  training_started_at='2021-11-24T01:58:40+00:00',\n",
       "  training_completed_at='2021-11-24T02:34:49+00:00',\n",
       "  dataset_versions=['20674efe8'],\n",
       "  error=None,\n",
       "  pending_deployment_ids=[],\n",
       "  failed_deployment_ids=[]))"
      ]
     },
     "execution_count": 33,
     "metadata": {},
     "output_type": "execute_result"
    }
   ],
   "source": [
    "related_items_model.wait_for_evaluation()"
   ]
  },
  {
   "cell_type": "markdown",
   "metadata": {
    "id": "tBGMfuzzKMpG"
   },
   "source": [
    "**Note that model training might take some minutes to some hours depending upon the size of datasets, complexity of the models being trained and a variety of other factors**"
   ]
  },
  {
   "cell_type": "markdown",
   "metadata": {
    "id": "Y6VCodv_bOz9"
   },
   "source": [
    "## **Checkpoint** [Optional]\n",
    "As model training can take an hours to complete, your page could time out or you might end up hitting the refresh button, this section helps you restore your progress:"
   ]
  },
  {
   "cell_type": "code",
   "execution_count": null,
   "metadata": {
    "colab": {
     "base_uri": "https://localhost:8080/"
    },
    "id": "PlHo6WVybQLd",
    "outputId": "c8760fe4-1cfb-4e11-bdc4-97e442cd8b90"
   },
   "outputs": [],
   "source": [
    "!pip install abacusai\n",
    "import pandas as pd\n",
    "import pprint\n",
    "pp = pprint.PrettyPrinter(indent=2)\n",
    "api_key = ''  #@param {type: \"string\"}\n",
    "from abacusai import ApiClient\n",
    "client = ApiClient(api_key)\n",
    "related_items_project = next(project for project in client.list_projects() if project.name == 'Related Movies')\n",
    "related_items_model = related_items_project.list_models()[-1]\n",
    "related_items_model.wait_for_evaluation()"
   ]
  },
  {
   "cell_type": "markdown",
   "metadata": {
    "id": "PuDsPWKzbZm6"
   },
   "source": [
    "## Evaluate your Model Metrics\n",
    "\n",
    "After your model is done training you can inspect the model's quality by reviewing the model's metrics:"
   ]
  },
  {
   "cell_type": "code",
   "execution_count": 34,
   "metadata": {
    "colab": {
     "base_uri": "https://localhost:8080/"
    },
    "id": "4aNY2YgSxgNV",
    "outputId": "1a6115e6-127e-4bed-ad3a-612b2d6981b5"
   },
   "outputs": [
    {
     "name": "stdout",
     "output_type": "stream",
     "text": [
      "{ 'baseline_metrics': None,\n",
      "  'metrics': { 'coverage': 0.4511746391168978,\n",
      "               'map': 0.061221039683096536,\n",
      "               'map@10': 0.06970096965622921,\n",
      "               'map@5': 0.08421448087431693,\n",
      "               'mrr': 0.24470498577438823,\n",
      "               'ndcg': 0.330879625622261,\n",
      "               'ndcg@10': 0.28277192204812096,\n",
      "               'ndcg@5': 0.24688789200373065,\n",
      "               'personalization@10': 0.966502239137158},\n",
      "  'model_id': '1bb3a9d48',\n",
      "  'model_version': 'a0d9f3f46',\n",
      "  'target_column': None}\n"
     ]
    }
   ],
   "source": [
    "pp.pprint(related_items_model.get_metrics().to_dict())"
   ]
  },
  {
   "cell_type": "markdown",
   "metadata": {
    "id": "eNfUSQnfbd-M"
   },
   "source": [
    "To get a better understanding on what these metrics mean, visit our [documentation](https://abacus.ai/app/help/useCases/USER_RELATED/training) page."
   ]
  },
  {
   "cell_type": "markdown",
   "metadata": {
    "id": "Odaqa-x5bkh1"
   },
   "source": [
    "## 5. Deploy Model"
   ]
  },
  {
   "cell_type": "markdown",
   "metadata": {
    "id": "r03sZ3Fcbl65"
   },
   "source": [
    "After the model has been trained, we need to deploy the model to be able to start making predictions. Deploying a model will reserve cloud resources to host the model for Realtime and/or batch predictions."
   ]
  },
  {
   "cell_type": "code",
   "execution_count": 35,
   "metadata": {
    "colab": {
     "base_uri": "https://localhost:8080/"
    },
    "id": "iAfTjP1Cxj3w",
    "outputId": "ac5baf37-1b1a-40bf-92cb-306b5f5e349a"
   },
   "outputs": [
    {
     "data": {
      "text/plain": [
       "Deployment(deployment_id='b74e9e9f2',\n",
       "  name='Related Items Deployment',\n",
       "  status='ACTIVE',\n",
       "  description='Related Items Deployment',\n",
       "  deployed_at='2021-11-24T02:35:50+00:00',\n",
       "  created_at='2021-11-24T02:35:22+00:00',\n",
       "  project_id='15e31351a2',\n",
       "  model_id='1bb3a9d48',\n",
       "  model_version='a0d9f3f46',\n",
       "  feature_group_id=None,\n",
       "  feature_group_version=None,\n",
       "  calls_per_second=5,\n",
       "  auto_deploy=True,\n",
       "  regions=[{'name': 'Us East 1', 'value': 'us-east-1'}],\n",
       "  error=None,\n",
       "  refresh_schedules=None)"
      ]
     },
     "execution_count": 35,
     "metadata": {},
     "output_type": "execute_result"
    }
   ],
   "source": [
    "related_items_deployment = client.create_deployment(name='Related Items Deployment',description='Related Items Deployment',model_id=related_items_model.model_id)\n",
    "related_items_deployment.wait_for_deployment()"
   ]
  },
  {
   "cell_type": "markdown",
   "metadata": {
    "id": "is9wcFfRbnUr"
   },
   "source": [
    "After the model is deployed, we need to create a deployment token for authenticating prediction requests. This token is only authorized to predict on deployments in this project, so it's safe to embed this token inside of a user-facing application or website."
   ]
  },
  {
   "cell_type": "code",
   "execution_count": 36,
   "metadata": {
    "colab": {
     "base_uri": "https://localhost:8080/",
     "height": 35
    },
    "id": "K1OV4FE_xppp",
    "outputId": "fabb151b-cb1a-418d-f1d9-f755e0803a68"
   },
   "outputs": [
    {
     "data": {
      "text/plain": [
       "'1012ff1a3e644ea9a9064e0520c0dd81'"
      ]
     },
     "execution_count": 36,
     "metadata": {},
     "output_type": "execute_result"
    }
   ],
   "source": [
    "deployment_token = related_items_project.create_deployment_token().deployment_token\n",
    "deployment_token"
   ]
  },
  {
   "cell_type": "markdown",
   "metadata": {
    "id": "m3ajlwc7bp30"
   },
   "source": [
    "## 6. Predict\n"
   ]
  },
  {
   "cell_type": "markdown",
   "metadata": {
    "id": "C3i8Zn32brT9"
   },
   "source": [
    "Now that you have an active deployment and a deployment token to authenticate requests, you can make the `get_related_items` API call below.\n",
    "\n",
    "This command will return a list of related items based on the provided user_id (1) and movie_id (466). The related items list would be determined based on what movies the user liked in the past and how the movies and users are related to each other depending on their attributes.\n",
    "\n"
   ]
  },
  {
   "cell_type": "code",
   "execution_count": 37,
   "metadata": {
    "colab": {
     "base_uri": "https://localhost:8080/"
    },
    "id": "9TaN_S_fxtHh",
    "outputId": "e26bba0c-0d1b-4cc3-cc37-9a91896cd678"
   },
   "outputs": [
    {
     "data": {
      "text/plain": [
       "[{'movie_id': '370'},\n",
       " {'movie_id': '1377'},\n",
       " {'movie_id': '3869'},\n",
       " {'movie_id': '780'},\n",
       " {'movie_id': '380'},\n",
       " {'movie_id': '520'},\n",
       " {'movie_id': '3208'},\n",
       " {'movie_id': '1445'},\n",
       " {'movie_id': '3107'},\n",
       " {'movie_id': '2027'},\n",
       " {'movie_id': '368'},\n",
       " {'movie_id': '1517'},\n",
       " {'movie_id': '733'},\n",
       " {'movie_id': '1391'},\n",
       " {'movie_id': '157'},\n",
       " {'movie_id': '3253'},\n",
       " {'movie_id': '3033'},\n",
       " {'movie_id': '10'},\n",
       " {'movie_id': '1370'},\n",
       " {'movie_id': '135'},\n",
       " {'movie_id': '2628'},\n",
       " {'movie_id': '1580'},\n",
       " {'movie_id': '1552'},\n",
       " {'movie_id': '2115'},\n",
       " {'movie_id': '2002'},\n",
       " {'movie_id': '592'},\n",
       " {'movie_id': '1676'},\n",
       " {'movie_id': '165'},\n",
       " {'movie_id': '1918'},\n",
       " {'movie_id': '292'},\n",
       " {'movie_id': '1405'},\n",
       " {'movie_id': '2478'},\n",
       " {'movie_id': '2335'},\n",
       " {'movie_id': '457'},\n",
       " {'movie_id': '1923'},\n",
       " {'movie_id': '2170'},\n",
       " {'movie_id': '2916'},\n",
       " {'movie_id': '112'},\n",
       " {'movie_id': '3256'},\n",
       " {'movie_id': '3440'},\n",
       " {'movie_id': '1196'},\n",
       " {'movie_id': '2617'},\n",
       " {'movie_id': '1485'},\n",
       " {'movie_id': '1608'},\n",
       " {'movie_id': '377'},\n",
       " {'movie_id': '1610'},\n",
       " {'movie_id': '2060'},\n",
       " {'movie_id': '1722'},\n",
       " {'movie_id': '2273'},\n",
       " {'movie_id': '325'}]"
      ]
     },
     "execution_count": 37,
     "metadata": {},
     "output_type": "execute_result"
    }
   ],
   "source": [
    "ApiClient().get_related_items(deployment_token=deployment_token,\n",
    "               deployment_id=related_items_deployment.deployment_id,\n",
    "               query_data={\"user_id\":\"1\",\"movie_id\":\"466\"})"
   ]
  }
 ],
 "metadata": {
  "colab": {
   "collapsed_sections": [],
   "name": "Copy of Related Items Notebook.ipynb",
   "provenance": []
  },
  "interpreter": {
   "hash": "31f2aee4e71d21fbe5cf8b01ff0e069b9275f58929596ceb00d14d90e3e16cd6"
  },
  "kernelspec": {
   "display_name": "Python 3.8.10 64-bit",
   "name": "python3"
  },
  "language_info": {
   "codemirror_mode": {
    "name": "ipython",
    "version": 3
   },
   "file_extension": ".py",
   "mimetype": "text/x-python",
   "name": "python",
   "nbconvert_exporter": "python",
   "pygments_lexer": "ipython3",
   "version": "3.8.10"
  }
 },
 "nbformat": 4,
 "nbformat_minor": 1
}
