{
 "cells": [
  {
   "cell_type": "markdown",
   "metadata": {
    "id": "798Rf5S52cJM"
   },
   "source": [
    "## How-to guide for Cloud Spend use-case on Abacus.AI platform\n",
    "This notebook provides you with a hands on environment to build an cloud spend alert model using the Abacus.AI Python Client Library.\n",
    "\n",
    "We'll be using the [Cloud Spend Dataset](https://s3.amazonaws.com//realityengines.exampledatasets/cloud_operations/cloud_spend.csv), which, as the name suggests, contains information about cloud spends."
   ]
  },
  {
   "cell_type": "markdown",
   "metadata": {
    "id": "--mZuKj93z18"
   },
   "source": [
    "1. Install the Abacus.AI library"
   ]
  },
  {
   "cell_type": "code",
   "execution_count": 1,
   "metadata": {
    "colab": {
     "base_uri": "https://localhost:8080/"
    },
    "id": "x1rd5a6Hyx0a",
    "outputId": "b88ad60f-3b7e-4c23-f1c8-26c725eee0e6"
   },
   "outputs": [
    {
     "name": "stdout",
     "output_type": "stream",
     "text": [
      "Collecting abacusai\n",
      "  Downloading abacusai-0.32.9.tar.gz (40 kB)\n",
      "\u001b[K     |████████████████████████████████| 40 kB 344 kB/s \n",
      "\u001b[?25hCollecting fastavro\n",
      "  Downloading fastavro-1.4.7-cp38-cp38-manylinux_2_17_x86_64.manylinux2014_x86_64.whl (2.6 MB)\n",
      "\u001b[K     |████████████████████████████████| 2.6 MB 748 kB/s \n",
      "\u001b[?25hCollecting packaging\n",
      "  Downloading packaging-21.3-py3-none-any.whl (40 kB)\n",
      "\u001b[K     |████████████████████████████████| 40 kB 4.0 MB/s \n",
      "\u001b[?25hCollecting pandas\n",
      "  Downloading pandas-1.3.4-cp38-cp38-manylinux_2_17_x86_64.manylinux2014_x86_64.whl (11.5 MB)\n",
      "\u001b[K     |████████████████████████████████| 11.5 MB 359 kB/s \n",
      "\u001b[?25hRequirement already satisfied: requests in /usr/lib/python3/dist-packages (from abacusai) (2.22.0)\n",
      "Collecting pyparsing!=3.0.5,>=2.0.2\n",
      "  Downloading pyparsing-3.0.6-py3-none-any.whl (97 kB)\n",
      "\u001b[K     |████████████████████████████████| 97 kB 413 kB/s \n",
      "\u001b[?25hCollecting numpy>=1.17.3; platform_machine != \"aarch64\" and platform_machine != \"arm64\" and python_version < \"3.10\"\n",
      "  Downloading numpy-1.21.4-cp38-cp38-manylinux_2_12_x86_64.manylinux2010_x86_64.whl (15.7 MB)\n",
      "\u001b[K     |████████████████████████████████| 15.7 MB 524 kB/s \n",
      "\u001b[?25hRequirement already satisfied: python-dateutil>=2.7.3 in /usr/lib/python3/dist-packages (from pandas->abacusai) (2.7.3)\n",
      "Requirement already satisfied: pytz>=2017.3 in /usr/lib/python3/dist-packages (from pandas->abacusai) (2019.3)\n",
      "Building wheels for collected packages: abacusai\n",
      "  Building wheel for abacusai (setup.py) ... \u001b[?25ldone\n",
      "\u001b[?25h  Created wheel for abacusai: filename=abacusai-0.32.9-py3-none-any.whl size=58130 sha256=e68a8073195972b970775e6cbe680ed72f6b2d2a9c517e69aa44f070399303b8\n",
      "  Stored in directory: /home/saim/.cache/pip/wheels/e7/ba/0e/99ccd9354d687679fee3f5d994adce242374cd5658caf6e1cf\n",
      "Successfully built abacusai\n",
      "Installing collected packages: fastavro, pyparsing, packaging, numpy, pandas, abacusai\n",
      "Successfully installed abacusai-0.32.9 fastavro-1.4.7 numpy-1.21.4 packaging-21.3 pandas-1.3.4 pyparsing-3.0.6\n"
     ]
    }
   ],
   "source": [
    "!pip install abacusai"
   ]
  },
  {
   "cell_type": "markdown",
   "metadata": {
    "id": "Aqte63CZ351O"
   },
   "source": [
    "We'll also import pandas and pprint tools for visualization in this notebook:"
   ]
  },
  {
   "cell_type": "code",
   "execution_count": 2,
   "metadata": {
    "id": "mSaBA5WzzoNl"
   },
   "outputs": [],
   "source": [
    "import pandas as pd # A tool we'll use to download and preview CSV files\n",
    "import pprint # A tool to pretty print dictionary outputs\n",
    "pp = pprint.PrettyPrinter(indent=2)"
   ]
  },
  {
   "cell_type": "markdown",
   "metadata": {
    "id": "c_0en-0w3-H8"
   },
   "source": [
    "2. Add your Abacus.AI [API Key](https://abacus.ai/app/profile/apikey) generated using the API dashboard as follows:"
   ]
  },
  {
   "cell_type": "code",
   "execution_count": 3,
   "metadata": {
    "id": "_vxWCivxzqSo"
   },
   "outputs": [],
   "source": [
    "#@title Abacus.AI API Key\n",
    "\n",
    "api_key = '2fdecde877dc45fab937eff82b70eff0'  #@param {type: \"string\"}"
   ]
  },
  {
   "cell_type": "markdown",
   "metadata": {
    "id": "4T2t6nbU4Jfv"
   },
   "source": [
    "3. Import the Abacus.AI library and instantiate a client."
   ]
  },
  {
   "cell_type": "code",
   "execution_count": 4,
   "metadata": {
    "colab": {
     "base_uri": "https://localhost:8080/"
    },
    "id": "PQdlAX0uztIT",
    "outputId": "51718bcc-b618-4eab-c8d1-3cdfb13dc293"
   },
   "outputs": [],
   "source": [
    "from abacusai import ApiClient\n",
    "client = ApiClient(api_key)"
   ]
  },
  {
   "cell_type": "markdown",
   "metadata": {
    "id": "czQai9Qn4Lom"
   },
   "source": [
    "## 1. Create a Project\n",
    "\n",
    "Abacus.AI projects are containers that have datasets and trained models. By specifying a business **Use Case**, Abacus.AI tailors the deep learning algorithms to produce the best performing model catered specifically for your data.\n",
    "\n",
    "We'll call the `list_use_cases` method to retrieve a list of the Use Cases currently available on the Abacus.AI platform."
   ]
  },
  {
   "cell_type": "code",
   "execution_count": 5,
   "metadata": {
    "colab": {
     "base_uri": "https://localhost:8080/"
    },
    "id": "b1mop7blz7P2",
    "outputId": "84dcd395-5330-43ce-ffef-431000938ff5"
   },
   "outputs": [
    {
     "data": {
      "text/plain": [
       "[UseCase(use_case='UCPLUGANDPLAY',\n",
       "   pretty_name='Plug & Play Your Tensorflow Model',\n",
       "   description='Upload your already trained model and leverage our model serving infrastructure.. Host your models on our infrastructure and get a JSON api with auto scaling and more!'),\n",
       " UseCase(use_case='EMBEDDINGS_ONLY',\n",
       "   pretty_name='Vector Matching Engine',\n",
       "   description='Upload embeddings and leverage our similarity search infrastructure.. Scale to high traffic, update your index in near realtime'),\n",
       " UseCase(use_case='MODEL_WITH_EMBEDDINGS',\n",
       "   pretty_name='Tensorflow Model With Vector Matching Engine',\n",
       "   description='Upload your already trained model and leverage our model serving infrastructure.. Host your models on our infrastructure and get a JSON api with auto scaling and more!'),\n",
       " UseCase(use_case='TORCH_MODEL_WITH_EMBEDDINGS',\n",
       "   pretty_name='PyTorch Model With Vector Matching Engine',\n",
       "   description='Upload your already trained model and leverage our model serving infrastructure.. Host your models on our infrastructure and get a JSON api with auto scaling and more!'),\n",
       " UseCase(use_case='PYTHON_MODEL',\n",
       "   pretty_name='Custom Python Model',\n",
       "   description='Upload your training code and let Abacus.AI handle training. Host your models on our infrastructure and get a JSON api with auto scaling and more!'),\n",
       " UseCase(use_case='DOCKER_MODEL',\n",
       "   pretty_name='Plug & Play Your Dockerized Model',\n",
       "   description='Upload your already trained model and leverage our model serving infrastructure.. Host your models on our infrastructure and get a JSON api with auto scaling and more!'),\n",
       " UseCase(use_case='DOCKER_MODEL_WITH_EMBEDDINGS',\n",
       "   pretty_name='Plug & Play Your Dockerized Model with Vector Matching Engine',\n",
       "   description='Upload your already trained model and leverage our model serving infrastructure.. Host your models on our infrastructure and get a JSON api with auto scaling and more!'),\n",
       " UseCase(use_case='CUSTOMER_CHURN',\n",
       "   pretty_name='Customer Churn Prediction',\n",
       "   description='Identify customers who are most likely to churn out of your system and send them marketing promotions/emails to retain them. Deploy a real-time deep learning model that identifies customers who are most likely to leave and increase retention.'),\n",
       " UseCase(use_case='ENERGY',\n",
       "   pretty_name='Real-Time Forecasting',\n",
       "   description='Accurately forecast energy or computation usage in real-time. Make downstream planning decisions based on your predictions. We use generative modeling (GANs) to augment your dataset with synthetic data. This unique approach allows us to make accurate predictions in real-time, even when you have little historical data.'),\n",
       " UseCase(use_case='FINANCIAL_METRICS',\n",
       "   pretty_name='Financial Metrics Forecasting',\n",
       "   description='Accurately plan your cash flow, revenue, and sales with state-of-the-art deep learning-based forecasting. We use generative modeling (GANs) to augment your dataset with synthetic data. This unique approach allows us to make accurate predictions, even when you have little historical data.'),\n",
       " UseCase(use_case='FRAUD_ACCOUNT',\n",
       "   pretty_name='Account Takeover and Defense',\n",
       "   description=\"Shield your customers from account takeovers by blocking bots and fake sign-ups. Behind the scenes, our AI engine will develop a custom deep learning model to prevent bot attacks and stops account takeovers in real-time. Setup is super simple and doesn't require any engineering or cumbersome data preparation.\"),\n",
       " UseCase(use_case='FRAUD_THREAT',\n",
       "   pretty_name='Intelligent Threat Detection',\n",
       "   description=\"Stop breachers in their tracks by continuously monitoring your environment for malicious activity. Prevent alert fatigue by reducing the number of false positives over time. Behind the scenes, our AI engine develops a deep learning model customized for your data to continuously monitors all your logs and alerts you of any malicious activity. Setup is super simple and doesn't require any ML expertise.\"),\n",
       " UseCase(use_case='FRAUD_TRANSACTIONS',\n",
       "   pretty_name='Transaction/Credit Card Fraud',\n",
       "   description=\"Accept payments with confidence, reduce chargebacks, and catch payment fraud instantly as it happens. Behind the scenes, our AI engine develops a custom deep learning model for you that prevents transaction fraud and catches fraudsters in real-time. Set up is super simple and doesn't require any engineering and cumbersome data preparation.\"),\n",
       " UseCase(use_case='OPERATIONS_CLOUD',\n",
       "   pretty_name='Cloud Spend Alerts',\n",
       "   description='Deploy state-of-the-art deep learning models to monitor your cloud spend, spot anomalies, spot runaway incidents, mitigate cost incidents, and get alerts so they can be remedied as quickly as possible. Use deep learning to find anomalies in your cloud usage and get alerts on them to mitigate cost incidents.'),\n",
       " UseCase(use_case='CLOUD_SPEND',\n",
       "   pretty_name='Cloud Spend Alerts',\n",
       "   description='Deploy state-of-the-art deep learning models to monitor your cloud spend, spot anomalies, spot runaway incidents, mitigate cost incidents, and get alerts so they can be remedied as quickly as possible. Use deep learning to find anomalies in your cloud usage and get alerts on them to mitigate cost incidents.'),\n",
       " UseCase(use_case='TIMESERIES_ANOMALY_DETECTION',\n",
       "   pretty_name='Timeseries Anomaly Detection',\n",
       "   description='Spot anomalies in your time series data by using deep learning models to increase revenue, save costs and reduce risks. With Abacus.AI you can set up state of the art deep learning models for time series anomaly detection within hours. These models adjust in real time and spot both simple one dimensional and complex multidimensional anomalies. Our models also help you find the root cause of the anomalies. No cumbersome data preparation or engineering effort to deploy the models in production are required.'),\n",
       " UseCase(use_case='OPERATIONS_MAINTENANCE',\n",
       "   pretty_name='Predictive Maintenance',\n",
       "   description='Leverage deep learning models to proactively assess the health of your assets and perform timely maintenance to reduce downtime and save costs. With Abacus.ai you can set up state of the art deep learning models for predictive maintenance within hours. These models learn from your past failures as well as spot anomalies that can lead to new failures. No cumbersome data preparation or engineering effort to deploy the models in production is required.'),\n",
       " UseCase(use_case='PERS_PROMOTIONS',\n",
       "   pretty_name='Personalized Promotions',\n",
       "   description='Send personalized promotions to your customers and increase engagement. Personalize promotions based on catalog items, marketing messages, delivery channels, and discount terms. Deploy a real-time deep learning model that targets relevant promotions to customers and increases engagement. No cumbersome data preparation required and setup is super easy.'),\n",
       " UseCase(use_case='PREDICTING',\n",
       "   pretty_name='Predictive Modeling',\n",
       "   description='Use historical data to predict future occurrences. Train state-of-the-art predictive models customized specifically according to your data and deploy it in production in hours, not months!. You can create a deep learning model for your specific needs simply by pointing us to your data and specifying the inputs/outputs. Our expert AI engine will do the data cleaning and processing, algorithm selection (classification or regression), and model creation. You will be ready to generate intelligent predictions from the deployed model in production in just a few hours.'),\n",
       " UseCase(use_case='RETAIL',\n",
       "   pretty_name='Demand Forecasting',\n",
       "   description='Accurately forecast retail demand. We use generative modeling (GANs) to augment your dataset with synthetic data. This allows us to make accurate predictions even when you have little historical data.'),\n",
       " UseCase(use_case='SALES_FORECASTING',\n",
       "   pretty_name='Sales and Revenue Forecasting',\n",
       "   description='Forecast sales and revenue across your sales reps, products, business units, and locations. Use deep learning to forecast your sales across multiple dimensions. Make better planning discussions and anticipate future problems so you can mitigate them.'),\n",
       " UseCase(use_case='SALES_SCORING',\n",
       "   pretty_name='Predictive Lead Scoring',\n",
       "   description='Identify the sales leads that are most likely to convert into paying customers and increase revenue. Just point our AI engine to your data, and it will create a deep learning model customized for your data to score all your leads and identify the best ones for conversion.'),\n",
       " UseCase(use_case='USER_RANKINGS',\n",
       "   pretty_name='Personalized Search',\n",
       "   description='Re-rank search results or list of items based on a user preferences. Maximize user engagement and revenue. Our unique blend of reinforcement learning and deep learning-based technology works even when you have little historical data and have to deal with a fast-changing catalog or multiple new users.'),\n",
       " UseCase(use_case='NAMED_ENTITY_RECOGNITION',\n",
       "   pretty_name='Text extraction and classification',\n",
       "   description='Find and label fields within text documents such as emails, chats, receipts, invoices or any other unstructured data set. With Abacus.AI you can set up state of the art deep learning models for text extraction and classification within hours. Based on your specific domain and use-case, Abacus.AI can fine-tune pre-trained models, apply transfer learning or simply train new language models from scratch.  No cumbersome data preparation or engineering effort to deploy the models in production are required.'),\n",
       " UseCase(use_case='USER_RECOMMENDATIONS',\n",
       "   pretty_name='Personalized Recommendations',\n",
       "   description='Increase user engagement and revenue with personalized recommendations on your app/website. Our unique blend of reinforcement learning and deep learning-based technology works even when you have little historical data and have to deal with a fast-changing catalog or multiple new users.'),\n",
       " UseCase(use_case='USER_RELATED',\n",
       "   pretty_name='Related Items',\n",
       "   description='Maximize revenue and user engagement. Immerse your customers into your app/website by providing them with a rich browse and related items experience. Our unique blend of reinforcement learning and deep learning-based technology works even when you have little historical data and have to deal with a fast-changing catalog or multiple new users.'),\n",
       " UseCase(use_case='VISION',\n",
       "   pretty_name='Image Classification & Detection',\n",
       "   description='Train an image classification & detection model specific to your domain and use it to classify and detect relevant objects. With Abacus.AI you can set up state of the art deep learning models for Image classification & detection within hours. Based on your specific domain and use-case, Abacus.AI can fine-tune pre-trained models, apply transfer learning or simply train new vision models from scratch. No cumbersome data preparation or engineering effort to deploy the models in production are required.')]"
      ]
     },
     "execution_count": 5,
     "metadata": {},
     "output_type": "execute_result"
    }
   ],
   "source": [
    "client.list_use_cases()"
   ]
  },
  {
   "cell_type": "markdown",
   "metadata": {
    "id": "dyNpJwSC4OWp"
   },
   "source": [
    "In this notebook, we're going to create a cloud spend alert model using the Cloud Spend dataset. The 'OPERATIONS_CLOUD' use case is best tailored for this situation."
   ]
  },
  {
   "cell_type": "code",
   "execution_count": 6,
   "metadata": {
    "id": "dwczQf84z_6A"
   },
   "outputs": [],
   "source": [
    "#@title Abacus.AI Use Case\n",
    "\n",
    "use_case = 'OPERATIONS_CLOUD'  #@param {type: \"string\"}"
   ]
  },
  {
   "cell_type": "markdown",
   "metadata": {
    "id": "4vj6gAnf4X54"
   },
   "source": [
    "By calling the `describe_use_case_requirements` method we can view what datasets are required for this use_case."
   ]
  },
  {
   "cell_type": "code",
   "execution_count": 7,
   "metadata": {
    "colab": {
     "base_uri": "https://localhost:8080/"
    },
    "id": "t81mQJzz0JPX",
    "outputId": "0a94ae51-0fdd-4e73-c142-2c198ee25199"
   },
   "outputs": [
    {
     "name": "stdout",
     "output_type": "stream",
     "text": [
      "{ 'allowed_feature_mappings': { 'DATE': { 'allowed_feature_types': [ 'TIMESTAMP'],\n",
      "                                          'description': 'Date and time that '\n",
      "                                                         'corresponds to the '\n",
      "                                                         'value of the item.',\n",
      "                                          'required': True},\n",
      "                                'IGNORE': { 'description': 'Ignore this column '\n",
      "                                                           'in training',\n",
      "                                            'multiple': True,\n",
      "                                            'required': False},\n",
      "                                'SERVICE_ID': { 'allowed_feature_types': [ 'CATEGORICAL'],\n",
      "                                                'description': 'The unique ID '\n",
      "                                                               'of the service '\n",
      "                                                               'that needs to '\n",
      "                                                               'be monitored '\n",
      "                                                               'for possible '\n",
      "                                                               'anomalies.',\n",
      "                                                'required': True},\n",
      "                                'VALUE': { 'allowed_feature_types': [ 'NUMERICAL'],\n",
      "                                           'description': 'The target value of '\n",
      "                                                          'the item being '\n",
      "                                                          'monitored.',\n",
      "                                           'required': True}},\n",
      "  'allowed_nested_feature_mappings': None,\n",
      "  'dataset_type': 'TIMESERIES',\n",
      "  'description': 'This dataset corresponds to the historical time series data '\n",
      "                 'for cloud spend.',\n",
      "  'name': 'Timeseries Data',\n",
      "  'required': True}\n",
      "{ 'allowed_feature_mappings': { 'IGNORE': { 'description': 'Ignore this column '\n",
      "                                                           'in training',\n",
      "                                            'multiple': True,\n",
      "                                            'required': False},\n",
      "                                'SERVICE_ID': { 'allowed_feature_types': [ 'CATEGORICAL'],\n",
      "                                                'description': 'The name of '\n",
      "                                                               'the service '\n",
      "                                                               'that needs to '\n",
      "                                                               'be monitored '\n",
      "                                                               'for possible '\n",
      "                                                               'anomalies.',\n",
      "                                                'required': True}},\n",
      "  'allowed_nested_feature_mappings': None,\n",
      "  'dataset_type': 'ITEM_ATTRIBUTES',\n",
      "  'description': 'This dataset corresponds to all the attributes or meta-data '\n",
      "                 'that you have about the service you are monitoring.',\n",
      "  'name': 'Service Attributes',\n",
      "  'required': None}\n"
     ]
    }
   ],
   "source": [
    "for requirement in client.describe_use_case_requirements(use_case):\n",
    "  pp.pprint(requirement.to_dict())"
   ]
  },
  {
   "cell_type": "markdown",
   "metadata": {
    "id": "yi9sWxXS4c5x"
   },
   "source": [
    "Finally, let's create the project."
   ]
  },
  {
   "cell_type": "code",
   "execution_count": 8,
   "metadata": {
    "colab": {
     "base_uri": "https://localhost:8080/"
    },
    "id": "_7PREqP80Nn7",
    "outputId": "f17d3c91-f8be-4865-9c5e-8361832c6f8e"
   },
   "outputs": [
    {
     "data": {
      "text/plain": [
       "{'project_id': '1388fabef0',\n",
       " 'name': 'Cloud Spend Project',\n",
       " 'use_case': 'OPERATIONS_CLOUD',\n",
       " 'created_at': '2021-11-23T18:37:56+00:00',\n",
       " 'feature_groups_enabled': True}"
      ]
     },
     "execution_count": 8,
     "metadata": {},
     "output_type": "execute_result"
    }
   ],
   "source": [
    "cloud_project = client.create_project(name='Cloud Spend Project', use_case=use_case)\n",
    "cloud_project.to_dict()"
   ]
  },
  {
   "cell_type": "markdown",
   "metadata": {
    "id": "wMfUiKAwrgCy"
   },
   "source": [
    "**Note: When feature_groups_enabled is True then the use case supports feature groups (collection of ML features). Feature groups are created at the organization level and can be tied to a project to further use it for training ML models**"
   ]
  },
  {
   "cell_type": "markdown",
   "metadata": {
    "id": "QD-SqIiQ4hQK"
   },
   "source": [
    "## 2. Add Datasets to your Project\n",
    "\n",
    "Abacus.AI can read datasets directly from `AWS S3` or `Google Cloud Storage` buckets, otherwise you can also directly upload and store your datasets with Abacus.AI. For this notebook, we will have Abacus.AI read the datasets directly from a public S3 bucket's location.\n",
    "\n",
    "We are using one dataset for this notebook. We'll tell Abacus.AI how the dataset should be used when creating it by tagging the dataset with a special Abacus.AI **Dataset Type**.\n",
    "- [Cloud Spend Dataset](https://s3.amazonaws.com//realityengines.exampledatasets/cloud_operations/cloud_spend.csv) (**TIMESERIES**): \n",
    "This dataset contains information about a company's cloud expenses, including the start date, service, and log cost."
   ]
  },
  {
   "cell_type": "markdown",
   "metadata": {
    "id": "bHDCJryc5CNj"
   },
   "source": [
    "### Add the dataset to Abacus.AI\n",
    "\n",
    "First we'll use Pandas to preview the file, then add it to Abacus.AI."
   ]
  },
  {
   "cell_type": "code",
   "execution_count": 9,
   "metadata": {
    "colab": {
     "base_uri": "https://localhost:8080/",
     "height": 417
    },
    "id": "LdUfs-Zp15Xp",
    "outputId": "8ac4db09-2589-41aa-e2d3-58ff00e8ce8c"
   },
   "outputs": [
    {
     "data": {
      "text/html": [
       "<div>\n",
       "<style scoped>\n",
       "    .dataframe tbody tr th:only-of-type {\n",
       "        vertical-align: middle;\n",
       "    }\n",
       "\n",
       "    .dataframe tbody tr th {\n",
       "        vertical-align: top;\n",
       "    }\n",
       "\n",
       "    .dataframe thead th {\n",
       "        text-align: right;\n",
       "    }\n",
       "</style>\n",
       "<table border=\"1\" class=\"dataframe\">\n",
       "  <thead>\n",
       "    <tr style=\"text-align: right;\">\n",
       "      <th></th>\n",
       "      <th>UsageStartDate</th>\n",
       "      <th>service</th>\n",
       "      <th>LogCost</th>\n",
       "    </tr>\n",
       "  </thead>\n",
       "  <tbody>\n",
       "    <tr>\n",
       "      <th>0</th>\n",
       "      <td>2019-01-28 23:00:00+00:00</td>\n",
       "      <td>AWSCloudTrail</td>\n",
       "      <td>0.285419</td>\n",
       "    </tr>\n",
       "    <tr>\n",
       "      <th>1</th>\n",
       "      <td>2019-01-28 23:00:00+00:00</td>\n",
       "      <td>AWSQueueService</td>\n",
       "      <td>-0.145920</td>\n",
       "    </tr>\n",
       "    <tr>\n",
       "      <th>2</th>\n",
       "      <td>2019-01-28 23:00:00+00:00</td>\n",
       "      <td>AmazonCloudFront</td>\n",
       "      <td>-0.430381</td>\n",
       "    </tr>\n",
       "    <tr>\n",
       "      <th>3</th>\n",
       "      <td>2019-01-28 23:00:00+00:00</td>\n",
       "      <td>AmazonCloudWatch</td>\n",
       "      <td>0.080604</td>\n",
       "    </tr>\n",
       "    <tr>\n",
       "      <th>4</th>\n",
       "      <td>2019-01-28 23:00:00+00:00</td>\n",
       "      <td>AmazonEC2</td>\n",
       "      <td>0.151666</td>\n",
       "    </tr>\n",
       "    <tr>\n",
       "      <th>...</th>\n",
       "      <td>...</td>\n",
       "      <td>...</td>\n",
       "      <td>...</td>\n",
       "    </tr>\n",
       "    <tr>\n",
       "      <th>46444</th>\n",
       "      <td>2019-08-31 23:00:00+00:00</td>\n",
       "      <td>AmazonEC2</td>\n",
       "      <td>0.226961</td>\n",
       "    </tr>\n",
       "    <tr>\n",
       "      <th>46445</th>\n",
       "      <td>2019-08-31 23:00:00+00:00</td>\n",
       "      <td>AmazonKinesis</td>\n",
       "      <td>-0.033456</td>\n",
       "    </tr>\n",
       "    <tr>\n",
       "      <th>46446</th>\n",
       "      <td>2019-08-31 23:00:00+00:00</td>\n",
       "      <td>AmazonRDS</td>\n",
       "      <td>0.249469</td>\n",
       "    </tr>\n",
       "    <tr>\n",
       "      <th>46447</th>\n",
       "      <td>2019-08-31 23:00:00+00:00</td>\n",
       "      <td>AmazonS3</td>\n",
       "      <td>-0.314570</td>\n",
       "    </tr>\n",
       "    <tr>\n",
       "      <th>46448</th>\n",
       "      <td>2019-08-31 23:00:00+00:00</td>\n",
       "      <td>AmazonSNS</td>\n",
       "      <td>-1.021001</td>\n",
       "    </tr>\n",
       "  </tbody>\n",
       "</table>\n",
       "<p>46449 rows × 3 columns</p>\n",
       "</div>"
      ],
      "text/plain": [
       "                  UsageStartDate           service   LogCost\n",
       "0      2019-01-28 23:00:00+00:00     AWSCloudTrail  0.285419\n",
       "1      2019-01-28 23:00:00+00:00   AWSQueueService -0.145920\n",
       "2      2019-01-28 23:00:00+00:00  AmazonCloudFront -0.430381\n",
       "3      2019-01-28 23:00:00+00:00  AmazonCloudWatch  0.080604\n",
       "4      2019-01-28 23:00:00+00:00         AmazonEC2  0.151666\n",
       "...                          ...               ...       ...\n",
       "46444  2019-08-31 23:00:00+00:00         AmazonEC2  0.226961\n",
       "46445  2019-08-31 23:00:00+00:00     AmazonKinesis -0.033456\n",
       "46446  2019-08-31 23:00:00+00:00         AmazonRDS  0.249469\n",
       "46447  2019-08-31 23:00:00+00:00          AmazonS3 -0.314570\n",
       "46448  2019-08-31 23:00:00+00:00         AmazonSNS -1.021001\n",
       "\n",
       "[46449 rows x 3 columns]"
      ]
     },
     "execution_count": 9,
     "metadata": {},
     "output_type": "execute_result"
    }
   ],
   "source": [
    "pd.read_csv('https://s3.amazonaws.com//realityengines.exampledatasets/cloud_operations/cloud_spend.csv')"
   ]
  },
  {
   "cell_type": "markdown",
   "metadata": {
    "id": "J-3GYhCn5DQg"
   },
   "source": [
    "Using the Create Dataset API, we can tell Abacus.AI the public S3 URI of where to find the datasets. We will also give each dataset a Refresh Schedule, which tells Abacus.AI when it should refresh the dataset (take an updated/latest copy of the dataset).\n",
    "\n",
    "If you're unfamiliar with Cron Syntax, Crontab Guru can help translate the syntax back into natural language: [https://crontab.guru/#0_12_\\*_\\*_\\*](https://crontab.guru/#0_12_*_*_*)\n",
    "\n",
    "**Note: This cron string will be evaluated in UTC time zone**"
   ]
  },
  {
   "cell_type": "code",
   "execution_count": 13,
   "metadata": {
    "id": "Rx2-HfHagdr4"
   },
   "outputs": [],
   "source": [
    "cloud_dataset = client.create_dataset_from_file_connector(name='Test Cloud Spend Data', table_name='Test_Cloud_Spend_Data' ,\n",
    "                                     location='s3://realityengines.exampledatasets/cloud_operations/cloud_spend.csv',\n",
    "                                     refresh_schedule='0 12 * * *')\n",
    "datasets = [cloud_dataset]"
   ]
  },
  {
   "cell_type": "markdown",
   "metadata": {
    "id": "X4t8ytsQrw6o"
   },
   "source": [
    "## 3. Create Feature Groups and add them to your Project\n",
    "\n",
    "Datasets are created at the organization level and can be used to create feature groups as follows:"
   ]
  },
  {
   "cell_type": "code",
   "execution_count": 16,
   "metadata": {
    "id": "w08H16C1auPA"
   },
   "outputs": [],
   "source": [
    "feature_group = client.create_feature_group(table_name='test_cloud_spends_alert',sql='SELECT * FROM Test_Cloud_Spend')"
   ]
  },
  {
   "cell_type": "markdown",
   "metadata": {
    "id": "KCrg5R6kr6pZ"
   },
   "source": [
    "Adding Feature Group to the project:"
   ]
  },
  {
   "cell_type": "code",
   "execution_count": 17,
   "metadata": {
    "id": "svyfGlK2bNwK"
   },
   "outputs": [],
   "source": [
    "client.add_feature_group_to_project(feature_group_id=feature_group.feature_group_id,project_id = cloud_project.project_id)"
   ]
  },
  {
   "cell_type": "markdown",
   "metadata": {
    "id": "qAAAnOz8r_MD"
   },
   "source": [
    "Setting the Feature Group type according to the use case requirements:"
   ]
  },
  {
   "cell_type": "code",
   "execution_count": 18,
   "metadata": {
    "id": "tOj0Er7GbNzS"
   },
   "outputs": [],
   "source": [
    "client.set_feature_group_type(feature_group_id=feature_group.feature_group_id, project_id = cloud_project.project_id, feature_group_type= \"TIMESERIES\")"
   ]
  },
  {
   "cell_type": "markdown",
   "metadata": {
    "id": "_l-Hz4zHsLGo"
   },
   "source": [
    "Check current Feature Group schema:"
   ]
  },
  {
   "cell_type": "code",
   "execution_count": 19,
   "metadata": {
    "colab": {
     "base_uri": "https://localhost:8080/"
    },
    "id": "p-MyrAK0bN1z",
    "outputId": "4efe6c74-4c0b-4baa-f4a7-341bc5a3c182"
   },
   "outputs": [
    {
     "data": {
      "text/plain": [
       "[Feature(name='UsageStartDate',\n",
       "   select_clause=None,\n",
       "   feature_mapping=None,\n",
       "   source_table='Test_Cloud_Spend_Data',\n",
       "   original_name=None,\n",
       "   using_clause=None,\n",
       "   order_clause=None,\n",
       "   where_clause=None,\n",
       "   feature_type='TIMESTAMP',\n",
       "   data_type='DATETIME',\n",
       "   columns=None,\n",
       "   point_in_time_info=None),\n",
       " Feature(name='service',\n",
       "   select_clause=None,\n",
       "   feature_mapping=None,\n",
       "   source_table='Test_Cloud_Spend_Data',\n",
       "   original_name=None,\n",
       "   using_clause=None,\n",
       "   order_clause=None,\n",
       "   where_clause=None,\n",
       "   feature_type='CATEGORICAL',\n",
       "   data_type='STRING',\n",
       "   columns=None,\n",
       "   point_in_time_info=None),\n",
       " Feature(name='LogCost',\n",
       "   select_clause=None,\n",
       "   feature_mapping=None,\n",
       "   source_table='Test_Cloud_Spend_Data',\n",
       "   original_name=None,\n",
       "   using_clause=None,\n",
       "   order_clause=None,\n",
       "   where_clause=None,\n",
       "   feature_type='NUMERICAL',\n",
       "   data_type='FLOAT',\n",
       "   columns=None,\n",
       "   point_in_time_info=None)]"
      ]
     },
     "execution_count": 19,
     "metadata": {},
     "output_type": "execute_result"
    }
   ],
   "source": [
    "client.get_feature_group_schema(feature_group_id=feature_group.feature_group_id)"
   ]
  },
  {
   "cell_type": "markdown",
   "metadata": {
    "id": "Qp-N6ZhZ5KeI"
   },
   "source": [
    "#### For each **Use Case**, there are special **Column Mappings** that must be applied to a column to fulfill use case requirements. We can find the list of available **Column Mappings** by calling the *Describe Use Case Requirements* API:"
   ]
  },
  {
   "cell_type": "code",
   "execution_count": 21,
   "metadata": {
    "colab": {
     "base_uri": "https://localhost:8080/"
    },
    "id": "1SeqQIzWZCER",
    "outputId": "b0ec8445-93f3-45a1-91ba-6d083095ffd0"
   },
   "outputs": [
    {
     "data": {
      "text/plain": [
       "{'SERVICE_ID': {'description': 'The unique ID of the service that needs to be monitored for possible anomalies.',\n",
       "  'allowed_feature_types': ['CATEGORICAL'],\n",
       "  'required': True},\n",
       " 'VALUE': {'description': 'The target value of the item being monitored.',\n",
       "  'allowed_feature_types': ['NUMERICAL'],\n",
       "  'required': True},\n",
       " 'DATE': {'description': 'Date and time that corresponds to the value of the item.',\n",
       "  'allowed_feature_types': ['TIMESTAMP'],\n",
       "  'required': True},\n",
       " 'IGNORE': {'description': 'Ignore this column in training',\n",
       "  'multiple': True,\n",
       "  'required': False}}"
      ]
     },
     "execution_count": 21,
     "metadata": {},
     "output_type": "execute_result"
    }
   ],
   "source": [
    "client.describe_use_case_requirements(use_case)[0].allowed_feature_mappings"
   ]
  },
  {
   "cell_type": "code",
   "execution_count": 22,
   "metadata": {
    "colab": {
     "base_uri": "https://localhost:8080/"
    },
    "id": "eOdbvCkdaHz3",
    "outputId": "e7ae09a9-872f-4803-8459-a21d4ccc9cdb"
   },
   "outputs": [
    {
     "data": {
      "text/plain": [
       "[Feature(name='UsageStartDate',\n",
       "   select_clause=None,\n",
       "   feature_mapping='DATE',\n",
       "   source_table='Test_Cloud_Spend_Data',\n",
       "   original_name=None,\n",
       "   using_clause=None,\n",
       "   order_clause=None,\n",
       "   where_clause=None,\n",
       "   feature_type='TIMESTAMP',\n",
       "   data_type='DATETIME',\n",
       "   columns=None,\n",
       "   point_in_time_info=None),\n",
       " Feature(name='service',\n",
       "   select_clause=None,\n",
       "   feature_mapping='SERVICE_ID',\n",
       "   source_table='Test_Cloud_Spend_Data',\n",
       "   original_name=None,\n",
       "   using_clause=None,\n",
       "   order_clause=None,\n",
       "   where_clause=None,\n",
       "   feature_type='CATEGORICAL',\n",
       "   data_type='STRING',\n",
       "   columns=None,\n",
       "   point_in_time_info=None),\n",
       " Feature(name='LogCost',\n",
       "   select_clause=None,\n",
       "   feature_mapping='VALUE',\n",
       "   source_table='Test_Cloud_Spend_Data',\n",
       "   original_name=None,\n",
       "   using_clause=None,\n",
       "   order_clause=None,\n",
       "   where_clause=None,\n",
       "   feature_type='NUMERICAL',\n",
       "   data_type='FLOAT',\n",
       "   columns=None,\n",
       "   point_in_time_info=None)]"
      ]
     },
     "execution_count": 22,
     "metadata": {},
     "output_type": "execute_result"
    }
   ],
   "source": [
    "client.set_feature_mapping(project_id = cloud_project.project_id,feature_group_id= feature_group.feature_group_id, feature_name='UsageStartDate',feature_mapping='DATE')\n",
    "client.set_feature_mapping(project_id = cloud_project.project_id,feature_group_id= feature_group.feature_group_id, feature_name='service',feature_mapping='SERVICE_ID')\n",
    "client.set_feature_mapping(project_id = cloud_project.project_id,feature_group_id= feature_group.feature_group_id, feature_name='LogCost',feature_mapping='VALUE')"
   ]
  },
  {
   "cell_type": "markdown",
   "metadata": {
    "id": "VDDN9YNxsmkr"
   },
   "source": [
    "For each required Feature Group Type within the use case, you must assign the Feature group to be used for training the model:"
   ]
  },
  {
   "cell_type": "code",
   "execution_count": 23,
   "metadata": {
    "id": "GA_aI90KsN54"
   },
   "outputs": [],
   "source": [
    "client.use_feature_group_for_training(project_id=cloud_project.project_id, feature_group_id=feature_group.feature_group_id)"
   ]
  },
  {
   "cell_type": "markdown",
   "metadata": {
    "id": "F1Qh4mTvs1Bn"
   },
   "source": [
    "Now that we've our feature groups assigned, we're almost ready to train a model!\n",
    "\n",
    "To be sure that our project is ready to go, let's call project.validate to confirm that all the project requirements have been met:"
   ]
  },
  {
   "cell_type": "code",
   "execution_count": 24,
   "metadata": {
    "colab": {
     "base_uri": "https://localhost:8080/"
    },
    "id": "EtB15JT9ZrVW",
    "outputId": "e4acf223-cb2f-4724-88c4-824a8074b097"
   },
   "outputs": [
    {
     "data": {
      "text/plain": [
       "ProjectValidation(valid=True,\n",
       "  dataset_errors=[],\n",
       "  column_hints={})"
      ]
     },
     "execution_count": 24,
     "metadata": {},
     "output_type": "execute_result"
    }
   ],
   "source": [
    "cloud_project.validate()"
   ]
  },
  {
   "cell_type": "markdown",
   "metadata": {
    "id": "s-FIyjbX5x_b"
   },
   "source": [
    "## 4. Train a Model"
   ]
  },
  {
   "cell_type": "markdown",
   "metadata": {
    "id": "PrYxMfrP52g5"
   },
   "source": [
    "For each **Use Case**, Abacus.AI has a bunch of options for training. We can call the *Get Training Config Options* API to see the available options."
   ]
  },
  {
   "cell_type": "code",
   "execution_count": 25,
   "metadata": {
    "colab": {
     "base_uri": "https://localhost:8080/"
    },
    "id": "bxnw7no0Zvaj",
    "outputId": "a3c45eff-3d06-46ed-e431-0d3a0fb4e17c"
   },
   "outputs": [
    {
     "data": {
      "text/plain": [
       "[TrainingConfigOptions(name='TEST_SPLIT',\n",
       "   data_type='INTEGER',\n",
       "   value_type=None,\n",
       "   value_options=None,\n",
       "   value=None,\n",
       "   default=10,\n",
       "   options={'range': [5, 20]},\n",
       "   description='Percent of dataset to use for test data. We support using a range between 5% to 20% of your dataset to use as test data.',\n",
       "   required=None,\n",
       "   last_model_value=None),\n",
       " TrainingConfigOptions(name='DROPOUT_RATE',\n",
       "   data_type='INTEGER',\n",
       "   value_type=None,\n",
       "   value_options=None,\n",
       "   value=None,\n",
       "   default=None,\n",
       "   options={'range': [0, 90]},\n",
       "   description='Dropout percentage rate.',\n",
       "   required=None,\n",
       "   last_model_value=None),\n",
       " TrainingConfigOptions(name='BATCH_SIZE',\n",
       "   data_type='ENUM',\n",
       "   value_type=None,\n",
       "   value_options=None,\n",
       "   value=None,\n",
       "   default=None,\n",
       "   options={'values': [8, 16, 32, 64, 128, 256, 384, 512, 740, 1024]},\n",
       "   description='Batch size.',\n",
       "   required=None,\n",
       "   last_model_value=None)]"
      ]
     },
     "execution_count": 25,
     "metadata": {},
     "output_type": "execute_result"
    }
   ],
   "source": [
    "cloud_project.get_training_config_options()"
   ]
  },
  {
   "cell_type": "markdown",
   "metadata": {
    "id": "F1oopEwk54xD"
   },
   "source": [
    "In this notebook, we'll just train with the default options, but definitely feel free to experiment, especially if you have familiarity with Machine Learning."
   ]
  },
  {
   "cell_type": "code",
   "execution_count": 26,
   "metadata": {
    "colab": {
     "base_uri": "https://localhost:8080/"
    },
    "id": "w2Uy6IgIZy8I",
    "outputId": "f65281ee-f0ce-4f9a-ed75-a300bea13ac2"
   },
   "outputs": [
    {
     "data": {
      "text/plain": [
       "{'name': 'Cloud Spend Project Model',\n",
       " 'model_id': '1baa847ea',\n",
       " 'model_config': {},\n",
       " 'created_at': '2021-11-23T18:42:56+00:00',\n",
       " 'project_id': '1388fabef0',\n",
       " 'shared': False,\n",
       " 'shared_at': None,\n",
       " 'train_function_name': None,\n",
       " 'predict_function_name': None,\n",
       " 'training_input_tables': None,\n",
       " 'source_code': None,\n",
       " 'location': None,\n",
       " 'refresh_schedules': None,\n",
       " 'latest_model_version': {'model_version': 'd93e89b44',\n",
       "  'status': 'PENDING',\n",
       "  'model_id': '1baa847ea',\n",
       "  'model_config': {},\n",
       "  'training_started_at': None,\n",
       "  'training_completed_at': None,\n",
       "  'dataset_versions': None,\n",
       "  'error': None,\n",
       "  'pending_deployment_ids': None,\n",
       "  'failed_deployment_ids': None}}"
      ]
     },
     "execution_count": 26,
     "metadata": {},
     "output_type": "execute_result"
    }
   ],
   "source": [
    "cloud_model = cloud_project.train_model(training_config={})\n",
    "cloud_model.to_dict()"
   ]
  },
  {
   "cell_type": "markdown",
   "metadata": {
    "id": "JfTu53sI59SJ"
   },
   "source": [
    "After we start training the model, we can call this blocking call that routinely checks the status of the model until it is trained and evaluated."
   ]
  },
  {
   "cell_type": "code",
   "execution_count": 27,
   "metadata": {
    "colab": {
     "base_uri": "https://localhost:8080/"
    },
    "id": "ZsSIe5Gbb5El",
    "outputId": "f9f7b2cb-c8ec-4af9-87f0-5bb812bcd9f7"
   },
   "outputs": [
    {
     "data": {
      "text/plain": [
       "Model(name='Cloud Spend Project Model',\n",
       "  model_id='1baa847ea',\n",
       "  model_config={},\n",
       "  created_at='2021-11-23T18:42:56+00:00',\n",
       "  project_id='1388fabef0',\n",
       "  shared=False,\n",
       "  shared_at=None,\n",
       "  train_function_name=None,\n",
       "  predict_function_name=None,\n",
       "  training_input_tables=None,\n",
       "  source_code=None,\n",
       "  location=None,\n",
       "  refresh_schedules=None,\n",
       "  latest_model_version=ModelVersion(model_version='d93e89b44',\n",
       "  status='COMPLETE',\n",
       "  model_id='1baa847ea',\n",
       "  model_config={},\n",
       "  training_started_at='2021-11-23T18:44:41+00:00',\n",
       "  training_completed_at='2021-11-23T19:04:17+00:00',\n",
       "  dataset_versions=['45f68d7de'],\n",
       "  error=None,\n",
       "  pending_deployment_ids=[],\n",
       "  failed_deployment_ids=[]))"
      ]
     },
     "execution_count": 27,
     "metadata": {},
     "output_type": "execute_result"
    }
   ],
   "source": [
    "cloud_model.wait_for_evaluation()"
   ]
  },
  {
   "cell_type": "markdown",
   "metadata": {
    "id": "XfaB4_k5tKwB"
   },
   "source": [
    "**Note that model training might take some minutes to some hours depending upon the size of datasets, complexity of the models being trained and a variety of other factors**"
   ]
  },
  {
   "cell_type": "markdown",
   "metadata": {
    "id": "Uv9RckJr6AFQ"
   },
   "source": [
    "## **Checkpoint** [Optional]\n",
    "As model training can take an hours to complete, your page could time out or you might end up hitting the refresh button, this section helps you restore your progress:"
   ]
  },
  {
   "cell_type": "code",
   "execution_count": null,
   "metadata": {
    "id": "-O6jEpvi6Dnm"
   },
   "outputs": [],
   "source": [
    "!pip install abacusai\n",
    "import pandas as pd\n",
    "import pprint\n",
    "pp = pprint.PrettyPrinter(indent=2)\n",
    "api_key = ''  #@param {type: \"string\"}\n",
    "from abacusai import ApiClient\n",
    "client = ApiClient(api_key)\n",
    "cloud_project = next(project for project in client.list_projects() if project.name == 'Cloud Spend Project')\n",
    "cloud_model = cloud_project.list_models()[-1]\n",
    "cloud_model.wait_for_evaluation()"
   ]
  },
  {
   "cell_type": "markdown",
   "metadata": {
    "id": "e5CeWns16Of6"
   },
   "source": [
    "## Evaluate your Model Metrics\n",
    "\n",
    "After your model is done training you can inspect the model's quality by reviewing the model's metrics:"
   ]
  },
  {
   "cell_type": "code",
   "execution_count": null,
   "metadata": {
    "colab": {
     "base_uri": "https://localhost:8080/"
    },
    "id": "ssQeRUTBaZlx",
    "outputId": "0e878fd2-400f-49b1-8bef-15454cbddffb"
   },
   "outputs": [],
   "source": [
    "pp.pprint(cloud_model.get_metrics().to_dict())"
   ]
  },
  {
   "cell_type": "markdown",
   "metadata": {
    "id": "ICiIimPs6Qnn"
   },
   "source": [
    "To get a better understanding on what these metrics mean, visit our [documentation](https://abacus.ai/app/help/useCases/OPERATIONS_CLOUD/training) page."
   ]
  },
  {
   "cell_type": "markdown",
   "metadata": {
    "id": "_SXHfF346Wyb"
   },
   "source": [
    "## 5. Deploy Model"
   ]
  },
  {
   "cell_type": "markdown",
   "metadata": {
    "id": "II_0L3_c6XFU"
   },
   "source": [
    "After the model has been trained, we need to deploy the model to be able to start making predictions. Deploying a model will reserve cloud resources to host the model for Realtime and/or batch predictions."
   ]
  },
  {
   "cell_type": "code",
   "execution_count": null,
   "metadata": {
    "colab": {
     "base_uri": "https://localhost:8080/"
    },
    "id": "vGgpYiyscQ8T",
    "outputId": "9e4f2e25-a614-49fe-eb00-6f78a1e9ba7d"
   },
   "outputs": [],
   "source": [
    "cloud_deployment = client.create_deployment(name='Cloud Spend Deployment', model_id=cloud_model.model_id,description='Cloud Spend Deployment')\n",
    "cloud_deployment.wait_for_deployment()"
   ]
  },
  {
   "cell_type": "markdown",
   "metadata": {
    "id": "GcF-p-9u6anF"
   },
   "source": [
    "After the model is deployed, we need to create a deployment token for authenticating prediction requests. This token is only authorized to predict on deployments in this project, so it's safe to embed this token inside of a user-facing application or website."
   ]
  },
  {
   "cell_type": "code",
   "execution_count": null,
   "metadata": {
    "colab": {
     "base_uri": "https://localhost:8080/",
     "height": 35
    },
    "id": "dRybQyY6cilt",
    "outputId": "3cf78c3a-aaf6-44ea-95aa-a46e7a7a5250"
   },
   "outputs": [],
   "source": [
    "deployment_token = cloud_project.create_deployment_token().deployment_token\n",
    "deployment_token"
   ]
  },
  {
   "cell_type": "markdown",
   "metadata": {
    "id": "gyAkodtr6czT"
   },
   "source": [
    "## 6. Predict\n"
   ]
  },
  {
   "cell_type": "markdown",
   "metadata": {
    "id": "4g4bWvWU6dMo"
   },
   "source": [
    "Now that you have an active deployment and a deployment token to authenticate requests, you can make the `get_anomalies` API call below.\n",
    "\n",
    "This command will return information about a company's cloud spending, including the threshold, service, and anomalies. The anomaly detection would be performed using the data in the Cloud Spend dataset."
   ]
  },
  {
   "cell_type": "code",
   "execution_count": null,
   "metadata": {
    "colab": {
     "base_uri": "https://localhost:8080/"
    },
    "id": "kMfeKzvdcmHv",
    "outputId": "079bd182-9ded-4ebb-8e5c-5c2d5d20f27d"
   },
   "outputs": [],
   "source": [
    "ApiClient().get_anomalies(deployment_token=deployment_token, \n",
    "               deployment_id=cloud_deployment.deployment_id)"
   ]
  }
 ],
 "metadata": {
  "colab": {
   "collapsed_sections": [],
   "name": "Cloud Spend Alerts Notebook.ipynb",
   "provenance": [],
   "toc_visible": true
  },
  "interpreter": {
   "hash": "31f2aee4e71d21fbe5cf8b01ff0e069b9275f58929596ceb00d14d90e3e16cd6"
  },
  "kernelspec": {
   "display_name": "Python 3.8.10 64-bit",
   "name": "python3"
  },
  "language_info": {
   "codemirror_mode": {
    "name": "ipython",
    "version": 3
   },
   "file_extension": ".py",
   "mimetype": "text/x-python",
   "name": "python",
   "nbconvert_exporter": "python",
   "pygments_lexer": "ipython3",
   "version": "3.8.10"
  }
 },
 "nbformat": 4,
 "nbformat_minor": 1
}
