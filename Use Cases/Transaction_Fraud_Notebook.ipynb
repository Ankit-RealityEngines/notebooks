{
 "cells": [
  {
   "cell_type": "markdown",
   "metadata": {
    "id": "36QBl1x7vdQT"
   },
   "source": [
    "## How-to guide for Transaction Fraud use-case on Abacus.AI platform\n",
    "\n",
    "This notebook provides you with a hands on environment to build a  model using the Abacus.AI Python Client Library.\n",
    "\n",
    "We'll be using the [Credit Card Fraud Transactions Dataset](https://s3.amazonaws.com/realityengines.exampledatasets/fraud_transactions/creditcard.csv), which contains attributes of a transaction made through a given credit card and the class of transaction fraud that took place. We will predict the class of fraud that occurs for a transaction with specified attributes."
   ]
  },
  {
   "cell_type": "markdown",
   "metadata": {
    "id": "25VDJQKFxbti"
   },
   "source": [
    "1. Install the Abacus.AI library."
   ]
  },
  {
   "cell_type": "code",
   "execution_count": null,
   "metadata": {
    "colab": {
     "base_uri": "https://localhost:8080/"
    },
    "id": "DVksulmJnO_n",
    "outputId": "9011f4bd-82ec-44f2-ac98-f39c818c1da7"
   },
   "outputs": [],
   "source": [
    "!pip install abacusai"
   ]
  },
  {
   "cell_type": "markdown",
   "metadata": {
    "id": "Y9P6NbNaxkAt"
   },
   "source": [
    "We'll also import pandas and pprint tools for neat visualization in this notebook."
   ]
  },
  {
   "cell_type": "code",
   "execution_count": 1,
   "metadata": {
    "id": "D7QqPII_nvjv"
   },
   "outputs": [],
   "source": [
    "import pandas as pd # A tool we'll use to download and preview CSV files\n",
    "import pprint # A tool to pretty print dictionary outputs\n",
    "pp = pprint.PrettyPrinter(indent=2)"
   ]
  },
  {
   "cell_type": "markdown",
   "metadata": {
    "id": "CuU1oAhOxpI8"
   },
   "source": [
    "2. Add your Abacus.AI [API Key](https://abacus.ai/app/profile/apikey) generated using the API dashboard as follows:"
   ]
  },
  {
   "cell_type": "code",
   "execution_count": 2,
   "metadata": {
    "id": "cU5HqoYbnxlh"
   },
   "outputs": [],
   "source": [
    "#@title Abacus.AI API Key\n",
    "\n",
    "api_key = '2fdecde877dc45fab937eff82b70eff0'  #@param {type: \"string\"}"
   ]
  },
  {
   "cell_type": "markdown",
   "metadata": {
    "id": "MenAFoezxvnI"
   },
   "source": [
    "3. Import the Abacus.AI library and instantiate a client"
   ]
  },
  {
   "cell_type": "code",
   "execution_count": 3,
   "metadata": {
    "colab": {
     "base_uri": "https://localhost:8080/"
    },
    "id": "H8RB3YbKnx7i",
    "outputId": "0aad7bd0-c9d1-4e6d-a572-29f2c07faad5"
   },
   "outputs": [],
   "source": [
    "from abacusai import ApiClient\n",
    "client = ApiClient(api_key)"
   ]
  },
  {
   "cell_type": "markdown",
   "metadata": {
    "id": "QvCc8UMQx3v9"
   },
   "source": [
    "## 1. Create a Project\n",
    "\n",
    "Abacus.AI projects are containers that have datasets and trained models. By specifying a business **Use Case**, Abacus.AI tailors the deep learning algorithms to produce the best performing model possible for your data.\n",
    "\n",
    "We'll call the `list_use_cases` method to retrieve a list of the available Use Cases currently available on the Abacus.AI platform."
   ]
  },
  {
   "cell_type": "code",
   "execution_count": 4,
   "metadata": {
    "colab": {
     "base_uri": "https://localhost:8080/"
    },
    "id": "-z7AF_nknzVm",
    "outputId": "56d40ebd-d490-4deb-91f5-d207b185780e"
   },
   "outputs": [
    {
     "data": {
      "text/plain": [
       "[UseCase(use_case='UCPLUGANDPLAY',\n",
       "   pretty_name='Plug & Play Your Tensorflow Model',\n",
       "   description='Upload your already trained model and leverage our model serving infrastructure.. Host your models on our infrastructure and get a JSON api with auto scaling and more!'),\n",
       " UseCase(use_case='EMBEDDINGS_ONLY',\n",
       "   pretty_name='Vector Matching Engine',\n",
       "   description='Upload embeddings and leverage our similarity search infrastructure.. Scale to high traffic, update your index in near realtime'),\n",
       " UseCase(use_case='MODEL_WITH_EMBEDDINGS',\n",
       "   pretty_name='Tensorflow Model With Vector Matching Engine',\n",
       "   description='Upload your already trained model and leverage our model serving infrastructure.. Host your models on our infrastructure and get a JSON api with auto scaling and more!'),\n",
       " UseCase(use_case='TORCH_MODEL_WITH_EMBEDDINGS',\n",
       "   pretty_name='PyTorch Model With Vector Matching Engine',\n",
       "   description='Upload your already trained model and leverage our model serving infrastructure.. Host your models on our infrastructure and get a JSON api with auto scaling and more!'),\n",
       " UseCase(use_case='PYTHON_MODEL',\n",
       "   pretty_name='Custom Python Model',\n",
       "   description='Upload your training code and let Abacus.AI handle training. Host your models on our infrastructure and get a JSON api with auto scaling and more!'),\n",
       " UseCase(use_case='DOCKER_MODEL',\n",
       "   pretty_name='Plug & Play Your Dockerized Model',\n",
       "   description='Upload your already trained model and leverage our model serving infrastructure.. Host your models on our infrastructure and get a JSON api with auto scaling and more!'),\n",
       " UseCase(use_case='DOCKER_MODEL_WITH_EMBEDDINGS',\n",
       "   pretty_name='Plug & Play Your Dockerized Model with Vector Matching Engine',\n",
       "   description='Upload your already trained model and leverage our model serving infrastructure.. Host your models on our infrastructure and get a JSON api with auto scaling and more!'),\n",
       " UseCase(use_case='CUSTOMER_CHURN',\n",
       "   pretty_name='Customer Churn Prediction',\n",
       "   description='Identify customers who are most likely to churn out of your system and send them marketing promotions/emails to retain them. Deploy a real-time deep learning model that identifies customers who are most likely to leave and increase retention.'),\n",
       " UseCase(use_case='ENERGY',\n",
       "   pretty_name='Real-Time Forecasting',\n",
       "   description='Accurately forecast energy or computation usage in real-time. Make downstream planning decisions based on your predictions. We use generative modeling (GANs) to augment your dataset with synthetic data. This unique approach allows us to make accurate predictions in real-time, even when you have little historical data.'),\n",
       " UseCase(use_case='FINANCIAL_METRICS',\n",
       "   pretty_name='Financial Metrics Forecasting',\n",
       "   description='Accurately plan your cash flow, revenue, and sales with state-of-the-art deep learning-based forecasting. We use generative modeling (GANs) to augment your dataset with synthetic data. This unique approach allows us to make accurate predictions, even when you have little historical data.'),\n",
       " UseCase(use_case='FRAUD_ACCOUNT',\n",
       "   pretty_name='Account Takeover and Defense',\n",
       "   description=\"Shield your customers from account takeovers by blocking bots and fake sign-ups. Behind the scenes, our AI engine will develop a custom deep learning model to prevent bot attacks and stops account takeovers in real-time. Setup is super simple and doesn't require any engineering or cumbersome data preparation.\"),\n",
       " UseCase(use_case='FRAUD_THREAT',\n",
       "   pretty_name='Intelligent Threat Detection',\n",
       "   description=\"Stop breachers in their tracks by continuously monitoring your environment for malicious activity. Prevent alert fatigue by reducing the number of false positives over time. Behind the scenes, our AI engine develops a deep learning model customized for your data to continuously monitors all your logs and alerts you of any malicious activity. Setup is super simple and doesn't require any ML expertise.\"),\n",
       " UseCase(use_case='FRAUD_TRANSACTIONS',\n",
       "   pretty_name='Transaction/Credit Card Fraud',\n",
       "   description=\"Accept payments with confidence, reduce chargebacks, and catch payment fraud instantly as it happens. Behind the scenes, our AI engine develops a custom deep learning model for you that prevents transaction fraud and catches fraudsters in real-time. Set up is super simple and doesn't require any engineering and cumbersome data preparation.\"),\n",
       " UseCase(use_case='OPERATIONS_CLOUD',\n",
       "   pretty_name='Cloud Spend Alerts',\n",
       "   description='Deploy state-of-the-art deep learning models to monitor your cloud spend, spot anomalies, spot runaway incidents, mitigate cost incidents, and get alerts so they can be remedied as quickly as possible. Use deep learning to find anomalies in your cloud usage and get alerts on them to mitigate cost incidents.'),\n",
       " UseCase(use_case='CLOUD_SPEND',\n",
       "   pretty_name='Cloud Spend Alerts',\n",
       "   description='Deploy state-of-the-art deep learning models to monitor your cloud spend, spot anomalies, spot runaway incidents, mitigate cost incidents, and get alerts so they can be remedied as quickly as possible. Use deep learning to find anomalies in your cloud usage and get alerts on them to mitigate cost incidents.'),\n",
       " UseCase(use_case='TIMESERIES_ANOMALY_DETECTION',\n",
       "   pretty_name='Timeseries Anomaly Detection',\n",
       "   description='Spot anomalies in your time series data by using deep learning models to increase revenue, save costs and reduce risks. With Abacus.AI you can set up state of the art deep learning models for time series anomaly detection within hours. These models adjust in real time and spot both simple one dimensional and complex multidimensional anomalies. Our models also help you find the root cause of the anomalies. No cumbersome data preparation or engineering effort to deploy the models in production are required.'),\n",
       " UseCase(use_case='OPERATIONS_MAINTENANCE',\n",
       "   pretty_name='Predictive Maintenance',\n",
       "   description='Leverage deep learning models to proactively assess the health of your assets and perform timely maintenance to reduce downtime and save costs. With Abacus.ai you can set up state of the art deep learning models for predictive maintenance within hours. These models learn from your past failures as well as spot anomalies that can lead to new failures. No cumbersome data preparation or engineering effort to deploy the models in production is required.'),\n",
       " UseCase(use_case='PERS_PROMOTIONS',\n",
       "   pretty_name='Personalized Promotions',\n",
       "   description='Send personalized promotions to your customers and increase engagement. Personalize promotions based on catalog items, marketing messages, delivery channels, and discount terms. Deploy a real-time deep learning model that targets relevant promotions to customers and increases engagement. No cumbersome data preparation required and setup is super easy.'),\n",
       " UseCase(use_case='PREDICTING',\n",
       "   pretty_name='Predictive Modeling',\n",
       "   description='Use historical data to predict future occurrences. Train state-of-the-art predictive models customized specifically according to your data and deploy it in production in hours, not months!. You can create a deep learning model for your specific needs simply by pointing us to your data and specifying the inputs/outputs. Our expert AI engine will do the data cleaning and processing, algorithm selection (classification or regression), and model creation. You will be ready to generate intelligent predictions from the deployed model in production in just a few hours.'),\n",
       " UseCase(use_case='RETAIL',\n",
       "   pretty_name='Demand Forecasting',\n",
       "   description='Accurately forecast retail demand. We use generative modeling (GANs) to augment your dataset with synthetic data. This allows us to make accurate predictions even when you have little historical data.'),\n",
       " UseCase(use_case='SALES_FORECASTING',\n",
       "   pretty_name='Sales and Revenue Forecasting',\n",
       "   description='Forecast sales and revenue across your sales reps, products, business units, and locations. Use deep learning to forecast your sales across multiple dimensions. Make better planning discussions and anticipate future problems so you can mitigate them.'),\n",
       " UseCase(use_case='SALES_SCORING',\n",
       "   pretty_name='Predictive Lead Scoring',\n",
       "   description='Identify the sales leads that are most likely to convert into paying customers and increase revenue. Just point our AI engine to your data, and it will create a deep learning model customized for your data to score all your leads and identify the best ones for conversion.'),\n",
       " UseCase(use_case='USER_RANKINGS',\n",
       "   pretty_name='Personalized Search',\n",
       "   description='Re-rank search results or list of items based on a user preferences. Maximize user engagement and revenue. Our unique blend of reinforcement learning and deep learning-based technology works even when you have little historical data and have to deal with a fast-changing catalog or multiple new users.'),\n",
       " UseCase(use_case='NAMED_ENTITY_RECOGNITION',\n",
       "   pretty_name='Text extraction and classification',\n",
       "   description='Find and label fields within text documents such as emails, chats, receipts, invoices or any other unstructured data set. With Abacus.AI you can set up state of the art deep learning models for text extraction and classification within hours. Based on your specific domain and use-case, Abacus.AI can fine-tune pre-trained models, apply transfer learning or simply train new language models from scratch.  No cumbersome data preparation or engineering effort to deploy the models in production are required.'),\n",
       " UseCase(use_case='USER_RECOMMENDATIONS',\n",
       "   pretty_name='Personalized Recommendations',\n",
       "   description='Increase user engagement and revenue with personalized recommendations on your app/website. Our unique blend of reinforcement learning and deep learning-based technology works even when you have little historical data and have to deal with a fast-changing catalog or multiple new users.'),\n",
       " UseCase(use_case='USER_RELATED',\n",
       "   pretty_name='Related Items',\n",
       "   description='Maximize revenue and user engagement. Immerse your customers into your app/website by providing them with a rich browse and related items experience. Our unique blend of reinforcement learning and deep learning-based technology works even when you have little historical data and have to deal with a fast-changing catalog or multiple new users.'),\n",
       " UseCase(use_case='VISION',\n",
       "   pretty_name='Image Classification & Detection',\n",
       "   description='Train an image classification & detection model specific to your domain and use it to classify and detect relevant objects. With Abacus.AI you can set up state of the art deep learning models for Image classification & detection within hours. Based on your specific domain and use-case, Abacus.AI can fine-tune pre-trained models, apply transfer learning or simply train new vision models from scratch. No cumbersome data preparation or engineering effort to deploy the models in production are required.')]"
      ]
     },
     "execution_count": 4,
     "metadata": {},
     "output_type": "execute_result"
    }
   ],
   "source": [
    "client.list_use_cases()"
   ]
  },
  {
   "cell_type": "markdown",
   "metadata": {
    "id": "uSuVCUSnyQvy"
   },
   "source": [
    "For this workshop, we're going to create a fraud prediction model using the Credit Card Transactions dataset. The 'FRAUD_TRANSACTIONS' use case is best tailored for this situation."
   ]
  },
  {
   "cell_type": "code",
   "execution_count": 5,
   "metadata": {
    "id": "2oaFcsLqn0ZK"
   },
   "outputs": [],
   "source": [
    "#@title Abacus.AI Use Case\n",
    "\n",
    "use_case = 'FRAUD_TRANSACTIONS'  #@param {type: \"string\"}"
   ]
  },
  {
   "cell_type": "markdown",
   "metadata": {
    "id": "8TZXIyA8z1bZ"
   },
   "source": [
    "By calling the `describe_use_case_requirements` method we can view what datasets are required for this use_case."
   ]
  },
  {
   "cell_type": "code",
   "execution_count": 6,
   "metadata": {
    "colab": {
     "base_uri": "https://localhost:8080/"
    },
    "id": "p9kLFFYTn7Az",
    "outputId": "c516f373-383f-44ad-b541-ebf79361a5f5"
   },
   "outputs": [
    {
     "name": "stdout",
     "output_type": "stream",
     "text": [
      "{ 'allowed_feature_mappings': { 'FRAUD_YN': { 'allowed_feature_types': [ 'CATEGORICAL'],\n",
      "                                              'description': 'This specifies '\n",
      "                                                             'whether a '\n",
      "                                                             'particular '\n",
      "                                                             'transaction was '\n",
      "                                                             'fraudulent or '\n",
      "                                                             'not. You will '\n",
      "                                                             'need to have '\n",
      "                                                             'some specific '\n",
      "                                                             'examples of '\n",
      "                                                             'fraud in order '\n",
      "                                                             'to train a model '\n",
      "                                                             'that can '\n",
      "                                                             'identify '\n",
      "                                                             'transaction '\n",
      "                                                             'fraud.',\n",
      "                                              'required': True},\n",
      "                                'IGNORE': { 'description': 'Ignore this column '\n",
      "                                                           'in training',\n",
      "                                            'multiple': True,\n",
      "                                            'required': False}},\n",
      "  'allowed_nested_feature_mappings': { 'IGNORE': { 'description': 'Ignore this '\n",
      "                                                                  'column in '\n",
      "                                                                  'training',\n",
      "                                                   'multiple': True,\n",
      "                                                   'required': False}},\n",
      "  'dataset_type': 'TRANSACTIONS',\n",
      "  'description': 'This dataset corresponds to all your historical '\n",
      "                 'transactions. We recommend incorporating as much data as '\n",
      "                 'possible about each transaction such as transaction amount, '\n",
      "                 'time, items purchased, etc.',\n",
      "  'name': 'Historical Transactions',\n",
      "  'required': True}\n"
     ]
    }
   ],
   "source": [
    "for requirement in client.describe_use_case_requirements(use_case):\n",
    "  pp.pprint(requirement.to_dict())"
   ]
  },
  {
   "cell_type": "markdown",
   "metadata": {
    "id": "sD7YOtzaz6vU"
   },
   "source": [
    "Finally, let's create the project."
   ]
  },
  {
   "cell_type": "code",
   "execution_count": 7,
   "metadata": {
    "colab": {
     "base_uri": "https://localhost:8080/"
    },
    "id": "h26aRY9Cn8UJ",
    "outputId": "cb602184-90bf-44dd-b663-1d503d891a5a"
   },
   "outputs": [
    {
     "data": {
      "text/plain": [
       "{'project_id': '165b7ea22c',\n",
       " 'name': 'Credit Card Fraud',\n",
       " 'use_case': 'FRAUD_TRANSACTIONS',\n",
       " 'created_at': '2021-11-23T19:37:00+00:00',\n",
       " 'feature_groups_enabled': True}"
      ]
     },
     "execution_count": 7,
     "metadata": {},
     "output_type": "execute_result"
    }
   ],
   "source": [
    "fraud_project = client.create_project(name='Credit Card Fraud', use_case=use_case)\n",
    "fraud_project.to_dict()"
   ]
  },
  {
   "cell_type": "markdown",
   "metadata": {
    "id": "56k6eTyNF3Ci"
   },
   "source": [
    "**Note: When feature_groups_enabled is True then the use case supports feature groups (collection of ML features). Feature groups are created at the organization level and can be tied to a project to further use it for training ML models**"
   ]
  },
  {
   "cell_type": "markdown",
   "metadata": {
    "id": "PmaZ_ME61Cwi"
   },
   "source": [
    "## 2. Add Datasets to your Project\n",
    "\n",
    "Abacus.AI can read datasets directly from `AWS S3` or `Google Cloud Storage` buckets, otherwise you can also directly upload and store your datasets with Abacus.AI. For this workshop, we will have Abacus.AI read the datasets directly from a public S3 bucket's location.\n",
    "\n",
    "We are using one dataset for this notebook. We'll tell Abacus.AI how the dataset should be used when creating it by tagging the dataset with a special Abacus.AI **Dataset Type**.\n",
    "- [Credit Card Fraud Transactions](https://s3.amazonaws.com/realityengines.exampledatasets/fraud_transactions/creditcard.csv) (**TRANSACTIONS**): \n",
    "This dataset contains information about fraud transactions made in the past."
   ]
  },
  {
   "cell_type": "markdown",
   "metadata": {
    "id": "ivlmREDM1jF2"
   },
   "source": [
    "### Add the dataset to Abacus.AI\n",
    "\n",
    "First we'll use Pandas to preview the file, then add it to Abacus.AI."
   ]
  },
  {
   "cell_type": "code",
   "execution_count": 8,
   "metadata": {
    "colab": {
     "base_uri": "https://localhost:8080/",
     "height": 444
    },
    "id": "wwu11oqHyFMK",
    "outputId": "23a0458e-333d-49b5-97e2-4bf514156e59"
   },
   "outputs": [
    {
     "data": {
      "text/html": [
       "<div>\n",
       "<style scoped>\n",
       "    .dataframe tbody tr th:only-of-type {\n",
       "        vertical-align: middle;\n",
       "    }\n",
       "\n",
       "    .dataframe tbody tr th {\n",
       "        vertical-align: top;\n",
       "    }\n",
       "\n",
       "    .dataframe thead th {\n",
       "        text-align: right;\n",
       "    }\n",
       "</style>\n",
       "<table border=\"1\" class=\"dataframe\">\n",
       "  <thead>\n",
       "    <tr style=\"text-align: right;\">\n",
       "      <th></th>\n",
       "      <th>Time</th>\n",
       "      <th>V1</th>\n",
       "      <th>V2</th>\n",
       "      <th>V3</th>\n",
       "      <th>V4</th>\n",
       "      <th>V5</th>\n",
       "      <th>V6</th>\n",
       "      <th>V7</th>\n",
       "      <th>V8</th>\n",
       "      <th>V9</th>\n",
       "      <th>...</th>\n",
       "      <th>V21</th>\n",
       "      <th>V22</th>\n",
       "      <th>V23</th>\n",
       "      <th>V24</th>\n",
       "      <th>V25</th>\n",
       "      <th>V26</th>\n",
       "      <th>V27</th>\n",
       "      <th>V28</th>\n",
       "      <th>Amount</th>\n",
       "      <th>Class</th>\n",
       "    </tr>\n",
       "  </thead>\n",
       "  <tbody>\n",
       "    <tr>\n",
       "      <th>0</th>\n",
       "      <td>49</td>\n",
       "      <td>1.098608</td>\n",
       "      <td>0.202424</td>\n",
       "      <td>0.525456</td>\n",
       "      <td>1.323436</td>\n",
       "      <td>-0.130486</td>\n",
       "      <td>0.039924</td>\n",
       "      <td>0.028379</td>\n",
       "      <td>0.072841</td>\n",
       "      <td>-0.097869</td>\n",
       "      <td>...</td>\n",
       "      <td>-0.024972</td>\n",
       "      <td>0.154264</td>\n",
       "      <td>-0.063147</td>\n",
       "      <td>0.253205</td>\n",
       "      <td>0.629405</td>\n",
       "      <td>-0.345345</td>\n",
       "      <td>0.040469</td>\n",
       "      <td>0.010264</td>\n",
       "      <td>13.18</td>\n",
       "      <td>0</td>\n",
       "    </tr>\n",
       "    <tr>\n",
       "      <th>1</th>\n",
       "      <td>283</td>\n",
       "      <td>-0.529996</td>\n",
       "      <td>0.766554</td>\n",
       "      <td>1.759393</td>\n",
       "      <td>-1.160074</td>\n",
       "      <td>-0.501040</td>\n",
       "      <td>-1.404513</td>\n",
       "      <td>0.679279</td>\n",
       "      <td>-0.242594</td>\n",
       "      <td>0.520868</td>\n",
       "      <td>...</td>\n",
       "      <td>-0.163031</td>\n",
       "      <td>-0.219408</td>\n",
       "      <td>0.016959</td>\n",
       "      <td>0.934128</td>\n",
       "      <td>-0.327383</td>\n",
       "      <td>0.668479</td>\n",
       "      <td>0.114264</td>\n",
       "      <td>-0.091385</td>\n",
       "      <td>2.31</td>\n",
       "      <td>0</td>\n",
       "    </tr>\n",
       "    <tr>\n",
       "      <th>2</th>\n",
       "      <td>292</td>\n",
       "      <td>1.252189</td>\n",
       "      <td>-0.126779</td>\n",
       "      <td>0.280285</td>\n",
       "      <td>0.579416</td>\n",
       "      <td>-0.374125</td>\n",
       "      <td>-0.215217</td>\n",
       "      <td>-0.193078</td>\n",
       "      <td>0.011076</td>\n",
       "      <td>0.770448</td>\n",
       "      <td>...</td>\n",
       "      <td>-0.360296</td>\n",
       "      <td>-0.959573</td>\n",
       "      <td>-0.023837</td>\n",
       "      <td>-0.462201</td>\n",
       "      <td>0.381732</td>\n",
       "      <td>0.340518</td>\n",
       "      <td>-0.034929</td>\n",
       "      <td>0.007525</td>\n",
       "      <td>23.88</td>\n",
       "      <td>0</td>\n",
       "    </tr>\n",
       "    <tr>\n",
       "      <th>3</th>\n",
       "      <td>297</td>\n",
       "      <td>-1.148038</td>\n",
       "      <td>0.367626</td>\n",
       "      <td>2.769717</td>\n",
       "      <td>-0.356562</td>\n",
       "      <td>-0.268456</td>\n",
       "      <td>0.323423</td>\n",
       "      <td>-0.108718</td>\n",
       "      <td>0.452755</td>\n",
       "      <td>0.166990</td>\n",
       "      <td>...</td>\n",
       "      <td>0.063334</td>\n",
       "      <td>0.168210</td>\n",
       "      <td>-0.194521</td>\n",
       "      <td>0.228655</td>\n",
       "      <td>0.107744</td>\n",
       "      <td>0.222331</td>\n",
       "      <td>-0.109160</td>\n",
       "      <td>0.089767</td>\n",
       "      <td>6.20</td>\n",
       "      <td>0</td>\n",
       "    </tr>\n",
       "    <tr>\n",
       "      <th>4</th>\n",
       "      <td>373</td>\n",
       "      <td>1.149246</td>\n",
       "      <td>0.018358</td>\n",
       "      <td>0.430440</td>\n",
       "      <td>0.537503</td>\n",
       "      <td>-0.430754</td>\n",
       "      <td>-0.394699</td>\n",
       "      <td>-0.151398</td>\n",
       "      <td>0.135031</td>\n",
       "      <td>-0.004959</td>\n",
       "      <td>...</td>\n",
       "      <td>-0.124932</td>\n",
       "      <td>-0.449760</td>\n",
       "      <td>0.135781</td>\n",
       "      <td>0.185130</td>\n",
       "      <td>0.129062</td>\n",
       "      <td>0.177780</td>\n",
       "      <td>-0.034565</td>\n",
       "      <td>0.001487</td>\n",
       "      <td>10.29</td>\n",
       "      <td>0</td>\n",
       "    </tr>\n",
       "    <tr>\n",
       "      <th>...</th>\n",
       "      <td>...</td>\n",
       "      <td>...</td>\n",
       "      <td>...</td>\n",
       "      <td>...</td>\n",
       "      <td>...</td>\n",
       "      <td>...</td>\n",
       "      <td>...</td>\n",
       "      <td>...</td>\n",
       "      <td>...</td>\n",
       "      <td>...</td>\n",
       "      <td>...</td>\n",
       "      <td>...</td>\n",
       "      <td>...</td>\n",
       "      <td>...</td>\n",
       "      <td>...</td>\n",
       "      <td>...</td>\n",
       "      <td>...</td>\n",
       "      <td>...</td>\n",
       "      <td>...</td>\n",
       "      <td>...</td>\n",
       "      <td>...</td>\n",
       "    </tr>\n",
       "    <tr>\n",
       "      <th>5487</th>\n",
       "      <td>172459</td>\n",
       "      <td>2.085175</td>\n",
       "      <td>0.393051</td>\n",
       "      <td>-4.508201</td>\n",
       "      <td>-0.311771</td>\n",
       "      <td>3.510117</td>\n",
       "      <td>2.453299</td>\n",
       "      <td>0.220469</td>\n",
       "      <td>0.543377</td>\n",
       "      <td>-0.100434</td>\n",
       "      <td>...</td>\n",
       "      <td>-0.067217</td>\n",
       "      <td>-0.072642</td>\n",
       "      <td>-0.036584</td>\n",
       "      <td>0.529693</td>\n",
       "      <td>0.414685</td>\n",
       "      <td>0.735870</td>\n",
       "      <td>-0.058233</td>\n",
       "      <td>-0.026658</td>\n",
       "      <td>0.76</td>\n",
       "      <td>0</td>\n",
       "    </tr>\n",
       "    <tr>\n",
       "      <th>5488</th>\n",
       "      <td>172520</td>\n",
       "      <td>-7.227073</td>\n",
       "      <td>6.358022</td>\n",
       "      <td>-3.731533</td>\n",
       "      <td>-1.952405</td>\n",
       "      <td>-1.023688</td>\n",
       "      <td>-1.092663</td>\n",
       "      <td>0.047049</td>\n",
       "      <td>1.160109</td>\n",
       "      <td>4.936109</td>\n",
       "      <td>...</td>\n",
       "      <td>-0.819786</td>\n",
       "      <td>-0.048771</td>\n",
       "      <td>-0.004170</td>\n",
       "      <td>-0.605925</td>\n",
       "      <td>1.113937</td>\n",
       "      <td>0.544539</td>\n",
       "      <td>1.452076</td>\n",
       "      <td>0.242312</td>\n",
       "      <td>4.79</td>\n",
       "      <td>0</td>\n",
       "    </tr>\n",
       "    <tr>\n",
       "      <th>5489</th>\n",
       "      <td>172682</td>\n",
       "      <td>1.896128</td>\n",
       "      <td>0.668121</td>\n",
       "      <td>-0.851863</td>\n",
       "      <td>3.820147</td>\n",
       "      <td>0.566866</td>\n",
       "      <td>-0.485940</td>\n",
       "      <td>0.579556</td>\n",
       "      <td>-0.292022</td>\n",
       "      <td>-1.225735</td>\n",
       "      <td>...</td>\n",
       "      <td>-0.122086</td>\n",
       "      <td>-0.339227</td>\n",
       "      <td>0.206989</td>\n",
       "      <td>0.013203</td>\n",
       "      <td>-0.023135</td>\n",
       "      <td>-0.183272</td>\n",
       "      <td>-0.050450</td>\n",
       "      <td>-0.045053</td>\n",
       "      <td>29.99</td>\n",
       "      <td>0</td>\n",
       "    </tr>\n",
       "    <tr>\n",
       "      <th>5490</th>\n",
       "      <td>172688</td>\n",
       "      <td>2.001831</td>\n",
       "      <td>0.570453</td>\n",
       "      <td>-2.364605</td>\n",
       "      <td>1.455708</td>\n",
       "      <td>1.169517</td>\n",
       "      <td>-0.855711</td>\n",
       "      <td>0.792066</td>\n",
       "      <td>-0.412883</td>\n",
       "      <td>-0.086356</td>\n",
       "      <td>...</td>\n",
       "      <td>-0.018417</td>\n",
       "      <td>0.181531</td>\n",
       "      <td>-0.039637</td>\n",
       "      <td>0.519640</td>\n",
       "      <td>0.537885</td>\n",
       "      <td>-0.521880</td>\n",
       "      <td>0.004388</td>\n",
       "      <td>-0.016896</td>\n",
       "      <td>27.08</td>\n",
       "      <td>0</td>\n",
       "    </tr>\n",
       "    <tr>\n",
       "      <th>5491</th>\n",
       "      <td>172780</td>\n",
       "      <td>1.884849</td>\n",
       "      <td>-0.143540</td>\n",
       "      <td>-0.999943</td>\n",
       "      <td>1.506772</td>\n",
       "      <td>-0.035300</td>\n",
       "      <td>-0.613638</td>\n",
       "      <td>0.190241</td>\n",
       "      <td>-0.249058</td>\n",
       "      <td>0.666458</td>\n",
       "      <td>...</td>\n",
       "      <td>0.144008</td>\n",
       "      <td>0.634646</td>\n",
       "      <td>-0.042114</td>\n",
       "      <td>-0.053206</td>\n",
       "      <td>0.316403</td>\n",
       "      <td>-0.461441</td>\n",
       "      <td>0.018265</td>\n",
       "      <td>-0.041068</td>\n",
       "      <td>60.00</td>\n",
       "      <td>0</td>\n",
       "    </tr>\n",
       "  </tbody>\n",
       "</table>\n",
       "<p>5492 rows × 31 columns</p>\n",
       "</div>"
      ],
      "text/plain": [
       "        Time        V1        V2        V3        V4        V5        V6  \\\n",
       "0         49  1.098608  0.202424  0.525456  1.323436 -0.130486  0.039924   \n",
       "1        283 -0.529996  0.766554  1.759393 -1.160074 -0.501040 -1.404513   \n",
       "2        292  1.252189 -0.126779  0.280285  0.579416 -0.374125 -0.215217   \n",
       "3        297 -1.148038  0.367626  2.769717 -0.356562 -0.268456  0.323423   \n",
       "4        373  1.149246  0.018358  0.430440  0.537503 -0.430754 -0.394699   \n",
       "...      ...       ...       ...       ...       ...       ...       ...   \n",
       "5487  172459  2.085175  0.393051 -4.508201 -0.311771  3.510117  2.453299   \n",
       "5488  172520 -7.227073  6.358022 -3.731533 -1.952405 -1.023688 -1.092663   \n",
       "5489  172682  1.896128  0.668121 -0.851863  3.820147  0.566866 -0.485940   \n",
       "5490  172688  2.001831  0.570453 -2.364605  1.455708  1.169517 -0.855711   \n",
       "5491  172780  1.884849 -0.143540 -0.999943  1.506772 -0.035300 -0.613638   \n",
       "\n",
       "            V7        V8        V9  ...       V21       V22       V23  \\\n",
       "0     0.028379  0.072841 -0.097869  ... -0.024972  0.154264 -0.063147   \n",
       "1     0.679279 -0.242594  0.520868  ... -0.163031 -0.219408  0.016959   \n",
       "2    -0.193078  0.011076  0.770448  ... -0.360296 -0.959573 -0.023837   \n",
       "3    -0.108718  0.452755  0.166990  ...  0.063334  0.168210 -0.194521   \n",
       "4    -0.151398  0.135031 -0.004959  ... -0.124932 -0.449760  0.135781   \n",
       "...        ...       ...       ...  ...       ...       ...       ...   \n",
       "5487  0.220469  0.543377 -0.100434  ... -0.067217 -0.072642 -0.036584   \n",
       "5488  0.047049  1.160109  4.936109  ... -0.819786 -0.048771 -0.004170   \n",
       "5489  0.579556 -0.292022 -1.225735  ... -0.122086 -0.339227  0.206989   \n",
       "5490  0.792066 -0.412883 -0.086356  ... -0.018417  0.181531 -0.039637   \n",
       "5491  0.190241 -0.249058  0.666458  ...  0.144008  0.634646 -0.042114   \n",
       "\n",
       "           V24       V25       V26       V27       V28  Amount  Class  \n",
       "0     0.253205  0.629405 -0.345345  0.040469  0.010264   13.18      0  \n",
       "1     0.934128 -0.327383  0.668479  0.114264 -0.091385    2.31      0  \n",
       "2    -0.462201  0.381732  0.340518 -0.034929  0.007525   23.88      0  \n",
       "3     0.228655  0.107744  0.222331 -0.109160  0.089767    6.20      0  \n",
       "4     0.185130  0.129062  0.177780 -0.034565  0.001487   10.29      0  \n",
       "...        ...       ...       ...       ...       ...     ...    ...  \n",
       "5487  0.529693  0.414685  0.735870 -0.058233 -0.026658    0.76      0  \n",
       "5488 -0.605925  1.113937  0.544539  1.452076  0.242312    4.79      0  \n",
       "5489  0.013203 -0.023135 -0.183272 -0.050450 -0.045053   29.99      0  \n",
       "5490  0.519640  0.537885 -0.521880  0.004388 -0.016896   27.08      0  \n",
       "5491 -0.053206  0.316403 -0.461441  0.018265 -0.041068   60.00      0  \n",
       "\n",
       "[5492 rows x 31 columns]"
      ]
     },
     "execution_count": 8,
     "metadata": {},
     "output_type": "execute_result"
    }
   ],
   "source": [
    "pd.read_csv('https://s3.amazonaws.com/realityengines.exampledatasets/fraud_transactions/creditcard.csv')"
   ]
  },
  {
   "cell_type": "markdown",
   "metadata": {
    "id": "hLjgvdb31wPS"
   },
   "source": [
    "Using the Create Dataset API, we can tell Abacus.AI the public S3 URI of where to find the datasets. We will also give each dataset a Refresh Schedule, which tells Abacus.AI when it should refresh the dataset (take an updated/latest copy of the dataset).\n",
    "\n",
    "If you're unfamiliar with Cron Syntax, Crontab Guru can help translate the syntax back into natural language: [https://crontab.guru/#0_12_\\*_\\*_\\*](https://crontab.guru/#0_12_*_*_*)\n",
    "\n",
    "**Note: This cron string will be evaluated in UTC time zone**"
   ]
  },
  {
   "cell_type": "code",
   "execution_count": 9,
   "metadata": {
    "id": "Zbnyhge1yH18"
   },
   "outputs": [],
   "source": [
    "# Add the dataset to Abacus.AI\n",
    "fraud_dataset = client.create_dataset_from_file_connector(name='Credit Card Fraud Transactions', table_name='Credit_Card_Fraud_Transactions',\n",
    "                                     location='s3://realityengines.exampledatasets/fraud_transactions/creditcard.csv',\n",
    "                                     refresh_schedule='0 12 * * *')\n",
    "datasets = [fraud_dataset]"
   ]
  },
  {
   "cell_type": "markdown",
   "metadata": {
    "id": "VnaSh4DyF8uB"
   },
   "source": [
    "## 3. Create Feature Groups and add them to your Project\n",
    "\n",
    "Datasets are created at the organization level and can be used to create feature groups as follows:"
   ]
  },
  {
   "cell_type": "code",
   "execution_count": 10,
   "metadata": {
    "id": "-wVGiLwZqBAR"
   },
   "outputs": [],
   "source": [
    "feature_group = client.create_feature_group(table_name='transaction_fraud',sql='SELECT * FROM Credit_Card_Fraud_Transactions')"
   ]
  },
  {
   "cell_type": "markdown",
   "metadata": {
    "id": "lzAFfi6pGQiu"
   },
   "source": [
    "Adding Feature Group to the project:"
   ]
  },
  {
   "cell_type": "code",
   "execution_count": 11,
   "metadata": {
    "id": "KfvRftcmqTeG"
   },
   "outputs": [],
   "source": [
    "client.add_feature_group_to_project(feature_group_id=feature_group.feature_group_id,project_id = fraud_project.project_id)"
   ]
  },
  {
   "cell_type": "markdown",
   "metadata": {
    "id": "HH5Jp2lSGWrj"
   },
   "source": [
    "Setting the Feature Group type according to the use case requirements:"
   ]
  },
  {
   "cell_type": "code",
   "execution_count": 12,
   "metadata": {
    "id": "k4SQe-6sGW4H"
   },
   "outputs": [],
   "source": [
    "client.set_feature_group_type(feature_group_id=feature_group.feature_group_id, project_id = fraud_project.project_id, feature_group_type= \"TRANSACTIONS\")"
   ]
  },
  {
   "cell_type": "markdown",
   "metadata": {
    "id": "HSeCVN3zGsmb"
   },
   "source": [
    "Check current Feature Group schema:"
   ]
  },
  {
   "cell_type": "code",
   "execution_count": 13,
   "metadata": {
    "colab": {
     "base_uri": "https://localhost:8080/"
    },
    "id": "07HGwMfVqlBp",
    "outputId": "767ec3ae-468c-4725-87ed-a417f3aaa180"
   },
   "outputs": [
    {
     "data": {
      "text/plain": [
       "[Feature(name='Time',\n",
       "   select_clause=None,\n",
       "   feature_mapping=None,\n",
       "   source_table='Credit_Card_Fraud_Transactions',\n",
       "   original_name=None,\n",
       "   using_clause=None,\n",
       "   order_clause=None,\n",
       "   where_clause=None,\n",
       "   feature_type='NUMERICAL',\n",
       "   data_type='INTEGER',\n",
       "   columns=None,\n",
       "   point_in_time_info=None),\n",
       " Feature(name='V1',\n",
       "   select_clause=None,\n",
       "   feature_mapping=None,\n",
       "   source_table='Credit_Card_Fraud_Transactions',\n",
       "   original_name=None,\n",
       "   using_clause=None,\n",
       "   order_clause=None,\n",
       "   where_clause=None,\n",
       "   feature_type='NUMERICAL',\n",
       "   data_type='FLOAT',\n",
       "   columns=None,\n",
       "   point_in_time_info=None),\n",
       " Feature(name='V2',\n",
       "   select_clause=None,\n",
       "   feature_mapping=None,\n",
       "   source_table='Credit_Card_Fraud_Transactions',\n",
       "   original_name=None,\n",
       "   using_clause=None,\n",
       "   order_clause=None,\n",
       "   where_clause=None,\n",
       "   feature_type='NUMERICAL',\n",
       "   data_type='FLOAT',\n",
       "   columns=None,\n",
       "   point_in_time_info=None),\n",
       " Feature(name='V3',\n",
       "   select_clause=None,\n",
       "   feature_mapping=None,\n",
       "   source_table='Credit_Card_Fraud_Transactions',\n",
       "   original_name=None,\n",
       "   using_clause=None,\n",
       "   order_clause=None,\n",
       "   where_clause=None,\n",
       "   feature_type='NUMERICAL',\n",
       "   data_type='FLOAT',\n",
       "   columns=None,\n",
       "   point_in_time_info=None),\n",
       " Feature(name='V4',\n",
       "   select_clause=None,\n",
       "   feature_mapping=None,\n",
       "   source_table='Credit_Card_Fraud_Transactions',\n",
       "   original_name=None,\n",
       "   using_clause=None,\n",
       "   order_clause=None,\n",
       "   where_clause=None,\n",
       "   feature_type='NUMERICAL',\n",
       "   data_type='FLOAT',\n",
       "   columns=None,\n",
       "   point_in_time_info=None),\n",
       " Feature(name='V5',\n",
       "   select_clause=None,\n",
       "   feature_mapping=None,\n",
       "   source_table='Credit_Card_Fraud_Transactions',\n",
       "   original_name=None,\n",
       "   using_clause=None,\n",
       "   order_clause=None,\n",
       "   where_clause=None,\n",
       "   feature_type='NUMERICAL',\n",
       "   data_type='FLOAT',\n",
       "   columns=None,\n",
       "   point_in_time_info=None),\n",
       " Feature(name='V6',\n",
       "   select_clause=None,\n",
       "   feature_mapping=None,\n",
       "   source_table='Credit_Card_Fraud_Transactions',\n",
       "   original_name=None,\n",
       "   using_clause=None,\n",
       "   order_clause=None,\n",
       "   where_clause=None,\n",
       "   feature_type='NUMERICAL',\n",
       "   data_type='FLOAT',\n",
       "   columns=None,\n",
       "   point_in_time_info=None),\n",
       " Feature(name='V7',\n",
       "   select_clause=None,\n",
       "   feature_mapping=None,\n",
       "   source_table='Credit_Card_Fraud_Transactions',\n",
       "   original_name=None,\n",
       "   using_clause=None,\n",
       "   order_clause=None,\n",
       "   where_clause=None,\n",
       "   feature_type='NUMERICAL',\n",
       "   data_type='FLOAT',\n",
       "   columns=None,\n",
       "   point_in_time_info=None),\n",
       " Feature(name='V8',\n",
       "   select_clause=None,\n",
       "   feature_mapping=None,\n",
       "   source_table='Credit_Card_Fraud_Transactions',\n",
       "   original_name=None,\n",
       "   using_clause=None,\n",
       "   order_clause=None,\n",
       "   where_clause=None,\n",
       "   feature_type='NUMERICAL',\n",
       "   data_type='FLOAT',\n",
       "   columns=None,\n",
       "   point_in_time_info=None),\n",
       " Feature(name='V9',\n",
       "   select_clause=None,\n",
       "   feature_mapping=None,\n",
       "   source_table='Credit_Card_Fraud_Transactions',\n",
       "   original_name=None,\n",
       "   using_clause=None,\n",
       "   order_clause=None,\n",
       "   where_clause=None,\n",
       "   feature_type='NUMERICAL',\n",
       "   data_type='FLOAT',\n",
       "   columns=None,\n",
       "   point_in_time_info=None),\n",
       " Feature(name='V10',\n",
       "   select_clause=None,\n",
       "   feature_mapping=None,\n",
       "   source_table='Credit_Card_Fraud_Transactions',\n",
       "   original_name=None,\n",
       "   using_clause=None,\n",
       "   order_clause=None,\n",
       "   where_clause=None,\n",
       "   feature_type='NUMERICAL',\n",
       "   data_type='FLOAT',\n",
       "   columns=None,\n",
       "   point_in_time_info=None),\n",
       " Feature(name='V11',\n",
       "   select_clause=None,\n",
       "   feature_mapping=None,\n",
       "   source_table='Credit_Card_Fraud_Transactions',\n",
       "   original_name=None,\n",
       "   using_clause=None,\n",
       "   order_clause=None,\n",
       "   where_clause=None,\n",
       "   feature_type='NUMERICAL',\n",
       "   data_type='FLOAT',\n",
       "   columns=None,\n",
       "   point_in_time_info=None),\n",
       " Feature(name='V12',\n",
       "   select_clause=None,\n",
       "   feature_mapping=None,\n",
       "   source_table='Credit_Card_Fraud_Transactions',\n",
       "   original_name=None,\n",
       "   using_clause=None,\n",
       "   order_clause=None,\n",
       "   where_clause=None,\n",
       "   feature_type='NUMERICAL',\n",
       "   data_type='FLOAT',\n",
       "   columns=None,\n",
       "   point_in_time_info=None),\n",
       " Feature(name='V13',\n",
       "   select_clause=None,\n",
       "   feature_mapping=None,\n",
       "   source_table='Credit_Card_Fraud_Transactions',\n",
       "   original_name=None,\n",
       "   using_clause=None,\n",
       "   order_clause=None,\n",
       "   where_clause=None,\n",
       "   feature_type='NUMERICAL',\n",
       "   data_type='FLOAT',\n",
       "   columns=None,\n",
       "   point_in_time_info=None),\n",
       " Feature(name='V14',\n",
       "   select_clause=None,\n",
       "   feature_mapping=None,\n",
       "   source_table='Credit_Card_Fraud_Transactions',\n",
       "   original_name=None,\n",
       "   using_clause=None,\n",
       "   order_clause=None,\n",
       "   where_clause=None,\n",
       "   feature_type='NUMERICAL',\n",
       "   data_type='FLOAT',\n",
       "   columns=None,\n",
       "   point_in_time_info=None),\n",
       " Feature(name='V15',\n",
       "   select_clause=None,\n",
       "   feature_mapping=None,\n",
       "   source_table='Credit_Card_Fraud_Transactions',\n",
       "   original_name=None,\n",
       "   using_clause=None,\n",
       "   order_clause=None,\n",
       "   where_clause=None,\n",
       "   feature_type='NUMERICAL',\n",
       "   data_type='FLOAT',\n",
       "   columns=None,\n",
       "   point_in_time_info=None),\n",
       " Feature(name='V16',\n",
       "   select_clause=None,\n",
       "   feature_mapping=None,\n",
       "   source_table='Credit_Card_Fraud_Transactions',\n",
       "   original_name=None,\n",
       "   using_clause=None,\n",
       "   order_clause=None,\n",
       "   where_clause=None,\n",
       "   feature_type='NUMERICAL',\n",
       "   data_type='FLOAT',\n",
       "   columns=None,\n",
       "   point_in_time_info=None),\n",
       " Feature(name='V17',\n",
       "   select_clause=None,\n",
       "   feature_mapping=None,\n",
       "   source_table='Credit_Card_Fraud_Transactions',\n",
       "   original_name=None,\n",
       "   using_clause=None,\n",
       "   order_clause=None,\n",
       "   where_clause=None,\n",
       "   feature_type='NUMERICAL',\n",
       "   data_type='FLOAT',\n",
       "   columns=None,\n",
       "   point_in_time_info=None),\n",
       " Feature(name='V18',\n",
       "   select_clause=None,\n",
       "   feature_mapping=None,\n",
       "   source_table='Credit_Card_Fraud_Transactions',\n",
       "   original_name=None,\n",
       "   using_clause=None,\n",
       "   order_clause=None,\n",
       "   where_clause=None,\n",
       "   feature_type='NUMERICAL',\n",
       "   data_type='FLOAT',\n",
       "   columns=None,\n",
       "   point_in_time_info=None),\n",
       " Feature(name='V19',\n",
       "   select_clause=None,\n",
       "   feature_mapping=None,\n",
       "   source_table='Credit_Card_Fraud_Transactions',\n",
       "   original_name=None,\n",
       "   using_clause=None,\n",
       "   order_clause=None,\n",
       "   where_clause=None,\n",
       "   feature_type='NUMERICAL',\n",
       "   data_type='FLOAT',\n",
       "   columns=None,\n",
       "   point_in_time_info=None),\n",
       " Feature(name='V20',\n",
       "   select_clause=None,\n",
       "   feature_mapping=None,\n",
       "   source_table='Credit_Card_Fraud_Transactions',\n",
       "   original_name=None,\n",
       "   using_clause=None,\n",
       "   order_clause=None,\n",
       "   where_clause=None,\n",
       "   feature_type='NUMERICAL',\n",
       "   data_type='FLOAT',\n",
       "   columns=None,\n",
       "   point_in_time_info=None),\n",
       " Feature(name='V21',\n",
       "   select_clause=None,\n",
       "   feature_mapping=None,\n",
       "   source_table='Credit_Card_Fraud_Transactions',\n",
       "   original_name=None,\n",
       "   using_clause=None,\n",
       "   order_clause=None,\n",
       "   where_clause=None,\n",
       "   feature_type='NUMERICAL',\n",
       "   data_type='FLOAT',\n",
       "   columns=None,\n",
       "   point_in_time_info=None),\n",
       " Feature(name='V22',\n",
       "   select_clause=None,\n",
       "   feature_mapping=None,\n",
       "   source_table='Credit_Card_Fraud_Transactions',\n",
       "   original_name=None,\n",
       "   using_clause=None,\n",
       "   order_clause=None,\n",
       "   where_clause=None,\n",
       "   feature_type='NUMERICAL',\n",
       "   data_type='FLOAT',\n",
       "   columns=None,\n",
       "   point_in_time_info=None),\n",
       " Feature(name='V23',\n",
       "   select_clause=None,\n",
       "   feature_mapping=None,\n",
       "   source_table='Credit_Card_Fraud_Transactions',\n",
       "   original_name=None,\n",
       "   using_clause=None,\n",
       "   order_clause=None,\n",
       "   where_clause=None,\n",
       "   feature_type='NUMERICAL',\n",
       "   data_type='FLOAT',\n",
       "   columns=None,\n",
       "   point_in_time_info=None),\n",
       " Feature(name='V24',\n",
       "   select_clause=None,\n",
       "   feature_mapping=None,\n",
       "   source_table='Credit_Card_Fraud_Transactions',\n",
       "   original_name=None,\n",
       "   using_clause=None,\n",
       "   order_clause=None,\n",
       "   where_clause=None,\n",
       "   feature_type='NUMERICAL',\n",
       "   data_type='FLOAT',\n",
       "   columns=None,\n",
       "   point_in_time_info=None),\n",
       " Feature(name='V25',\n",
       "   select_clause=None,\n",
       "   feature_mapping=None,\n",
       "   source_table='Credit_Card_Fraud_Transactions',\n",
       "   original_name=None,\n",
       "   using_clause=None,\n",
       "   order_clause=None,\n",
       "   where_clause=None,\n",
       "   feature_type='NUMERICAL',\n",
       "   data_type='FLOAT',\n",
       "   columns=None,\n",
       "   point_in_time_info=None),\n",
       " Feature(name='V26',\n",
       "   select_clause=None,\n",
       "   feature_mapping=None,\n",
       "   source_table='Credit_Card_Fraud_Transactions',\n",
       "   original_name=None,\n",
       "   using_clause=None,\n",
       "   order_clause=None,\n",
       "   where_clause=None,\n",
       "   feature_type='NUMERICAL',\n",
       "   data_type='FLOAT',\n",
       "   columns=None,\n",
       "   point_in_time_info=None),\n",
       " Feature(name='V27',\n",
       "   select_clause=None,\n",
       "   feature_mapping=None,\n",
       "   source_table='Credit_Card_Fraud_Transactions',\n",
       "   original_name=None,\n",
       "   using_clause=None,\n",
       "   order_clause=None,\n",
       "   where_clause=None,\n",
       "   feature_type='NUMERICAL',\n",
       "   data_type='FLOAT',\n",
       "   columns=None,\n",
       "   point_in_time_info=None),\n",
       " Feature(name='V28',\n",
       "   select_clause=None,\n",
       "   feature_mapping=None,\n",
       "   source_table='Credit_Card_Fraud_Transactions',\n",
       "   original_name=None,\n",
       "   using_clause=None,\n",
       "   order_clause=None,\n",
       "   where_clause=None,\n",
       "   feature_type='NUMERICAL',\n",
       "   data_type='FLOAT',\n",
       "   columns=None,\n",
       "   point_in_time_info=None),\n",
       " Feature(name='Amount',\n",
       "   select_clause=None,\n",
       "   feature_mapping=None,\n",
       "   source_table='Credit_Card_Fraud_Transactions',\n",
       "   original_name=None,\n",
       "   using_clause=None,\n",
       "   order_clause=None,\n",
       "   where_clause=None,\n",
       "   feature_type='NUMERICAL',\n",
       "   data_type='FLOAT',\n",
       "   columns=None,\n",
       "   point_in_time_info=None),\n",
       " Feature(name='Class',\n",
       "   select_clause=None,\n",
       "   feature_mapping=None,\n",
       "   source_table='Credit_Card_Fraud_Transactions',\n",
       "   original_name=None,\n",
       "   using_clause=None,\n",
       "   order_clause=None,\n",
       "   where_clause=None,\n",
       "   feature_type='CATEGORICAL',\n",
       "   data_type='STRING',\n",
       "   columns=None,\n",
       "   point_in_time_info=None)]"
      ]
     },
     "execution_count": 13,
     "metadata": {},
     "output_type": "execute_result"
    }
   ],
   "source": [
    "client.get_feature_group_schema(feature_group_id=feature_group.feature_group_id)"
   ]
  },
  {
   "cell_type": "markdown",
   "metadata": {
    "id": "xOhncY5XGwwx"
   },
   "source": [
    "#### For each **Use Case**, there are special **Column Mappings** that must be applied to a column to fulfill use case requirements. We can find the list of available **Column Mappings** by calling the *Describe Use Case Requirements* API:"
   ]
  },
  {
   "cell_type": "code",
   "execution_count": 15,
   "metadata": {
    "colab": {
     "base_uri": "https://localhost:8080/"
    },
    "id": "dvxohu9GoC9s",
    "outputId": "59d0995b-c17c-4845-d3f0-fda22473e0a5"
   },
   "outputs": [
    {
     "data": {
      "text/plain": [
       "{'FRAUD_YN': {'description': 'This specifies whether a particular transaction was fraudulent or not. You will need to have some specific examples of fraud in order to train a model that can identify transaction fraud.',\n",
       "  'allowed_feature_types': ['CATEGORICAL'],\n",
       "  'required': True},\n",
       " 'IGNORE': {'description': 'Ignore this column in training',\n",
       "  'multiple': True,\n",
       "  'required': False}}"
      ]
     },
     "execution_count": 15,
     "metadata": {},
     "output_type": "execute_result"
    }
   ],
   "source": [
    "client.describe_use_case_requirements(use_case)[0].allowed_feature_mappings"
   ]
  },
  {
   "cell_type": "code",
   "execution_count": 16,
   "metadata": {
    "colab": {
     "base_uri": "https://localhost:8080/"
    },
    "id": "_5W_z4dJqsoF",
    "outputId": "0c86de05-7cdd-400f-a543-a0217193c625"
   },
   "outputs": [
    {
     "data": {
      "text/plain": [
       "[Feature(name='Time',\n",
       "   select_clause=None,\n",
       "   feature_mapping=None,\n",
       "   source_table='Credit_Card_Fraud_Transactions',\n",
       "   original_name=None,\n",
       "   using_clause=None,\n",
       "   order_clause=None,\n",
       "   where_clause=None,\n",
       "   feature_type='NUMERICAL',\n",
       "   data_type='INTEGER',\n",
       "   columns=None,\n",
       "   point_in_time_info=None),\n",
       " Feature(name='V1',\n",
       "   select_clause=None,\n",
       "   feature_mapping=None,\n",
       "   source_table='Credit_Card_Fraud_Transactions',\n",
       "   original_name=None,\n",
       "   using_clause=None,\n",
       "   order_clause=None,\n",
       "   where_clause=None,\n",
       "   feature_type='NUMERICAL',\n",
       "   data_type='FLOAT',\n",
       "   columns=None,\n",
       "   point_in_time_info=None),\n",
       " Feature(name='V2',\n",
       "   select_clause=None,\n",
       "   feature_mapping=None,\n",
       "   source_table='Credit_Card_Fraud_Transactions',\n",
       "   original_name=None,\n",
       "   using_clause=None,\n",
       "   order_clause=None,\n",
       "   where_clause=None,\n",
       "   feature_type='NUMERICAL',\n",
       "   data_type='FLOAT',\n",
       "   columns=None,\n",
       "   point_in_time_info=None),\n",
       " Feature(name='V3',\n",
       "   select_clause=None,\n",
       "   feature_mapping=None,\n",
       "   source_table='Credit_Card_Fraud_Transactions',\n",
       "   original_name=None,\n",
       "   using_clause=None,\n",
       "   order_clause=None,\n",
       "   where_clause=None,\n",
       "   feature_type='NUMERICAL',\n",
       "   data_type='FLOAT',\n",
       "   columns=None,\n",
       "   point_in_time_info=None),\n",
       " Feature(name='V4',\n",
       "   select_clause=None,\n",
       "   feature_mapping=None,\n",
       "   source_table='Credit_Card_Fraud_Transactions',\n",
       "   original_name=None,\n",
       "   using_clause=None,\n",
       "   order_clause=None,\n",
       "   where_clause=None,\n",
       "   feature_type='NUMERICAL',\n",
       "   data_type='FLOAT',\n",
       "   columns=None,\n",
       "   point_in_time_info=None),\n",
       " Feature(name='V5',\n",
       "   select_clause=None,\n",
       "   feature_mapping=None,\n",
       "   source_table='Credit_Card_Fraud_Transactions',\n",
       "   original_name=None,\n",
       "   using_clause=None,\n",
       "   order_clause=None,\n",
       "   where_clause=None,\n",
       "   feature_type='NUMERICAL',\n",
       "   data_type='FLOAT',\n",
       "   columns=None,\n",
       "   point_in_time_info=None),\n",
       " Feature(name='V6',\n",
       "   select_clause=None,\n",
       "   feature_mapping=None,\n",
       "   source_table='Credit_Card_Fraud_Transactions',\n",
       "   original_name=None,\n",
       "   using_clause=None,\n",
       "   order_clause=None,\n",
       "   where_clause=None,\n",
       "   feature_type='NUMERICAL',\n",
       "   data_type='FLOAT',\n",
       "   columns=None,\n",
       "   point_in_time_info=None),\n",
       " Feature(name='V7',\n",
       "   select_clause=None,\n",
       "   feature_mapping=None,\n",
       "   source_table='Credit_Card_Fraud_Transactions',\n",
       "   original_name=None,\n",
       "   using_clause=None,\n",
       "   order_clause=None,\n",
       "   where_clause=None,\n",
       "   feature_type='NUMERICAL',\n",
       "   data_type='FLOAT',\n",
       "   columns=None,\n",
       "   point_in_time_info=None),\n",
       " Feature(name='V8',\n",
       "   select_clause=None,\n",
       "   feature_mapping=None,\n",
       "   source_table='Credit_Card_Fraud_Transactions',\n",
       "   original_name=None,\n",
       "   using_clause=None,\n",
       "   order_clause=None,\n",
       "   where_clause=None,\n",
       "   feature_type='NUMERICAL',\n",
       "   data_type='FLOAT',\n",
       "   columns=None,\n",
       "   point_in_time_info=None),\n",
       " Feature(name='V9',\n",
       "   select_clause=None,\n",
       "   feature_mapping=None,\n",
       "   source_table='Credit_Card_Fraud_Transactions',\n",
       "   original_name=None,\n",
       "   using_clause=None,\n",
       "   order_clause=None,\n",
       "   where_clause=None,\n",
       "   feature_type='NUMERICAL',\n",
       "   data_type='FLOAT',\n",
       "   columns=None,\n",
       "   point_in_time_info=None),\n",
       " Feature(name='V10',\n",
       "   select_clause=None,\n",
       "   feature_mapping=None,\n",
       "   source_table='Credit_Card_Fraud_Transactions',\n",
       "   original_name=None,\n",
       "   using_clause=None,\n",
       "   order_clause=None,\n",
       "   where_clause=None,\n",
       "   feature_type='NUMERICAL',\n",
       "   data_type='FLOAT',\n",
       "   columns=None,\n",
       "   point_in_time_info=None),\n",
       " Feature(name='V11',\n",
       "   select_clause=None,\n",
       "   feature_mapping=None,\n",
       "   source_table='Credit_Card_Fraud_Transactions',\n",
       "   original_name=None,\n",
       "   using_clause=None,\n",
       "   order_clause=None,\n",
       "   where_clause=None,\n",
       "   feature_type='NUMERICAL',\n",
       "   data_type='FLOAT',\n",
       "   columns=None,\n",
       "   point_in_time_info=None),\n",
       " Feature(name='V12',\n",
       "   select_clause=None,\n",
       "   feature_mapping=None,\n",
       "   source_table='Credit_Card_Fraud_Transactions',\n",
       "   original_name=None,\n",
       "   using_clause=None,\n",
       "   order_clause=None,\n",
       "   where_clause=None,\n",
       "   feature_type='NUMERICAL',\n",
       "   data_type='FLOAT',\n",
       "   columns=None,\n",
       "   point_in_time_info=None),\n",
       " Feature(name='V13',\n",
       "   select_clause=None,\n",
       "   feature_mapping=None,\n",
       "   source_table='Credit_Card_Fraud_Transactions',\n",
       "   original_name=None,\n",
       "   using_clause=None,\n",
       "   order_clause=None,\n",
       "   where_clause=None,\n",
       "   feature_type='NUMERICAL',\n",
       "   data_type='FLOAT',\n",
       "   columns=None,\n",
       "   point_in_time_info=None),\n",
       " Feature(name='V14',\n",
       "   select_clause=None,\n",
       "   feature_mapping=None,\n",
       "   source_table='Credit_Card_Fraud_Transactions',\n",
       "   original_name=None,\n",
       "   using_clause=None,\n",
       "   order_clause=None,\n",
       "   where_clause=None,\n",
       "   feature_type='NUMERICAL',\n",
       "   data_type='FLOAT',\n",
       "   columns=None,\n",
       "   point_in_time_info=None),\n",
       " Feature(name='V15',\n",
       "   select_clause=None,\n",
       "   feature_mapping=None,\n",
       "   source_table='Credit_Card_Fraud_Transactions',\n",
       "   original_name=None,\n",
       "   using_clause=None,\n",
       "   order_clause=None,\n",
       "   where_clause=None,\n",
       "   feature_type='NUMERICAL',\n",
       "   data_type='FLOAT',\n",
       "   columns=None,\n",
       "   point_in_time_info=None),\n",
       " Feature(name='V16',\n",
       "   select_clause=None,\n",
       "   feature_mapping=None,\n",
       "   source_table='Credit_Card_Fraud_Transactions',\n",
       "   original_name=None,\n",
       "   using_clause=None,\n",
       "   order_clause=None,\n",
       "   where_clause=None,\n",
       "   feature_type='NUMERICAL',\n",
       "   data_type='FLOAT',\n",
       "   columns=None,\n",
       "   point_in_time_info=None),\n",
       " Feature(name='V17',\n",
       "   select_clause=None,\n",
       "   feature_mapping=None,\n",
       "   source_table='Credit_Card_Fraud_Transactions',\n",
       "   original_name=None,\n",
       "   using_clause=None,\n",
       "   order_clause=None,\n",
       "   where_clause=None,\n",
       "   feature_type='NUMERICAL',\n",
       "   data_type='FLOAT',\n",
       "   columns=None,\n",
       "   point_in_time_info=None),\n",
       " Feature(name='V18',\n",
       "   select_clause=None,\n",
       "   feature_mapping=None,\n",
       "   source_table='Credit_Card_Fraud_Transactions',\n",
       "   original_name=None,\n",
       "   using_clause=None,\n",
       "   order_clause=None,\n",
       "   where_clause=None,\n",
       "   feature_type='NUMERICAL',\n",
       "   data_type='FLOAT',\n",
       "   columns=None,\n",
       "   point_in_time_info=None),\n",
       " Feature(name='V19',\n",
       "   select_clause=None,\n",
       "   feature_mapping=None,\n",
       "   source_table='Credit_Card_Fraud_Transactions',\n",
       "   original_name=None,\n",
       "   using_clause=None,\n",
       "   order_clause=None,\n",
       "   where_clause=None,\n",
       "   feature_type='NUMERICAL',\n",
       "   data_type='FLOAT',\n",
       "   columns=None,\n",
       "   point_in_time_info=None),\n",
       " Feature(name='V20',\n",
       "   select_clause=None,\n",
       "   feature_mapping=None,\n",
       "   source_table='Credit_Card_Fraud_Transactions',\n",
       "   original_name=None,\n",
       "   using_clause=None,\n",
       "   order_clause=None,\n",
       "   where_clause=None,\n",
       "   feature_type='NUMERICAL',\n",
       "   data_type='FLOAT',\n",
       "   columns=None,\n",
       "   point_in_time_info=None),\n",
       " Feature(name='V21',\n",
       "   select_clause=None,\n",
       "   feature_mapping=None,\n",
       "   source_table='Credit_Card_Fraud_Transactions',\n",
       "   original_name=None,\n",
       "   using_clause=None,\n",
       "   order_clause=None,\n",
       "   where_clause=None,\n",
       "   feature_type='NUMERICAL',\n",
       "   data_type='FLOAT',\n",
       "   columns=None,\n",
       "   point_in_time_info=None),\n",
       " Feature(name='V22',\n",
       "   select_clause=None,\n",
       "   feature_mapping=None,\n",
       "   source_table='Credit_Card_Fraud_Transactions',\n",
       "   original_name=None,\n",
       "   using_clause=None,\n",
       "   order_clause=None,\n",
       "   where_clause=None,\n",
       "   feature_type='NUMERICAL',\n",
       "   data_type='FLOAT',\n",
       "   columns=None,\n",
       "   point_in_time_info=None),\n",
       " Feature(name='V23',\n",
       "   select_clause=None,\n",
       "   feature_mapping=None,\n",
       "   source_table='Credit_Card_Fraud_Transactions',\n",
       "   original_name=None,\n",
       "   using_clause=None,\n",
       "   order_clause=None,\n",
       "   where_clause=None,\n",
       "   feature_type='NUMERICAL',\n",
       "   data_type='FLOAT',\n",
       "   columns=None,\n",
       "   point_in_time_info=None),\n",
       " Feature(name='V24',\n",
       "   select_clause=None,\n",
       "   feature_mapping=None,\n",
       "   source_table='Credit_Card_Fraud_Transactions',\n",
       "   original_name=None,\n",
       "   using_clause=None,\n",
       "   order_clause=None,\n",
       "   where_clause=None,\n",
       "   feature_type='NUMERICAL',\n",
       "   data_type='FLOAT',\n",
       "   columns=None,\n",
       "   point_in_time_info=None),\n",
       " Feature(name='V25',\n",
       "   select_clause=None,\n",
       "   feature_mapping=None,\n",
       "   source_table='Credit_Card_Fraud_Transactions',\n",
       "   original_name=None,\n",
       "   using_clause=None,\n",
       "   order_clause=None,\n",
       "   where_clause=None,\n",
       "   feature_type='NUMERICAL',\n",
       "   data_type='FLOAT',\n",
       "   columns=None,\n",
       "   point_in_time_info=None),\n",
       " Feature(name='V26',\n",
       "   select_clause=None,\n",
       "   feature_mapping=None,\n",
       "   source_table='Credit_Card_Fraud_Transactions',\n",
       "   original_name=None,\n",
       "   using_clause=None,\n",
       "   order_clause=None,\n",
       "   where_clause=None,\n",
       "   feature_type='NUMERICAL',\n",
       "   data_type='FLOAT',\n",
       "   columns=None,\n",
       "   point_in_time_info=None),\n",
       " Feature(name='V27',\n",
       "   select_clause=None,\n",
       "   feature_mapping=None,\n",
       "   source_table='Credit_Card_Fraud_Transactions',\n",
       "   original_name=None,\n",
       "   using_clause=None,\n",
       "   order_clause=None,\n",
       "   where_clause=None,\n",
       "   feature_type='NUMERICAL',\n",
       "   data_type='FLOAT',\n",
       "   columns=None,\n",
       "   point_in_time_info=None),\n",
       " Feature(name='V28',\n",
       "   select_clause=None,\n",
       "   feature_mapping=None,\n",
       "   source_table='Credit_Card_Fraud_Transactions',\n",
       "   original_name=None,\n",
       "   using_clause=None,\n",
       "   order_clause=None,\n",
       "   where_clause=None,\n",
       "   feature_type='NUMERICAL',\n",
       "   data_type='FLOAT',\n",
       "   columns=None,\n",
       "   point_in_time_info=None),\n",
       " Feature(name='Amount',\n",
       "   select_clause=None,\n",
       "   feature_mapping=None,\n",
       "   source_table='Credit_Card_Fraud_Transactions',\n",
       "   original_name=None,\n",
       "   using_clause=None,\n",
       "   order_clause=None,\n",
       "   where_clause=None,\n",
       "   feature_type='NUMERICAL',\n",
       "   data_type='FLOAT',\n",
       "   columns=None,\n",
       "   point_in_time_info=None),\n",
       " Feature(name='Class',\n",
       "   select_clause=None,\n",
       "   feature_mapping='FRAUD_YN',\n",
       "   source_table='Credit_Card_Fraud_Transactions',\n",
       "   original_name=None,\n",
       "   using_clause=None,\n",
       "   order_clause=None,\n",
       "   where_clause=None,\n",
       "   feature_type='CATEGORICAL',\n",
       "   data_type='STRING',\n",
       "   columns=None,\n",
       "   point_in_time_info=None)]"
      ]
     },
     "execution_count": 16,
     "metadata": {},
     "output_type": "execute_result"
    }
   ],
   "source": [
    "client.set_feature_mapping(project_id = fraud_project.project_id,feature_group_id= feature_group.feature_group_id, feature_name='Class',feature_mapping='TARGET')\n"
   ]
  },
  {
   "cell_type": "markdown",
   "metadata": {
    "id": "nWRVBhfMHAQW"
   },
   "source": [
    "For each required Feature Group Type within the use case, you must assign the Feature group to be used for training the model:"
   ]
  },
  {
   "cell_type": "code",
   "execution_count": null,
   "metadata": {
    "id": "uHx4lEJApksS"
   },
   "outputs": [],
   "source": [
    "client.use_feature_group_for_training(project_id=fraud_project.project_id, feature_group_id=feature_group.feature_group_id)"
   ]
  },
  {
   "cell_type": "markdown",
   "metadata": {
    "id": "qHyyJ9Wmsmsj"
   },
   "source": [
    "Now that we've our feature groups assigned, we're almost ready to train a model!\n",
    "\n",
    "To be sure that our project is ready to go, let's call project.validate to confirm that all the project requirements have been met:"
   ]
  },
  {
   "cell_type": "code",
   "execution_count": null,
   "metadata": {
    "colab": {
     "base_uri": "https://localhost:8080/"
    },
    "id": "H6xJbgRcoETn",
    "outputId": "36eeffd3-6b09-424d-b635-5ae96d5bd3b5"
   },
   "outputs": [],
   "source": [
    "fraud_project.validate()"
   ]
  },
  {
   "cell_type": "markdown",
   "metadata": {
    "id": "s4zJ4dD1sWjc"
   },
   "source": [
    "## 4. Train a Model"
   ]
  },
  {
   "cell_type": "markdown",
   "metadata": {
    "id": "8mZ32i0OsprC"
   },
   "source": [
    "For each **Use Case**, Abacus.AI has a bunch of options for training. We can call the *Get Training Config Options* API to see the available options."
   ]
  },
  {
   "cell_type": "code",
   "execution_count": null,
   "metadata": {
    "colab": {
     "base_uri": "https://localhost:8080/"
    },
    "id": "dQ0h9AKKoFf-",
    "outputId": "28cf637b-05f4-4b1d-fb96-525c23d83d6d"
   },
   "outputs": [],
   "source": [
    "fraud_project.get_training_config_options()"
   ]
  },
  {
   "cell_type": "markdown",
   "metadata": {
    "id": "FzBf8crhsxB0"
   },
   "source": [
    "In this notebook, we'll just train with the default options, but definitely feel free to experiment, especially if you have familiarity with Machine Learning."
   ]
  },
  {
   "cell_type": "code",
   "execution_count": null,
   "metadata": {
    "colab": {
     "base_uri": "https://localhost:8080/"
    },
    "id": "5LUXTTvKoGwt",
    "outputId": "3d3c479d-7a2d-4342-a1a0-46a444b705af"
   },
   "outputs": [],
   "source": [
    "fraud_model = fraud_project.train_model(training_config={})\n",
    "fraud_model.to_dict()"
   ]
  },
  {
   "cell_type": "markdown",
   "metadata": {
    "id": "_lSL30yms6SP"
   },
   "source": [
    "After we start training the model, we can call this blocking call that routinely checks the status of the model until it is trained and evaluated:"
   ]
  },
  {
   "cell_type": "code",
   "execution_count": null,
   "metadata": {
    "colab": {
     "base_uri": "https://localhost:8080/"
    },
    "id": "IK1fw2aNoI4i",
    "outputId": "4097af65-63c4-45fd-ba04-bb1d7d9c0073"
   },
   "outputs": [],
   "source": [
    "fraud_model.wait_for_evaluation()"
   ]
  },
  {
   "cell_type": "markdown",
   "metadata": {
    "id": "dcAlF1ISHMES"
   },
   "source": [
    "**Note that model training might take some minutes to some hours depending upon the size of datasets, complexity of the models being trained and a variety of other factors**"
   ]
  },
  {
   "cell_type": "markdown",
   "metadata": {
    "id": "xzmH9_Qvs-bY"
   },
   "source": [
    "## **Checkpoint** [Optional]\n",
    "As model training can take an hours to complete, your page could time out or you might end up hitting the refresh button, this section helps you restore your progress:"
   ]
  },
  {
   "cell_type": "code",
   "execution_count": null,
   "metadata": {
    "id": "RlVf0fZgtDbN"
   },
   "outputs": [],
   "source": [
    "!pip install abacusai\n",
    "import pandas as pd\n",
    "import pprint\n",
    "pp = pprint.PrettyPrinter(indent=2)\n",
    "api_key = ''  #@param {type: \"string\"}\n",
    "from abacusai import ApiClient\n",
    "client = ApiClient(api_key)\n",
    "fraud_project = next(project for project in client.list_projects() if project.name == 'Credit Card Fraud Transactions')\n",
    "fraud_model = fraud_project.list_models()[-1]\n",
    "fraud_model.wait_for_evaluation()"
   ]
  },
  {
   "cell_type": "markdown",
   "metadata": {
    "id": "lQcbadWltWsJ"
   },
   "source": [
    "## Evaluate your Model Metrics\n",
    "\n",
    "After your model is done training you can inspect the model's quality by reviewing the model's metrics\n"
   ]
  },
  {
   "cell_type": "code",
   "execution_count": null,
   "metadata": {
    "colab": {
     "base_uri": "https://localhost:8080/"
    },
    "id": "KOa3ct8doKe4",
    "outputId": "8a7e4250-d8fb-4df6-c572-39a35fc9d904"
   },
   "outputs": [],
   "source": [
    "pp.pprint(fraud_model.get_metrics().to_dict())"
   ]
  },
  {
   "cell_type": "markdown",
   "metadata": {
    "id": "JCG6cwhetZ2g"
   },
   "source": [
    "To get a better understanding on what these metrics mean, visit our [documentation](https://abacus.ai/app/help/useCases/FRAUD_ACCOUNT/training) page."
   ]
  },
  {
   "cell_type": "markdown",
   "metadata": {
    "id": "Y8YGFS-SwOdh"
   },
   "source": [
    "## 5. Deploy Model"
   ]
  },
  {
   "cell_type": "markdown",
   "metadata": {
    "id": "mNP84bjDwPEw"
   },
   "source": [
    "After the model has been trained, we need to deploy the model to be able to start making predictions. Deploying a model will reserve cloud resources to host the model for Realtime and/or batch predictions."
   ]
  },
  {
   "cell_type": "code",
   "execution_count": null,
   "metadata": {
    "colab": {
     "base_uri": "https://localhost:8080/"
    },
    "id": "G7xdUZvXoLm-",
    "outputId": "a7bcec35-a786-499a-c1d9-bbae10c039d0"
   },
   "outputs": [],
   "source": [
    "fraud_deployment = client.create_deployment(name='Credit Card Fraud Deployment',description='Credit Card Fraud Deployment',model_id=fraud_model.model_id)\n",
    "fraud_deployment.wait_for_deployment()"
   ]
  },
  {
   "cell_type": "markdown",
   "metadata": {
    "id": "qVcCSqF1wWBO"
   },
   "source": [
    "After the model is deployed, we need to create a deployment token for authenticating prediction requests. This token is only authorized to predict on deployments in this project, so it's safe to embed this token inside of a user-facing application or website. \n"
   ]
  },
  {
   "cell_type": "code",
   "execution_count": null,
   "metadata": {
    "colab": {
     "base_uri": "https://localhost:8080/",
     "height": 35
    },
    "id": "iZxSaipooMWu",
    "outputId": "42be4de0-e79c-440a-d28d-33987b6c1574"
   },
   "outputs": [],
   "source": [
    "deployment_token = fraud_project.create_deployment_token().deployment_token\n",
    "deployment_token"
   ]
  },
  {
   "cell_type": "markdown",
   "metadata": {
    "id": "-7oKzllSwYyw"
   },
   "source": [
    "## 6. Predict\n"
   ]
  },
  {
   "cell_type": "markdown",
   "metadata": {
    "id": "jkgSiD_owZYW"
   },
   "source": [
    "Now that you have an active deployment and a deployment token to authenticate requests, you can call the `predict_fraud` command below.\n",
    "\n",
    "This command will return the probability of a transaction being of each class of fraud. The prediction would be perfomed based on previous transaction frauds for credit credit cards with similar IDs.\n"
   ]
  },
  {
   "cell_type": "code",
   "execution_count": null,
   "metadata": {
    "colab": {
     "base_uri": "https://localhost:8080/"
    },
    "id": "uEaCdSSroOKE",
    "outputId": "4ce5a6df-de04-496c-b46f-9868cc7c7952"
   },
   "outputs": [],
   "source": [
    "ApiClient().predict_fraud(deployment_token=deployment_token, \n",
    "               deployment_id=fraud_deployment.deployment_id, \n",
    "               query_data={\"Time\":37569,\"V1\":-1.9863495,\"V2\":1.6931525,\"V3\":0.6006504,\"V4\":0.33007008,\"V5\":0.6902556,\"V6\":0.20807104,\"V7\":1.169273,\"V8\":-0.7722932})"
   ]
  }
 ],
 "metadata": {
  "colab": {
   "collapsed_sections": [],
   "name": "Copy of Transaction Fraud Notebook.ipynb",
   "provenance": [],
   "toc_visible": true
  },
  "interpreter": {
   "hash": "31f2aee4e71d21fbe5cf8b01ff0e069b9275f58929596ceb00d14d90e3e16cd6"
  },
  "kernelspec": {
   "display_name": "Python 3.8.10 64-bit",
   "name": "python3"
  },
  "language_info": {
   "codemirror_mode": {
    "name": "ipython",
    "version": 3
   },
   "file_extension": ".py",
   "mimetype": "text/x-python",
   "name": "python",
   "nbconvert_exporter": "python",
   "pygments_lexer": "ipython3",
   "version": "3.8.10"
  }
 },
 "nbformat": 4,
 "nbformat_minor": 1
}
