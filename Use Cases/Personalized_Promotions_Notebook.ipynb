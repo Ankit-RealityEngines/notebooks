{
 "cells": [
  {
   "cell_type": "markdown",
   "metadata": {
    "id": "Y0ejrLq_-Zl6"
   },
   "source": [
    "## How-to guide for Personalized Promotions use-case on Abacus.AI platform\n",
    "This notebook provides you with a hands on environment to build a model that creates personalized promotions using the Abacus.AI Python Client Library.\n",
    "\n",
    "We'll be using the [Retail Interaction Logs](https://s3.amazonaws.com//realityengines.exampledatasets/pers_promotion/events.csv) and [Item Categories](https://s3.amazonaws.com//realityengines.exampledatasets/pers_promotion/item_categories.csv) datasets, which contain information about user interactions and item attributes."
   ]
  },
  {
   "cell_type": "markdown",
   "metadata": {
    "id": "uIhrIhXeqJJE"
   },
   "source": [
    "1. Install the Abacus.AI library."
   ]
  },
  {
   "cell_type": "code",
   "execution_count": null,
   "metadata": {
    "colab": {
     "base_uri": "https://localhost:8080/"
    },
    "id": "JSsm7EQrmvey",
    "outputId": "22a00ee3-f4c5-4065-bbf3-8da72ce6a1f4"
   },
   "outputs": [],
   "source": [
    "!pip install abacusai"
   ]
  },
  {
   "cell_type": "markdown",
   "metadata": {
    "id": "1o5pJlfiqjuz"
   },
   "source": [
    "We'll also import pandas and pprint tools for visualization in this notebook."
   ]
  },
  {
   "cell_type": "code",
   "execution_count": null,
   "metadata": {
    "id": "ki_Nt6xBmyws"
   },
   "outputs": [],
   "source": [
    "import pandas as pd # A tool we'll use to download and preview CSV files\n",
    "import pprint # A tool to pretty print dictionary outputs\n",
    "pp = pprint.PrettyPrinter(indent=2)"
   ]
  },
  {
   "cell_type": "markdown",
   "metadata": {
    "id": "izrh6I2aqlTa"
   },
   "source": [
    "2. Add your Abacus.AI [API Key](https://abacus.ai/app/profile/apikey) generated using the API dashboard as follows:"
   ]
  },
  {
   "cell_type": "code",
   "execution_count": null,
   "metadata": {
    "id": "d8TJ_-Qamz5x"
   },
   "outputs": [],
   "source": [
    "#@title Abacus.AI API Key\n",
    "\n",
    "api_key = '2fdecde877dc45fab937eff82b70eff0'  #@param {type: \"string\"}"
   ]
  },
  {
   "cell_type": "markdown",
   "metadata": {
    "id": "fqpb-UfFqmzs"
   },
   "source": [
    "3. Import the Abacus.AI library and instantiate a client."
   ]
  },
  {
   "cell_type": "code",
   "execution_count": null,
   "metadata": {
    "colab": {
     "base_uri": "https://localhost:8080/"
    },
    "id": "U8M1MoB0m1DV",
    "outputId": "9c9280ce-f5af-4c67-9762-fd809661d654"
   },
   "outputs": [],
   "source": [
    "from abacusai import ApiClient\n",
    "client = ApiClient(api_key)"
   ]
  },
  {
   "cell_type": "markdown",
   "metadata": {
    "id": "2tXzo8ZRqodi"
   },
   "source": [
    "## 1. Create a Project\n",
    "\n",
    "Abacus.AI projects are containers that have datasets and trained models. By specifying a business **Use Case**, Abacus.AI tailors the deep learning algorithms to produce the best performing model catered specifically for your data.\n",
    "\n",
    "We'll call the `list_use_cases` method to retrieve a list of the Use Cases currently available on the Abacus.AI platform."
   ]
  },
  {
   "cell_type": "code",
   "execution_count": null,
   "metadata": {
    "colab": {
     "base_uri": "https://localhost:8080/"
    },
    "id": "Nfe-W0KDm1-4",
    "outputId": "66395bc3-e2ec-4933-9b55-7f8866ec17e1"
   },
   "outputs": [],
   "source": [
    "client.list_use_cases()"
   ]
  },
  {
   "cell_type": "markdown",
   "metadata": {
    "id": "ZWSjEJ7AqrQW"
   },
   "source": [
    "In this notebook, we're going to create a model that returns personalized promotions using the Retail Interaction Logs and Item Categories datasets. The 'PERS_PROMOTIONS' use case is best tailored for this situation."
   ]
  },
  {
   "cell_type": "code",
   "execution_count": null,
   "metadata": {
    "id": "Si4FbtqCm3HN"
   },
   "outputs": [],
   "source": [
    "#@title Abacus.AI Use Case\n",
    "\n",
    "use_case = 'PERS_PROMOTIONS'  #@param {type: \"string\"}"
   ]
  },
  {
   "cell_type": "markdown",
   "metadata": {
    "id": "Fy5OjU1yrD4W"
   },
   "source": [
    "By calling the `describe_use_case_requirements` method we can view what datasets are required for this use_case."
   ]
  },
  {
   "cell_type": "code",
   "execution_count": null,
   "metadata": {
    "colab": {
     "base_uri": "https://localhost:8080/"
    },
    "id": "xFVAXGEdm4Q-",
    "outputId": "4f31b730-958f-4f94-dcd6-b35b335cfc87"
   },
   "outputs": [],
   "source": [
    "for requirement in client.describe_use_case_requirements(use_case):\n",
    "  pp.pprint(requirement.to_dict())"
   ]
  },
  {
   "cell_type": "markdown",
   "metadata": {
    "id": "tgUjI-wJrF9c"
   },
   "source": [
    "Finally, let's create the project."
   ]
  },
  {
   "cell_type": "code",
   "execution_count": null,
   "metadata": {
    "colab": {
     "base_uri": "https://localhost:8080/"
    },
    "id": "8idfft0im5ci",
    "outputId": "e93a10d7-4f72-4eba-fbca-5f785e0a12ce"
   },
   "outputs": [],
   "source": [
    "promotions_project = client.create_project(name='Personalized Promotions Project', use_case=use_case)\n",
    "promotions_project.to_dict()"
   ]
  },
  {
   "cell_type": "markdown",
   "metadata": {
    "id": "-OGCXiCkOwyb"
   },
   "source": [
    "**Note: When feature_groups_enabled is False then the use case does not support feature groups (collection of ML features). Therefore, Datasets are created at the organization level and tied to a project to further use them for training ML models**"
   ]
  },
  {
   "cell_type": "markdown",
   "metadata": {
    "id": "wS8T5vcLrIlg"
   },
   "source": [
    "## 2. Add Datasets to your Project\n",
    "\n",
    "Abacus.AI can read datasets directly from `AWS S3` or `Google Cloud Storage` buckets, otherwise you can also directly upload and store your datasets with Abacus.AI. For this notebook, we will have Abacus.AI read the datasets directly from a public S3 bucket's location.\n",
    "\n",
    "We are using two datasets for this notebook. We'll tell Abacus.AI how each dataset should be used when creating it by tagging the dataset with a special Abacus.AI **Dataset Type**.\n",
    "- [Retail Interaction Logs](https://s3.amazonaws.com//realityengines.exampledatasets/pers_promotion/events.csv) (**USER_ITEM_INTERACTIONS**): \n",
    "This dataset contains information about visitor interactions, with data such as the visitor ID, event, timestamp, etc.\n",
    "- [Item Categories](https://s3.amazonaws.com//realityengines.exampledatasets/pers_promotion/item_categories.csv) (**CATALOG_ATTRIBUTES**): This dataset contains information about items with specified IDs."
   ]
  },
  {
   "cell_type": "markdown",
   "metadata": {
    "id": "2R3p7tAkrwPv"
   },
   "source": [
    "### Add the datasets to Abacus.AI\n",
    "\n",
    "First we'll use Pandas to preview the file, then add it to Abacus.AI."
   ]
  },
  {
   "cell_type": "code",
   "execution_count": null,
   "metadata": {
    "colab": {
     "base_uri": "https://localhost:8080/",
     "height": 417
    },
    "id": "fXY1bRUpHBm3",
    "outputId": "c9e79103-6e71-45be-9f01-9d9878edf1ad"
   },
   "outputs": [],
   "source": [
    "pd.read_csv('https://s3.amazonaws.com//realityengines.exampledatasets/pers_promotion/events.csv')"
   ]
  },
  {
   "cell_type": "code",
   "execution_count": null,
   "metadata": {
    "colab": {
     "base_uri": "https://localhost:8080/",
     "height": 417
    },
    "id": "tGlnl2f7HByp",
    "outputId": "1b072ed5-3b28-4709-ec10-a0fc92430d2a"
   },
   "outputs": [],
   "source": [
    "pd.read_csv('https://s3.amazonaws.com//realityengines.exampledatasets/pers_promotion/item_categories.csv')"
   ]
  },
  {
   "cell_type": "markdown",
   "metadata": {
    "id": "0mDVrJYKrzB9"
   },
   "source": [
    "Using the Create Dataset API, we can tell Abacus.AI the public S3 URI of where to find the datasets. We will also give each dataset a Refresh Schedule, which tells Abacus.AI when it should refresh the dataset (take an updated/latest copy of the dataset).\n",
    "\n",
    "If you're unfamiliar with Cron Syntax, Crontab Guru can help translate the syntax back into natural language: [https://crontab.guru/#0_12_\\*_\\*_\\*](https://crontab.guru/#0_12_*_*_*)\n",
    "\n",
    "**Note: This cron string will be evaluated in UTC time zone**"
   ]
  },
  {
   "cell_type": "code",
   "execution_count": null,
   "metadata": {
    "id": "oi6qwR46m71i"
   },
   "outputs": [],
   "source": [
    "user_item_dataset = client.create_dataset_from_file_connector(name='Retail Interaction Logs1',table_name='Retail_Interaction_Logs1',\n",
    "                                     location='s3://realityengines.datasets/pers_promotion/events.csv',\n",
    "                                     refresh_schedule='0 12 * * *')\n",
    "\n",
    "item_attributes_dataset = client.create_dataset_from_file_connector(name='Item Categories1',table_name='Item_Categories1',\n",
    "                                     location='s3://realityengines.exampledatasets/pers_promotion/item_categories.csv',\n",
    "                                     refresh_schedule='0 12 * * *')\n",
    "\n",
    "datasets = [user_item_dataset, item_attributes_dataset]"
   ]
  },
  {
   "cell_type": "markdown",
   "metadata": {
    "id": "aaXQcUuar5BI"
   },
   "source": [
    "### Check dataset processing status and get dataset schemas when processing finishes"
   ]
  },
  {
   "cell_type": "code",
   "execution_count": null,
   "metadata": {
    "colab": {
     "base_uri": "https://localhost:8080/"
    },
    "id": "pjevoXnEm88i",
    "outputId": "50ee22e5-d7c4-4a7f-e8da-634c641e515f"
   },
   "outputs": [],
   "source": [
    "for dataset in datasets:\n",
    "    dataset.wait_for_inspection()\n",
    "    print(f'{dataset.name} Schema:')\n",
    "    pp.pprint(client.get_dataset_schema(dataset_id= dataset.dataset_id))"
   ]
  },
  {
   "cell_type": "markdown",
   "metadata": {
    "id": "TxQmyuNer6bK"
   },
   "source": [
    "Each column in a **Dataset** is associated with a **Column Data Type**.\n",
    "All we need to do now is to tell Abacus.AI what field we want to predict from our **Dataset**.\n",
    "\n",
    "For each **Dataset Type** in a **Use Case**, there are special **Column Mappings** that can be applied to a column. We can find the list of available **Column Mappings** by calling the *Describe Use Case Requirements* API."
   ]
  },
  {
   "cell_type": "code",
   "execution_count": null,
   "metadata": {
    "colab": {
     "base_uri": "https://localhost:8080/"
    },
    "id": "Bp9E-YUym-Fr",
    "outputId": "5e896d8c-4568-4e89-fb1a-b18086d3bc59"
   },
   "outputs": [],
   "source": [
    "client.describe_use_case_requirements(use_case)[0].allowed_column_mappings"
   ]
  },
  {
   "cell_type": "markdown",
   "metadata": {
    "id": "_k3uBJsUr72p"
   },
   "source": [
    "We would map the *itemid* column as **ITEM_ID**, the *visitorid* column as **USER_ID**, and the *timestamp* column as **TIMESTAMP**.\n",
    "\n",
    "The result of this call will be the updated schema after the **Column Mapping** is applied."
   ]
  },
  {
   "cell_type": "code",
   "execution_count": null,
   "metadata": {
    "colab": {
     "base_uri": "https://localhost:8080/"
    },
    "id": "3IRWBx95m_HG",
    "outputId": "9d38b7a4-8e6c-4a58-a749-e81d0479c2bb"
   },
   "outputs": [],
   "source": [
    "client.attach_dataset_to_project(dataset_id=user_item_dataset.dataset_id, project_id=promotions_project.project_id, dataset_type='USER_ITEM_INTERACTIONS')\n",
    "\n",
    "\n",
    "client.set_column_mapping(project_id=promotions_project.project_id, dataset_id=user_item_dataset.dataset_id,\n",
    "                          column='itemid', column_mapping='ITEM_ID')\n",
    "\n",
    "client.set_column_mapping(project_id=promotions_project.project_id, dataset_id=user_item_dataset.dataset_id,\n",
    "                          column='visitorid', column_mapping='USER_ID')\n",
    "\n",
    "client.set_column_mapping(project_id=promotions_project.project_id, dataset_id=user_item_dataset.dataset_id,\n",
    "                          column='timestamp', column_mapping='TIMESTAMP')"
   ]
  },
  {
   "cell_type": "markdown",
   "metadata": {
    "id": "-z1az5jqsFlA"
   },
   "source": [
    "Now that we've uploaded the datasets, we're almost ready to train a model!\n",
    "\n",
    "To be sure that our project is ready to go, let's call `project.validate` to confirm that all the project requirements have been met."
   ]
  },
  {
   "cell_type": "code",
   "execution_count": null,
   "metadata": {
    "colab": {
     "base_uri": "https://localhost:8080/"
    },
    "id": "QfCrWMC1nAQh",
    "outputId": "3b8467e0-c877-41fe-a36d-38850165cd50"
   },
   "outputs": [],
   "source": [
    "promotions_project.validate()"
   ]
  },
  {
   "cell_type": "markdown",
   "metadata": {
    "id": "IbIqzNsjsESI"
   },
   "source": [
    "## 3. Train a Model"
   ]
  },
  {
   "cell_type": "markdown",
   "metadata": {
    "id": "w6Pf5VUwsG0C"
   },
   "source": [
    "For each **Use Case**, Abacus.AI has a bunch of options for training. We can call the *Get Training Config Options* API to see the available options."
   ]
  },
  {
   "cell_type": "code",
   "execution_count": null,
   "metadata": {
    "colab": {
     "base_uri": "https://localhost:8080/"
    },
    "id": "A4MGcC4fnBeG",
    "outputId": "a5b14e9e-0aea-4d76-8b64-fe70993d90cc"
   },
   "outputs": [],
   "source": [
    "promotions_project.get_training_config_options()"
   ]
  },
  {
   "cell_type": "markdown",
   "metadata": {
    "id": "lbY-wWOMsIXW"
   },
   "source": [
    "In this notebook, we'll just train with the default options, but definitely feel free to experiment, especially if you have familiarity with Machine Learning."
   ]
  },
  {
   "cell_type": "code",
   "execution_count": null,
   "metadata": {
    "colab": {
     "base_uri": "https://localhost:8080/"
    },
    "id": "ZleD66xQnCY_",
    "outputId": "e3b7ed44-8851-42fc-e4c2-f766eabb6540"
   },
   "outputs": [],
   "source": [
    "promotions_model = promotions_project.train_model(training_config={})\n",
    "promotions_model.to_dict()"
   ]
  },
  {
   "cell_type": "markdown",
   "metadata": {
    "id": "zcyVzLPusJ-A"
   },
   "source": [
    "After we start training the model, we can call this blocking call that routinely checks the status of the model until it is trained and evaluated."
   ]
  },
  {
   "cell_type": "code",
   "execution_count": null,
   "metadata": {
    "id": "RVEBK_UenDXB"
   },
   "outputs": [],
   "source": [
    "promotions_model.wait_for_evaluation()"
   ]
  },
  {
   "cell_type": "markdown",
   "metadata": {
    "id": "UeV3j-ArPWY_"
   },
   "source": [
    "**Note that model training might take some minutes to some hours depending upon the size of datasets, complexity of the models being trained and a variety of other factors**"
   ]
  },
  {
   "cell_type": "markdown",
   "metadata": {
    "id": "xze5D2EYsLzZ"
   },
   "source": [
    "## **Checkpoint** [Optional]\n",
    "As model training can take an hours to complete, your page could time out or you might end up hitting the refresh button, this section helps you restore your progress:"
   ]
  },
  {
   "cell_type": "code",
   "execution_count": null,
   "metadata": {
    "colab": {
     "base_uri": "https://localhost:8080/"
    },
    "id": "b6jh1W0wsNE4",
    "outputId": "ecce6fe6-752e-456c-a898-d48f9e514295"
   },
   "outputs": [],
   "source": [
    "!pip install abacusai\n",
    "import pandas as pd\n",
    "import pprint\n",
    "pp = pprint.PrettyPrinter(indent=2)\n",
    "api_key = ''  #@param {type: \"string\"}\n",
    "from abacusai import ApiClient\n",
    "client = ApiClient(api_key)\n",
    "promotions_project = next(project for project in client.list_projects() if project.name == 'Personalized Promotions Project')\n",
    "promotions_model = promotions_project.list_models()[-1]\n",
    "promotions_model.wait_for_evaluation()"
   ]
  },
  {
   "cell_type": "markdown",
   "metadata": {
    "id": "yOWvGxcGsYcz"
   },
   "source": [
    "## Evaluate your Model Metrics\n",
    "\n",
    "After your model is done training you can inspect the model's quality by reviewing the model's metrics"
   ]
  },
  {
   "cell_type": "code",
   "execution_count": null,
   "metadata": {
    "colab": {
     "base_uri": "https://localhost:8080/"
    },
    "id": "I0CLG0L1nE6k",
    "outputId": "4ddcbf86-3761-4e3b-8048-8792b64b8d5c"
   },
   "outputs": [],
   "source": [
    "pp.pprint(promotions_model.get_metrics().to_dict())"
   ]
  },
  {
   "cell_type": "markdown",
   "metadata": {
    "id": "arkoHs6JsZ_5"
   },
   "source": [
    "To get a better understanding on what these metrics mean, visit our [documentation](https://abacus.ai/app/help/useCases/PERS_PROMOTIONS/training) page."
   ]
  },
  {
   "cell_type": "markdown",
   "metadata": {
    "id": "qN6zws9rsezV"
   },
   "source": [
    "## 4. Deploy Model"
   ]
  },
  {
   "cell_type": "markdown",
   "metadata": {
    "id": "Id2AlJLJsgET"
   },
   "source": [
    "After the model has been trained, we need to deploy the model to be able to start making predictions. Deploying a model will reserve cloud resources to host the model for Realtime and/or batch predictions."
   ]
  },
  {
   "cell_type": "code",
   "execution_count": null,
   "metadata": {
    "colab": {
     "base_uri": "https://localhost:8080/"
    },
    "id": "2IVYnjlvnF5F",
    "outputId": "980c84d5-3842-4a7b-9b5c-e95af4ff68b4"
   },
   "outputs": [],
   "source": [
    "promotions_deployment = client.create_deployment(name='Personalized Promotions Deployment',model_id=promotions_model.model_id,description='Personalized Promotions Deployment')\n",
    "promotions_deployment.wait_for_deployment()"
   ]
  },
  {
   "cell_type": "markdown",
   "metadata": {
    "id": "KmXL_efDshep"
   },
   "source": [
    "After the model is deployed, we need to create a deployment token for authenticating prediction requests. This token is only authorized to predict on deployments in this project, so it's safe to embed this token inside of a user-facing application or website."
   ]
  },
  {
   "cell_type": "code",
   "execution_count": null,
   "metadata": {
    "colab": {
     "base_uri": "https://localhost:8080/",
     "height": 35
    },
    "id": "JAbYOMDHnG_F",
    "outputId": "82d6ae34-e5ab-4c39-abe8-d3f7d648d899"
   },
   "outputs": [],
   "source": [
    "deployment_token = promotions_project.create_deployment_token().deployment_token\n",
    "deployment_token"
   ]
  },
  {
   "cell_type": "markdown",
   "metadata": {
    "id": "xMk0g7Nksi11"
   },
   "source": [
    "## 5. Predict\n"
   ]
  },
  {
   "cell_type": "markdown",
   "metadata": {
    "id": "Ugj0m1BAskZq"
   },
   "source": [
    "Now that you have an active deployment and a deployment token to authenticate requests, you can make the `get_personalized_ranking` API call below.\n",
    "\n",
    "This command will return a list with each specified item ID ranked according to the specified visitor's preferences. The ranking would be performed based on what movies the user liked in the past and how the movies and users are related to each other depending on their attributes."
   ]
  },
  {
   "cell_type": "code",
   "execution_count": null,
   "metadata": {
    "colab": {
     "base_uri": "https://localhost:8080/"
    },
    "id": "cpudWxY3nH9r",
    "outputId": "5fb86df3-373a-4f69-90d6-3492f0b63c71"
   },
   "outputs": [],
   "source": [
    "ApiClient().get_personalized_ranking(deployment_token=deployment_token,\n",
    "                                     deployment_id=promotions_deployment.deployment_id,\n",
    "                                     query_data={\"visitorid\":\"100018\",\"itemid\":[\"424193\",\"181204\",\"385091\",\"339763\",\"344603\"]})"
   ]
  }
 ],
 "metadata": {
  "colab": {
   "collapsed_sections": [],
   "name": "Copy of Personalized Promotions Notebook.ipynb",
   "provenance": []
  },
  "kernelspec": {
   "display_name": "Python 3",
   "language": "python",
   "name": "python3"
  },
  "language_info": {
   "codemirror_mode": {
    "name": "ipython",
    "version": 3
   },
   "file_extension": ".py",
   "mimetype": "text/x-python",
   "name": "python",
   "nbconvert_exporter": "python",
   "pygments_lexer": "ipython3",
   "version": "3.8.10"
  }
 },
 "nbformat": 4,
 "nbformat_minor": 1
}
