{
 "cells": [
  {
   "cell_type": "markdown",
   "metadata": {
    "colab_type": "text",
    "id": "9C9IEcYV_iZh"
   },
   "source": [
    "## How-to guide for Real-Time Forecasting use-case on Abacus.AI platform\n",
    "This notebook provides you with a hands on environment to build a real-time forecasting model using the Abacus.AI Python Client Library.\n",
    "\n",
    "We'll be using the [Household Electricity Usage Dataset](https://s3.amazonaws.com/realityengines.exampledatasets/rtforecasting/household_electricity_usage.csv), which contains data about electricity usage in a specified household."
   ]
  },
  {
   "cell_type": "markdown",
   "metadata": {
    "colab_type": "text",
    "id": "hKbimuye_5P8"
   },
   "source": [
    "1. Install the Abacus.AI library."
   ]
  },
  {
   "cell_type": "code",
   "execution_count": null,
   "metadata": {
    "colab": {
     "base_uri": "https://localhost:8080/",
     "height": 326
    },
    "colab_type": "code",
    "executionInfo": {
     "elapsed": 5728,
     "status": "ok",
     "timestamp": 1596649076972,
     "user": {
      "displayName": "Ashni Sheth",
      "photoUrl": "https://lh3.googleusercontent.com/a-/AOh14Gj5hwKgDpwIJPCrdFXQB60XSkRPTEWGv9jeKLpnMo0=s64",
      "userId": "15098545459592232887"
     },
     "user_tz": 420
    },
    "id": "U0WStChzikct",
    "outputId": "0b65ce25-be08-4be0-a62c-d73728dc48fb"
   },
   "outputs": [],
   "source": [
    "!pip install abacusai"
   ]
  },
  {
   "cell_type": "markdown",
   "metadata": {
    "colab_type": "text",
    "id": "p8rrYtzx_80l"
   },
   "source": [
    "We'll also import pandas and pprint tools for neat visualization in this notebook."
   ]
  },
  {
   "cell_type": "code",
   "execution_count": null,
   "metadata": {
    "colab": {},
    "colab_type": "code",
    "id": "L5NOxjIlivMC"
   },
   "outputs": [],
   "source": [
    "import pandas as pd # A tool we'll use to download and preview CSV files\n",
    "import pprint # A tool to pretty print dictionary outputs\n",
    "pp = pprint.PrettyPrinter(indent=2)"
   ]
  },
  {
   "cell_type": "markdown",
   "metadata": {
    "colab_type": "text",
    "id": "-35NaOTT__Wx"
   },
   "source": [
    "2. Add your Abacus.AI [API Key](https://abacus.ai/app/profile/apikey) generated using the API dashboard as follows:"
   ]
  },
  {
   "cell_type": "code",
   "execution_count": null,
   "metadata": {
    "colab": {},
    "colab_type": "code",
    "id": "PG8cUIzSix-A"
   },
   "outputs": [],
   "source": [
    "#@title Abacus.AI API Key\n",
    "\n",
    "api_key = ''  #@param {type: \"string\"}"
   ]
  },
  {
   "cell_type": "markdown",
   "metadata": {
    "colab_type": "text",
    "id": "Y3GdvcMdABM8"
   },
   "source": [
    "3. Import the Abacus.AI library and instantiate a client."
   ]
  },
  {
   "cell_type": "code",
   "execution_count": null,
   "metadata": {
    "colab": {},
    "colab_type": "code",
    "id": "Xg4kl96gizR6"
   },
   "outputs": [],
   "source": [
    "from abacusai import ApiClient\n",
    "client = ApiClient(api_key)"
   ]
  },
  {
   "cell_type": "markdown",
   "metadata": {
    "colab_type": "text",
    "id": "3_q7nUwrADgC"
   },
   "source": [
    "## 1. Create a Project\n",
    "\n",
    "Abacus.AI projects are containers that have datasets and trained models. By specifying a business **Use Case**, Abacus.AI tailors the deep learning algorithms to produce the best performing model possible for your data.\n",
    "\n",
    "We'll call the `list_use_cases` method to retrieve a list of the available Use Cases currently available on the Abacus.AI platform."
   ]
  },
  {
   "cell_type": "code",
   "execution_count": null,
   "metadata": {
    "colab": {
     "base_uri": "https://localhost:8080/",
     "height": 326
    },
    "colab_type": "code",
    "executionInfo": {
     "elapsed": 1010,
     "status": "ok",
     "timestamp": 1596649079546,
     "user": {
      "displayName": "Ashni Sheth",
      "photoUrl": "https://lh3.googleusercontent.com/a-/AOh14Gj5hwKgDpwIJPCrdFXQB60XSkRPTEWGv9jeKLpnMo0=s64",
      "userId": "15098545459592232887"
     },
     "user_tz": 420
    },
    "id": "mb2bdmAfi0cK",
    "outputId": "12eb4e3c-870a-4be8-bc20-7925c878211d"
   },
   "outputs": [],
   "source": [
    "client.list_use_cases()"
   ]
  },
  {
   "cell_type": "markdown",
   "metadata": {
    "colab_type": "text",
    "id": "iuYYFCQcAJYz"
   },
   "source": [
    "In this notebook, we're going to create a real-time forecasting model using the Household Electricity Usage dataset. The 'ENERGY' use case is best tailored for this situation."
   ]
  },
  {
   "cell_type": "code",
   "execution_count": null,
   "metadata": {
    "colab": {},
    "colab_type": "code",
    "id": "B81MrzLLi1-9"
   },
   "outputs": [],
   "source": [
    "#@title Abacus.AI Use Case\n",
    "\n",
    "use_case = 'ENERGY'  #@param {type: \"string\"}"
   ]
  },
  {
   "cell_type": "markdown",
   "metadata": {
    "colab_type": "text",
    "id": "TGm4-JnUAOhj"
   },
   "source": [
    "By calling the `describe_use_case_requirements` method we can view what datasets are required for this use_case."
   ]
  },
  {
   "cell_type": "code",
   "execution_count": null,
   "metadata": {
    "colab": {
     "base_uri": "https://localhost:8080/",
     "height": 1000
    },
    "colab_type": "code",
    "executionInfo": {
     "elapsed": 670,
     "status": "ok",
     "timestamp": 1596649082222,
     "user": {
      "displayName": "Ashni Sheth",
      "photoUrl": "https://lh3.googleusercontent.com/a-/AOh14Gj5hwKgDpwIJPCrdFXQB60XSkRPTEWGv9jeKLpnMo0=s64",
      "userId": "15098545459592232887"
     },
     "user_tz": 420
    },
    "id": "stifLaX0i-kA",
    "outputId": "83a064a4-dda4-4e7e-f49a-dbfd85d857a1"
   },
   "outputs": [],
   "source": [
    "for requirement in client.describe_use_case_requirements(use_case):\n",
    "  pp.pprint(requirement.to_dict())"
   ]
  },
  {
   "cell_type": "markdown",
   "metadata": {
    "colab_type": "text",
    "id": "QIvPIQdrAQh5"
   },
   "source": [
    "Finally, let's create the project."
   ]
  },
  {
   "cell_type": "code",
   "execution_count": null,
   "metadata": {
    "colab": {
     "base_uri": "https://localhost:8080/",
     "height": 85
    },
    "colab_type": "code",
    "executionInfo": {
     "elapsed": 649,
     "status": "ok",
     "timestamp": 1596649085775,
     "user": {
      "displayName": "Ashni Sheth",
      "photoUrl": "https://lh3.googleusercontent.com/a-/AOh14Gj5hwKgDpwIJPCrdFXQB60XSkRPTEWGv9jeKLpnMo0=s64",
      "userId": "15098545459592232887"
     },
     "user_tz": 420
    },
    "id": "ji7nzh7ujAIR",
    "outputId": "0647bf5c-cbb5-4435-cbfb-cce221dc5142"
   },
   "outputs": [],
   "source": [
    "real_time_project = client.create_project(name='Electricity Usage Forecasting', use_case=use_case)\n",
    "real_time_project.to_dict()"
   ]
  },
  {
   "cell_type": "markdown",
   "metadata": {
    "colab_type": "text",
    "id": "-NeRTkfLATR5"
   },
   "source": [
    "## 2. Add Datasets to your Project\n",
    "\n",
    "Abacus.AI can read datasets directly from `AWS S3` or `Google Cloud Storage` buckets, otherwise you can also directly upload and store your datasets with Abacus.AI. For this notebook, we will have Abacus.AI read the datasets directly from a public S3 bucket's location.\n",
    "\n",
    "We are using one dataset for this notebook. We'll tell Abacus.AI how the dataset should be used when creating it by tagging the dataset with a special Abacus.AI **Dataset Type**.\n",
    "- [Household Electricity Usage Dataset](https://s3.amazonaws.com/realityengines.exampledatasets/rtforecasting/household_electricity_usage.csv) (**TIMESERIES**): \n",
    "This dataset contains information about electricity usage in specified households over a period of time."
   ]
  },
  {
   "cell_type": "markdown",
   "metadata": {
    "colab_type": "text",
    "id": "4x7RSou5Ae-1"
   },
   "source": [
    "### Add the dataset to Abacus.AI\n",
    "\n",
    "First we'll use Pandas to preview the file, then add it to Abacus.AI."
   ]
  },
  {
   "cell_type": "code",
   "execution_count": null,
   "metadata": {
    "colab": {
     "base_uri": "https://localhost:8080/",
     "height": 419
    },
    "colab_type": "code",
    "executionInfo": {
     "elapsed": 17547,
     "status": "ok",
     "timestamp": 1596649105650,
     "user": {
      "displayName": "Ashni Sheth",
      "photoUrl": "https://lh3.googleusercontent.com/a-/AOh14Gj5hwKgDpwIJPCrdFXQB60XSkRPTEWGv9jeKLpnMo0=s64",
      "userId": "15098545459592232887"
     },
     "user_tz": 420
    },
    "id": "YP9vhBMpe7Rv",
    "outputId": "0bda223e-c3ab-4a09-e669-ee3bbc857bfd"
   },
   "outputs": [],
   "source": [
    "pd.read_csv('https://s3.amazonaws.com/realityengines.exampledatasets/rtforecasting/household_electricity_usage.csv')"
   ]
  },
  {
   "cell_type": "markdown",
   "metadata": {
    "colab_type": "text",
    "id": "8XA5b9pTAhIe"
   },
   "source": [
    "Using the Create Dataset API, we can tell Abacus.AI the public S3 URI of where to find the datasets. We will also give each dataset a Refresh Schedule, which tells Abacus.AI when it should refresh the dataset (take an updated/latest copy of the dataset).\n",
    "\n",
    "If you're unfamiliar with Cron Syntax, Crontab Guru can help translate the syntax back into natural language: [https://crontab.guru/#0_12_\\*_\\*_\\*](https://crontab.guru/#0_12_*_*_*)\n",
    "\n",
    "**Note: This cron string will be evaluated in UTC time zone**"
   ]
  },
  {
   "cell_type": "code",
   "execution_count": null,
   "metadata": {
    "colab": {},
    "colab_type": "code",
    "id": "N-o7hNMCe718"
   },
   "outputs": [],
   "source": [
    "real_time_dataset = client.create_dataset('Household Electricity Usage', \n",
    "                                     location='s3://realityengines.exampledatasets/rtforecasting/household_electricity_usage.csv',\n",
    "                                     project_id=real_time_project.project_id, \n",
    "                                     dataset_type='TIMESERIES',\n",
    "                                     refresh_schedule='0 12 * * *')\n",
    "datasets = [real_time_dataset]"
   ]
  },
  {
   "cell_type": "markdown",
   "metadata": {
    "colab_type": "text",
    "id": "T25H8aNrAlZX"
   },
   "source": [
    "### Check dataset processing status and get dataset schemas when processing finishes"
   ]
  },
  {
   "cell_type": "code",
   "execution_count": null,
   "metadata": {
    "colab": {
     "base_uri": "https://localhost:8080/",
     "height": 85
    },
    "colab_type": "code",
    "executionInfo": {
     "elapsed": 1389,
     "status": "ok",
     "timestamp": 1596651853430,
     "user": {
      "displayName": "Ashni Sheth",
      "photoUrl": "https://lh3.googleusercontent.com/a-/AOh14Gj5hwKgDpwIJPCrdFXQB60XSkRPTEWGv9jeKLpnMo0=s64",
      "userId": "15098545459592232887"
     },
     "user_tz": 420
    },
    "id": "UlUMfBPJfVit",
    "outputId": "c9748438-a115-420b-c91c-58c8075061db"
   },
   "outputs": [],
   "source": [
    "for dataset in datasets:\n",
    "    dataset.wait_for_inspection()\n",
    "    print(f'{dataset.name} Schema:')\n",
    "    pp.pprint(client.get_schema(real_time_project.project_id, dataset.dataset_id))"
   ]
  },
  {
   "cell_type": "markdown",
   "metadata": {
    "colab_type": "text",
    "id": "3A1sxAPxAn3s"
   },
   "source": [
    "Each column in a **Dataset** is associated with a **Column Data Type**.\n",
    "All we need to do now is to tell Abacus.AI what field we want to predict from our **Dataset**.\n",
    "\n",
    "For each **Dataset Type** in a **Use Case**, there are special **Column Mappings** that can be applied to a column. We can find the list of available **Column Mappings** by calling the *Describe Use Case Requirements* API."
   ]
  },
  {
   "cell_type": "code",
   "execution_count": null,
   "metadata": {
    "colab": {
     "base_uri": "https://localhost:8080/",
     "height": 292
    },
    "colab_type": "code",
    "executionInfo": {
     "elapsed": 574,
     "status": "ok",
     "timestamp": 1596651855618,
     "user": {
      "displayName": "Ashni Sheth",
      "photoUrl": "https://lh3.googleusercontent.com/a-/AOh14Gj5hwKgDpwIJPCrdFXQB60XSkRPTEWGv9jeKLpnMo0=s64",
      "userId": "15098545459592232887"
     },
     "user_tz": 420
    },
    "id": "psFHlxSzjCGG",
    "outputId": "aeeca972-594e-4892-ba1c-42e91088215a"
   },
   "outputs": [],
   "source": [
    "client.describe_use_case_requirements(use_case)[0].allowed_column_mappings"
   ]
  },
  {
   "cell_type": "markdown",
   "metadata": {
    "colab_type": "text",
    "id": "dTh1gkvtApnD"
   },
   "source": [
    "We would map the *value* column as **TARGET**, the *time* column as **DATE**, and the *id* column as **ITEM_ID**.\n",
    "\n",
    "The result of this call will be the updated schema after the **Column Mapping** is applied as stated above."
   ]
  },
  {
   "cell_type": "code",
   "execution_count": null,
   "metadata": {
    "colab": {
     "base_uri": "https://localhost:8080/",
     "height": 68
    },
    "colab_type": "code",
    "executionInfo": {
     "elapsed": 1495,
     "status": "ok",
     "timestamp": 1596651876261,
     "user": {
      "displayName": "Ashni Sheth",
      "photoUrl": "https://lh3.googleusercontent.com/a-/AOh14Gj5hwKgDpwIJPCrdFXQB60XSkRPTEWGv9jeKLpnMo0=s64",
      "userId": "15098545459592232887"
     },
     "user_tz": 420
    },
    "id": "wH-3CgPXlEIJ",
    "outputId": "696f4f70-0789-4fb2-960b-0c4c06608ed4"
   },
   "outputs": [],
   "source": [
    "client.set_column_mapping(project_id=real_time_project.project_id, dataset_id=real_time_dataset.dataset_id,\n",
    "                          column='value', column_mapping='TARGET')\n",
    "\n",
    "client.set_column_mapping(project_id=real_time_project.project_id, dataset_id=real_time_dataset.dataset_id,\n",
    "                          column='time', column_mapping='DATE')\n",
    "\n",
    "client.set_column_mapping(project_id=real_time_project.project_id, dataset_id=real_time_dataset.dataset_id,\n",
    "                          column='id', column_mapping='ITEM_ID')"
   ]
  },
  {
   "cell_type": "markdown",
   "metadata": {
    "colab_type": "text",
    "id": "PLnozF7iAtnf"
   },
   "source": [
    "## 3. Train a Model"
   ]
  },
  {
   "cell_type": "markdown",
   "metadata": {
    "colab_type": "text",
    "id": "W22uAj4bAvW9"
   },
   "source": [
    "Now that we've uploaded the datasets, we're almost ready to train a model!\n",
    "\n",
    "To be sure that our project is ready to go, let's call `project.validate` to confirm that all the project requirements have been met."
   ]
  },
  {
   "cell_type": "code",
   "execution_count": null,
   "metadata": {
    "colab": {
     "base_uri": "https://localhost:8080/",
     "height": 34
    },
    "colab_type": "code",
    "executionInfo": {
     "elapsed": 827,
     "status": "ok",
     "timestamp": 1596651879706,
     "user": {
      "displayName": "Ashni Sheth",
      "photoUrl": "https://lh3.googleusercontent.com/a-/AOh14Gj5hwKgDpwIJPCrdFXQB60XSkRPTEWGv9jeKLpnMo0=s64",
      "userId": "15098545459592232887"
     },
     "user_tz": 420
    },
    "id": "tKoiftY0j3TG",
    "outputId": "ea4b9def-07a4-46f3-a5da-4cf9dffc7bbd"
   },
   "outputs": [],
   "source": [
    "real_time_project.validate()"
   ]
  },
  {
   "cell_type": "markdown",
   "metadata": {
    "colab_type": "text",
    "id": "dbeXVyMFAy4J"
   },
   "source": [
    "For each **Use Case**, Abacus.AI has a bunch of options for training. We can call the *Get Training Config Options* API to see the available options."
   ]
  },
  {
   "cell_type": "code",
   "execution_count": null,
   "metadata": {
    "colab": {
     "base_uri": "https://localhost:8080/",
     "height": 156
    },
    "colab_type": "code",
    "executionInfo": {
     "elapsed": 484,
     "status": "ok",
     "timestamp": 1596651881211,
     "user": {
      "displayName": "Ashni Sheth",
      "photoUrl": "https://lh3.googleusercontent.com/a-/AOh14Gj5hwKgDpwIJPCrdFXQB60XSkRPTEWGv9jeKLpnMo0=s64",
      "userId": "15098545459592232887"
     },
     "user_tz": 420
    },
    "id": "codpuGdzj5Mp",
    "outputId": "1b2fb08f-9fac-4b7c-f06c-10c09ea361cb"
   },
   "outputs": [],
   "source": [
    "real_time_project.get_training_config_options()"
   ]
  },
  {
   "cell_type": "markdown",
   "metadata": {
    "colab_type": "text",
    "id": "qGVMoOJxA1iX"
   },
   "source": [
    "In this notebook, we'll just train with the default options, but definitely feel free to experiment, especially if you have familiarity with Machine Learning."
   ]
  },
  {
   "cell_type": "code",
   "execution_count": null,
   "metadata": {
    "colab": {
     "base_uri": "https://localhost:8080/",
     "height": 255
    },
    "colab_type": "code",
    "executionInfo": {
     "elapsed": 694,
     "status": "ok",
     "timestamp": 1596651882886,
     "user": {
      "displayName": "Ashni Sheth",
      "photoUrl": "https://lh3.googleusercontent.com/a-/AOh14Gj5hwKgDpwIJPCrdFXQB60XSkRPTEWGv9jeKLpnMo0=s64",
      "userId": "15098545459592232887"
     },
     "user_tz": 420
    },
    "id": "VBqdxHYMj6Xg",
    "outputId": "49b965a8-d559-4642-9370-39f0e7a5756c"
   },
   "outputs": [],
   "source": [
    "real_time_model = real_time_project.train_model(training_config={})\n",
    "real_time_model.to_dict()"
   ]
  },
  {
   "cell_type": "markdown",
   "metadata": {
    "colab_type": "text",
    "id": "bRydhua9A5OT"
   },
   "source": [
    "After we start training the model, we can call this blocking call that routinely checks the status of the model until it is trained and evaluated."
   ]
  },
  {
   "cell_type": "code",
   "execution_count": null,
   "metadata": {
    "colab": {
     "base_uri": "https://localhost:8080/",
     "height": 54
    },
    "colab_type": "code",
    "executionInfo": {
     "elapsed": 1742190,
     "status": "ok",
     "timestamp": 1596671145905,
     "user": {
      "displayName": "Ashni Sheth",
      "photoUrl": "https://lh3.googleusercontent.com/a-/AOh14Gj5hwKgDpwIJPCrdFXQB60XSkRPTEWGv9jeKLpnMo0=s64",
      "userId": "15098545459592232887"
     },
     "user_tz": 420
    },
    "id": "iZLUwj3_j8AH",
    "outputId": "b0351c4d-3777-447a-f9d4-7333c88ab4d1"
   },
   "outputs": [],
   "source": [
    "real_time_model.wait_for_evaluation()"
   ]
  },
  {
   "cell_type": "markdown",
   "metadata": {
    "colab_type": "text",
    "id": "_G_IrWmbA7vZ"
   },
   "source": [
    "## **(Checkpoint)**\n",
    "Training can take an hour or two to complete, but we encourage you to run the remaining calls on your own time. If your page times out or you hit refresh, you can restore your progress in this section."
   ]
  },
  {
   "cell_type": "code",
   "execution_count": null,
   "metadata": {
    "colab": {},
    "colab_type": "code",
    "id": "eeNOLyfnA877"
   },
   "outputs": [],
   "source": [
    "!pip install abacusai\n",
    "import pandas as pd\n",
    "import pprint\n",
    "pp = pprint.PrettyPrinter(indent=2)\n",
    "api_key = ''  #@param {type: \"string\"}\n",
    "from abacusai import ApiClient\n",
    "client = ApiClient(api_key)\n",
    "real_time_project = next(project for project in client.list_projects() if project.name == 'Electricity Usage Forecasting')\n",
    "real_time_model = real_time_project.list_models()[-1]\n",
    "real_time_model.wait_for_evaluation()"
   ]
  },
  {
   "cell_type": "markdown",
   "metadata": {
    "colab_type": "text",
    "id": "xw7POj4tBKTG"
   },
   "source": [
    "## Evaluate your Model Metrics\n",
    "\n",
    "After your model is done training you can inspect the model's quality by reviewing the model's metrics"
   ]
  },
  {
   "cell_type": "code",
   "execution_count": null,
   "metadata": {
    "colab": {
     "base_uri": "https://localhost:8080/",
     "height": 170
    },
    "colab_type": "code",
    "executionInfo": {
     "elapsed": 750,
     "status": "ok",
     "timestamp": 1596671261106,
     "user": {
      "displayName": "Ashni Sheth",
      "photoUrl": "https://lh3.googleusercontent.com/a-/AOh14Gj5hwKgDpwIJPCrdFXQB60XSkRPTEWGv9jeKLpnMo0=s64",
      "userId": "15098545459592232887"
     },
     "user_tz": 420
    },
    "id": "GQ8AH0xsj9ts",
    "outputId": "1ac6aaef-46ec-42f8-aa8f-ee73c5627076"
   },
   "outputs": [],
   "source": [
    "pp.pprint(real_time_model.get_metrics().to_dict())"
   ]
  },
  {
   "cell_type": "markdown",
   "metadata": {
    "colab_type": "text",
    "id": "Me7R75zPBMbW"
   },
   "source": [
    "To get a better understanding on what these metrics mean, visit our [documentation](https://abacus.ai/app/help/useCases/ENERGY/training) page."
   ]
  },
  {
   "cell_type": "markdown",
   "metadata": {
    "colab_type": "text",
    "id": "OKr0VRyiBV8S"
   },
   "source": [
    "## 4. Deploy Model"
   ]
  },
  {
   "cell_type": "markdown",
   "metadata": {
    "colab_type": "text",
    "id": "DascIt8KBWQW"
   },
   "source": [
    "After the model has been trained, we need to deploy the model to be able to start making predictions. Deploying a model will reserve cloud resources to host the model for Realtime and/or batch predictions."
   ]
  },
  {
   "cell_type": "code",
   "execution_count": null,
   "metadata": {
    "colab": {
     "base_uri": "https://localhost:8080/",
     "height": 54
    },
    "colab_type": "code",
    "executionInfo": {
     "elapsed": 54203,
     "status": "ok",
     "timestamp": 1596671317547,
     "user": {
      "displayName": "Ashni Sheth",
      "photoUrl": "https://lh3.googleusercontent.com/a-/AOh14Gj5hwKgDpwIJPCrdFXQB60XSkRPTEWGv9jeKLpnMo0=s64",
      "userId": "15098545459592232887"
     },
     "user_tz": 420
    },
    "id": "-aGgzb95j_AF",
    "outputId": "e5ee0d91-c721-46ab-c703-8ded362d0b7d"
   },
   "outputs": [],
   "source": [
    "real_time_deployment = real_time_model.create_deployment('Electricity Usage Deployment')\n",
    "real_time_deployment.wait_for_deployment()"
   ]
  },
  {
   "cell_type": "markdown",
   "metadata": {
    "colab_type": "text",
    "id": "u9pQBRmPBbk1"
   },
   "source": [
    "After the model is deployed, we need to create a deployment token for authenticating prediction requests. This token is only authorized to predict on deployments in this project, so it's safe to embed this token inside of a user-facing application or website."
   ]
  },
  {
   "cell_type": "code",
   "execution_count": null,
   "metadata": {
    "colab": {
     "base_uri": "https://localhost:8080/",
     "height": 35
    },
    "colab_type": "code",
    "executionInfo": {
     "elapsed": 889,
     "status": "ok",
     "timestamp": 1596671715084,
     "user": {
      "displayName": "Ashni Sheth",
      "photoUrl": "https://lh3.googleusercontent.com/a-/AOh14Gj5hwKgDpwIJPCrdFXQB60XSkRPTEWGv9jeKLpnMo0=s64",
      "userId": "15098545459592232887"
     },
     "user_tz": 420
    },
    "id": "ThqR7zVXkAa-",
    "outputId": "46e4f962-e785-4968-fce9-3ec53b2d6446"
   },
   "outputs": [],
   "source": [
    "deployment_token = real_time_project.create_deployment_token().deployment_token\n",
    "deployment_token"
   ]
  },
  {
   "cell_type": "markdown",
   "metadata": {
    "colab_type": "text",
    "id": "7d7RMuJwBc5G"
   },
   "source": [
    "## 5. Predict\n"
   ]
  },
  {
   "cell_type": "markdown",
   "metadata": {
    "colab_type": "text",
    "id": "1FgHz2XOBdQn"
   },
   "source": [
    "Now that you have an active deployment and a deployment token to authenticate requests, you can make the `get_forecast` API call below.\n",
    "\n",
    "This command will return a forecast under each percentile for the specified ITEM_ID. The forecast will be performed based on attributes specified in the dataset."
   ]
  },
  {
   "cell_type": "code",
   "execution_count": null,
   "metadata": {
    "colab": {
     "base_uri": "https://localhost:8080/",
     "height": 1000
    },
    "colab_type": "code",
    "executionInfo": {
     "elapsed": 4071,
     "status": "ok",
     "timestamp": 1596671720109,
     "user": {
      "displayName": "Ashni Sheth",
      "photoUrl": "https://lh3.googleusercontent.com/a-/AOh14Gj5hwKgDpwIJPCrdFXQB60XSkRPTEWGv9jeKLpnMo0=s64",
      "userId": "15098545459592232887"
     },
     "user_tz": 420
    },
    "id": "T6n-vz0lkB65",
    "outputId": "54462ae7-245f-4100-9dca-70d05e8318ae"
   },
   "outputs": [],
   "source": [
    "ApiClient().get_forecast(deployment_token=deployment_token, \n",
    "               deployment_id=real_time_deployment.deployment_id, \n",
    "               query_data={\"id\":\"MT_001\"})"
   ]
  }
 ],
 "metadata": {
  "colab": {
   "authorship_tag": "ABX9TyM72osHips4VrCkVPyw0cdl",
   "collapsed_sections": [],
   "name": "Real-time Forecasting Notebook.ipynb",
   "provenance": [],
   "toc_visible": true
  },
  "kernelspec": {
   "display_name": "Python 3",
   "name": "python3"
  }
 },
 "nbformat": 4,
 "nbformat_minor": 0
}
