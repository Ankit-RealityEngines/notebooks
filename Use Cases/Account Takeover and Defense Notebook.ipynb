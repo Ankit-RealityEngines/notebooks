{
  "cells": [
    {
      "cell_type": "markdown",
      "metadata": {
        "id": "6V3mweyQAnzQ"
      },
      "source": [
        "## How-to guide for Account Takeover and Defense use-case on Abacus.AI platform\n",
        "This notebook provides you with a hands on environment to build an account takeover detection & protection model using the Abacus.AI Python Client Library.\n",
        "\n",
        "We'll be using the [Insider Threat Test Dataset](https://s3.amazonaws.com/realityengines.exampledatasets/accounttakeover/kdd_500k.csv), which contains information about attacks on certain accounts."
      ]
    },
    {
      "cell_type": "markdown",
      "metadata": {
        "id": "kjGhV4G8r63z"
      },
      "source": [
        "1. Install the Abacus.AI library."
      ]
    },
    {
      "cell_type": "code",
      "execution_count": null,
      "metadata": {
        "colab": {
          "base_uri": "https://localhost:8080/"
        },
        "id": "unN6VHSxeQYZ",
        "outputId": "479252d7-a413-4bcd-80ff-acb75d22504e"
      },
      "outputs": [
        {
          "name": "stdout",
          "output_type": "stream",
          "text": [
            "Collecting abacusai\n",
            "  Downloading abacusai-0.32.9.tar.gz (40 kB)\n",
            "\u001b[?25l\r\u001b[K     |████████                        | 10 kB 20.4 MB/s eta 0:00:01\r\u001b[K     |████████████████▏               | 20 kB 16.1 MB/s eta 0:00:01\r\u001b[K     |████████████████████████▎       | 30 kB 10.5 MB/s eta 0:00:01\r\u001b[K     |████████████████████████████████| 40 kB 2.5 MB/s \n",
            "\u001b[?25hRequirement already satisfied: packaging in /usr/local/lib/python3.7/dist-packages (from abacusai) (21.3)\n",
            "Requirement already satisfied: requests in /usr/local/lib/python3.7/dist-packages (from abacusai) (2.23.0)\n",
            "Requirement already satisfied: pandas in /usr/local/lib/python3.7/dist-packages (from abacusai) (1.1.5)\n",
            "Collecting fastavro\n",
            "  Downloading fastavro-1.4.7-cp37-cp37m-manylinux_2_17_x86_64.manylinux2014_x86_64.whl (2.3 MB)\n",
            "\u001b[K     |████████████████████████████████| 2.3 MB 8.2 MB/s \n",
            "\u001b[?25hRequirement already satisfied: pyparsing!=3.0.5,>=2.0.2 in /usr/local/lib/python3.7/dist-packages (from packaging->abacusai) (3.0.6)\n",
            "Requirement already satisfied: pytz>=2017.2 in /usr/local/lib/python3.7/dist-packages (from pandas->abacusai) (2018.9)\n",
            "Requirement already satisfied: python-dateutil>=2.7.3 in /usr/local/lib/python3.7/dist-packages (from pandas->abacusai) (2.8.2)\n",
            "Requirement already satisfied: numpy>=1.15.4 in /usr/local/lib/python3.7/dist-packages (from pandas->abacusai) (1.19.5)\n",
            "Requirement already satisfied: six>=1.5 in /usr/local/lib/python3.7/dist-packages (from python-dateutil>=2.7.3->pandas->abacusai) (1.15.0)\n",
            "Requirement already satisfied: certifi>=2017.4.17 in /usr/local/lib/python3.7/dist-packages (from requests->abacusai) (2021.10.8)\n",
            "Requirement already satisfied: chardet<4,>=3.0.2 in /usr/local/lib/python3.7/dist-packages (from requests->abacusai) (3.0.4)\n",
            "Requirement already satisfied: idna<3,>=2.5 in /usr/local/lib/python3.7/dist-packages (from requests->abacusai) (2.10)\n",
            "Requirement already satisfied: urllib3!=1.25.0,!=1.25.1,<1.26,>=1.21.1 in /usr/local/lib/python3.7/dist-packages (from requests->abacusai) (1.24.3)\n",
            "Building wheels for collected packages: abacusai\n",
            "  Building wheel for abacusai (setup.py) ... \u001b[?25l\u001b[?25hdone\n",
            "  Created wheel for abacusai: filename=abacusai-0.32.9-py3-none-any.whl size=58147 sha256=eb42912ad51747e61b7cc867f7cbda973085f6223a2c3eede6a011bd13202b7b\n",
            "  Stored in directory: /root/.cache/pip/wheels/f2/79/18/e8a7e9f30fc534e6f5b2a67eebac0add054bbabfa983663ec5\n",
            "Successfully built abacusai\n",
            "Installing collected packages: fastavro, abacusai\n",
            "Successfully installed abacusai-0.32.9 fastavro-1.4.7\n"
          ]
        }
      ],
      "source": [
        "!pip install abacusai"
      ]
    },
    {
      "cell_type": "markdown",
      "metadata": {
        "id": "b0xycfYsr-Rp"
      },
      "source": [
        "We'll also import pandas and pprint tools for neat visualization in this notebook:"
      ]
    },
    {
      "cell_type": "code",
      "execution_count": null,
      "metadata": {
        "id": "_lsHl6DveEyW"
      },
      "outputs": [],
      "source": [
        "import pandas as pd # A tool we'll use to download and preview CSV files\n",
        "import pprint # A tool to pretty print dictionary outputs\n",
        "pp = pprint.PrettyPrinter(indent=2)"
      ]
    },
    {
      "cell_type": "markdown",
      "metadata": {
        "id": "fXoFDsjCsA91"
      },
      "source": [
        "2. Add your Abacus.AI [API Key](https://abacus.ai/app/profile/apikey) generated using the API dashboard as follows:"
      ]
    },
    {
      "cell_type": "code",
      "execution_count": null,
      "metadata": {
        "id": "HthXlkc6eXwZ"
      },
      "outputs": [],
      "source": [
        "#@title Abacus.AI API Key\n",
        "\n",
        "api_key = '2fdecde877dc45fab937eff82b70eff0'  #@param {type: \"string\"}"
      ]
    },
    {
      "cell_type": "markdown",
      "metadata": {
        "id": "McfjHWtAsD_r"
      },
      "source": [
        "3. Import the Abacus.AI library and instantiate a client."
      ]
    },
    {
      "cell_type": "code",
      "execution_count": null,
      "metadata": {
        "id": "YuY1cKA7eaJk"
      },
      "outputs": [],
      "source": [
        "from abacusai import ApiClient\n",
        "client = ApiClient(api_key)"
      ]
    },
    {
      "cell_type": "markdown",
      "metadata": {
        "id": "hLgRc_HUsGAa"
      },
      "source": [
        "## 1. Create a Project\n",
        "\n",
        "Abacus.AI projects are containers that have datasets and trained models. By specifying a business **Use Case**, Abacus.AI tailors the deep learning algorithms to produce the best performing model catered specifically for your data.\n",
        "\n",
        "We'll call the `list_use_cases` method to retrieve a list of the Use Cases currently available on the Abacus.AI platform."
      ]
    },
    {
      "cell_type": "code",
      "execution_count": null,
      "metadata": {
        "colab": {
          "base_uri": "https://localhost:8080/"
        },
        "id": "_9X39nGaem8A",
        "outputId": "2a5d87d2-76b8-47f2-a7d5-18b1535c6d7a"
      },
      "outputs": [
        {
          "data": {
            "text/plain": [
              "[UseCase(use_case='UCPLUGANDPLAY',\n",
              "   pretty_name='Plug & Play Your Tensorflow Model',\n",
              "   description='Upload your already trained model and leverage our model serving infrastructure.. Host your models on our infrastructure and get a JSON api with auto scaling and more!'),\n",
              " UseCase(use_case='EMBEDDINGS_ONLY',\n",
              "   pretty_name='Vector Matching Engine',\n",
              "   description='Upload embeddings and leverage our similarity search infrastructure.. Scale to high traffic, update your index in near realtime'),\n",
              " UseCase(use_case='MODEL_WITH_EMBEDDINGS',\n",
              "   pretty_name='Tensorflow Model With Vector Matching Engine',\n",
              "   description='Upload your already trained model and leverage our model serving infrastructure.. Host your models on our infrastructure and get a JSON api with auto scaling and more!'),\n",
              " UseCase(use_case='TORCH_MODEL_WITH_EMBEDDINGS',\n",
              "   pretty_name='PyTorch Model With Vector Matching Engine',\n",
              "   description='Upload your already trained model and leverage our model serving infrastructure.. Host your models on our infrastructure and get a JSON api with auto scaling and more!'),\n",
              " UseCase(use_case='PYTHON_MODEL',\n",
              "   pretty_name='Custom Python Model',\n",
              "   description='Upload your training code and let Abacus.AI handle training. Host your models on our infrastructure and get a JSON api with auto scaling and more!'),\n",
              " UseCase(use_case='DOCKER_MODEL',\n",
              "   pretty_name='Plug & Play Your Dockerized Model',\n",
              "   description='Upload your already trained model and leverage our model serving infrastructure.. Host your models on our infrastructure and get a JSON api with auto scaling and more!'),\n",
              " UseCase(use_case='DOCKER_MODEL_WITH_EMBEDDINGS',\n",
              "   pretty_name='Plug & Play Your Dockerized Model with Vector Matching Engine',\n",
              "   description='Upload your already trained model and leverage our model serving infrastructure.. Host your models on our infrastructure and get a JSON api with auto scaling and more!'),\n",
              " UseCase(use_case='CUSTOMER_CHURN',\n",
              "   pretty_name='Customer Churn Prediction',\n",
              "   description='Identify customers who are most likely to churn out of your system and send them marketing promotions/emails to retain them. Deploy a real-time deep learning model that identifies customers who are most likely to leave and increase retention.'),\n",
              " UseCase(use_case='ENERGY',\n",
              "   pretty_name='Real-Time Forecasting',\n",
              "   description='Accurately forecast energy or computation usage in real-time. Make downstream planning decisions based on your predictions. We use generative modeling (GANs) to augment your dataset with synthetic data. This unique approach allows us to make accurate predictions in real-time, even when you have little historical data.'),\n",
              " UseCase(use_case='FINANCIAL_METRICS',\n",
              "   pretty_name='Financial Metrics Forecasting',\n",
              "   description='Accurately plan your cash flow, revenue, and sales with state-of-the-art deep learning-based forecasting. We use generative modeling (GANs) to augment your dataset with synthetic data. This unique approach allows us to make accurate predictions, even when you have little historical data.'),\n",
              " UseCase(use_case='FRAUD_ACCOUNT',\n",
              "   pretty_name='Account Takeover and Defense',\n",
              "   description=\"Shield your customers from account takeovers by blocking bots and fake sign-ups. Behind the scenes, our AI engine will develop a custom deep learning model to prevent bot attacks and stops account takeovers in real-time. Setup is super simple and doesn't require any engineering or cumbersome data preparation.\"),\n",
              " UseCase(use_case='FRAUD_THREAT',\n",
              "   pretty_name='Intelligent Threat Detection',\n",
              "   description=\"Stop breachers in their tracks by continuously monitoring your environment for malicious activity. Prevent alert fatigue by reducing the number of false positives over time. Behind the scenes, our AI engine develops a deep learning model customized for your data to continuously monitors all your logs and alerts you of any malicious activity. Setup is super simple and doesn't require any ML expertise.\"),\n",
              " UseCase(use_case='FRAUD_TRANSACTIONS',\n",
              "   pretty_name='Transaction/Credit Card Fraud',\n",
              "   description=\"Accept payments with confidence, reduce chargebacks, and catch payment fraud instantly as it happens. Behind the scenes, our AI engine develops a custom deep learning model for you that prevents transaction fraud and catches fraudsters in real-time. Set up is super simple and doesn't require any engineering and cumbersome data preparation.\"),\n",
              " UseCase(use_case='OPERATIONS_CLOUD',\n",
              "   pretty_name='Cloud Spend Alerts',\n",
              "   description='Deploy state-of-the-art deep learning models to monitor your cloud spend, spot anomalies, spot runaway incidents, mitigate cost incidents, and get alerts so they can be remedied as quickly as possible. Use deep learning to find anomalies in your cloud usage and get alerts on them to mitigate cost incidents.'),\n",
              " UseCase(use_case='CLOUD_SPEND',\n",
              "   pretty_name='Cloud Spend Alerts',\n",
              "   description='Deploy state-of-the-art deep learning models to monitor your cloud spend, spot anomalies, spot runaway incidents, mitigate cost incidents, and get alerts so they can be remedied as quickly as possible. Use deep learning to find anomalies in your cloud usage and get alerts on them to mitigate cost incidents.'),\n",
              " UseCase(use_case='TIMESERIES_ANOMALY_DETECTION',\n",
              "   pretty_name='Timeseries Anomaly Detection',\n",
              "   description='Spot anomalies in your time series data by using deep learning models to increase revenue, save costs and reduce risks. With Abacus.AI you can set up state of the art deep learning models for time series anomaly detection within hours. These models adjust in real time and spot both simple one dimensional and complex multidimensional anomalies. Our models also help you find the root cause of the anomalies. No cumbersome data preparation or engineering effort to deploy the models in production are required.'),\n",
              " UseCase(use_case='OPERATIONS_MAINTENANCE',\n",
              "   pretty_name='Predictive Maintenance',\n",
              "   description='Leverage deep learning models to proactively assess the health of your assets and perform timely maintenance to reduce downtime and save costs. With Abacus.ai you can set up state of the art deep learning models for predictive maintenance within hours. These models learn from your past failures as well as spot anomalies that can lead to new failures. No cumbersome data preparation or engineering effort to deploy the models in production is required.'),\n",
              " UseCase(use_case='PERS_PROMOTIONS',\n",
              "   pretty_name='Personalized Promotions',\n",
              "   description='Send personalized promotions to your customers and increase engagement. Personalize promotions based on catalog items, marketing messages, delivery channels, and discount terms. Deploy a real-time deep learning model that targets relevant promotions to customers and increases engagement. No cumbersome data preparation required and setup is super easy.'),\n",
              " UseCase(use_case='PREDICTING',\n",
              "   pretty_name='Predictive Modeling',\n",
              "   description='Use historical data to predict future occurrences. Train state-of-the-art predictive models customized specifically according to your data and deploy it in production in hours, not months!. You can create a deep learning model for your specific needs simply by pointing us to your data and specifying the inputs/outputs. Our expert AI engine will do the data cleaning and processing, algorithm selection (classification or regression), and model creation. You will be ready to generate intelligent predictions from the deployed model in production in just a few hours.'),\n",
              " UseCase(use_case='RETAIL',\n",
              "   pretty_name='Demand Forecasting',\n",
              "   description='Accurately forecast retail demand. We use generative modeling (GANs) to augment your dataset with synthetic data. This allows us to make accurate predictions even when you have little historical data.'),\n",
              " UseCase(use_case='SALES_FORECASTING',\n",
              "   pretty_name='Sales and Revenue Forecasting',\n",
              "   description='Forecast sales and revenue across your sales reps, products, business units, and locations. Use deep learning to forecast your sales across multiple dimensions. Make better planning discussions and anticipate future problems so you can mitigate them.'),\n",
              " UseCase(use_case='SALES_SCORING',\n",
              "   pretty_name='Predictive Lead Scoring',\n",
              "   description='Identify the sales leads that are most likely to convert into paying customers and increase revenue. Just point our AI engine to your data, and it will create a deep learning model customized for your data to score all your leads and identify the best ones for conversion.'),\n",
              " UseCase(use_case='USER_RANKINGS',\n",
              "   pretty_name='Personalized Search',\n",
              "   description='Re-rank search results or list of items based on a user preferences. Maximize user engagement and revenue. Our unique blend of reinforcement learning and deep learning-based technology works even when you have little historical data and have to deal with a fast-changing catalog or multiple new users.'),\n",
              " UseCase(use_case='NAMED_ENTITY_RECOGNITION',\n",
              "   pretty_name='Text extraction and classification',\n",
              "   description='Find and label fields within text documents such as emails, chats, receipts, invoices or any other unstructured data set. With Abacus.AI you can set up state of the art deep learning models for text extraction and classification within hours. Based on your specific domain and use-case, Abacus.AI can fine-tune pre-trained models, apply transfer learning or simply train new language models from scratch.  No cumbersome data preparation or engineering effort to deploy the models in production are required.'),\n",
              " UseCase(use_case='USER_RECOMMENDATIONS',\n",
              "   pretty_name='Personalized Recommendations',\n",
              "   description='Increase user engagement and revenue with personalized recommendations on your app/website. Our unique blend of reinforcement learning and deep learning-based technology works even when you have little historical data and have to deal with a fast-changing catalog or multiple new users.'),\n",
              " UseCase(use_case='USER_RELATED',\n",
              "   pretty_name='Related Items',\n",
              "   description='Maximize revenue and user engagement. Immerse your customers into your app/website by providing them with a rich browse and related items experience. Our unique blend of reinforcement learning and deep learning-based technology works even when you have little historical data and have to deal with a fast-changing catalog or multiple new users.'),\n",
              " UseCase(use_case='VISION',\n",
              "   pretty_name='Image Classification & Detection',\n",
              "   description='Train an image classification & detection model specific to your domain and use it to classify and detect relevant objects. With Abacus.AI you can set up state of the art deep learning models for Image classification & detection within hours. Based on your specific domain and use-case, Abacus.AI can fine-tune pre-trained models, apply transfer learning or simply train new vision models from scratch. No cumbersome data preparation or engineering effort to deploy the models in production are required.')]"
            ]
          },
          "execution_count": 5,
          "metadata": {},
          "output_type": "execute_result"
        }
      ],
      "source": [
        "client.list_use_cases()"
      ]
    },
    {
      "cell_type": "markdown",
      "metadata": {
        "id": "HKxZ7fHisI-d"
      },
      "source": [
        "In this notebook, we're going to create an account takeover prediction model using the Insider Threat Test dataset. The 'FRAUD_ACCOUNT' use case is best tailored for this situation."
      ]
    },
    {
      "cell_type": "code",
      "execution_count": null,
      "metadata": {
        "id": "Nn3XmH9ZepMl"
      },
      "outputs": [],
      "source": [
        "#@title Abacus.AI Use Case\n",
        "\n",
        "use_case = 'FRAUD_ACCOUNT'  #@param {type: \"string\"}"
      ]
    },
    {
      "cell_type": "markdown",
      "metadata": {
        "id": "wIrrTAkxsRLs"
      },
      "source": [
        "By calling the `describe_use_case_requirements` method we can view what datasets are required for this use_case."
      ]
    },
    {
      "cell_type": "code",
      "execution_count": null,
      "metadata": {
        "colab": {
          "base_uri": "https://localhost:8080/"
        },
        "id": "SVKTCwV1evKo",
        "outputId": "6ea5d634-6b42-464f-e215-d8098103f109"
      },
      "outputs": [
        {
          "name": "stdout",
          "output_type": "stream",
          "text": [
            "{ 'allowed_feature_mappings': { 'ACCOUNT_ID': { 'allowed_feature_types': [ 'CATEGORICAL'],\n",
            "                                                'description': 'The unique '\n",
            "                                                               'identifier for '\n",
            "                                                               'each account.',\n",
            "                                                'required': True},\n",
            "                                'FRAUD_YN': { 'allowed_feature_types': [ 'CATEGORICAL'],\n",
            "                                              'description': 'This specifies '\n",
            "                                                             'whether the '\n",
            "                                                             'account activity '\n",
            "                                                             'was spurious or '\n",
            "                                                             'not. Some '\n",
            "                                                             'examples of '\n",
            "                                                             'spurious/fraudulent '\n",
            "                                                             'account activity '\n",
            "                                                             'are needed for '\n",
            "                                                             'our AI engine to '\n",
            "                                                             'create a '\n",
            "                                                             'predictive '\n",
            "                                                             'model.',\n",
            "                                              'required': True},\n",
            "                                'IGNORE': { 'description': 'Ignore this column '\n",
            "                                                           'in training',\n",
            "                                            'multiple': True,\n",
            "                                            'required': False}},\n",
            "  'allowed_nested_feature_mappings': { 'IGNORE': { 'description': 'Ignore this '\n",
            "                                                                  'column in '\n",
            "                                                                  'training',\n",
            "                                                   'multiple': True,\n",
            "                                                   'required': False}},\n",
            "  'dataset_type': 'CUSTOM_TABLE',\n",
            "  'description': 'This dataset corresponds to all account activity that may be '\n",
            "                 'available. This could include logging in, accessing '\n",
            "                 'different objects/pages, actions taken by the account, etc.',\n",
            "  'name': 'Custom Table',\n",
            "  'required': True}\n"
          ]
        }
      ],
      "source": [
        "for requirement in client.describe_use_case_requirements(use_case):\n",
        "  pp.pprint(requirement.to_dict())"
      ]
    },
    {
      "cell_type": "markdown",
      "metadata": {
        "id": "8rgeGVYfsTLI"
      },
      "source": [
        "Finally, let's create the project."
      ]
    },
    {
      "cell_type": "code",
      "execution_count": null,
      "metadata": {
        "colab": {
          "base_uri": "https://localhost:8080/"
        },
        "id": "TaPE1237e4s9",
        "outputId": "9ccb47cf-b99f-40f5-dbf8-c56b0847f6ef"
      },
      "outputs": [
        {
          "data": {
            "text/plain": [
              "{'created_at': '2021-11-22T21:16:20+00:00',\n",
              " 'feature_groups_enabled': True,\n",
              " 'name': 'Insider Threat Detection',\n",
              " 'project_id': 'b89da65c6',\n",
              " 'use_case': 'FRAUD_ACCOUNT'}"
            ]
          },
          "execution_count": 8,
          "metadata": {},
          "output_type": "execute_result"
        }
      ],
      "source": [
        "takeover_project = client.create_project(name='Insider Threat Detection', use_case=use_case)\n",
        "takeover_project.to_dict()"
      ]
    },
    {
      "cell_type": "markdown",
      "metadata": {
        "id": "1lNa_PbcekQz"
      },
      "source": [
        "**Note: When feature_groups_enabled is True then the use case supports feature groups (collection of ML features). Feature groups are created at the organization level and can be tied to a project to further use it for training ML models**"
      ]
    },
    {
      "cell_type": "markdown",
      "metadata": {
        "id": "pjRguClqsVE2"
      },
      "source": [
        "## 2. Add Datasets to your Project\n",
        "\n",
        "Abacus.AI can read datasets directly from `AWS S3` or `Google Cloud Storage` buckets, otherwise you can also directly upload and store your datasets with Abacus.AI. For this workshop, we will have Abacus.AI read the datasets directly from a public S3 bucket's location.\n",
        "\n",
        "We are using one dataset for this notebook. We'll tell Abacus.AI how the dataset should be used when creating it by tagging the dataset with a special Abacus.AI **Dataset Type**.\n",
        "- [Insider Threat Test Dataset](https://s3.amazonaws.com/realityengines.exampledatasets/fraud_transactions/creditcard.csv) (**ACTIVITY_LOG**): \n",
        "This dataset contains information about account takeovers that occurred for specified accounts & what class of takeover happened."
      ]
    },
    {
      "cell_type": "markdown",
      "metadata": {
        "id": "GyQSVdZJzEcY"
      },
      "source": [
        "### Add the dataset to Abacus.AI\n",
        "\n",
        "First we'll use Pandas to preview the file, then add it to Abacus.AI."
      ]
    },
    {
      "cell_type": "code",
      "execution_count": null,
      "metadata": {
        "colab": {
          "base_uri": "https://localhost:8080/",
          "height": 424
        },
        "id": "9VihWz0QnvLs",
        "outputId": "48be9522-7258-439d-b6e6-328f1b9a298b"
      },
      "outputs": [
        {
          "data": {
            "text/html": [
              "<div>\n",
              "<style scoped>\n",
              "    .dataframe tbody tr th:only-of-type {\n",
              "        vertical-align: middle;\n",
              "    }\n",
              "\n",
              "    .dataframe tbody tr th {\n",
              "        vertical-align: top;\n",
              "    }\n",
              "\n",
              "    .dataframe thead th {\n",
              "        text-align: right;\n",
              "    }\n",
              "</style>\n",
              "<table border=\"1\" class=\"dataframe\">\n",
              "  <thead>\n",
              "    <tr style=\"text-align: right;\">\n",
              "      <th></th>\n",
              "      <th>account_id</th>\n",
              "      <th>duration</th>\n",
              "      <th>num_failed_logins</th>\n",
              "      <th>logged_in</th>\n",
              "      <th>num_file_creations</th>\n",
              "      <th>num_access_files</th>\n",
              "      <th>is_host_login</th>\n",
              "      <th>is_guest_login</th>\n",
              "      <th>class</th>\n",
              "    </tr>\n",
              "  </thead>\n",
              "  <tbody>\n",
              "    <tr>\n",
              "      <th>0</th>\n",
              "      <td>4242436</td>\n",
              "      <td>0</td>\n",
              "      <td>0</td>\n",
              "      <td>0</td>\n",
              "      <td>0</td>\n",
              "      <td>0</td>\n",
              "      <td>0</td>\n",
              "      <td>0</td>\n",
              "      <td>smurf.</td>\n",
              "    </tr>\n",
              "    <tr>\n",
              "      <th>1</th>\n",
              "      <td>1882783</td>\n",
              "      <td>0</td>\n",
              "      <td>0</td>\n",
              "      <td>0</td>\n",
              "      <td>0</td>\n",
              "      <td>0</td>\n",
              "      <td>0</td>\n",
              "      <td>0</td>\n",
              "      <td>smurf.</td>\n",
              "    </tr>\n",
              "    <tr>\n",
              "      <th>2</th>\n",
              "      <td>2067606</td>\n",
              "      <td>0</td>\n",
              "      <td>0</td>\n",
              "      <td>0</td>\n",
              "      <td>0</td>\n",
              "      <td>0</td>\n",
              "      <td>0</td>\n",
              "      <td>0</td>\n",
              "      <td>smurf.</td>\n",
              "    </tr>\n",
              "    <tr>\n",
              "      <th>3</th>\n",
              "      <td>50774</td>\n",
              "      <td>0</td>\n",
              "      <td>0</td>\n",
              "      <td>1</td>\n",
              "      <td>0</td>\n",
              "      <td>0</td>\n",
              "      <td>0</td>\n",
              "      <td>0</td>\n",
              "      <td>normal.</td>\n",
              "    </tr>\n",
              "    <tr>\n",
              "      <th>4</th>\n",
              "      <td>719138</td>\n",
              "      <td>0</td>\n",
              "      <td>0</td>\n",
              "      <td>0</td>\n",
              "      <td>0</td>\n",
              "      <td>0</td>\n",
              "      <td>0</td>\n",
              "      <td>0</td>\n",
              "      <td>neptune.</td>\n",
              "    </tr>\n",
              "    <tr>\n",
              "      <th>...</th>\n",
              "      <td>...</td>\n",
              "      <td>...</td>\n",
              "      <td>...</td>\n",
              "      <td>...</td>\n",
              "      <td>...</td>\n",
              "      <td>...</td>\n",
              "      <td>...</td>\n",
              "      <td>...</td>\n",
              "      <td>...</td>\n",
              "    </tr>\n",
              "    <tr>\n",
              "      <th>545742</th>\n",
              "      <td>4867866</td>\n",
              "      <td>0</td>\n",
              "      <td>0</td>\n",
              "      <td>0</td>\n",
              "      <td>0</td>\n",
              "      <td>0</td>\n",
              "      <td>0</td>\n",
              "      <td>0</td>\n",
              "      <td>teardrop.</td>\n",
              "    </tr>\n",
              "    <tr>\n",
              "      <th>545743</th>\n",
              "      <td>4867867</td>\n",
              "      <td>0</td>\n",
              "      <td>0</td>\n",
              "      <td>0</td>\n",
              "      <td>0</td>\n",
              "      <td>0</td>\n",
              "      <td>0</td>\n",
              "      <td>0</td>\n",
              "      <td>teardrop.</td>\n",
              "    </tr>\n",
              "    <tr>\n",
              "      <th>545744</th>\n",
              "      <td>4867868</td>\n",
              "      <td>0</td>\n",
              "      <td>0</td>\n",
              "      <td>0</td>\n",
              "      <td>0</td>\n",
              "      <td>0</td>\n",
              "      <td>0</td>\n",
              "      <td>0</td>\n",
              "      <td>teardrop.</td>\n",
              "    </tr>\n",
              "    <tr>\n",
              "      <th>545745</th>\n",
              "      <td>4867869</td>\n",
              "      <td>0</td>\n",
              "      <td>0</td>\n",
              "      <td>0</td>\n",
              "      <td>0</td>\n",
              "      <td>0</td>\n",
              "      <td>0</td>\n",
              "      <td>0</td>\n",
              "      <td>teardrop.</td>\n",
              "    </tr>\n",
              "    <tr>\n",
              "      <th>545746</th>\n",
              "      <td>4867870</td>\n",
              "      <td>0</td>\n",
              "      <td>0</td>\n",
              "      <td>0</td>\n",
              "      <td>0</td>\n",
              "      <td>0</td>\n",
              "      <td>0</td>\n",
              "      <td>0</td>\n",
              "      <td>teardrop.</td>\n",
              "    </tr>\n",
              "  </tbody>\n",
              "</table>\n",
              "<p>545747 rows × 9 columns</p>\n",
              "</div>"
            ],
            "text/plain": [
              "        account_id  duration  ...  is_guest_login      class\n",
              "0          4242436         0  ...               0     smurf.\n",
              "1          1882783         0  ...               0     smurf.\n",
              "2          2067606         0  ...               0     smurf.\n",
              "3            50774         0  ...               0    normal.\n",
              "4           719138         0  ...               0   neptune.\n",
              "...            ...       ...  ...             ...        ...\n",
              "545742     4867866         0  ...               0  teardrop.\n",
              "545743     4867867         0  ...               0  teardrop.\n",
              "545744     4867868         0  ...               0  teardrop.\n",
              "545745     4867869         0  ...               0  teardrop.\n",
              "545746     4867870         0  ...               0  teardrop.\n",
              "\n",
              "[545747 rows x 9 columns]"
            ]
          },
          "execution_count": 9,
          "metadata": {},
          "output_type": "execute_result"
        }
      ],
      "source": [
        "pd.read_csv('https://s3.amazonaws.com/realityengines.exampledatasets/accounttakeover/kdd_500k.csv')"
      ]
    },
    {
      "cell_type": "markdown",
      "metadata": {
        "id": "ccJKwLzezHI2"
      },
      "source": [
        "Using the Create Dataset API, we can tell Abacus.AI the public S3 URI of where to find the datasets. We will also give each dataset a Refresh Schedule, which tells Abacus.AI when it should refresh the dataset (take an updated/latest copy of the dataset).\n",
        "\n",
        "If you're unfamiliar with Cron Syntax, Crontab Guru can help translate the syntax back into natural language: [https://crontab.guru/#0_12_\\*_\\*_\\*](https://crontab.guru/#0_12_*_*_*)\n",
        "\n",
        "**Note: This cron string will be evaluated in UTC time zone**"
      ]
    },
    {
      "cell_type": "code",
      "execution_count": null,
      "metadata": {
        "id": "6q26xG9IpwU5"
      },
      "outputs": [],
      "source": [
        "takeover_dataset = client.create_dataset_from_file_connector(name='Insider Threat Testing Data', \n",
        "                                                              table_name='Insider Threat Testing Data',\n",
        "                                     location='s3://realityengines.exampledatasets/accounttakeover/kdd_500k.csv',\n",
        "                                     refresh_schedule='0 12 * * *')\n",
        "datasets = [takeover_dataset]"
      ]
    },
    {
      "cell_type": "markdown",
      "metadata": {
        "id": "qGL56bCwe5hB"
      },
      "source": [
        "## 3. Create Feature Groups and add them to your Project\n",
        "\n",
        "Datasets are created at the organization level and can be used to create feature groups as follows:"
      ]
    },
    {
      "cell_type": "code",
      "execution_count": null,
      "metadata": {
        "id": "1T-PsSKYeaCa"
      },
      "outputs": [],
      "source": [
        "feature_group = client.create_feature_group(table_name='test_account_takeover_and_defense',sql='SELECT * FROM Insider_Threat_Test_Data')"
      ]
    },
    {
      "cell_type": "markdown",
      "metadata": {
        "id": "YahQ9l6sfIGp"
      },
      "source": [
        "Adding Feature Group to the project:"
      ]
    },
    {
      "cell_type": "code",
      "execution_count": null,
      "metadata": {
        "id": "gbZ3358BewZb"
      },
      "outputs": [],
      "source": [
        "client.add_feature_group_to_project(feature_group_id=feature_group.feature_group_id,project_id = takeover_project.project_id)"
      ]
    },
    {
      "cell_type": "markdown",
      "metadata": {
        "id": "zdEHOLDdfbgn"
      },
      "source": [
        "Setting the Feature Group type according to the use case requirements:"
      ]
    },
    {
      "cell_type": "code",
      "execution_count": null,
      "metadata": {
        "id": "8AlwweuZfPsw"
      },
      "outputs": [],
      "source": [
        "client.set_feature_group_type(feature_group_id=feature_group.feature_group_id, project_id = takeover_project.project_id, feature_group_type= \"CUSTOM_TABLE\")"
      ]
    },
    {
      "cell_type": "markdown",
      "metadata": {
        "id": "HGEi0tzofevm"
      },
      "source": [
        "Check current Feature Group schema:"
      ]
    },
    {
      "cell_type": "code",
      "execution_count": null,
      "metadata": {
        "colab": {
          "base_uri": "https://localhost:8080/"
        },
        "id": "zHQ01lrgfgTi",
        "outputId": "2784dc97-a552-4676-9895-226bfb969373"
      },
      "outputs": [
        {
          "data": {
            "text/plain": [
              "[Feature(name='account_id',\n",
              "   select_clause=None,\n",
              "   feature_mapping=None,\n",
              "   source_table='Insider_Threat_Test_Data',\n",
              "   original_name=None,\n",
              "   using_clause=None,\n",
              "   order_clause=None,\n",
              "   where_clause=None,\n",
              "   feature_type='CATEGORICAL',\n",
              "   data_type='STRING',\n",
              "   columns=None,\n",
              "   point_in_time_info=None), Feature(name='duration',\n",
              "   select_clause=None,\n",
              "   feature_mapping=None,\n",
              "   source_table='Insider_Threat_Test_Data',\n",
              "   original_name=None,\n",
              "   using_clause=None,\n",
              "   order_clause=None,\n",
              "   where_clause=None,\n",
              "   feature_type='NUMERICAL',\n",
              "   data_type='INTEGER',\n",
              "   columns=None,\n",
              "   point_in_time_info=None), Feature(name='num_failed_logins',\n",
              "   select_clause=None,\n",
              "   feature_mapping=None,\n",
              "   source_table='Insider_Threat_Test_Data',\n",
              "   original_name=None,\n",
              "   using_clause=None,\n",
              "   order_clause=None,\n",
              "   where_clause=None,\n",
              "   feature_type='NUMERICAL',\n",
              "   data_type='INTEGER',\n",
              "   columns=None,\n",
              "   point_in_time_info=None), Feature(name='logged_in',\n",
              "   select_clause=None,\n",
              "   feature_mapping=None,\n",
              "   source_table='Insider_Threat_Test_Data',\n",
              "   original_name=None,\n",
              "   using_clause=None,\n",
              "   order_clause=None,\n",
              "   where_clause=None,\n",
              "   feature_type='CATEGORICAL',\n",
              "   data_type='STRING',\n",
              "   columns=None,\n",
              "   point_in_time_info=None), Feature(name='num_file_creations',\n",
              "   select_clause=None,\n",
              "   feature_mapping=None,\n",
              "   source_table='Insider_Threat_Test_Data',\n",
              "   original_name=None,\n",
              "   using_clause=None,\n",
              "   order_clause=None,\n",
              "   where_clause=None,\n",
              "   feature_type='NUMERICAL',\n",
              "   data_type='INTEGER',\n",
              "   columns=None,\n",
              "   point_in_time_info=None), Feature(name='num_access_files',\n",
              "   select_clause=None,\n",
              "   feature_mapping=None,\n",
              "   source_table='Insider_Threat_Test_Data',\n",
              "   original_name=None,\n",
              "   using_clause=None,\n",
              "   order_clause=None,\n",
              "   where_clause=None,\n",
              "   feature_type='NUMERICAL',\n",
              "   data_type='INTEGER',\n",
              "   columns=None,\n",
              "   point_in_time_info=None), Feature(name='is_host_login',\n",
              "   select_clause=None,\n",
              "   feature_mapping=None,\n",
              "   source_table='Insider_Threat_Test_Data',\n",
              "   original_name=None,\n",
              "   using_clause=None,\n",
              "   order_clause=None,\n",
              "   where_clause=None,\n",
              "   feature_type='CATEGORICAL',\n",
              "   data_type='STRING',\n",
              "   columns=None,\n",
              "   point_in_time_info=None), Feature(name='is_guest_login',\n",
              "   select_clause=None,\n",
              "   feature_mapping=None,\n",
              "   source_table='Insider_Threat_Test_Data',\n",
              "   original_name=None,\n",
              "   using_clause=None,\n",
              "   order_clause=None,\n",
              "   where_clause=None,\n",
              "   feature_type='CATEGORICAL',\n",
              "   data_type='STRING',\n",
              "   columns=None,\n",
              "   point_in_time_info=None), Feature(name='class',\n",
              "   select_clause=None,\n",
              "   feature_mapping=None,\n",
              "   source_table='Insider_Threat_Test_Data',\n",
              "   original_name=None,\n",
              "   using_clause=None,\n",
              "   order_clause=None,\n",
              "   where_clause=None,\n",
              "   feature_type='CATEGORICAL',\n",
              "   data_type='STRING',\n",
              "   columns=None,\n",
              "   point_in_time_info=None)]"
            ]
          },
          "execution_count": 16,
          "metadata": {},
          "output_type": "execute_result"
        }
      ],
      "source": [
        "client.get_feature_group_schema(feature_group_id=feature_group.feature_group_id)"
      ]
    },
    {
      "cell_type": "markdown",
      "metadata": {
        "id": "bgaEvsDizL9q"
      },
      "source": [
        "#### For each **Use Case**, there are special **Column Mappings** that must be applied to a column to fulfill use case requirements. We can find the list of available **Column Mappings** by calling the *Describe Use Case Requirements* API:"
      ]
    },
    {
      "cell_type": "code",
      "execution_count": null,
      "metadata": {
        "colab": {
          "base_uri": "https://localhost:8080/"
        },
        "id": "FHLRpfyoh1U_",
        "outputId": "a3636d6f-c3a4-455c-e770-5ec24f6e30a8"
      },
      "outputs": [
        {
          "data": {
            "text/plain": [
              "{'ACCOUNT_ID': {'allowed_feature_types': ['CATEGORICAL'],\n",
              "  'description': 'The unique identifier for each account.',\n",
              "  'required': True},\n",
              " 'FRAUD_YN': {'allowed_feature_types': ['CATEGORICAL'],\n",
              "  'description': 'This specifies whether the account activity was spurious or not. Some examples of spurious/fraudulent account activity are needed for our AI engine to create a predictive model.',\n",
              "  'required': True},\n",
              " 'IGNORE': {'description': 'Ignore this column in training',\n",
              "  'multiple': True,\n",
              "  'required': False}}"
            ]
          },
          "execution_count": 19,
          "metadata": {},
          "output_type": "execute_result"
        }
      ],
      "source": [
        "client.describe_use_case_requirements(use_case)[0].allowed_feature_mappings"
      ]
    },
    {
      "cell_type": "code",
      "execution_count": null,
      "metadata": {
        "colab": {
          "base_uri": "https://localhost:8080/"
        },
        "id": "gJPKO0gtfrHq",
        "outputId": "2108152b-5c11-40f5-9006-b93b2ab9adf0"
      },
      "outputs": [
        {
          "data": {
            "text/plain": [
              "[Feature(name='account_id',\n",
              "   select_clause=None,\n",
              "   feature_mapping='ACCOUNT_ID',\n",
              "   source_table='Insider_Threat_Test_Data',\n",
              "   original_name=None,\n",
              "   using_clause=None,\n",
              "   order_clause=None,\n",
              "   where_clause=None,\n",
              "   feature_type='CATEGORICAL',\n",
              "   data_type='STRING',\n",
              "   columns=None,\n",
              "   point_in_time_info=None), Feature(name='duration',\n",
              "   select_clause=None,\n",
              "   feature_mapping=None,\n",
              "   source_table='Insider_Threat_Test_Data',\n",
              "   original_name=None,\n",
              "   using_clause=None,\n",
              "   order_clause=None,\n",
              "   where_clause=None,\n",
              "   feature_type='NUMERICAL',\n",
              "   data_type='INTEGER',\n",
              "   columns=None,\n",
              "   point_in_time_info=None), Feature(name='num_failed_logins',\n",
              "   select_clause=None,\n",
              "   feature_mapping=None,\n",
              "   source_table='Insider_Threat_Test_Data',\n",
              "   original_name=None,\n",
              "   using_clause=None,\n",
              "   order_clause=None,\n",
              "   where_clause=None,\n",
              "   feature_type='NUMERICAL',\n",
              "   data_type='INTEGER',\n",
              "   columns=None,\n",
              "   point_in_time_info=None), Feature(name='logged_in',\n",
              "   select_clause=None,\n",
              "   feature_mapping=None,\n",
              "   source_table='Insider_Threat_Test_Data',\n",
              "   original_name=None,\n",
              "   using_clause=None,\n",
              "   order_clause=None,\n",
              "   where_clause=None,\n",
              "   feature_type='CATEGORICAL',\n",
              "   data_type='STRING',\n",
              "   columns=None,\n",
              "   point_in_time_info=None), Feature(name='num_file_creations',\n",
              "   select_clause=None,\n",
              "   feature_mapping=None,\n",
              "   source_table='Insider_Threat_Test_Data',\n",
              "   original_name=None,\n",
              "   using_clause=None,\n",
              "   order_clause=None,\n",
              "   where_clause=None,\n",
              "   feature_type='NUMERICAL',\n",
              "   data_type='INTEGER',\n",
              "   columns=None,\n",
              "   point_in_time_info=None), Feature(name='num_access_files',\n",
              "   select_clause=None,\n",
              "   feature_mapping=None,\n",
              "   source_table='Insider_Threat_Test_Data',\n",
              "   original_name=None,\n",
              "   using_clause=None,\n",
              "   order_clause=None,\n",
              "   where_clause=None,\n",
              "   feature_type='NUMERICAL',\n",
              "   data_type='INTEGER',\n",
              "   columns=None,\n",
              "   point_in_time_info=None), Feature(name='is_host_login',\n",
              "   select_clause=None,\n",
              "   feature_mapping=None,\n",
              "   source_table='Insider_Threat_Test_Data',\n",
              "   original_name=None,\n",
              "   using_clause=None,\n",
              "   order_clause=None,\n",
              "   where_clause=None,\n",
              "   feature_type='CATEGORICAL',\n",
              "   data_type='STRING',\n",
              "   columns=None,\n",
              "   point_in_time_info=None), Feature(name='is_guest_login',\n",
              "   select_clause=None,\n",
              "   feature_mapping=None,\n",
              "   source_table='Insider_Threat_Test_Data',\n",
              "   original_name=None,\n",
              "   using_clause=None,\n",
              "   order_clause=None,\n",
              "   where_clause=None,\n",
              "   feature_type='CATEGORICAL',\n",
              "   data_type='STRING',\n",
              "   columns=None,\n",
              "   point_in_time_info=None), Feature(name='class',\n",
              "   select_clause=None,\n",
              "   feature_mapping='FRAUD_YN',\n",
              "   source_table='Insider_Threat_Test_Data',\n",
              "   original_name=None,\n",
              "   using_clause=None,\n",
              "   order_clause=None,\n",
              "   where_clause=None,\n",
              "   feature_type='CATEGORICAL',\n",
              "   data_type='STRING',\n",
              "   columns=None,\n",
              "   point_in_time_info=None)]"
            ]
          },
          "execution_count": 22,
          "metadata": {},
          "output_type": "execute_result"
        }
      ],
      "source": [
        "client.set_feature_mapping(project_id = takeover_project.project_id,feature_group_id= feature_group.feature_group_id, feature_name='account_id', feature_mapping='ACCOUNT_ID')\n",
        "client.set_feature_mapping(project_id = takeover_project.project_id,feature_group_id= feature_group.feature_group_id, feature_name='class', feature_mapping='FRAUD_YN')"
      ]
    },
    {
      "cell_type": "markdown",
      "metadata": {
        "id": "-yzWGcpYzOLb"
      },
      "source": [
        "For each required Feature Group Type within the use case, you must assign the Feature group to be used for training the model:"
      ]
    },
    {
      "cell_type": "code",
      "execution_count": null,
      "metadata": {
        "id": "LUkoV9w8qgKS"
      },
      "outputs": [],
      "source": [
        "client.use_feature_group_for_training(project_id = takeover_project.project_id,feature_group_id= feature_group.feature_group_id)"
      ]
    },
    {
      "cell_type": "markdown",
      "metadata": {
        "id": "edf5cxc5obH6"
      },
      "source": [
        "Now that we've our feature groups assigned, we're almost ready to train a model!\n",
        "\n",
        "To be sure that our project is ready to go, let's call project.validate to confirm that all the project requirements have been met:"
      ]
    },
    {
      "cell_type": "code",
      "execution_count": null,
      "metadata": {
        "colab": {
          "base_uri": "https://localhost:8080/"
        },
        "id": "ZNzvYOkPw7IM",
        "outputId": "012dc54c-e488-42c9-e40b-0fbe367747f1"
      },
      "outputs": [
        {
          "data": {
            "text/plain": [
              "ProjectValidation(valid=True,\n",
              "  dataset_errors=[],\n",
              "  column_hints={})"
            ]
          },
          "execution_count": 24,
          "metadata": {},
          "output_type": "execute_result"
        }
      ],
      "source": [
        "takeover_project.validate()"
      ]
    },
    {
      "cell_type": "markdown",
      "metadata": {
        "id": "Weal2YKWzVRz"
      },
      "source": [
        "## 4. Train a Model"
      ]
    },
    {
      "cell_type": "markdown",
      "metadata": {
        "id": "YzMk9i4_zavZ"
      },
      "source": [
        "For each **Use Case**, Abacus.AI has a bunch of options for training. We can call the *Get Training Config Options* API to see the available options."
      ]
    },
    {
      "cell_type": "code",
      "execution_count": null,
      "metadata": {
        "colab": {
          "base_uri": "https://localhost:8080/"
        },
        "id": "-Gi6SdBFiUee",
        "outputId": "2af007c4-90c5-4c53-962c-50fb3c833120"
      },
      "outputs": [
        {
          "data": {
            "text/plain": [
              "[TrainingConfigOptions(name='TEST_SPLIT',\n",
              "   data_type='INTEGER',\n",
              "   value_type=None,\n",
              "   value_options=None,\n",
              "   value=None,\n",
              "   default=10,\n",
              "   options={'range': [5, 20]},\n",
              "   description='Percent of dataset to use for test data. We support using a range between 5% to 20% of your dataset to use as test data.',\n",
              "   required=None,\n",
              "   last_model_value=None), TrainingConfigOptions(name='DROPOUT_RATE',\n",
              "   data_type='INTEGER',\n",
              "   value_type=None,\n",
              "   value_options=None,\n",
              "   value=None,\n",
              "   default=None,\n",
              "   options={'range': [0, 90]},\n",
              "   description='Dropout percentage rate.',\n",
              "   required=None,\n",
              "   last_model_value=None), TrainingConfigOptions(name='BATCH_SIZE',\n",
              "   data_type='ENUM',\n",
              "   value_type=None,\n",
              "   value_options=None,\n",
              "   value=None,\n",
              "   default=None,\n",
              "   options={'values': [8, 16, 32, 64, 128, 256, 384, 512, 740, 1024]},\n",
              "   description='Batch size.',\n",
              "   required=None,\n",
              "   last_model_value=None), TrainingConfigOptions(name='SAMPLING_UNIT_KEYS',\n",
              "   data_type='ENUM_TAGS',\n",
              "   value_type=None,\n",
              "   value_options=None,\n",
              "   value=None,\n",
              "   default=None,\n",
              "   options={'names': ['account_id', 'logged_in', 'is_host_login', 'is_guest_login'], 'values': ['account_id', 'logged_in', 'is_host_login', 'is_guest_login'], 'showItemId': True, 'newLine': True, 'oneColumn': True},\n",
              "   description='Constrain train/test separation to partition a column.',\n",
              "   required=None,\n",
              "   last_model_value=None), TrainingConfigOptions(name='TEST_ROW_INDICATOR',\n",
              "   data_type='ENUM',\n",
              "   value_type=None,\n",
              "   value_options=None,\n",
              "   value=None,\n",
              "   default=None,\n",
              "   options={'values': ['account_id', 'logged_in', 'is_host_login', 'is_guest_login']},\n",
              "   description='Column indicating which rows to use for training (TRAIN) and testing (TEST).',\n",
              "   required=None,\n",
              "   last_model_value=None), TrainingConfigOptions(name='SAMPLE_WEIGHT',\n",
              "   data_type='ENUM',\n",
              "   value_type=None,\n",
              "   value_options=None,\n",
              "   value=None,\n",
              "   default=None,\n",
              "   options={'values': ['duration', 'num_failed_logins', 'num_file_creations', 'num_access_files']},\n",
              "   description='Specify a column to use as the weight of a sample for training and eval.',\n",
              "   required=None,\n",
              "   last_model_value=None), TrainingConfigOptions(name='REBALANCE_CLASSES',\n",
              "   data_type='BOOLEAN',\n",
              "   value_type=None,\n",
              "   value_options=None,\n",
              "   value=None,\n",
              "   default=None,\n",
              "   options=None,\n",
              "   description='Down sample training data to match target class ratios',\n",
              "   required=None,\n",
              "   last_model_value=None), TrainingConfigOptions(name='RARE_CLASS_AUGMENTATION_THRESHOLD',\n",
              "   data_type='DECIMAL',\n",
              "   value_type=None,\n",
              "   value_options=None,\n",
              "   value=None,\n",
              "   default=0.1,\n",
              "   options={'range': [0.01, 0.5]},\n",
              "   description='Augments any rare class whose relative frequency with respect to the most frequent class is less than this threshold.',\n",
              "   required=None,\n",
              "   last_model_value=None), TrainingConfigOptions(name='AUGMENTATION_STRATEGY',\n",
              "   data_type='ENUM',\n",
              "   value_type=None,\n",
              "   value_options=None,\n",
              "   value=None,\n",
              "   default=None,\n",
              "   options={'values': ['resample', 'smote']},\n",
              "   description='Strategy to deal with class imbalance and data augmentation.',\n",
              "   required=None,\n",
              "   last_model_value=None), TrainingConfigOptions(name='TRAINING_ROWS_DOWNSAMPLE_RATIO',\n",
              "   data_type='DECIMAL',\n",
              "   value_type=None,\n",
              "   value_options=None,\n",
              "   value=None,\n",
              "   default=None,\n",
              "   options={'range': [0.01, 0.9]},\n",
              "   description='Uses this ratio to train on a sample of the dataset provided.',\n",
              "   required=None,\n",
              "   last_model_value=None), TrainingConfigOptions(name='IGNORE_DATETIME_FEATURES',\n",
              "   data_type='BOOLEAN',\n",
              "   value_type=None,\n",
              "   value_options=None,\n",
              "   value=None,\n",
              "   default=None,\n",
              "   options=None,\n",
              "   description='Remove all datetime features from the model. Useful while generalizing to different time periods',\n",
              "   required=None,\n",
              "   last_model_value=None), TrainingConfigOptions(name='USE_PRETRAINED_EMBEDDINGS',\n",
              "   data_type='BOOLEAN',\n",
              "   value_type=None,\n",
              "   value_options=None,\n",
              "   value=None,\n",
              "   default=False,\n",
              "   options=None,\n",
              "   description='Whether to use pretrained embeddings or not',\n",
              "   required=None,\n",
              "   last_model_value=None), TrainingConfigOptions(name='MAX_TEXT_WORDS',\n",
              "   data_type='INTEGER',\n",
              "   value_type=None,\n",
              "   value_options=None,\n",
              "   value=None,\n",
              "   default=None,\n",
              "   options={'range': [100, 1000]},\n",
              "   description='Maximum number of words to use from text fields.',\n",
              "   required=None,\n",
              "   last_model_value=None), TrainingConfigOptions(name='AUTOML_ENSEMBLE_SIZE',\n",
              "   data_type='INTEGER',\n",
              "   value_type=None,\n",
              "   value_options=None,\n",
              "   value=None,\n",
              "   default=None,\n",
              "   options={'range': [2, 10]},\n",
              "   description='Number of architectures to ensemble While ensembling automl architectures',\n",
              "   required=None,\n",
              "   last_model_value=None), TrainingConfigOptions(name='AUTOML_INITIAL_LEARNING_RATE',\n",
              "   data_type='DECIMAL',\n",
              "   value_type=None,\n",
              "   value_options=None,\n",
              "   value=None,\n",
              "   default=None,\n",
              "   options={'range': [0.0001, 0.01]},\n",
              "   description='Initial learning rate for automl seed architectures',\n",
              "   required=None,\n",
              "   last_model_value=None)]"
            ]
          },
          "execution_count": 25,
          "metadata": {},
          "output_type": "execute_result"
        }
      ],
      "source": [
        "takeover_project.get_training_config_options()"
      ]
    },
    {
      "cell_type": "markdown",
      "metadata": {
        "id": "qizwBbKezc9v"
      },
      "source": [
        "In this notebook, we'll just train with the default options, but definitely feel free to experiment, especially if you have familiarity with Machine Learning."
      ]
    },
    {
      "cell_type": "code",
      "execution_count": null,
      "metadata": {
        "colab": {
          "base_uri": "https://localhost:8080/"
        },
        "id": "RVzPeDoDiZuo",
        "outputId": "d07041a4-df47-4cee-865a-9ea073bdfb58"
      },
      "outputs": [
        {
          "data": {
            "text/plain": [
              "{'created_at': '2021-11-22T21:24:33+00:00',\n",
              " 'latest_model_version': {'dataset_versions': None,\n",
              "  'error': None,\n",
              "  'failed_deployment_ids': None,\n",
              "  'model_config': {},\n",
              "  'model_id': 'd00b77f48',\n",
              "  'model_version': '167eba9534',\n",
              "  'pending_deployment_ids': None,\n",
              "  'status': 'PENDING',\n",
              "  'training_completed_at': None,\n",
              "  'training_started_at': None},\n",
              " 'location': None,\n",
              " 'model_config': {},\n",
              " 'model_id': 'd00b77f48',\n",
              " 'name': 'Insider Threat Detection Model',\n",
              " 'predict_function_name': None,\n",
              " 'project_id': 'b89da65c6',\n",
              " 'refresh_schedules': None,\n",
              " 'shared': False,\n",
              " 'shared_at': None,\n",
              " 'source_code': None,\n",
              " 'train_function_name': None,\n",
              " 'training_input_tables': None}"
            ]
          },
          "execution_count": 26,
          "metadata": {},
          "output_type": "execute_result"
        }
      ],
      "source": [
        "takeover_model = takeover_project.train_model(training_config={})\n",
        "takeover_model.to_dict()"
      ]
    },
    {
      "cell_type": "markdown",
      "metadata": {
        "id": "jfMuQLk1zfMU"
      },
      "source": [
        "After we start training the model, we can call this blocking call that routinely checks the status of the model until it is trained and evaluated."
      ]
    },
    {
      "cell_type": "code",
      "execution_count": null,
      "metadata": {
        "id": "dBEGXu6vjGmq"
      },
      "outputs": [],
      "source": [
        "takeover_model.wait_for_evaluation()"
      ]
    },
    {
      "cell_type": "markdown",
      "metadata": {
        "id": "TZorFvHgotPZ"
      },
      "source": [
        "**Note that model training might take some minutes to some hours depending upon the size of datasets, complexity of the models being trained and a variety of other factors**"
      ]
    },
    {
      "cell_type": "markdown",
      "metadata": {
        "id": "Q7g7ioj9zhZ5"
      },
      "source": [
        "## **Checkpoint** [Optional]\n",
        "As model training can take an hours to complete, your page could time out or you might end up hitting the refresh button, this section helps you restore your progress:"
      ]
    },
    {
      "cell_type": "code",
      "execution_count": null,
      "metadata": {
        "id": "YHQ31iwQzjnl"
      },
      "outputs": [],
      "source": [
        "!pip install abacusai\n",
        "import pandas as pd\n",
        "import pprint\n",
        "pp = pprint.PrettyPrinter(indent=2)\n",
        "api_key = ''  #@param {type: \"string\"}\n",
        "from abacusai import ApiClient\n",
        "client = ApiClient(api_key)\n",
        "takeover_project = next(project for project in client.list_projects() if project.name == 'Insider Threat Detection')\n",
        "takeover_model = takeover_project.list_models()[-1]\n",
        "takeover_model.wait_for_evaluation()"
      ]
    },
    {
      "cell_type": "markdown",
      "metadata": {
        "id": "2Obo-CNs0j0m"
      },
      "source": [
        "## Evaluate your Model Metrics\n",
        "\n",
        "After your model is done training you can inspect the model's quality by reviewing the model's metrics."
      ]
    },
    {
      "cell_type": "code",
      "execution_count": null,
      "metadata": {
        "id": "4X5FiJoojSxY"
      },
      "outputs": [],
      "source": [
        "pp.pprint(takeover_model.get_metrics().to_dict())"
      ]
    },
    {
      "cell_type": "markdown",
      "metadata": {
        "id": "UJAMhAC30moz"
      },
      "source": [
        "To get a better understanding on what these metrics mean, visit our [documentation](https://abacus.ai/app/help/useCases/FRAUD_TRANSACTIONS/training) page."
      ]
    },
    {
      "cell_type": "markdown",
      "metadata": {
        "id": "2JzuNiha0vFr"
      },
      "source": [
        "## 5. Deploy Model"
      ]
    },
    {
      "cell_type": "markdown",
      "metadata": {
        "id": "Mj3Ts5ow0wVU"
      },
      "source": [
        "After the model has been trained, we need to deploy the model to be able to start making predictions. Deploying a model will reserve cloud resources to host the model for Realtime and/or batch predictions."
      ]
    },
    {
      "cell_type": "code",
      "execution_count": null,
      "metadata": {
        "id": "pmrPSJfDclJU"
      },
      "outputs": [],
      "source": [
        "takeover_deployment=client.create_deployment(model_id=takeover_model.model_id,name='Insider Threat Deployment',description='Insider Threat Deployment', calls_per_second=3)\n",
        "takeover_deployment.wait_for_deployment()"
      ]
    },
    {
      "cell_type": "markdown",
      "metadata": {
        "id": "mJArkkjk0yuC"
      },
      "source": [
        "After the model is deployed, we need to create a deployment token for authenticating prediction requests. This token is only authorized to predict on deployments in this project, so it's safe to embed this token inside of a user-facing application or website."
      ]
    },
    {
      "cell_type": "code",
      "execution_count": null,
      "metadata": {
        "id": "1gMT6K82jU6e"
      },
      "outputs": [],
      "source": [
        "deployment_token = takeover_project.create_deployment_token().deployment_token\n",
        "deployment_token"
      ]
    },
    {
      "cell_type": "markdown",
      "metadata": {
        "id": "A4eTdwCc01qW"
      },
      "source": [
        "## 6. Predict\n"
      ]
    },
    {
      "cell_type": "markdown",
      "metadata": {
        "id": "9JU8ECg503mO"
      },
      "source": [
        "Now that you have an active deployment and a deployment token to authenticate requests, you can make the `predict_takeover` API call below.\n",
        "\n",
        "This command will return the probability of a transaction being of each class of fraud. The prediction will be performed based on previously recorded frauds and the characteristics of the account that committed/didn't commit a fraud."
      ]
    },
    {
      "cell_type": "code",
      "execution_count": null,
      "metadata": {
        "id": "6cxjafqKjWGJ"
      },
      "outputs": [],
      "source": [
        "ApiClient().predict_takeover(deployment_token=deployment_token, \n",
        "               deployment_id=takeover_deployment.deployment_id, \n",
        "               query_data={\"duration\":0,\"num_failed_logins\":1,\"num_file_creations\":0,\"num_access_files\":1,\"logged_in\":\"0\",\"is_host_login\":\"0\",\"is_guest_login\":\"0\"})"
      ]
    },
    {
      "cell_type": "code",
      "execution_count": null,
      "metadata": {
        "id": "7-V2eK9tiY9B"
      },
      "outputs": [],
      "source": []
    }
  ],
  "metadata": {
    "colab": {
      "collapsed_sections": [],
      "name": "Copy of Account Takeover and Defense Notebook.ipynb",
      "provenance": [],
      "toc_visible": true
    },
    "kernelspec": {
      "display_name": "Python 3",
      "language": "python",
      "name": "python3"
    },
    "language_info": {
      "codemirror_mode": {
        "name": "ipython",
        "version": 3
      },
      "file_extension": ".py",
      "mimetype": "text/x-python",
      "name": "python",
      "nbconvert_exporter": "python",
      "pygments_lexer": "ipython3",
      "version": "3.8.10"
    }
  },
  "nbformat": 4,
  "nbformat_minor": 0
}
