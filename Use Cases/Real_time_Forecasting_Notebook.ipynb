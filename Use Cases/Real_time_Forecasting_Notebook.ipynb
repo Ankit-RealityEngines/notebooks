{
 "cells": [
  {
   "cell_type": "markdown",
   "metadata": {
    "id": "9C9IEcYV_iZh"
   },
   "source": [
    "## How-to guide for Real-Time Forecasting use-case on Abacus.AI platform\n",
    "This notebook provides you with a hands on environment to build a real-time forecasting model using the Abacus.AI Python Client Library.\n",
    "\n",
    "We'll be using the [Household Electricity Usage Dataset](https://s3.amazonaws.com/realityengines.exampledatasets/rtforecasting/household_electricity_usage.csv), which contains data about electricity usage in a specified household."
   ]
  },
  {
   "cell_type": "markdown",
   "metadata": {
    "id": "hKbimuye_5P8"
   },
   "source": [
    "1. Install the Abacus.AI library."
   ]
  },
  {
   "cell_type": "code",
   "execution_count": null,
   "metadata": {
    "colab": {
     "base_uri": "https://localhost:8080/"
    },
    "id": "U0WStChzikct",
    "outputId": "506a4621-1bad-4bd9-9851-f77a1869e6b6"
   },
   "outputs": [],
   "source": [
    "!pip install abacusai"
   ]
  },
  {
   "cell_type": "markdown",
   "metadata": {
    "id": "p8rrYtzx_80l"
   },
   "source": [
    "We'll also import pandas and pprint tools for neat visualization in this notebook."
   ]
  },
  {
   "cell_type": "code",
   "execution_count": 1,
   "metadata": {
    "id": "L5NOxjIlivMC"
   },
   "outputs": [],
   "source": [
    "import pandas as pd # A tool we'll use to download and preview CSV files\n",
    "import pprint # A tool to pretty print dictionary outputs\n",
    "pp = pprint.PrettyPrinter(indent=2)"
   ]
  },
  {
   "cell_type": "markdown",
   "metadata": {
    "id": "-35NaOTT__Wx"
   },
   "source": [
    "2. Add your Abacus.AI [API Key](https://abacus.ai/app/profile/apikey) generated using the API dashboard as follows:"
   ]
  },
  {
   "cell_type": "code",
   "execution_count": 2,
   "metadata": {
    "id": "PG8cUIzSix-A"
   },
   "outputs": [],
   "source": [
    "#@title Abacus.AI API Key\n",
    "\n",
    "api_key = '2fdecde877dc45fab937eff82b70eff0'  #@param {type: \"string\"}"
   ]
  },
  {
   "cell_type": "markdown",
   "metadata": {
    "id": "Y3GdvcMdABM8"
   },
   "source": [
    "3. Import the Abacus.AI library and instantiate a client."
   ]
  },
  {
   "cell_type": "code",
   "execution_count": 3,
   "metadata": {
    "colab": {
     "base_uri": "https://localhost:8080/"
    },
    "id": "Xg4kl96gizR6",
    "outputId": "ea98e2e1-d5a8-46ae-b64f-0403fd50be50"
   },
   "outputs": [],
   "source": [
    "from abacusai import ApiClient\n",
    "client = ApiClient(api_key)"
   ]
  },
  {
   "cell_type": "markdown",
   "metadata": {
    "id": "3_q7nUwrADgC"
   },
   "source": [
    "## 1. Create a Project\n",
    "\n",
    "Abacus.AI projects are containers that have datasets and trained models. By specifying a business **Use Case**, Abacus.AI tailors the deep learning algorithms to produce the best performing model possible for your data.\n",
    "\n",
    "We'll call the `list_use_cases` method to retrieve a list of the available Use Cases currently available on the Abacus.AI platform."
   ]
  },
  {
   "cell_type": "code",
   "execution_count": 4,
   "metadata": {
    "colab": {
     "base_uri": "https://localhost:8080/"
    },
    "id": "mb2bdmAfi0cK",
    "outputId": "6a32fa05-5388-426b-f54e-f6a6be962614"
   },
   "outputs": [
    {
     "data": {
      "text/plain": [
       "[UseCase(use_case='UCPLUGANDPLAY',\n",
       "   pretty_name='Plug & Play Your Tensorflow Model',\n",
       "   description='Upload your already trained model and leverage our model serving infrastructure.. Host your models on our infrastructure and get a JSON api with auto scaling and more!'),\n",
       " UseCase(use_case='EMBEDDINGS_ONLY',\n",
       "   pretty_name='Vector Matching Engine',\n",
       "   description='Upload embeddings and leverage our similarity search infrastructure.. Scale to high traffic, update your index in near realtime'),\n",
       " UseCase(use_case='MODEL_WITH_EMBEDDINGS',\n",
       "   pretty_name='Tensorflow Model With Vector Matching Engine',\n",
       "   description='Upload your already trained model and leverage our model serving infrastructure.. Host your models on our infrastructure and get a JSON api with auto scaling and more!'),\n",
       " UseCase(use_case='TORCH_MODEL_WITH_EMBEDDINGS',\n",
       "   pretty_name='PyTorch Model With Vector Matching Engine',\n",
       "   description='Upload your already trained model and leverage our model serving infrastructure.. Host your models on our infrastructure and get a JSON api with auto scaling and more!'),\n",
       " UseCase(use_case='PYTHON_MODEL',\n",
       "   pretty_name='Custom Python Model',\n",
       "   description='Upload your training code and let Abacus.AI handle training. Host your models on our infrastructure and get a JSON api with auto scaling and more!'),\n",
       " UseCase(use_case='DOCKER_MODEL',\n",
       "   pretty_name='Plug & Play Your Dockerized Model',\n",
       "   description='Upload your already trained model and leverage our model serving infrastructure.. Host your models on our infrastructure and get a JSON api with auto scaling and more!'),\n",
       " UseCase(use_case='DOCKER_MODEL_WITH_EMBEDDINGS',\n",
       "   pretty_name='Plug & Play Your Dockerized Model with Vector Matching Engine',\n",
       "   description='Upload your already trained model and leverage our model serving infrastructure.. Host your models on our infrastructure and get a JSON api with auto scaling and more!'),\n",
       " UseCase(use_case='CUSTOMER_CHURN',\n",
       "   pretty_name='Customer Churn Prediction',\n",
       "   description='Identify customers who are most likely to churn out of your system and send them marketing promotions/emails to retain them. Deploy a real-time deep learning model that identifies customers who are most likely to leave and increase retention.'),\n",
       " UseCase(use_case='ENERGY',\n",
       "   pretty_name='Real-Time Forecasting',\n",
       "   description='Accurately forecast energy or computation usage in real-time. Make downstream planning decisions based on your predictions. We use generative modeling (GANs) to augment your dataset with synthetic data. This unique approach allows us to make accurate predictions in real-time, even when you have little historical data.'),\n",
       " UseCase(use_case='FINANCIAL_METRICS',\n",
       "   pretty_name='Financial Metrics Forecasting',\n",
       "   description='Accurately plan your cash flow, revenue, and sales with state-of-the-art deep learning-based forecasting. We use generative modeling (GANs) to augment your dataset with synthetic data. This unique approach allows us to make accurate predictions, even when you have little historical data.'),\n",
       " UseCase(use_case='FRAUD_ACCOUNT',\n",
       "   pretty_name='Account Takeover and Defense',\n",
       "   description=\"Shield your customers from account takeovers by blocking bots and fake sign-ups. Behind the scenes, our AI engine will develop a custom deep learning model to prevent bot attacks and stops account takeovers in real-time. Setup is super simple and doesn't require any engineering or cumbersome data preparation.\"),\n",
       " UseCase(use_case='FRAUD_THREAT',\n",
       "   pretty_name='Intelligent Threat Detection',\n",
       "   description=\"Stop breachers in their tracks by continuously monitoring your environment for malicious activity. Prevent alert fatigue by reducing the number of false positives over time. Behind the scenes, our AI engine develops a deep learning model customized for your data to continuously monitors all your logs and alerts you of any malicious activity. Setup is super simple and doesn't require any ML expertise.\"),\n",
       " UseCase(use_case='FRAUD_TRANSACTIONS',\n",
       "   pretty_name='Transaction/Credit Card Fraud',\n",
       "   description=\"Accept payments with confidence, reduce chargebacks, and catch payment fraud instantly as it happens. Behind the scenes, our AI engine develops a custom deep learning model for you that prevents transaction fraud and catches fraudsters in real-time. Set up is super simple and doesn't require any engineering and cumbersome data preparation.\"),\n",
       " UseCase(use_case='OPERATIONS_CLOUD',\n",
       "   pretty_name='Cloud Spend Alerts',\n",
       "   description='Deploy state-of-the-art deep learning models to monitor your cloud spend, spot anomalies, spot runaway incidents, mitigate cost incidents, and get alerts so they can be remedied as quickly as possible. Use deep learning to find anomalies in your cloud usage and get alerts on them to mitigate cost incidents.'),\n",
       " UseCase(use_case='CLOUD_SPEND',\n",
       "   pretty_name='Cloud Spend Alerts',\n",
       "   description='Deploy state-of-the-art deep learning models to monitor your cloud spend, spot anomalies, spot runaway incidents, mitigate cost incidents, and get alerts so they can be remedied as quickly as possible. Use deep learning to find anomalies in your cloud usage and get alerts on them to mitigate cost incidents.'),\n",
       " UseCase(use_case='TIMESERIES_ANOMALY_DETECTION',\n",
       "   pretty_name='Timeseries Anomaly Detection',\n",
       "   description='Spot anomalies in your time series data by using deep learning models to increase revenue, save costs and reduce risks. With Abacus.AI you can set up state of the art deep learning models for time series anomaly detection within hours. These models adjust in real time and spot both simple one dimensional and complex multidimensional anomalies. Our models also help you find the root cause of the anomalies. No cumbersome data preparation or engineering effort to deploy the models in production are required.'),\n",
       " UseCase(use_case='OPERATIONS_MAINTENANCE',\n",
       "   pretty_name='Predictive Maintenance',\n",
       "   description='Leverage deep learning models to proactively assess the health of your assets and perform timely maintenance to reduce downtime and save costs. With Abacus.ai you can set up state of the art deep learning models for predictive maintenance within hours. These models learn from your past failures as well as spot anomalies that can lead to new failures. No cumbersome data preparation or engineering effort to deploy the models in production is required.'),\n",
       " UseCase(use_case='PERS_PROMOTIONS',\n",
       "   pretty_name='Personalized Promotions',\n",
       "   description='Send personalized promotions to your customers and increase engagement. Personalize promotions based on catalog items, marketing messages, delivery channels, and discount terms. Deploy a real-time deep learning model that targets relevant promotions to customers and increases engagement. No cumbersome data preparation required and setup is super easy.'),\n",
       " UseCase(use_case='PREDICTING',\n",
       "   pretty_name='Predictive Modeling',\n",
       "   description='Use historical data to predict future occurrences. Train state-of-the-art predictive models customized specifically according to your data and deploy it in production in hours, not months!. You can create a deep learning model for your specific needs simply by pointing us to your data and specifying the inputs/outputs. Our expert AI engine will do the data cleaning and processing, algorithm selection (classification or regression), and model creation. You will be ready to generate intelligent predictions from the deployed model in production in just a few hours.'),\n",
       " UseCase(use_case='RETAIL',\n",
       "   pretty_name='Demand Forecasting',\n",
       "   description='Accurately forecast retail demand. We use generative modeling (GANs) to augment your dataset with synthetic data. This allows us to make accurate predictions even when you have little historical data.'),\n",
       " UseCase(use_case='SALES_FORECASTING',\n",
       "   pretty_name='Sales and Revenue Forecasting',\n",
       "   description='Forecast sales and revenue across your sales reps, products, business units, and locations. Use deep learning to forecast your sales across multiple dimensions. Make better planning discussions and anticipate future problems so you can mitigate them.'),\n",
       " UseCase(use_case='SALES_SCORING',\n",
       "   pretty_name='Predictive Lead Scoring',\n",
       "   description='Identify the sales leads that are most likely to convert into paying customers and increase revenue. Just point our AI engine to your data, and it will create a deep learning model customized for your data to score all your leads and identify the best ones for conversion.'),\n",
       " UseCase(use_case='USER_RANKINGS',\n",
       "   pretty_name='Personalized Search',\n",
       "   description='Re-rank search results or list of items based on a user preferences. Maximize user engagement and revenue. Our unique blend of reinforcement learning and deep learning-based technology works even when you have little historical data and have to deal with a fast-changing catalog or multiple new users.'),\n",
       " UseCase(use_case='NAMED_ENTITY_RECOGNITION',\n",
       "   pretty_name='Text extraction and classification',\n",
       "   description='Find and label fields within text documents such as emails, chats, receipts, invoices or any other unstructured data set. With Abacus.AI you can set up state of the art deep learning models for text extraction and classification within hours. Based on your specific domain and use-case, Abacus.AI can fine-tune pre-trained models, apply transfer learning or simply train new language models from scratch.  No cumbersome data preparation or engineering effort to deploy the models in production are required.'),\n",
       " UseCase(use_case='USER_RECOMMENDATIONS',\n",
       "   pretty_name='Personalized Recommendations',\n",
       "   description='Increase user engagement and revenue with personalized recommendations on your app/website. Our unique blend of reinforcement learning and deep learning-based technology works even when you have little historical data and have to deal with a fast-changing catalog or multiple new users.'),\n",
       " UseCase(use_case='USER_RELATED',\n",
       "   pretty_name='Related Items',\n",
       "   description='Maximize revenue and user engagement. Immerse your customers into your app/website by providing them with a rich browse and related items experience. Our unique blend of reinforcement learning and deep learning-based technology works even when you have little historical data and have to deal with a fast-changing catalog or multiple new users.'),\n",
       " UseCase(use_case='VISION',\n",
       "   pretty_name='Image Classification & Detection',\n",
       "   description='Train an image classification & detection model specific to your domain and use it to classify and detect relevant objects. With Abacus.AI you can set up state of the art deep learning models for Image classification & detection within hours. Based on your specific domain and use-case, Abacus.AI can fine-tune pre-trained models, apply transfer learning or simply train new vision models from scratch. No cumbersome data preparation or engineering effort to deploy the models in production are required.')]"
      ]
     },
     "execution_count": 4,
     "metadata": {},
     "output_type": "execute_result"
    }
   ],
   "source": [
    "client.list_use_cases()"
   ]
  },
  {
   "cell_type": "markdown",
   "metadata": {
    "id": "iuYYFCQcAJYz"
   },
   "source": [
    "In this notebook, we're going to create a real-time forecasting model using the Household Electricity Usage dataset. The 'ENERGY' use case is best tailored for this situation."
   ]
  },
  {
   "cell_type": "code",
   "execution_count": 5,
   "metadata": {
    "id": "B81MrzLLi1-9"
   },
   "outputs": [],
   "source": [
    "#@title Abacus.AI Use Case\n",
    "\n",
    "use_case = 'ENERGY'  #@param {type: \"string\"}"
   ]
  },
  {
   "cell_type": "markdown",
   "metadata": {
    "id": "TGm4-JnUAOhj"
   },
   "source": [
    "By calling the `describe_use_case_requirements` method we can view what datasets are required for this use_case."
   ]
  },
  {
   "cell_type": "code",
   "execution_count": 6,
   "metadata": {
    "colab": {
     "base_uri": "https://localhost:8080/"
    },
    "id": "stifLaX0i-kA",
    "outputId": "62e40b50-f79e-4177-eec0-5b22cfe02e22"
   },
   "outputs": [
    {
     "name": "stdout",
     "output_type": "stream",
     "text": [
      "{ 'allowed_feature_mappings': { 'DATE': { 'allowed_feature_types': [ 'TIMESTAMP'],\n",
      "                                          'description': 'Date (day, year or '\n",
      "                                                         'month) that '\n",
      "                                                         'corresponds to the '\n",
      "                                                         'target value.',\n",
      "                                          'required': True},\n",
      "                                'FUTURE': { 'description': 'Known values ahead '\n",
      "                                                           'of time (e.g., '\n",
      "                                                           'State Holidays, '\n",
      "                                                           'National Holidays '\n",
      "                                                           'etc.) that can be '\n",
      "                                                           'easily included in '\n",
      "                                                           'the training '\n",
      "                                                           'dataset.',\n",
      "                                            'multiple': True,\n",
      "                                            'required': False},\n",
      "                                'IGNORE': { 'description': 'Ignore this column '\n",
      "                                                           'in training',\n",
      "                                            'multiple': True,\n",
      "                                            'required': False},\n",
      "                                'ITEM_ID': { 'allowed_feature_types': [ 'CATEGORICAL'],\n",
      "                                             'description': 'The unique '\n",
      "                                                            'identifier of the '\n",
      "                                                            'item whose target '\n",
      "                                                            'value you are '\n",
      "                                                            'forecasting.',\n",
      "                                             'required': True},\n",
      "                                'TARGET': { 'allowed_feature_types': [ 'NUMERICAL'],\n",
      "                                            'description': 'The target value '\n",
      "                                                           'you are '\n",
      "                                                           'forecasting. (e.g. '\n",
      "                                                           'energy, '\n",
      "                                                           'electricity '\n",
      "                                                           'usage).',\n",
      "                                            'required': True}},\n",
      "  'allowed_nested_feature_mappings': None,\n",
      "  'dataset_type': 'TIMESERIES',\n",
      "  'description': 'This dataset corresponds to the historical time series data '\n",
      "                 'for the items you are trying to forecast.',\n",
      "  'name': 'Forecasting Timeseries Data',\n",
      "  'required': True}\n",
      "{ 'allowed_feature_mappings': { 'IGNORE': { 'description': 'Ignore this column '\n",
      "                                                           'in training',\n",
      "                                            'multiple': True,\n",
      "                                            'required': False},\n",
      "                                'ITEM_ID': { 'allowed_feature_types': [ 'CATEGORICAL'],\n",
      "                                             'description': 'The unique '\n",
      "                                                            'identifier of the '\n",
      "                                                            'item whose target '\n",
      "                                                            'value you are '\n",
      "                                                            'forecasting (e.g '\n",
      "                                                            'energy pod id or '\n",
      "                                                            'compute cluster '\n",
      "                                                            'id)',\n",
      "                                             'required': True}},\n",
      "  'allowed_nested_feature_mappings': None,\n",
      "  'dataset_type': 'ITEM_ATTRIBUTES',\n",
      "  'description': 'This dataset corresponds to all the attributes or meta-data '\n",
      "                 'that you have about the items you are forecasting',\n",
      "  'name': 'Item Attributes',\n",
      "  'required': None}\n"
     ]
    }
   ],
   "source": [
    "for requirement in client.describe_use_case_requirements(use_case):\n",
    "  pp.pprint(requirement.to_dict())"
   ]
  },
  {
   "cell_type": "markdown",
   "metadata": {
    "id": "QIvPIQdrAQh5"
   },
   "source": [
    "Finally, let's create the project."
   ]
  },
  {
   "cell_type": "code",
   "execution_count": 7,
   "metadata": {
    "colab": {
     "base_uri": "https://localhost:8080/"
    },
    "id": "ji7nzh7ujAIR",
    "outputId": "65c2c292-70ca-40b3-82aa-aab232a5b731"
   },
   "outputs": [
    {
     "data": {
      "text/plain": [
       "{'project_id': '156aa80118',\n",
       " 'name': 'Electricity Usage Forecasting',\n",
       " 'use_case': 'ENERGY',\n",
       " 'created_at': '2021-11-23T19:21:55+00:00',\n",
       " 'feature_groups_enabled': True}"
      ]
     },
     "execution_count": 7,
     "metadata": {},
     "output_type": "execute_result"
    }
   ],
   "source": [
    "real_time_project = client.create_project(name='Electricity Usage Forecasting', use_case=use_case)\n",
    "real_time_project.to_dict()"
   ]
  },
  {
   "cell_type": "markdown",
   "metadata": {
    "id": "6zhnJrCG1Nfx"
   },
   "source": [
    "**Note: When feature_groups_enabled is True then the use case supports feature groups (collection of ML features). Feature groups are created at the organization level and can be tied to a project to further use it for training ML models**"
   ]
  },
  {
   "cell_type": "markdown",
   "metadata": {
    "id": "-NeRTkfLATR5"
   },
   "source": [
    "## 2. Add Datasets to your Project\n",
    "\n",
    "Abacus.AI can read datasets directly from `AWS S3` or `Google Cloud Storage` buckets, otherwise you can also directly upload and store your datasets with Abacus.AI. For this notebook, we will have Abacus.AI read the datasets directly from a public S3 bucket's location.\n",
    "\n",
    "We are using one dataset for this notebook. We'll tell Abacus.AI how the dataset should be used when creating it by tagging the dataset with a special Abacus.AI **Dataset Type**.\n",
    "- [Household Electricity Usage Dataset](https://s3.amazonaws.com/realityengines.exampledatasets/rtforecasting/household_electricity_usage.csv) (**TIMESERIES**): \n",
    "This dataset contains information about electricity usage in specified households over a period of time."
   ]
  },
  {
   "cell_type": "markdown",
   "metadata": {
    "id": "4x7RSou5Ae-1"
   },
   "source": [
    "### Add the dataset to Abacus.AI\n",
    "\n",
    "First we'll use Pandas to preview the file, then add it to Abacus.AI."
   ]
  },
  {
   "cell_type": "code",
   "execution_count": 8,
   "metadata": {
    "colab": {
     "base_uri": "https://localhost:8080/",
     "height": 417
    },
    "id": "YP9vhBMpe7Rv",
    "outputId": "4e9cc80b-220e-4906-b8e3-1ff5c7553574"
   },
   "outputs": [
    {
     "data": {
      "text/html": [
       "<div>\n",
       "<style scoped>\n",
       "    .dataframe tbody tr th:only-of-type {\n",
       "        vertical-align: middle;\n",
       "    }\n",
       "\n",
       "    .dataframe tbody tr th {\n",
       "        vertical-align: top;\n",
       "    }\n",
       "\n",
       "    .dataframe thead th {\n",
       "        text-align: right;\n",
       "    }\n",
       "</style>\n",
       "<table border=\"1\" class=\"dataframe\">\n",
       "  <thead>\n",
       "    <tr style=\"text-align: right;\">\n",
       "      <th></th>\n",
       "      <th>id</th>\n",
       "      <th>time</th>\n",
       "      <th>value</th>\n",
       "    </tr>\n",
       "  </thead>\n",
       "  <tbody>\n",
       "    <tr>\n",
       "      <th>0</th>\n",
       "      <td>MT_294</td>\n",
       "      <td>2011-01-01 00:00:00</td>\n",
       "      <td>378.11935</td>\n",
       "    </tr>\n",
       "    <tr>\n",
       "      <th>1</th>\n",
       "      <td>MT_294</td>\n",
       "      <td>2011-01-01 01:00:00</td>\n",
       "      <td>373.61487</td>\n",
       "    </tr>\n",
       "    <tr>\n",
       "      <th>2</th>\n",
       "      <td>MT_294</td>\n",
       "      <td>2011-01-01 02:00:00</td>\n",
       "      <td>360.93750</td>\n",
       "    </tr>\n",
       "    <tr>\n",
       "      <th>3</th>\n",
       "      <td>MT_294</td>\n",
       "      <td>2011-01-01 03:00:00</td>\n",
       "      <td>363.46283</td>\n",
       "    </tr>\n",
       "    <tr>\n",
       "      <th>4</th>\n",
       "      <td>MT_294</td>\n",
       "      <td>2011-01-01 04:00:00</td>\n",
       "      <td>371.08110</td>\n",
       "    </tr>\n",
       "    <tr>\n",
       "      <th>...</th>\n",
       "      <td>...</td>\n",
       "      <td>...</td>\n",
       "      <td>...</td>\n",
       "    </tr>\n",
       "    <tr>\n",
       "      <th>12973675</th>\n",
       "      <td>MT_369</td>\n",
       "      <td>2011-12-31 19:00:00</td>\n",
       "      <td>0.00000</td>\n",
       "    </tr>\n",
       "    <tr>\n",
       "      <th>12973676</th>\n",
       "      <td>MT_369</td>\n",
       "      <td>2011-12-31 20:00:00</td>\n",
       "      <td>0.00000</td>\n",
       "    </tr>\n",
       "    <tr>\n",
       "      <th>12973677</th>\n",
       "      <td>MT_369</td>\n",
       "      <td>2011-12-31 21:00:00</td>\n",
       "      <td>0.00000</td>\n",
       "    </tr>\n",
       "    <tr>\n",
       "      <th>12973678</th>\n",
       "      <td>MT_369</td>\n",
       "      <td>2011-12-31 22:00:00</td>\n",
       "      <td>0.00000</td>\n",
       "    </tr>\n",
       "    <tr>\n",
       "      <th>12973679</th>\n",
       "      <td>MT_369</td>\n",
       "      <td>2011-12-31 23:00:00</td>\n",
       "      <td>0.00000</td>\n",
       "    </tr>\n",
       "  </tbody>\n",
       "</table>\n",
       "<p>12973680 rows × 3 columns</p>\n",
       "</div>"
      ],
      "text/plain": [
       "              id                 time      value\n",
       "0         MT_294  2011-01-01 00:00:00  378.11935\n",
       "1         MT_294  2011-01-01 01:00:00  373.61487\n",
       "2         MT_294  2011-01-01 02:00:00  360.93750\n",
       "3         MT_294  2011-01-01 03:00:00  363.46283\n",
       "4         MT_294  2011-01-01 04:00:00  371.08110\n",
       "...          ...                  ...        ...\n",
       "12973675  MT_369  2011-12-31 19:00:00    0.00000\n",
       "12973676  MT_369  2011-12-31 20:00:00    0.00000\n",
       "12973677  MT_369  2011-12-31 21:00:00    0.00000\n",
       "12973678  MT_369  2011-12-31 22:00:00    0.00000\n",
       "12973679  MT_369  2011-12-31 23:00:00    0.00000\n",
       "\n",
       "[12973680 rows x 3 columns]"
      ]
     },
     "execution_count": 8,
     "metadata": {},
     "output_type": "execute_result"
    }
   ],
   "source": [
    "pd.read_csv('https://s3.amazonaws.com/realityengines.exampledatasets/rtforecasting/household_electricity_usage.csv')"
   ]
  },
  {
   "cell_type": "markdown",
   "metadata": {
    "id": "8XA5b9pTAhIe"
   },
   "source": [
    "Using the Create Dataset API, we can tell Abacus.AI the public S3 URI of where to find the datasets. We will also give each dataset a Refresh Schedule, which tells Abacus.AI when it should refresh the dataset (take an updated/latest copy of the dataset).\n",
    "\n",
    "If you're unfamiliar with Cron Syntax, Crontab Guru can help translate the syntax back into natural language: [https://crontab.guru/#0_12_\\*_\\*_\\*](https://crontab.guru/#0_12_*_*_*)\n",
    "\n",
    "**Note: This cron string will be evaluated in UTC time zone**"
   ]
  },
  {
   "cell_type": "code",
   "execution_count": 20,
   "metadata": {
    "id": "N-o7hNMCe718"
   },
   "outputs": [],
   "source": [
    "real_time_dataset = client.create_dataset_from_file_connector(name='Household Electricity Usage',table_name='Household_Electricity_Usage',\n",
    "                                     location='s3://realityengines.exampledatasets/rtforecasting/household_electricity_usage.csv',\n",
    "                                     refresh_schedule='0 12 * * *')\n",
    "datasets = [real_time_dataset]"
   ]
  },
  {
   "cell_type": "markdown",
   "metadata": {
    "id": "SzmDkh-41Q-1"
   },
   "source": [
    "## 3. Create Feature Groups and add them to your Project\n",
    "\n",
    "Datasets are created at the organization level and can be used to create feature groups as follows:"
   ]
  },
  {
   "cell_type": "code",
   "execution_count": 23,
   "metadata": {
    "colab": {
     "base_uri": "https://localhost:8080/"
    },
    "id": "vV9lzX_EXu3T",
    "outputId": "8a37b57a-e34b-4b3d-ee57-2808df026814"
   },
   "outputs": [],
   "source": [
    "feature_group = client.create_feature_group(table_name='real_time_forecasting',sql='SELECT * FROM Household_Electricity_Usage')"
   ]
  },
  {
   "cell_type": "markdown",
   "metadata": {
    "id": "lyjiXlnN1eRz"
   },
   "source": [
    "Adding Feature Group to the project:"
   ]
  },
  {
   "cell_type": "code",
   "execution_count": 24,
   "metadata": {
    "id": "GECYDzWFXu6p"
   },
   "outputs": [],
   "source": [
    "client.add_feature_group_to_project(feature_group_id=feature_group.feature_group_id,project_id = real_time_project.project_id)"
   ]
  },
  {
   "cell_type": "markdown",
   "metadata": {
    "id": "mLJjEjKE1crJ"
   },
   "source": [
    "Setting the Feature Group type according to the use case requirements:"
   ]
  },
  {
   "cell_type": "code",
   "execution_count": 25,
   "metadata": {
    "id": "0Dbbl6qI1c1k"
   },
   "outputs": [],
   "source": [
    "client.set_feature_group_type(feature_group_id=feature_group.feature_group_id, project_id = real_time_project.project_id, feature_group_type= \"TIMESERIES\")"
   ]
  },
  {
   "cell_type": "markdown",
   "metadata": {},
   "source": [
    "Check current Feature Group schema:"
   ]
  },
  {
   "cell_type": "code",
   "execution_count": 26,
   "metadata": {
    "colab": {
     "base_uri": "https://localhost:8080/"
    },
    "id": "j-xA4CcqXvQN",
    "outputId": "95117b22-902e-4bb9-93fa-112384364166"
   },
   "outputs": [
    {
     "data": {
      "text/plain": [
       "[Feature(name='id',\n",
       "   select_clause=None,\n",
       "   feature_mapping=None,\n",
       "   source_table='Household_Electricity_Usage99',\n",
       "   original_name=None,\n",
       "   using_clause=None,\n",
       "   order_clause=None,\n",
       "   where_clause=None,\n",
       "   feature_type='CATEGORICAL',\n",
       "   data_type='STRING',\n",
       "   columns=None,\n",
       "   point_in_time_info=None),\n",
       " Feature(name='time',\n",
       "   select_clause=None,\n",
       "   feature_mapping=None,\n",
       "   source_table='Household_Electricity_Usage99',\n",
       "   original_name=None,\n",
       "   using_clause=None,\n",
       "   order_clause=None,\n",
       "   where_clause=None,\n",
       "   feature_type='TIMESTAMP',\n",
       "   data_type='DATETIME',\n",
       "   columns=None,\n",
       "   point_in_time_info=None),\n",
       " Feature(name='value',\n",
       "   select_clause=None,\n",
       "   feature_mapping=None,\n",
       "   source_table='Household_Electricity_Usage99',\n",
       "   original_name=None,\n",
       "   using_clause=None,\n",
       "   order_clause=None,\n",
       "   where_clause=None,\n",
       "   feature_type='NUMERICAL',\n",
       "   data_type='FLOAT',\n",
       "   columns=None,\n",
       "   point_in_time_info=None)]"
      ]
     },
     "execution_count": 26,
     "metadata": {},
     "output_type": "execute_result"
    }
   ],
   "source": [
    "client.get_feature_group_schema(feature_group_id=feature_group.feature_group_id)"
   ]
  },
  {
   "cell_type": "markdown",
   "metadata": {
    "id": "dTh1gkvtApnD"
   },
   "source": [
    "#### For each **Use Case**, there are special **Column Mappings** that must be applied to a column to fulfill use case requirements. We can find the list of available **Column Mappings** by calling the *Describe Use Case Requirements* API:"
   ]
  },
  {
   "cell_type": "code",
   "execution_count": 27,
   "metadata": {
    "colab": {
     "base_uri": "https://localhost:8080/"
    },
    "id": "psFHlxSzjCGG",
    "outputId": "58277197-2f38-422e-cdcf-f0bf5935380f"
   },
   "outputs": [
    {
     "data": {
      "text/plain": [
       "{'ITEM_ID': {'description': 'The unique identifier of the item whose target value you are forecasting.',\n",
       "  'allowed_feature_types': ['CATEGORICAL'],\n",
       "  'required': True},\n",
       " 'TARGET': {'description': 'The target value you are forecasting. (e.g. energy, electricity usage).',\n",
       "  'allowed_feature_types': ['NUMERICAL'],\n",
       "  'required': True},\n",
       " 'DATE': {'description': 'Date (day, year or month) that corresponds to the target value.',\n",
       "  'allowed_feature_types': ['TIMESTAMP'],\n",
       "  'required': True},\n",
       " 'FUTURE': {'description': 'Known values ahead of time (e.g., State Holidays, National Holidays etc.) that can be easily included in the training dataset.',\n",
       "  'multiple': True,\n",
       "  'required': False},\n",
       " 'IGNORE': {'description': 'Ignore this column in training',\n",
       "  'multiple': True,\n",
       "  'required': False}}"
      ]
     },
     "execution_count": 27,
     "metadata": {},
     "output_type": "execute_result"
    }
   ],
   "source": [
    "client.describe_use_case_requirements(use_case)[0].allowed_feature_mappings"
   ]
  },
  {
   "cell_type": "code",
   "execution_count": 28,
   "metadata": {
    "colab": {
     "base_uri": "https://localhost:8080/"
    },
    "id": "TIdfg9KfYrTy",
    "outputId": "132cbad3-0af4-4193-a01d-343b5232e8c5"
   },
   "outputs": [
    {
     "data": {
      "text/plain": [
       "[Feature(name='id',\n",
       "   select_clause=None,\n",
       "   feature_mapping='ITEM_ID',\n",
       "   source_table='Household_Electricity_Usage99',\n",
       "   original_name=None,\n",
       "   using_clause=None,\n",
       "   order_clause=None,\n",
       "   where_clause=None,\n",
       "   feature_type='CATEGORICAL',\n",
       "   data_type='STRING',\n",
       "   columns=None,\n",
       "   point_in_time_info=None),\n",
       " Feature(name='time',\n",
       "   select_clause=None,\n",
       "   feature_mapping='DATE',\n",
       "   source_table='Household_Electricity_Usage99',\n",
       "   original_name=None,\n",
       "   using_clause=None,\n",
       "   order_clause=None,\n",
       "   where_clause=None,\n",
       "   feature_type='TIMESTAMP',\n",
       "   data_type='DATETIME',\n",
       "   columns=None,\n",
       "   point_in_time_info=None),\n",
       " Feature(name='value',\n",
       "   select_clause=None,\n",
       "   feature_mapping='TARGET',\n",
       "   source_table='Household_Electricity_Usage99',\n",
       "   original_name=None,\n",
       "   using_clause=None,\n",
       "   order_clause=None,\n",
       "   where_clause=None,\n",
       "   feature_type='NUMERICAL',\n",
       "   data_type='FLOAT',\n",
       "   columns=None,\n",
       "   point_in_time_info=None)]"
      ]
     },
     "execution_count": 28,
     "metadata": {},
     "output_type": "execute_result"
    }
   ],
   "source": [
    "client.set_feature_mapping(project_id = real_time_project.project_id,feature_group_id= feature_group.feature_group_id, feature_name='value',feature_mapping='TARGET')\n",
    "client.set_feature_mapping(project_id = real_time_project.project_id,feature_group_id= feature_group.feature_group_id, feature_name='time',feature_mapping='DATE')\n",
    "client.set_feature_mapping(project_id = real_time_project.project_id,feature_group_id= feature_group.feature_group_id, feature_name='id',feature_mapping='ITEM_ID')"
   ]
  },
  {
   "cell_type": "markdown",
   "metadata": {
    "id": "8HXEJfit18nN"
   },
   "source": [
    "For each required Feature Group Type within the use case, you must assign the Feature group to be used for training the model:"
   ]
  },
  {
   "cell_type": "code",
   "execution_count": null,
   "metadata": {
    "id": "wH-3CgPXlEIJ"
   },
   "outputs": [],
   "source": [
    "client.use_feature_group_for_training(project_id=real_time_project.project_id, feature_group_id=feature_group.feature_group_id)"
   ]
  },
  {
   "cell_type": "markdown",
   "metadata": {
    "id": "W22uAj4bAvW9"
   },
   "source": [
    "Now that we've our feature groups assigned, we're almost ready to train a model!\n",
    "\n",
    "To be sure that our project is ready to go, let's call project.validate to confirm that all the project requirements have been met:"
   ]
  },
  {
   "cell_type": "code",
   "execution_count": null,
   "metadata": {
    "colab": {
     "base_uri": "https://localhost:8080/"
    },
    "id": "tKoiftY0j3TG",
    "outputId": "692197c7-c0a2-46a2-8059-0b74b1e85a7e"
   },
   "outputs": [],
   "source": [
    "real_time_project.validate()"
   ]
  },
  {
   "cell_type": "markdown",
   "metadata": {
    "id": "PLnozF7iAtnf"
   },
   "source": [
    "## 4. Train a Model"
   ]
  },
  {
   "cell_type": "markdown",
   "metadata": {
    "id": "dbeXVyMFAy4J"
   },
   "source": [
    "For each **Use Case**, Abacus.AI has a bunch of options for training. We can call the *Get Training Config Options* API to see the available options."
   ]
  },
  {
   "cell_type": "code",
   "execution_count": null,
   "metadata": {
    "colab": {
     "base_uri": "https://localhost:8080/"
    },
    "id": "codpuGdzj5Mp",
    "outputId": "ac2323db-0caa-4f71-ed71-66698ef2421f"
   },
   "outputs": [],
   "source": [
    "real_time_project.get_training_config_options()"
   ]
  },
  {
   "cell_type": "markdown",
   "metadata": {
    "id": "qGVMoOJxA1iX"
   },
   "source": [
    "In this notebook, we'll just train with the default options, but definitely feel free to experiment, especially if you have familiarity with Machine Learning."
   ]
  },
  {
   "cell_type": "code",
   "execution_count": null,
   "metadata": {
    "colab": {
     "base_uri": "https://localhost:8080/"
    },
    "id": "VBqdxHYMj6Xg",
    "outputId": "dfd582ec-d17e-4c7c-c7d7-f554ad608ee5"
   },
   "outputs": [],
   "source": [
    "real_time_model = real_time_project.train_model(training_config={})\n",
    "real_time_model.to_dict()"
   ]
  },
  {
   "cell_type": "markdown",
   "metadata": {
    "id": "bRydhua9A5OT"
   },
   "source": [
    "After we start training the model, we can call this blocking call that routinely checks the status of the model until it is trained and evaluated."
   ]
  },
  {
   "cell_type": "code",
   "execution_count": null,
   "metadata": {
    "colab": {
     "base_uri": "https://localhost:8080/"
    },
    "id": "iZLUwj3_j8AH",
    "outputId": "5053a8bd-c54a-4c52-f0f1-9ba4b2b33fc8"
   },
   "outputs": [],
   "source": [
    "real_time_model.wait_for_evaluation()"
   ]
  },
  {
   "cell_type": "markdown",
   "metadata": {
    "id": "DS6dDGHC2Hvu"
   },
   "source": [
    "**Note that model training might take some minutes to some hours depending upon the size of datasets, complexity of the models being trained and a variety of other factors**"
   ]
  },
  {
   "cell_type": "markdown",
   "metadata": {
    "id": "_G_IrWmbA7vZ"
   },
   "source": [
    "## **Checkpoint** [Optional]\n",
    "As model training can take an hours to complete, your page could time out or you might end up hitting the refresh button, this section helps you restore your progress:"
   ]
  },
  {
   "cell_type": "code",
   "execution_count": null,
   "metadata": {
    "id": "eeNOLyfnA877"
   },
   "outputs": [],
   "source": [
    "!pip install abacusai\n",
    "import pandas as pd\n",
    "import pprint\n",
    "pp = pprint.PrettyPrinter(indent=2)\n",
    "api_key = ''  #@param {type: \"string\"}\n",
    "from abacusai import ApiClient\n",
    "client = ApiClient(api_key)\n",
    "real_time_project = next(project for project in client.list_projects() if project.name == 'Electricity Usage Forecasting')\n",
    "real_time_model = real_time_project.list_models()[-1]\n",
    "real_time_model.wait_for_evaluation()"
   ]
  },
  {
   "cell_type": "markdown",
   "metadata": {
    "id": "xw7POj4tBKTG"
   },
   "source": [
    "## Evaluate your Model Metrics\n",
    "\n",
    "After your model is done training you can inspect the model's quality by reviewing the model's metrics"
   ]
  },
  {
   "cell_type": "code",
   "execution_count": null,
   "metadata": {
    "colab": {
     "base_uri": "https://localhost:8080/"
    },
    "id": "GQ8AH0xsj9ts",
    "outputId": "e3bb77a6-d43b-4acc-e7fd-ff69d0aa3483"
   },
   "outputs": [],
   "source": [
    "pp.pprint(real_time_model.get_metrics().to_dict())"
   ]
  },
  {
   "cell_type": "markdown",
   "metadata": {
    "id": "Me7R75zPBMbW"
   },
   "source": [
    "To get a better understanding on what these metrics mean, visit our [documentation](https://abacus.ai/app/help/useCases/ENERGY/training) page."
   ]
  },
  {
   "cell_type": "markdown",
   "metadata": {
    "id": "OKr0VRyiBV8S"
   },
   "source": [
    "## 5. Deploy Model"
   ]
  },
  {
   "cell_type": "markdown",
   "metadata": {
    "id": "DascIt8KBWQW"
   },
   "source": [
    "After the model has been trained, we need to deploy the model to be able to start making predictions. Deploying a model will reserve cloud resources to host the model for Realtime and/or batch predictions."
   ]
  },
  {
   "cell_type": "code",
   "execution_count": null,
   "metadata": {
    "colab": {
     "base_uri": "https://localhost:8080/"
    },
    "id": "-aGgzb95j_AF",
    "outputId": "60c1ae40-5ff4-4759-85c8-380e8df55e06"
   },
   "outputs": [],
   "source": [
    "real_time_deployment = client.create_deployment(name='Electricity Usage Deployment',description='Electricity Usage Deployment',model_id=real_time_model.model_id)\n",
    "real_time_deployment.wait_for_deployment()"
   ]
  },
  {
   "cell_type": "markdown",
   "metadata": {
    "id": "u9pQBRmPBbk1"
   },
   "source": [
    "After the model is deployed, we need to create a deployment token for authenticating prediction requests. This token is only authorized to predict on deployments in this project, so it's safe to embed this token inside of a user-facing application or website."
   ]
  },
  {
   "cell_type": "code",
   "execution_count": null,
   "metadata": {
    "colab": {
     "base_uri": "https://localhost:8080/",
     "height": 35
    },
    "id": "ThqR7zVXkAa-",
    "outputId": "5b5732cb-a630-45d9-8791-598047ba3629"
   },
   "outputs": [],
   "source": [
    "deployment_token = real_time_project.create_deployment_token().deployment_token\n",
    "deployment_token"
   ]
  },
  {
   "cell_type": "markdown",
   "metadata": {
    "id": "7d7RMuJwBc5G"
   },
   "source": [
    "## 6. Predict\n"
   ]
  },
  {
   "cell_type": "markdown",
   "metadata": {
    "id": "1FgHz2XOBdQn"
   },
   "source": [
    "Now that you have an active deployment and a deployment token to authenticate requests, you can make the `get_forecast` API call below.\n",
    "\n",
    "This command will return a forecast under each percentile for the specified ITEM_ID. The forecast will be performed based on attributes specified in the dataset."
   ]
  },
  {
   "cell_type": "code",
   "execution_count": null,
   "metadata": {
    "colab": {
     "base_uri": "https://localhost:8080/"
    },
    "id": "T6n-vz0lkB65",
    "outputId": "b5f8a1d8-955a-43f2-84c0-dba3421042a1"
   },
   "outputs": [],
   "source": [
    "ApiClient().get_forecast(deployment_token=deployment_token, \n",
    "               deployment_id=real_time_deployment.deployment_id, \n",
    "               query_data={\"id\":\"MT_001\"})"
   ]
  }
 ],
 "metadata": {
  "colab": {
   "collapsed_sections": [],
   "name": "Copy of Real-time Forecasting Notebook.ipynb",
   "provenance": [],
   "toc_visible": true
  },
  "interpreter": {
   "hash": "31f2aee4e71d21fbe5cf8b01ff0e069b9275f58929596ceb00d14d90e3e16cd6"
  },
  "kernelspec": {
   "display_name": "Python 3.8.10 64-bit",
   "name": "python3"
  },
  "language_info": {
   "codemirror_mode": {
    "name": "ipython",
    "version": 3
   },
   "file_extension": ".py",
   "mimetype": "text/x-python",
   "name": "python",
   "nbconvert_exporter": "python",
   "pygments_lexer": "ipython3",
   "version": "3.8.10"
  }
 },
 "nbformat": 4,
 "nbformat_minor": 1
}
