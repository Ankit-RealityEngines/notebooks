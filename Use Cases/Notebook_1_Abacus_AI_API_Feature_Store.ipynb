{
  "nbformat": 4,
  "nbformat_minor": 0,
  "metadata": {
    "colab": {
      "name": "Notebook 1: Abacus.AI API Feature Store",
      "provenance": [],
      "collapsed_sections": [
        "-Gm-5asnS3S-"
      ]
    },
    "kernelspec": {
      "display_name": "Python 3",
      "name": "python3"
    }
  },
  "cells": [
    {
      "cell_type": "markdown",
      "metadata": {
        "id": "Y0ejrLq_-Zl6"
      },
      "source": [
        "## How-to guide for Feature Store on the Abacus.AI platform\n",
        "This notebook provides you with a hands on environment to build and deploy a feature store using Abacus.AI\n",
        "\n",
        "We'll be using the [User Movie Ratings](https://s3.amazonaws.com/abacusai.exampledatasets/user_recommendations/user_movie_ratings.csv), [Movies Metadata](https://s3.amazonaws.com/abacusai.exampledatasets/user_recommendations/movies_metadata.csv) and [User Metadata](https://s3.amazonaws.com/abacusai.exampledatasets/user_recommendations/users_metadata.csv) datasets."
      ]
    },
    {
      "cell_type": "markdown",
      "metadata": {
        "id": "uIhrIhXeqJJE"
      },
      "source": [
        "1. Install the Abacus.AI library."
      ]
    },
    {
      "cell_type": "code",
      "metadata": {
        "id": "JSsm7EQrmvey"
      },
      "source": [
        "!pip install abacusai"
      ],
      "execution_count": null,
      "outputs": []
    },
    {
      "cell_type": "markdown",
      "metadata": {
        "id": "izrh6I2aqlTa"
      },
      "source": [
        "2. Add your Abacus.AI [API Key](https://abacus.ai/app/profile/apikey) generated using the API dashboard as follows:"
      ]
    },
    {
      "cell_type": "code",
      "metadata": {
        "id": "d8TJ_-Qamz5x"
      },
      "source": [
        "#@title Abacus.AI API Key\n",
        "\n",
        "api_key = 'cf45d23272e74465b776e5fa79101f7b'  #@param {type: \"string\"}"
      ],
      "execution_count": null,
      "outputs": []
    },
    {
      "cell_type": "markdown",
      "metadata": {
        "id": "fqpb-UfFqmzs"
      },
      "source": [
        "3. Import the Abacus.AI library and instantiate a client."
      ]
    },
    {
      "cell_type": "code",
      "metadata": {
        "id": "U8M1MoB0m1DV"
      },
      "source": [
        "from abacusai import ApiClient, ApiException\n",
        "client = ApiClient(api_key)"
      ],
      "execution_count": null,
      "outputs": []
    },
    {
      "cell_type": "markdown",
      "metadata": {
        "id": "2tXzo8ZRqodi"
      },
      "source": [
        "## 1. Create a Project\n",
        "\n"
      ]
    },
    {
      "cell_type": "markdown",
      "metadata": {
        "id": "ZWSjEJ7AqrQW"
      },
      "source": [
        "In this notebook, we're going to create and deploy a feature store that automatically featurizes input data using the Movies Interaction and User/Item Metadata datasets."
      ]
    },
    {
      "cell_type": "code",
      "metadata": {
        "id": "8idfft0im5ci"
      },
      "source": [
        "project = client.create_project(name='Demo Movie Feature Store Project', use_case='FEATURE_STORE')"
      ],
      "execution_count": null,
      "outputs": []
    },
    {
      "cell_type": "markdown",
      "metadata": {
        "id": "wS8T5vcLrIlg"
      },
      "source": [
        "## 2. Creating Datasets\n",
        "\n",
        "Abacus.AI can read datasets directly from File blob storage\n",
        "\n",
        "We are using three datasets for this notebook.\n",
        "- [User Movie Ratings](https://s3.amazonaws.com/abacusai.exampledatasets/user_recommendations/user_movie_ratings.csv)\n",
        "This dataset contains information about user interactions with movies.\n",
        "- [Movies Metadata](https://s3.amazonaws.com/abacusai.exampledatasets/user_recommendations/movies_metadata.csv) This dataset contains information about the movies.\n",
        "- [User Metadata](https://s3.amazonaws.com/abacusai.exampledatasets/user_recommendations/users_metadata.csv) This dataset contains information about users.\n"
      ]
    },
    {
      "cell_type": "markdown",
      "metadata": {
        "id": "Hcm8HthClmIJ"
      },
      "source": [
        "### Data Preview"
      ]
    },
    {
      "cell_type": "code",
      "metadata": {
        "id": "hh4rEj4Ql3Rj"
      },
      "source": [
        "!pip install fsspec\n",
        "!pip install s3fs\n",
        "import pandas as pd"
      ],
      "execution_count": null,
      "outputs": []
    },
    {
      "cell_type": "code",
      "metadata": {
        "colab": {
          "base_uri": "https://localhost:8080/",
          "height": 419
        },
        "id": "D4YjQSVzllNJ",
        "outputId": "83c7ce89-b55c-4733-8553-a28e96bd6237"
      },
      "source": [
        "pd.read_csv('s3://abacusai.exampledatasets/user_recommendations/user_movie_ratings.csv')"
      ],
      "execution_count": null,
      "outputs": [
        {
          "output_type": "execute_result",
          "data": {
            "text/html": [
              "<div>\n",
              "<style scoped>\n",
              "    .dataframe tbody tr th:only-of-type {\n",
              "        vertical-align: middle;\n",
              "    }\n",
              "\n",
              "    .dataframe tbody tr th {\n",
              "        vertical-align: top;\n",
              "    }\n",
              "\n",
              "    .dataframe thead th {\n",
              "        text-align: right;\n",
              "    }\n",
              "</style>\n",
              "<table border=\"1\" class=\"dataframe\">\n",
              "  <thead>\n",
              "    <tr style=\"text-align: right;\">\n",
              "      <th></th>\n",
              "      <th>user_id</th>\n",
              "      <th>movie_id</th>\n",
              "      <th>rating</th>\n",
              "      <th>timestamp</th>\n",
              "    </tr>\n",
              "  </thead>\n",
              "  <tbody>\n",
              "    <tr>\n",
              "      <th>0</th>\n",
              "      <td>1</td>\n",
              "      <td>1193</td>\n",
              "      <td>5</td>\n",
              "      <td>978300760</td>\n",
              "    </tr>\n",
              "    <tr>\n",
              "      <th>1</th>\n",
              "      <td>1</td>\n",
              "      <td>3408</td>\n",
              "      <td>4</td>\n",
              "      <td>978300275</td>\n",
              "    </tr>\n",
              "    <tr>\n",
              "      <th>2</th>\n",
              "      <td>1</td>\n",
              "      <td>2355</td>\n",
              "      <td>5</td>\n",
              "      <td>978824291</td>\n",
              "    </tr>\n",
              "    <tr>\n",
              "      <th>3</th>\n",
              "      <td>1</td>\n",
              "      <td>1287</td>\n",
              "      <td>5</td>\n",
              "      <td>978302039</td>\n",
              "    </tr>\n",
              "    <tr>\n",
              "      <th>4</th>\n",
              "      <td>1</td>\n",
              "      <td>2804</td>\n",
              "      <td>5</td>\n",
              "      <td>978300719</td>\n",
              "    </tr>\n",
              "    <tr>\n",
              "      <th>...</th>\n",
              "      <td>...</td>\n",
              "      <td>...</td>\n",
              "      <td>...</td>\n",
              "      <td>...</td>\n",
              "    </tr>\n",
              "    <tr>\n",
              "      <th>575276</th>\n",
              "      <td>6040</td>\n",
              "      <td>1089</td>\n",
              "      <td>4</td>\n",
              "      <td>956704996</td>\n",
              "    </tr>\n",
              "    <tr>\n",
              "      <th>575277</th>\n",
              "      <td>6040</td>\n",
              "      <td>1094</td>\n",
              "      <td>5</td>\n",
              "      <td>956704887</td>\n",
              "    </tr>\n",
              "    <tr>\n",
              "      <th>575278</th>\n",
              "      <td>6040</td>\n",
              "      <td>562</td>\n",
              "      <td>5</td>\n",
              "      <td>956704746</td>\n",
              "    </tr>\n",
              "    <tr>\n",
              "      <th>575279</th>\n",
              "      <td>6040</td>\n",
              "      <td>1096</td>\n",
              "      <td>4</td>\n",
              "      <td>956715648</td>\n",
              "    </tr>\n",
              "    <tr>\n",
              "      <th>575280</th>\n",
              "      <td>6040</td>\n",
              "      <td>1097</td>\n",
              "      <td>4</td>\n",
              "      <td>956715569</td>\n",
              "    </tr>\n",
              "  </tbody>\n",
              "</table>\n",
              "<p>575281 rows × 4 columns</p>\n",
              "</div>"
            ],
            "text/plain": [
              "        user_id  movie_id  rating  timestamp\n",
              "0             1      1193       5  978300760\n",
              "1             1      3408       4  978300275\n",
              "2             1      2355       5  978824291\n",
              "3             1      1287       5  978302039\n",
              "4             1      2804       5  978300719\n",
              "...         ...       ...     ...        ...\n",
              "575276     6040      1089       4  956704996\n",
              "575277     6040      1094       5  956704887\n",
              "575278     6040       562       5  956704746\n",
              "575279     6040      1096       4  956715648\n",
              "575280     6040      1097       4  956715569\n",
              "\n",
              "[575281 rows x 4 columns]"
            ]
          },
          "metadata": {},
          "execution_count": 10
        }
      ]
    },
    {
      "cell_type": "code",
      "metadata": {
        "colab": {
          "base_uri": "https://localhost:8080/",
          "height": 419
        },
        "id": "i_KyR3C3lvfq",
        "outputId": "ebf490b3-a757-4b66-ffde-1c42e0e7a113"
      },
      "source": [
        "pd.read_csv('s3://abacusai.exampledatasets/user_recommendations/movies_metadata.csv')"
      ],
      "execution_count": null,
      "outputs": [
        {
          "output_type": "execute_result",
          "data": {
            "text/html": [
              "<div>\n",
              "<style scoped>\n",
              "    .dataframe tbody tr th:only-of-type {\n",
              "        vertical-align: middle;\n",
              "    }\n",
              "\n",
              "    .dataframe tbody tr th {\n",
              "        vertical-align: top;\n",
              "    }\n",
              "\n",
              "    .dataframe thead th {\n",
              "        text-align: right;\n",
              "    }\n",
              "</style>\n",
              "<table border=\"1\" class=\"dataframe\">\n",
              "  <thead>\n",
              "    <tr style=\"text-align: right;\">\n",
              "      <th></th>\n",
              "      <th>movie_id</th>\n",
              "      <th>movie</th>\n",
              "      <th>genres</th>\n",
              "    </tr>\n",
              "  </thead>\n",
              "  <tbody>\n",
              "    <tr>\n",
              "      <th>0</th>\n",
              "      <td>1</td>\n",
              "      <td>Toy Story (1995)</td>\n",
              "      <td>Animation|Children's|Comedy</td>\n",
              "    </tr>\n",
              "    <tr>\n",
              "      <th>1</th>\n",
              "      <td>2</td>\n",
              "      <td>Jumanji (1995)</td>\n",
              "      <td>Adventure|Children's|Fantasy</td>\n",
              "    </tr>\n",
              "    <tr>\n",
              "      <th>2</th>\n",
              "      <td>3</td>\n",
              "      <td>Grumpier Old Men (1995)</td>\n",
              "      <td>Comedy|Romance</td>\n",
              "    </tr>\n",
              "    <tr>\n",
              "      <th>3</th>\n",
              "      <td>4</td>\n",
              "      <td>Waiting to Exhale (1995)</td>\n",
              "      <td>Comedy|Drama</td>\n",
              "    </tr>\n",
              "    <tr>\n",
              "      <th>4</th>\n",
              "      <td>5</td>\n",
              "      <td>Father of the Bride Part II (1995)</td>\n",
              "      <td>Comedy</td>\n",
              "    </tr>\n",
              "    <tr>\n",
              "      <th>...</th>\n",
              "      <td>...</td>\n",
              "      <td>...</td>\n",
              "      <td>...</td>\n",
              "    </tr>\n",
              "    <tr>\n",
              "      <th>3878</th>\n",
              "      <td>3948</td>\n",
              "      <td>Meet the Parents (2000)</td>\n",
              "      <td>Comedy</td>\n",
              "    </tr>\n",
              "    <tr>\n",
              "      <th>3879</th>\n",
              "      <td>3949</td>\n",
              "      <td>Requiem for a Dream (2000)</td>\n",
              "      <td>Drama</td>\n",
              "    </tr>\n",
              "    <tr>\n",
              "      <th>3880</th>\n",
              "      <td>3950</td>\n",
              "      <td>Tigerland (2000)</td>\n",
              "      <td>Drama</td>\n",
              "    </tr>\n",
              "    <tr>\n",
              "      <th>3881</th>\n",
              "      <td>3951</td>\n",
              "      <td>Two Family House (2000)</td>\n",
              "      <td>Drama</td>\n",
              "    </tr>\n",
              "    <tr>\n",
              "      <th>3882</th>\n",
              "      <td>3952</td>\n",
              "      <td>Contender, The (2000)</td>\n",
              "      <td>Drama|Thriller</td>\n",
              "    </tr>\n",
              "  </tbody>\n",
              "</table>\n",
              "<p>3883 rows × 3 columns</p>\n",
              "</div>"
            ],
            "text/plain": [
              "      movie_id  ...                        genres\n",
              "0            1  ...   Animation|Children's|Comedy\n",
              "1            2  ...  Adventure|Children's|Fantasy\n",
              "2            3  ...                Comedy|Romance\n",
              "3            4  ...                  Comedy|Drama\n",
              "4            5  ...                        Comedy\n",
              "...        ...  ...                           ...\n",
              "3878      3948  ...                        Comedy\n",
              "3879      3949  ...                         Drama\n",
              "3880      3950  ...                         Drama\n",
              "3881      3951  ...                         Drama\n",
              "3882      3952  ...                Drama|Thriller\n",
              "\n",
              "[3883 rows x 3 columns]"
            ]
          },
          "metadata": {},
          "execution_count": 11
        }
      ]
    },
    {
      "cell_type": "code",
      "metadata": {
        "colab": {
          "base_uri": "https://localhost:8080/",
          "height": 419
        },
        "id": "fRS-7YNdlyS6",
        "outputId": "64d20dae-6627-4662-f6fa-0293d064f411"
      },
      "source": [
        "pd.read_csv('s3://abacusai.exampledatasets/user_recommendations/users_metadata.csv')"
      ],
      "execution_count": null,
      "outputs": [
        {
          "output_type": "execute_result",
          "data": {
            "text/html": [
              "<div>\n",
              "<style scoped>\n",
              "    .dataframe tbody tr th:only-of-type {\n",
              "        vertical-align: middle;\n",
              "    }\n",
              "\n",
              "    .dataframe tbody tr th {\n",
              "        vertical-align: top;\n",
              "    }\n",
              "\n",
              "    .dataframe thead th {\n",
              "        text-align: right;\n",
              "    }\n",
              "</style>\n",
              "<table border=\"1\" class=\"dataframe\">\n",
              "  <thead>\n",
              "    <tr style=\"text-align: right;\">\n",
              "      <th></th>\n",
              "      <th>user_id</th>\n",
              "      <th>gender</th>\n",
              "      <th>age</th>\n",
              "      <th>occupation</th>\n",
              "      <th>zip_code</th>\n",
              "    </tr>\n",
              "  </thead>\n",
              "  <tbody>\n",
              "    <tr>\n",
              "      <th>0</th>\n",
              "      <td>1</td>\n",
              "      <td>F</td>\n",
              "      <td>Under 18</td>\n",
              "      <td>K-12 student</td>\n",
              "      <td>48067</td>\n",
              "    </tr>\n",
              "    <tr>\n",
              "      <th>1</th>\n",
              "      <td>2</td>\n",
              "      <td>M</td>\n",
              "      <td>56+</td>\n",
              "      <td>self-employed</td>\n",
              "      <td>70072</td>\n",
              "    </tr>\n",
              "    <tr>\n",
              "      <th>2</th>\n",
              "      <td>3</td>\n",
              "      <td>M</td>\n",
              "      <td>25-34</td>\n",
              "      <td>scientist</td>\n",
              "      <td>55117</td>\n",
              "    </tr>\n",
              "    <tr>\n",
              "      <th>3</th>\n",
              "      <td>4</td>\n",
              "      <td>M</td>\n",
              "      <td>45-49</td>\n",
              "      <td>executive/managerial</td>\n",
              "      <td>02460</td>\n",
              "    </tr>\n",
              "    <tr>\n",
              "      <th>4</th>\n",
              "      <td>5</td>\n",
              "      <td>M</td>\n",
              "      <td>25-34</td>\n",
              "      <td>writer</td>\n",
              "      <td>55455</td>\n",
              "    </tr>\n",
              "    <tr>\n",
              "      <th>...</th>\n",
              "      <td>...</td>\n",
              "      <td>...</td>\n",
              "      <td>...</td>\n",
              "      <td>...</td>\n",
              "      <td>...</td>\n",
              "    </tr>\n",
              "    <tr>\n",
              "      <th>6035</th>\n",
              "      <td>6036</td>\n",
              "      <td>F</td>\n",
              "      <td>25-34</td>\n",
              "      <td>scientist</td>\n",
              "      <td>32603</td>\n",
              "    </tr>\n",
              "    <tr>\n",
              "      <th>6036</th>\n",
              "      <td>6037</td>\n",
              "      <td>F</td>\n",
              "      <td>45-49</td>\n",
              "      <td>academic/educator</td>\n",
              "      <td>76006</td>\n",
              "    </tr>\n",
              "    <tr>\n",
              "      <th>6037</th>\n",
              "      <td>6038</td>\n",
              "      <td>F</td>\n",
              "      <td>56+</td>\n",
              "      <td>academic/educator</td>\n",
              "      <td>14706</td>\n",
              "    </tr>\n",
              "    <tr>\n",
              "      <th>6038</th>\n",
              "      <td>6039</td>\n",
              "      <td>F</td>\n",
              "      <td>45-49</td>\n",
              "      <td>other</td>\n",
              "      <td>01060</td>\n",
              "    </tr>\n",
              "    <tr>\n",
              "      <th>6039</th>\n",
              "      <td>6040</td>\n",
              "      <td>M</td>\n",
              "      <td>25-34</td>\n",
              "      <td>doctor/health care</td>\n",
              "      <td>11106</td>\n",
              "    </tr>\n",
              "  </tbody>\n",
              "</table>\n",
              "<p>6040 rows × 5 columns</p>\n",
              "</div>"
            ],
            "text/plain": [
              "      user_id gender       age            occupation zip_code\n",
              "0           1      F  Under 18          K-12 student    48067\n",
              "1           2      M       56+         self-employed    70072\n",
              "2           3      M     25-34             scientist    55117\n",
              "3           4      M     45-49  executive/managerial    02460\n",
              "4           5      M     25-34                writer    55455\n",
              "...       ...    ...       ...                   ...      ...\n",
              "6035     6036      F     25-34             scientist    32603\n",
              "6036     6037      F     45-49     academic/educator    76006\n",
              "6037     6038      F       56+     academic/educator    14706\n",
              "6038     6039      F     45-49                 other    01060\n",
              "6039     6040      M     25-34    doctor/health care    11106\n",
              "\n",
              "[6040 rows x 5 columns]"
            ]
          },
          "metadata": {},
          "execution_count": 12
        }
      ]
    },
    {
      "cell_type": "markdown",
      "metadata": {
        "id": "2R3p7tAkrwPv"
      },
      "source": [
        "### Add the datasets to Abacus.AI\n"
      ]
    },
    {
      "cell_type": "markdown",
      "metadata": {
        "id": "0mDVrJYKrzB9"
      },
      "source": [
        "Using the Create Dataset API, we can tell Abacus.AI the public S3 URI of where to find the datasets.\n",
        "\n"
      ]
    },
    {
      "cell_type": "code",
      "metadata": {
        "id": "oi6qwR46m71i"
      },
      "source": [
        "# if the datasets already exist, skip creation\n",
        "try: \n",
        "  events_dataset = client.describe_dataset(client.describe_feature_group_by_table_name('user_movie_ratings').dataset_id)\n",
        "  movies_dataset = client.describe_dataset(client.describe_feature_group_by_table_name('movies_metadata').dataset_id)\n",
        "  users_dataset = client.describe_dataset(client.describe_feature_group_by_table_name('users_metadata').dataset_id)\n",
        "except ApiException: # datasets not found\n",
        "  events_dataset = client.create_dataset_from_file_connector(name='User Movie Ratings', table_name='user_movie_ratings', location='s3://abacusai.exampledatasets/user_recommendations/user_movie_ratings.csv')\n",
        "  movies_dataset = client.create_dataset_from_file_connector(name='Movie Metadata', table_name='movies_metadata', location='s3://abacusai.exampledatasets/user_recommendations/movies_metadata.csv')\n",
        "  users_dataset = client.create_dataset_from_file_connector(name='User Metadata', table_name='users_metadata', location='s3://abacusai.exampledatasets/user_recommendations/users_metadata.csv')\n",
        "\n",
        "events_feature_group = client.describe_feature_group_by_table_name(table_name=events_dataset.feature_group_table_name)\n",
        "events_feature_group.set_indexing_config(lookup_keys=['user_id'], update_timestamp_key='timestamp')\n",
        "\n",
        "movies_feature_group = client.describe_feature_group_by_table_name(table_name=movies_dataset.feature_group_table_name)\n",
        "movies_feature_group.set_indexing_config(primary_key='movie_id')\n",
        "\n",
        "users_feature_group = client.describe_feature_group_by_table_name(table_name=users_dataset.feature_group_table_name)\n",
        "users_feature_group.set_indexing_config(primary_key='user_id')"
      ],
      "execution_count": null,
      "outputs": []
    },
    {
      "cell_type": "code",
      "metadata": {
        "id": "eKH0vdKWkNhE"
      },
      "source": [
        "for dataset in [events_dataset, movies_dataset, users_dataset]:\n",
        "    dataset.wait_for_inspection()"
      ],
      "execution_count": null,
      "outputs": []
    },
    {
      "cell_type": "code",
      "metadata": {
        "id": "c6llHsjdkMfR"
      },
      "source": [
        "feature_group = client.create_feature_group(table_name='combined_user_movie_ratings', sql='SELECT * FROM user_movie_ratings JOIN movies_metadata USING (movie_id) JOIN users_metadata ON (user_movie_ratings.user_id = users_metadata.user_id)')\n",
        "feature_group.add_to_project(project.project_id)"
      ],
      "execution_count": null,
      "outputs": []
    },
    {
      "cell_type": "markdown",
      "metadata": {
        "id": "HYS59ih5tdBH"
      },
      "source": [
        "#Managing tags and security\n",
        "\n",
        "We can add/remove user-friendly tags to this feature group, as well as lock it to prevent unauthorized editing."
      ]
    },
    {
      "cell_type": "code",
      "metadata": {
        "id": "ARXhEvETtc0U"
      },
      "source": [
        "feature_group.add_tag('user interactions with movies')\n",
        "feature_group.add_tag('test')\n",
        "print(feature_group.refresh().tags)\n",
        "feature_group.remove_tag('test')\n",
        "print(feature_group.refresh().tags)"
      ],
      "execution_count": null,
      "outputs": []
    },
    {
      "cell_type": "code",
      "metadata": {
        "id": "6z4J9GY9tyIR"
      },
      "source": [
        "feature_group.set_modifier_lock(True)\n",
        "print(feature_group.list_modifiers())\n",
        "feature_group.add_user_to_modifiers('austin@abacus.ai')\n",
        "print(feature_group.list_modifiers())\n",
        "feature_group.remove_user_from_modifiers('austin@abacus.ai')\n",
        "feature_group.set_modifier_lock(False)"
      ],
      "execution_count": null,
      "outputs": []
    },
    {
      "cell_type": "markdown",
      "metadata": {
        "id": "h9zdfMpRLRB3"
      },
      "source": [
        "### Materialize Feature Group Data"
      ]
    },
    {
      "cell_type": "code",
      "metadata": {
        "id": "KxgMB6P-XQsF"
      },
      "source": [
        "feature_group.set_indexing_config(lookup_keys=['user_id', 'movie_id'])"
      ],
      "execution_count": null,
      "outputs": []
    },
    {
      "cell_type": "code",
      "metadata": {
        "id": "ompwZJ4nLkqw"
      },
      "source": [
        "feature_group_version = feature_group.create_version()\n",
        "feature_group_version.wait_for_results()"
      ],
      "execution_count": null,
      "outputs": []
    },
    {
      "cell_type": "markdown",
      "metadata": {
        "id": "FZ_12sNPw3Dm"
      },
      "source": [
        "### Inspect Data locally"
      ]
    },
    {
      "cell_type": "code",
      "metadata": {
        "id": "STzJcMz1w2wH"
      },
      "source": [
        "df = feature_group_version.load_as_pandas()\n",
        "df"
      ],
      "execution_count": null,
      "outputs": []
    },
    {
      "cell_type": "markdown",
      "metadata": {
        "id": "s8m6L-m1xqE9"
      },
      "source": [
        "### Export Feature Group Data"
      ]
    },
    {
      "cell_type": "markdown",
      "metadata": {
        "id": "7B2yk262yBuR"
      },
      "source": [
        "Before you can export the feature group data, you must first authorize Abacus.AI to be able to write to your blob storage provider [here](https://abacus.ai/profile/connectors)."
      ]
    },
    {
      "cell_type": "code",
      "metadata": {
        "id": "QnjSUwC2xj8q"
      },
      "source": [
        "import time\n",
        "external_export_uri = f's3://featurestore-export/demo/export_{time.time()}.csv'"
      ],
      "execution_count": null,
      "outputs": []
    },
    {
      "cell_type": "code",
      "metadata": {
        "id": "rE2BH-PUyQEo"
      },
      "source": [
        "feature_group_version.export_to_file_connector(external_export_uri, export_file_format='CSV')"
      ],
      "execution_count": null,
      "outputs": []
    },
    {
      "cell_type": "markdown",
      "metadata": {
        "id": "N1ZjBprIEIzw"
      },
      "source": [
        "### Deploy feature group for online featurization"
      ]
    },
    {
      "cell_type": "code",
      "metadata": {
        "id": "ZleD66xQnCY_"
      },
      "source": [
        "deployment_token = client.create_deployment_token(project_id=project.project_id).deployment_token\n",
        "deployment = client.create_deployment(feature_group_id=feature_group.feature_group_id, project_id=project.project_id) \n",
        "deployment.wait_for_deployment()"
      ],
      "execution_count": null,
      "outputs": []
    },
    {
      "cell_type": "code",
      "metadata": {
        "id": "RVEBK_UenDXB"
      },
      "source": [
        "client.lookup_features(deployment_id=deployment.deployment_id, deployment_token=deployment_token, query_data={'user_id': '1'})"
      ],
      "execution_count": null,
      "outputs": []
    },
    {
      "cell_type": "markdown",
      "metadata": {
        "id": "-Gm-5asnS3S-"
      },
      "source": [
        "#Cleanup Script"
      ]
    },
    {
      "cell_type": "code",
      "metadata": {
        "id": "0_ttPVUeS466",
        "colab": {
          "base_uri": "https://localhost:8080/"
        },
        "outputId": "618d2543-bcdb-4b54-dae2-0f94db4a8a96"
      },
      "source": [
        "#@title Abacus.AI API Key\n",
        "\n",
        "api_key = 'cf45d23272e74465b776e5fa79101f7b'  #@param {type: \"string\"}\n",
        "\n",
        "!pip install abacusai\n",
        "from abacusai import ApiClient, ApiException\n",
        "client = ApiClient(api_key)\n",
        "\n",
        "delete_project_names = ['Demo Movie Feature Store Project', 'Demo Feature Store Streaming Project', 'Demo Feature Store Point In Time Streaming Project', 'Demo Python Model']\n",
        "for project in client.list_projects():\n",
        "  if project.name in delete_project_names:\n",
        "    [deployment.stop() for deployment in project.list_deployments()]\n",
        "    project.delete()\n",
        "\n",
        "fgs_to_delete = ['interactions_joined_items', 'python_interactions_joined_items', 'combined_user_movie_ratings', 'demo_views_interactions_joined_items', 'demo_add_to_cart_interactions_joined_items', 'demo_transactions', 'demo_interactions_joined_items', 'concrete_by_flyash']\n",
        "for fg_name in fgs_to_delete:\n",
        "  try:\n",
        "    fg = client.describe_feature_group_by_table_name(fg_name)\n",
        "    fg.delete()\n",
        "  except ApiException:\n",
        "    pass"
      ],
      "execution_count": null,
      "outputs": [
        {
          "output_type": "stream",
          "name": "stdout",
          "text": [
            "Collecting abacusai\n",
            "  Downloading abacusai-0.31.0.tar.gz (35 kB)\n",
            "Requirement already satisfied: packaging in /usr/local/lib/python3.7/dist-packages (from abacusai) (21.0)\n",
            "Requirement already satisfied: requests in /usr/local/lib/python3.7/dist-packages (from abacusai) (2.23.0)\n",
            "Requirement already satisfied: pandas in /usr/local/lib/python3.7/dist-packages (from abacusai) (1.1.5)\n",
            "Collecting fastavro\n",
            "  Downloading fastavro-1.4.5-cp37-cp37m-manylinux_2_17_x86_64.manylinux2014_x86_64.whl (2.3 MB)\n",
            "\u001b[K     |████████████████████████████████| 2.3 MB 8.4 MB/s \n",
            "\u001b[?25hRequirement already satisfied: pyparsing>=2.0.2 in /usr/local/lib/python3.7/dist-packages (from packaging->abacusai) (2.4.7)\n",
            "Requirement already satisfied: numpy>=1.15.4 in /usr/local/lib/python3.7/dist-packages (from pandas->abacusai) (1.19.5)\n",
            "Requirement already satisfied: pytz>=2017.2 in /usr/local/lib/python3.7/dist-packages (from pandas->abacusai) (2018.9)\n",
            "Requirement already satisfied: python-dateutil>=2.7.3 in /usr/local/lib/python3.7/dist-packages (from pandas->abacusai) (2.8.2)\n",
            "Requirement already satisfied: six>=1.5 in /usr/local/lib/python3.7/dist-packages (from python-dateutil>=2.7.3->pandas->abacusai) (1.15.0)\n",
            "Requirement already satisfied: chardet<4,>=3.0.2 in /usr/local/lib/python3.7/dist-packages (from requests->abacusai) (3.0.4)\n",
            "Requirement already satisfied: idna<3,>=2.5 in /usr/local/lib/python3.7/dist-packages (from requests->abacusai) (2.10)\n",
            "Requirement already satisfied: certifi>=2017.4.17 in /usr/local/lib/python3.7/dist-packages (from requests->abacusai) (2021.5.30)\n",
            "Requirement already satisfied: urllib3!=1.25.0,!=1.25.1,<1.26,>=1.21.1 in /usr/local/lib/python3.7/dist-packages (from requests->abacusai) (1.24.3)\n",
            "Building wheels for collected packages: abacusai\n",
            "  Building wheel for abacusai (setup.py) ... \u001b[?25l\u001b[?25hdone\n",
            "  Created wheel for abacusai: filename=abacusai-0.31.0-py3-none-any.whl size=52694 sha256=9fd8745b8c49b2fd5ea4f7ed4cf113607d64027cbaafebbe9eeb6c71f934eeb2\n",
            "  Stored in directory: /root/.cache/pip/wheels/52/c5/5a/7ba401467757c85e9ed3c1420162109b46ec06f39f89d25e39\n",
            "Successfully built abacusai\n",
            "Installing collected packages: fastavro, abacusai\n",
            "Successfully installed abacusai-0.31.0 fastavro-1.4.5\n"
          ]
        }
      ]
    }
  ]
}