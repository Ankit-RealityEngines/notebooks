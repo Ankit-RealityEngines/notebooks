{
  "cells": [
    {
      "cell_type": "markdown",
      "metadata": {
        "id": "Y0ejrLq_-Zl6"
      },
      "source": [
        "## How-to guide for Feature Store on the Abacus.AI platform\n",
        "This notebook provides you with a hands on environment to build and deploy a feature store using Abacus.AI\n",
        "\n",
        "We'll be using the [User Movie Ratings](https://s3.amazonaws.com/abacusai.exampledatasets/user_recommendations/user_movie_ratings.csv), [Movies Metadata](https://s3.amazonaws.com/abacusai.exampledatasets/user_recommendations/movies_metadata.csv) and [User Metadata](https://s3.amazonaws.com/abacusai.exampledatasets/user_recommendations/users_metadata.csv) datasets."
      ]
    },
    {
      "cell_type": "markdown",
      "metadata": {
        "id": "uIhrIhXeqJJE"
      },
      "source": [
        "1. Install the Abacus.AI library."
      ]
    },
    {
      "cell_type": "code",
      "execution_count": null,
      "metadata": {
        "id": "JSsm7EQrmvey"
      },
      "outputs": [],
      "source": [
        "!pip install abacusai"
      ]
    },
    {
      "cell_type": "markdown",
      "metadata": {
        "id": "izrh6I2aqlTa"
      },
      "source": [
        "2. Add your Abacus.AI [API Key](https://abacus.ai/app/profile/apikey) generated using the API dashboard as follows:"
      ]
    },
    {
      "cell_type": "code",
      "execution_count": null,
      "metadata": {
        "id": "d8TJ_-Qamz5x"
      },
      "outputs": [],
      "source": [
        "#@title Abacus.AI API Key\n",
        "\n",
        "api_key = ''  #@param {type: \"string\"}"
      ]
    },
    {
      "cell_type": "markdown",
      "metadata": {
        "id": "fqpb-UfFqmzs"
      },
      "source": [
        "3. Import the Abacus.AI library and instantiate a client."
      ]
    },
    {
      "cell_type": "code",
      "execution_count": null,
      "metadata": {
        "id": "U8M1MoB0m1DV"
      },
      "outputs": [],
      "source": [
        "from abacusai import ApiClient, ApiException\n",
        "client = ApiClient(api_key)"
      ]
    },
    {
      "cell_type": "markdown",
      "metadata": {
        "id": "2tXzo8ZRqodi"
      },
      "source": [
        "## 1. Create a Project\n",
        "\n"
      ]
    },
    {
      "cell_type": "markdown",
      "metadata": {
        "id": "ZWSjEJ7AqrQW"
      },
      "source": [
        "In this notebook, we're going to create and deploy a feature store that automatically featurizes input data using the Movies Interaction and User/Item Metadata datasets."
      ]
    },
    {
      "cell_type": "code",
      "execution_count": null,
      "metadata": {
        "id": "8idfft0im5ci"
      },
      "outputs": [],
      "source": [
        "project = client.create_project(name='Demo Movie Feature Store Project', use_case='FEATURE_STORE')"
      ]
    },
    {
      "cell_type": "markdown",
      "metadata": {
        "id": "wS8T5vcLrIlg"
      },
      "source": [
        "## 2. Creating Datasets\n",
        "\n",
        "Abacus.AI can read datasets directly from File blob storage\n",
        "\n",
        "We are using three datasets for this notebook.\n",
        "- [User Movie Ratings](https://s3.amazonaws.com/abacusai.exampledatasets/user_recommendations/user_movie_ratings.csv)\n",
        "This dataset contains information about user interactions with movies.\n",
        "- [Movies Metadata](https://s3.amazonaws.com/abacusai.exampledatasets/user_recommendations/movies_metadata.csv) This dataset contains information about the movies.\n",
        "- [User Metadata](https://s3.amazonaws.com/abacusai.exampledatasets/user_recommendations/users_metadata.csv) This dataset contains information about users.\n"
      ]
    },
    {
      "cell_type": "markdown",
      "metadata": {
        "id": "Hcm8HthClmIJ"
      },
      "source": [
        "### Data Preview"
      ]
    },
    {
      "cell_type": "code",
      "execution_count": null,
      "metadata": {
        "id": "hh4rEj4Ql3Rj"
      },
      "outputs": [],
      "source": [
        "!pip install fsspec\n",
        "!pip install s3fs\n",
        "import pandas as pd"
      ]
    },
    {
      "cell_type": "code",
      "execution_count": null,
      "metadata": {
        "colab": {
          "base_uri": "https://localhost:8080/",
          "height": 419
        },
        "id": "D4YjQSVzllNJ",
        "outputId": "83c7ce89-b55c-4733-8553-a28e96bd6237"
      },
      "outputs": [],
      "source": [
        "pd.read_csv('s3://abacusai.exampledatasets/user_recommendations/user_movie_ratings.csv')"
      ]
    },
    {
      "cell_type": "code",
      "execution_count": null,
      "metadata": {
        "colab": {
          "base_uri": "https://localhost:8080/",
          "height": 419
        },
        "id": "i_KyR3C3lvfq",
        "outputId": "ebf490b3-a757-4b66-ffde-1c42e0e7a113"
      },
      "outputs": [],
      "source": [
        "pd.read_csv('s3://abacusai.exampledatasets/user_recommendations/movies_metadata.csv')"
      ]
    },
    {
      "cell_type": "code",
      "execution_count": null,
      "metadata": {
        "colab": {
          "base_uri": "https://localhost:8080/",
          "height": 419
        },
        "id": "fRS-7YNdlyS6",
        "outputId": "64d20dae-6627-4662-f6fa-0293d064f411"
      },
      "outputs": [],
      "source": [
        "pd.read_csv('s3://abacusai.exampledatasets/user_recommendations/users_metadata.csv')"
      ]
    },
    {
      "cell_type": "markdown",
      "metadata": {
        "id": "2R3p7tAkrwPv"
      },
      "source": [
        "### Add the datasets to Abacus.AI\n"
      ]
    },
    {
      "cell_type": "markdown",
      "metadata": {
        "id": "0mDVrJYKrzB9"
      },
      "source": [
        "Using the Create Dataset API, we can tell Abacus.AI the public S3 URI of where to find the datasets.\n",
        "\n"
      ]
    },
    {
      "cell_type": "code",
      "execution_count": null,
      "metadata": {
        "id": "oi6qwR46m71i"
      },
      "outputs": [],
      "source": [
        "# if the datasets already exist, skip creation\n",
        "try: \n",
        "  events_dataset = client.describe_dataset(client.describe_feature_group_by_table_name('user_movie_ratings').dataset_id)\n",
        "  movies_dataset = client.describe_dataset(client.describe_feature_group_by_table_name('movies_metadata').dataset_id)\n",
        "  users_dataset = client.describe_dataset(client.describe_feature_group_by_table_name('users_metadata').dataset_id)\n",
        "except ApiException: # datasets not found\n",
        "  events_dataset = client.create_dataset_from_file_connector(name='User Movie Ratings', table_name='user_movie_ratings', location='s3://abacusai.exampledatasets/user_recommendations/user_movie_ratings.csv')\n",
        "  movies_dataset = client.create_dataset_from_file_connector(name='Movie Metadata', table_name='movies_metadata', location='s3://abacusai.exampledatasets/user_recommendations/movies_metadata.csv')\n",
        "  users_dataset = client.create_dataset_from_file_connector(name='User Metadata', table_name='users_metadata', location='s3://abacusai.exampledatasets/user_recommendations/users_metadata.csv')\n",
        "\n",
        "events_feature_group = client.describe_feature_group_by_table_name(table_name=events_dataset.feature_group_table_name)\n",
        "events_feature_group.set_indexing_config(lookup_keys=['user_id'], update_timestamp_key='timestamp')\n",
        "\n",
        "movies_feature_group = client.describe_feature_group_by_table_name(table_name=movies_dataset.feature_group_table_name)\n",
        "movies_feature_group.set_indexing_config(primary_key='movie_id')\n",
        "\n",
        "users_feature_group = client.describe_feature_group_by_table_name(table_name=users_dataset.feature_group_table_name)\n",
        "users_feature_group.set_indexing_config(primary_key='user_id')"
      ]
    },
    {
      "cell_type": "code",
      "execution_count": null,
      "metadata": {
        "id": "eKH0vdKWkNhE"
      },
      "outputs": [],
      "source": [
        "for dataset in [events_dataset, movies_dataset, users_dataset]:\n",
        "    dataset.wait_for_inspection()"
      ]
    },
    {
      "cell_type": "code",
      "execution_count": null,
      "metadata": {
        "id": "c6llHsjdkMfR"
      },
      "outputs": [],
      "source": [
        "feature_group = client.create_feature_group(table_name='combined_user_movie_ratings', sql='SELECT * FROM user_movie_ratings JOIN movies_metadata USING (movie_id) JOIN users_metadata ON (user_movie_ratings.user_id = users_metadata.user_id)')\n",
        "feature_group.add_to_project(project.project_id)"
      ]
    },
    {
      "cell_type": "markdown",
      "metadata": {
        "id": "HYS59ih5tdBH"
      },
      "source": [
        "#Managing tags and security\n",
        "\n",
        "We can add/remove user-friendly tags to this feature group, as well as lock it to prevent unauthorized editing."
      ]
    },
    {
      "cell_type": "code",
      "execution_count": null,
      "metadata": {
        "id": "ARXhEvETtc0U"
      },
      "outputs": [],
      "source": [
        "feature_group.add_tag('user interactions with movies')\n",
        "feature_group.add_tag('test')\n",
        "print(feature_group.refresh().tags)\n",
        "feature_group.remove_tag('test')\n",
        "print(feature_group.refresh().tags)"
      ]
    },
    {
      "cell_type": "code",
      "execution_count": null,
      "metadata": {
        "id": "6z4J9GY9tyIR"
      },
      "outputs": [],
      "source": [
        "feature_group.set_modifier_lock(True)\n",
        "print(feature_group.list_modifiers())\n",
        "feature_group.add_user_to_modifiers('austin@abacus.ai')\n",
        "print(feature_group.list_modifiers())\n",
        "feature_group.remove_user_from_modifiers('austin@abacus.ai')\n",
        "feature_group.set_modifier_lock(False)"
      ]
    },
    {
      "cell_type": "markdown",
      "metadata": {
        "id": "h9zdfMpRLRB3"
      },
      "source": [
        "### Materialize Feature Group Data"
      ]
    },
    {
      "cell_type": "code",
      "execution_count": null,
      "metadata": {
        "id": "KxgMB6P-XQsF"
      },
      "outputs": [],
      "source": [
        "feature_group.set_indexing_config(lookup_keys=['user_id', 'movie_id'])"
      ]
    },
    {
      "cell_type": "code",
      "execution_count": null,
      "metadata": {
        "id": "ompwZJ4nLkqw"
      },
      "outputs": [],
      "source": [
        "feature_group_version = feature_group.create_version()\n",
        "feature_group_version.wait_for_results()"
      ]
    },
    {
      "cell_type": "markdown",
      "metadata": {
        "id": "FZ_12sNPw3Dm"
      },
      "source": [
        "### Inspect Data locally"
      ]
    },
    {
      "cell_type": "code",
      "execution_count": null,
      "metadata": {
        "id": "STzJcMz1w2wH"
      },
      "outputs": [],
      "source": [
        "df = feature_group_version.load_as_pandas()\n",
        "df"
      ]
    },
    {
      "cell_type": "markdown",
      "metadata": {
        "id": "s8m6L-m1xqE9"
      },
      "source": [
        "### Export Feature Group Data"
      ]
    },
    {
      "cell_type": "markdown",
      "metadata": {
        "id": "7B2yk262yBuR"
      },
      "source": [
        "Before you can export the feature group data, you must first authorize Abacus.AI to be able to write to your blob storage provider [here](https://abacus.ai/profile/connectors)."
      ]
    },
    {
      "cell_type": "code",
      "execution_count": null,
      "metadata": {
        "id": "QnjSUwC2xj8q"
      },
      "outputs": [],
      "source": [
        "import time\n",
        "external_export_uri = f's3://featurestore-export/demo/export_{time.time()}.csv'"
      ]
    },
    {
      "cell_type": "code",
      "execution_count": null,
      "metadata": {
        "id": "rE2BH-PUyQEo"
      },
      "outputs": [],
      "source": [
        "feature_group_version.export_to_file_connector(external_export_uri, export_file_format='CSV')"
      ]
    },
    {
      "cell_type": "markdown",
      "metadata": {
        "id": "N1ZjBprIEIzw"
      },
      "source": [
        "### Deploy feature group for online featurization"
      ]
    },
    {
      "cell_type": "code",
      "execution_count": null,
      "metadata": {
        "id": "ZleD66xQnCY_"
      },
      "outputs": [],
      "source": [
        "deployment_token = client.create_deployment_token(project_id=project.project_id).deployment_token\n",
        "deployment = client.create_deployment(feature_group_id=feature_group.feature_group_id, project_id=project.project_id) \n",
        "deployment.wait_for_deployment()"
      ]
    },
    {
      "cell_type": "code",
      "execution_count": null,
      "metadata": {
        "id": "RVEBK_UenDXB"
      },
      "outputs": [],
      "source": [
        "client.lookup_features(deployment_id=deployment.deployment_id, deployment_token=deployment_token, query_data={'user_id': '1'})"
      ]
    },
    {
      "cell_type": "markdown",
      "metadata": {
        "id": "-Gm-5asnS3S-"
      },
      "source": [
        "#Cleanup Script"
      ]
    },
    {
      "cell_type": "code",
      "execution_count": null,
      "metadata": {
        "colab": {
          "base_uri": "https://localhost:8080/"
        },
        "id": "0_ttPVUeS466",
        "outputId": "618d2543-bcdb-4b54-dae2-0f94db4a8a96"
      },
      "outputs": [],
      "source": [
        "#@title Abacus.AI API Key\n",
        "\n",
        "api_key = 'cf45d23272e74465b776e5fa79101f7b'  #@param {type: \"string\"}\n",
        "\n",
        "!pip install abacusai\n",
        "from abacusai import ApiClient, ApiException\n",
        "client = ApiClient(api_key)\n",
        "\n",
        "delete_project_names = ['Demo Movie Feature Store Project', 'Demo Feature Store Streaming Project', 'Demo Feature Store Point In Time Streaming Project', 'Demo Python Model']\n",
        "for project in client.list_projects():\n",
        "  if project.name in delete_project_names:\n",
        "    [deployment.stop() for deployment in project.list_deployments()]\n",
        "    project.delete()\n",
        "\n",
        "fgs_to_delete = ['interactions_joined_items', 'python_interactions_joined_items', 'combined_user_movie_ratings', 'demo_views_interactions_joined_items', 'demo_add_to_cart_interactions_joined_items', 'demo_transactions', 'demo_interactions_joined_items', 'concrete_by_flyash']\n",
        "for fg_name in fgs_to_delete:\n",
        "  try:\n",
        "    fg = client.describe_feature_group_by_table_name(fg_name)\n",
        "    fg.delete()\n",
        "  except ApiException:\n",
        "    pass"
      ]
    }
  ],
  "metadata": {
    "colab": {
      "collapsed_sections": [
        "-Gm-5asnS3S-"
      ],
      "name": "Notebook 1: Abacus.AI API Feature Store",
      "provenance": []
    },
    "kernelspec": {
      "display_name": "Python 3",
      "name": "python3"
    }
  },
  "nbformat": 4,
  "nbformat_minor": 0
}
