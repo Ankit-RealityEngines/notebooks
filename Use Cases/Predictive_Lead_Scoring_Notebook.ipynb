{
 "cells": [
  {
   "cell_type": "markdown",
   "metadata": {
    "id": "iuBzE88t8QuA"
   },
   "source": [
    "## How-to guide for Predictive Lead Scoring use-case on Abacus.AI platform\n",
    "This notebook provides you with a hands on environment to build a model that predicts the probability of a user with specified attributes being a lead using the Abacus.AI Python Client Library.\n",
    "\n",
    "We'll be using the [Individual Company Sales Data](https://s3.amazonaws.com//realityengines.exampledatasets/sales_scoring/company_sales_data_v2.csv) dataset, which contains information about users, their attributes, and their lead IDs."
   ]
  },
  {
   "cell_type": "markdown",
   "metadata": {
    "id": "SS43yUgl808R"
   },
   "source": [
    "1. Install the Abacus.AI library."
   ]
  },
  {
   "cell_type": "code",
   "execution_count": null,
   "metadata": {
    "colab": {
     "base_uri": "https://localhost:8080/"
    },
    "id": "cIAZt8xafqBr",
    "outputId": "5d76ffee-57f5-4d6f-9fc2-d217d0104d2f"
   },
   "outputs": [],
   "source": [
    "!pip install abacusai"
   ]
  },
  {
   "cell_type": "markdown",
   "metadata": {
    "id": "RSrvk7cc8_80"
   },
   "source": [
    "We'll also import pandas and pprint tools for visualization in this notebook."
   ]
  },
  {
   "cell_type": "code",
   "execution_count": 1,
   "metadata": {
    "id": "duIJqtxHikKL"
   },
   "outputs": [],
   "source": [
    "import pandas as pd # A tool we'll use to download and preview CSV files\n",
    "import pprint # A tool to pretty print dictionary outputs\n",
    "pp = pprint.PrettyPrinter(indent=2)"
   ]
  },
  {
   "cell_type": "markdown",
   "metadata": {
    "id": "7ROEzQKUtgLu"
   },
   "source": [
    "2. Add your Abacus.AI [API Key](https://abacus.ai/app/profile/apikey) generated using the API dashboard as follows:"
   ]
  },
  {
   "cell_type": "code",
   "execution_count": 2,
   "metadata": {
    "id": "wFcHflu2ilBz"
   },
   "outputs": [],
   "source": [
    "#@title Abacus.AI API Key\n",
    "\n",
    "api_key = '2fdecde877dc45fab937eff82b70eff0'  #@param {type: \"string\"}"
   ]
  },
  {
   "cell_type": "markdown",
   "metadata": {
    "id": "o3sK0lOetkiU"
   },
   "source": [
    "3. Import the Abacus.AI library and instantiate a client."
   ]
  },
  {
   "cell_type": "code",
   "execution_count": 3,
   "metadata": {
    "colab": {
     "base_uri": "https://localhost:8080/"
    },
    "id": "L4C3hYOfimGj",
    "outputId": "5118056f-46e1-40f5-df36-d3660f133382"
   },
   "outputs": [],
   "source": [
    "from abacusai import ApiClient\n",
    "client = ApiClient(api_key)"
   ]
  },
  {
   "cell_type": "markdown",
   "metadata": {
    "id": "UrUKmaHWtmdj"
   },
   "source": [
    "## 1. Create a Project\n",
    "\n",
    "Abacus.AI projects are containers that have datasets and trained models. By specifying a business **Use Case**, Abacus.AI tailors the deep learning algorithms to produce the best performing model catered specifically for your data.\n",
    "\n",
    "We'll call the `list_use_cases` method to retrieve a list of the Use Cases currently available on the Abacus.AI platform."
   ]
  },
  {
   "cell_type": "code",
   "execution_count": 4,
   "metadata": {
    "colab": {
     "base_uri": "https://localhost:8080/"
    },
    "id": "upuKOC95im8n",
    "outputId": "6e138430-0d67-4132-d65a-f8621b061e77"
   },
   "outputs": [
    {
     "data": {
      "text/plain": [
       "[UseCase(use_case='UCPLUGANDPLAY',\n",
       "   pretty_name='Plug & Play Your Tensorflow Model',\n",
       "   description='Upload your already trained model and leverage our model serving infrastructure.. Host your models on our infrastructure and get a JSON api with auto scaling and more!'),\n",
       " UseCase(use_case='EMBEDDINGS_ONLY',\n",
       "   pretty_name='Vector Matching Engine',\n",
       "   description='Upload embeddings and leverage our similarity search infrastructure.. Scale to high traffic, update your index in near realtime'),\n",
       " UseCase(use_case='MODEL_WITH_EMBEDDINGS',\n",
       "   pretty_name='Tensorflow Model With Vector Matching Engine',\n",
       "   description='Upload your already trained model and leverage our model serving infrastructure.. Host your models on our infrastructure and get a JSON api with auto scaling and more!'),\n",
       " UseCase(use_case='TORCH_MODEL_WITH_EMBEDDINGS',\n",
       "   pretty_name='PyTorch Model With Vector Matching Engine',\n",
       "   description='Upload your already trained model and leverage our model serving infrastructure.. Host your models on our infrastructure and get a JSON api with auto scaling and more!'),\n",
       " UseCase(use_case='PYTHON_MODEL',\n",
       "   pretty_name='Custom Python Model',\n",
       "   description='Upload your training code and let Abacus.AI handle training. Host your models on our infrastructure and get a JSON api with auto scaling and more!'),\n",
       " UseCase(use_case='DOCKER_MODEL',\n",
       "   pretty_name='Plug & Play Your Dockerized Model',\n",
       "   description='Upload your already trained model and leverage our model serving infrastructure.. Host your models on our infrastructure and get a JSON api with auto scaling and more!'),\n",
       " UseCase(use_case='DOCKER_MODEL_WITH_EMBEDDINGS',\n",
       "   pretty_name='Plug & Play Your Dockerized Model with Vector Matching Engine',\n",
       "   description='Upload your already trained model and leverage our model serving infrastructure.. Host your models on our infrastructure and get a JSON api with auto scaling and more!'),\n",
       " UseCase(use_case='CUSTOMER_CHURN',\n",
       "   pretty_name='Customer Churn Prediction',\n",
       "   description='Identify customers who are most likely to churn out of your system and send them marketing promotions/emails to retain them. Deploy a real-time deep learning model that identifies customers who are most likely to leave and increase retention.'),\n",
       " UseCase(use_case='ENERGY',\n",
       "   pretty_name='Real-Time Forecasting',\n",
       "   description='Accurately forecast energy or computation usage in real-time. Make downstream planning decisions based on your predictions. We use generative modeling (GANs) to augment your dataset with synthetic data. This unique approach allows us to make accurate predictions in real-time, even when you have little historical data.'),\n",
       " UseCase(use_case='FINANCIAL_METRICS',\n",
       "   pretty_name='Financial Metrics Forecasting',\n",
       "   description='Accurately plan your cash flow, revenue, and sales with state-of-the-art deep learning-based forecasting. We use generative modeling (GANs) to augment your dataset with synthetic data. This unique approach allows us to make accurate predictions, even when you have little historical data.'),\n",
       " UseCase(use_case='FRAUD_ACCOUNT',\n",
       "   pretty_name='Account Takeover and Defense',\n",
       "   description=\"Shield your customers from account takeovers by blocking bots and fake sign-ups. Behind the scenes, our AI engine will develop a custom deep learning model to prevent bot attacks and stops account takeovers in real-time. Setup is super simple and doesn't require any engineering or cumbersome data preparation.\"),\n",
       " UseCase(use_case='FRAUD_THREAT',\n",
       "   pretty_name='Intelligent Threat Detection',\n",
       "   description=\"Stop breachers in their tracks by continuously monitoring your environment for malicious activity. Prevent alert fatigue by reducing the number of false positives over time. Behind the scenes, our AI engine develops a deep learning model customized for your data to continuously monitors all your logs and alerts you of any malicious activity. Setup is super simple and doesn't require any ML expertise.\"),\n",
       " UseCase(use_case='FRAUD_TRANSACTIONS',\n",
       "   pretty_name='Transaction/Credit Card Fraud',\n",
       "   description=\"Accept payments with confidence, reduce chargebacks, and catch payment fraud instantly as it happens. Behind the scenes, our AI engine develops a custom deep learning model for you that prevents transaction fraud and catches fraudsters in real-time. Set up is super simple and doesn't require any engineering and cumbersome data preparation.\"),\n",
       " UseCase(use_case='OPERATIONS_CLOUD',\n",
       "   pretty_name='Cloud Spend Alerts',\n",
       "   description='Deploy state-of-the-art deep learning models to monitor your cloud spend, spot anomalies, spot runaway incidents, mitigate cost incidents, and get alerts so they can be remedied as quickly as possible. Use deep learning to find anomalies in your cloud usage and get alerts on them to mitigate cost incidents.'),\n",
       " UseCase(use_case='CLOUD_SPEND',\n",
       "   pretty_name='Cloud Spend Alerts',\n",
       "   description='Deploy state-of-the-art deep learning models to monitor your cloud spend, spot anomalies, spot runaway incidents, mitigate cost incidents, and get alerts so they can be remedied as quickly as possible. Use deep learning to find anomalies in your cloud usage and get alerts on them to mitigate cost incidents.'),\n",
       " UseCase(use_case='TIMESERIES_ANOMALY_DETECTION',\n",
       "   pretty_name='Timeseries Anomaly Detection',\n",
       "   description='Spot anomalies in your time series data by using deep learning models to increase revenue, save costs and reduce risks. With Abacus.AI you can set up state of the art deep learning models for time series anomaly detection within hours. These models adjust in real time and spot both simple one dimensional and complex multidimensional anomalies. Our models also help you find the root cause of the anomalies. No cumbersome data preparation or engineering effort to deploy the models in production are required.'),\n",
       " UseCase(use_case='OPERATIONS_MAINTENANCE',\n",
       "   pretty_name='Predictive Maintenance',\n",
       "   description='Leverage deep learning models to proactively assess the health of your assets and perform timely maintenance to reduce downtime and save costs. With Abacus.ai you can set up state of the art deep learning models for predictive maintenance within hours. These models learn from your past failures as well as spot anomalies that can lead to new failures. No cumbersome data preparation or engineering effort to deploy the models in production is required.'),\n",
       " UseCase(use_case='PERS_PROMOTIONS',\n",
       "   pretty_name='Personalized Promotions',\n",
       "   description='Send personalized promotions to your customers and increase engagement. Personalize promotions based on catalog items, marketing messages, delivery channels, and discount terms. Deploy a real-time deep learning model that targets relevant promotions to customers and increases engagement. No cumbersome data preparation required and setup is super easy.'),\n",
       " UseCase(use_case='PREDICTING',\n",
       "   pretty_name='Predictive Modeling',\n",
       "   description='Use historical data to predict future occurrences. Train state-of-the-art predictive models customized specifically according to your data and deploy it in production in hours, not months!. You can create a deep learning model for your specific needs simply by pointing us to your data and specifying the inputs/outputs. Our expert AI engine will do the data cleaning and processing, algorithm selection (classification or regression), and model creation. You will be ready to generate intelligent predictions from the deployed model in production in just a few hours.'),\n",
       " UseCase(use_case='RETAIL',\n",
       "   pretty_name='Demand Forecasting',\n",
       "   description='Accurately forecast retail demand. We use generative modeling (GANs) to augment your dataset with synthetic data. This allows us to make accurate predictions even when you have little historical data.'),\n",
       " UseCase(use_case='SALES_FORECASTING',\n",
       "   pretty_name='Sales and Revenue Forecasting',\n",
       "   description='Forecast sales and revenue across your sales reps, products, business units, and locations. Use deep learning to forecast your sales across multiple dimensions. Make better planning discussions and anticipate future problems so you can mitigate them.'),\n",
       " UseCase(use_case='SALES_SCORING',\n",
       "   pretty_name='Predictive Lead Scoring',\n",
       "   description='Identify the sales leads that are most likely to convert into paying customers and increase revenue. Just point our AI engine to your data, and it will create a deep learning model customized for your data to score all your leads and identify the best ones for conversion.'),\n",
       " UseCase(use_case='USER_RANKINGS',\n",
       "   pretty_name='Personalized Search',\n",
       "   description='Re-rank search results or list of items based on a user preferences. Maximize user engagement and revenue. Our unique blend of reinforcement learning and deep learning-based technology works even when you have little historical data and have to deal with a fast-changing catalog or multiple new users.'),\n",
       " UseCase(use_case='NAMED_ENTITY_RECOGNITION',\n",
       "   pretty_name='Text extraction and classification',\n",
       "   description='Find and label fields within text documents such as emails, chats, receipts, invoices or any other unstructured data set. With Abacus.AI you can set up state of the art deep learning models for text extraction and classification within hours. Based on your specific domain and use-case, Abacus.AI can fine-tune pre-trained models, apply transfer learning or simply train new language models from scratch.  No cumbersome data preparation or engineering effort to deploy the models in production are required.'),\n",
       " UseCase(use_case='USER_RECOMMENDATIONS',\n",
       "   pretty_name='Personalized Recommendations',\n",
       "   description='Increase user engagement and revenue with personalized recommendations on your app/website. Our unique blend of reinforcement learning and deep learning-based technology works even when you have little historical data and have to deal with a fast-changing catalog or multiple new users.'),\n",
       " UseCase(use_case='USER_RELATED',\n",
       "   pretty_name='Related Items',\n",
       "   description='Maximize revenue and user engagement. Immerse your customers into your app/website by providing them with a rich browse and related items experience. Our unique blend of reinforcement learning and deep learning-based technology works even when you have little historical data and have to deal with a fast-changing catalog or multiple new users.'),\n",
       " UseCase(use_case='VISION',\n",
       "   pretty_name='Image Classification & Detection',\n",
       "   description='Train an image classification & detection model specific to your domain and use it to classify and detect relevant objects. With Abacus.AI you can set up state of the art deep learning models for Image classification & detection within hours. Based on your specific domain and use-case, Abacus.AI can fine-tune pre-trained models, apply transfer learning or simply train new vision models from scratch. No cumbersome data preparation or engineering effort to deploy the models in production are required.')]"
      ]
     },
     "execution_count": 4,
     "metadata": {},
     "output_type": "execute_result"
    }
   ],
   "source": [
    "client.list_use_cases()"
   ]
  },
  {
   "cell_type": "markdown",
   "metadata": {
    "id": "6U9B1Omwtn_F"
   },
   "source": [
    "In this notebook, we're going to create a predictive lead scoring model using the Individual Company Sales Data dataset. The 'SALES_SCORING' use case is best tailored for this situation."
   ]
  },
  {
   "cell_type": "code",
   "execution_count": 5,
   "metadata": {
    "id": "1iJWuFNTin7y"
   },
   "outputs": [],
   "source": [
    "#@title Abacus.AI Use Case\n",
    "\n",
    "use_case = 'SALES_SCORING'  #@param {type: \"string\"}"
   ]
  },
  {
   "cell_type": "markdown",
   "metadata": {
    "id": "85y5OwIjQCRb"
   },
   "source": [
    "By calling the `describe_use_case_requirements` method we can view what datasets are required for this use_case."
   ]
  },
  {
   "cell_type": "code",
   "execution_count": 6,
   "metadata": {
    "colab": {
     "base_uri": "https://localhost:8080/"
    },
    "id": "2M2FZLhnio_a",
    "outputId": "d9b2e4ab-9be6-45c3-cc42-ca6481d02e3a"
   },
   "outputs": [
    {
     "name": "stdout",
     "output_type": "stream",
     "text": [
      "{ 'allowed_feature_mappings': { 'IGNORE': { 'description': 'Ignore this column '\n",
      "                                                           'in training',\n",
      "                                            'multiple': True,\n",
      "                                            'required': False},\n",
      "                                'LEAD_ID': { 'allowed_feature_types': [ 'CATEGORICAL'],\n",
      "                                             'description': 'This is a unique '\n",
      "                                                            'identifier of '\n",
      "                                                            'each user in the '\n",
      "                                                            'user base.',\n",
      "                                             'required': True},\n",
      "                                'LEAD_SCORE': { 'allowed_feature_types': [ 'CATEGORICAL',\n",
      "                                                                           'NUMERICAL'],\n",
      "                                                'description': 'This denotes '\n",
      "                                                               'if the user '\n",
      "                                                               'turned into a '\n",
      "                                                               'lead '\n",
      "                                                               '(customer) or '\n",
      "                                                               'not. The score '\n",
      "                                                               'can be 0 or 1, '\n",
      "                                                               '0 for not a '\n",
      "                                                               'customer yet '\n",
      "                                                               'and 1 for a '\n",
      "                                                               'customer',\n",
      "                                                'required': True}},\n",
      "  'allowed_nested_feature_mappings': { 'IGNORE': { 'description': 'Ignore this '\n",
      "                                                                  'column in '\n",
      "                                                                  'training',\n",
      "                                                   'multiple': True,\n",
      "                                                   'required': False}},\n",
      "  'dataset_type': 'LEADS',\n",
      "  'description': 'This dataset corresponds to various attributes of the user '\n",
      "                 '(e.g., occupation, gender, marital status, etc.) that are '\n",
      "                 'relevant to deciding if the user might be a potential '\n",
      "                 'customer.',\n",
      "  'name': 'Sales Leads Data',\n",
      "  'required': True}\n"
     ]
    }
   ],
   "source": [
    "for requirement in client.describe_use_case_requirements(use_case):\n",
    "  pp.pprint(requirement.to_dict())"
   ]
  },
  {
   "cell_type": "markdown",
   "metadata": {
    "id": "n3QFhe96QEO6"
   },
   "source": [
    "Finally, let's create the project."
   ]
  },
  {
   "cell_type": "code",
   "execution_count": 7,
   "metadata": {
    "colab": {
     "base_uri": "https://localhost:8080/"
    },
    "id": "5r7LlrzPiufG",
    "outputId": "6377e372-7fe6-42f4-809b-8eecd6f4eee0"
   },
   "outputs": [
    {
     "data": {
      "text/plain": [
       "{'project_id': '14f23cb08e',\n",
       " 'name': 'Predictive Lead Scoring Project',\n",
       " 'use_case': 'SALES_SCORING',\n",
       " 'created_at': '2021-11-23T19:18:30+00:00',\n",
       " 'feature_groups_enabled': True}"
      ]
     },
     "execution_count": 7,
     "metadata": {},
     "output_type": "execute_result"
    }
   ],
   "source": [
    "lead_scoring_project = client.create_project(name='Predictive Lead Scoring Project', use_case=use_case)\n",
    "lead_scoring_project.to_dict()"
   ]
  },
  {
   "cell_type": "markdown",
   "metadata": {
    "id": "72H4KuJwLTOK"
   },
   "source": [
    "**Note: When feature_groups_enabled is True then the use case supports feature groups (collection of ML features). Feature groups are created at the organization level and can be tied to a project to further use it for training ML models**"
   ]
  },
  {
   "cell_type": "markdown",
   "metadata": {
    "id": "v4R42ulqQGEC"
   },
   "source": [
    "## 2. Add Datasets to your Project\n",
    "\n",
    "Abacus.AI can read datasets directly from `AWS S3` or `Google Cloud Storage` buckets, otherwise you can also directly upload and store your datasets with Abacus.AI. For this notebook, we will have Abacus.AI read the datasets directly from a public S3 bucket's location.\n",
    "\n",
    "We are using one dataset for this notebook. We'll tell Abacus.AI how the dataset should be used when creating it by tagging the dataset with a special Abacus.AI **Dataset Type**.\n",
    "- [Individual Company Sales Data](https://s3.amazonaws.com//realityengines.exampledatasets/sales_scoring/company_sales_data_v2.csv) (**LEADS**): This dataset contains information about users, their attributes, and their lead IDs."
   ]
  },
  {
   "cell_type": "markdown",
   "metadata": {
    "id": "mTKo4zKBQWDm"
   },
   "source": [
    "### Add the dataset to Abacus.AI\n",
    "\n",
    "First we'll use Pandas to preview the file, then add it to Abacus.AI."
   ]
  },
  {
   "cell_type": "code",
   "execution_count": 8,
   "metadata": {
    "colab": {
     "base_uri": "https://localhost:8080/",
     "height": 487
    },
    "id": "JyDeiPL3iv4a",
    "outputId": "eec04cd8-6cc0-49fb-d221-677ce9710e81"
   },
   "outputs": [
    {
     "data": {
      "text/html": [
       "<div>\n",
       "<style scoped>\n",
       "    .dataframe tbody tr th:only-of-type {\n",
       "        vertical-align: middle;\n",
       "    }\n",
       "\n",
       "    .dataframe tbody tr th {\n",
       "        vertical-align: top;\n",
       "    }\n",
       "\n",
       "    .dataframe thead th {\n",
       "        text-align: right;\n",
       "    }\n",
       "</style>\n",
       "<table border=\"1\" class=\"dataframe\">\n",
       "  <thead>\n",
       "    <tr style=\"text-align: right;\">\n",
       "      <th></th>\n",
       "      <th>lead_id</th>\n",
       "      <th>flag</th>\n",
       "      <th>gender</th>\n",
       "      <th>education</th>\n",
       "      <th>house_val</th>\n",
       "      <th>age</th>\n",
       "      <th>online</th>\n",
       "      <th>customer_psy</th>\n",
       "      <th>marriage</th>\n",
       "      <th>child</th>\n",
       "      <th>occupation</th>\n",
       "      <th>mortgage</th>\n",
       "      <th>house_owner</th>\n",
       "      <th>region</th>\n",
       "      <th>car_prob</th>\n",
       "      <th>fam_income</th>\n",
       "    </tr>\n",
       "  </thead>\n",
       "  <tbody>\n",
       "    <tr>\n",
       "      <th>0</th>\n",
       "      <td>0</td>\n",
       "      <td>Y</td>\n",
       "      <td>M</td>\n",
       "      <td>4. Grad</td>\n",
       "      <td>756460</td>\n",
       "      <td>1_Unk</td>\n",
       "      <td>N</td>\n",
       "      <td>B</td>\n",
       "      <td>NaN</td>\n",
       "      <td>U</td>\n",
       "      <td>Professional</td>\n",
       "      <td>1Low</td>\n",
       "      <td>NaN</td>\n",
       "      <td>Midwest</td>\n",
       "      <td>1</td>\n",
       "      <td>L</td>\n",
       "    </tr>\n",
       "    <tr>\n",
       "      <th>1</th>\n",
       "      <td>1</td>\n",
       "      <td>N</td>\n",
       "      <td>F</td>\n",
       "      <td>3. Bach</td>\n",
       "      <td>213171</td>\n",
       "      <td>7_&gt;65</td>\n",
       "      <td>N</td>\n",
       "      <td>E</td>\n",
       "      <td>NaN</td>\n",
       "      <td>U</td>\n",
       "      <td>Professional</td>\n",
       "      <td>1Low</td>\n",
       "      <td>Owner</td>\n",
       "      <td>Northeast</td>\n",
       "      <td>3</td>\n",
       "      <td>G</td>\n",
       "    </tr>\n",
       "    <tr>\n",
       "      <th>2</th>\n",
       "      <td>2</td>\n",
       "      <td>N</td>\n",
       "      <td>M</td>\n",
       "      <td>2. Some College</td>\n",
       "      <td>111147</td>\n",
       "      <td>2_&lt;=25</td>\n",
       "      <td>Y</td>\n",
       "      <td>C</td>\n",
       "      <td>NaN</td>\n",
       "      <td>Y</td>\n",
       "      <td>Professional</td>\n",
       "      <td>1Low</td>\n",
       "      <td>Owner</td>\n",
       "      <td>Midwest</td>\n",
       "      <td>1</td>\n",
       "      <td>J</td>\n",
       "    </tr>\n",
       "    <tr>\n",
       "      <th>3</th>\n",
       "      <td>3</td>\n",
       "      <td>Y</td>\n",
       "      <td>M</td>\n",
       "      <td>2. Some College</td>\n",
       "      <td>354151</td>\n",
       "      <td>2_&lt;=25</td>\n",
       "      <td>Y</td>\n",
       "      <td>B</td>\n",
       "      <td>Single</td>\n",
       "      <td>U</td>\n",
       "      <td>Sales/Service</td>\n",
       "      <td>1Low</td>\n",
       "      <td>NaN</td>\n",
       "      <td>West</td>\n",
       "      <td>2</td>\n",
       "      <td>L</td>\n",
       "    </tr>\n",
       "    <tr>\n",
       "      <th>4</th>\n",
       "      <td>4</td>\n",
       "      <td>Y</td>\n",
       "      <td>F</td>\n",
       "      <td>2. Some College</td>\n",
       "      <td>117087</td>\n",
       "      <td>1_Unk</td>\n",
       "      <td>Y</td>\n",
       "      <td>J</td>\n",
       "      <td>Married</td>\n",
       "      <td>Y</td>\n",
       "      <td>Sales/Service</td>\n",
       "      <td>1Low</td>\n",
       "      <td>NaN</td>\n",
       "      <td>South</td>\n",
       "      <td>7</td>\n",
       "      <td>H</td>\n",
       "    </tr>\n",
       "    <tr>\n",
       "      <th>...</th>\n",
       "      <td>...</td>\n",
       "      <td>...</td>\n",
       "      <td>...</td>\n",
       "      <td>...</td>\n",
       "      <td>...</td>\n",
       "      <td>...</td>\n",
       "      <td>...</td>\n",
       "      <td>...</td>\n",
       "      <td>...</td>\n",
       "      <td>...</td>\n",
       "      <td>...</td>\n",
       "      <td>...</td>\n",
       "      <td>...</td>\n",
       "      <td>...</td>\n",
       "      <td>...</td>\n",
       "      <td>...</td>\n",
       "    </tr>\n",
       "    <tr>\n",
       "      <th>39995</th>\n",
       "      <td>39995</td>\n",
       "      <td>Y</td>\n",
       "      <td>F</td>\n",
       "      <td>3. Bach</td>\n",
       "      <td>0</td>\n",
       "      <td>7_&gt;65</td>\n",
       "      <td>Y</td>\n",
       "      <td>C</td>\n",
       "      <td>NaN</td>\n",
       "      <td>U</td>\n",
       "      <td>Retired</td>\n",
       "      <td>1Low</td>\n",
       "      <td>NaN</td>\n",
       "      <td>South</td>\n",
       "      <td>3</td>\n",
       "      <td>F</td>\n",
       "    </tr>\n",
       "    <tr>\n",
       "      <th>39996</th>\n",
       "      <td>39996</td>\n",
       "      <td>N</td>\n",
       "      <td>F</td>\n",
       "      <td>1. HS</td>\n",
       "      <td>213596</td>\n",
       "      <td>4_&lt;=45</td>\n",
       "      <td>N</td>\n",
       "      <td>I</td>\n",
       "      <td>Married</td>\n",
       "      <td>U</td>\n",
       "      <td>Blue Collar</td>\n",
       "      <td>1Low</td>\n",
       "      <td>Owner</td>\n",
       "      <td>South</td>\n",
       "      <td>1</td>\n",
       "      <td>D</td>\n",
       "    </tr>\n",
       "    <tr>\n",
       "      <th>39997</th>\n",
       "      <td>39997</td>\n",
       "      <td>Y</td>\n",
       "      <td>M</td>\n",
       "      <td>0. &lt;HS</td>\n",
       "      <td>134070</td>\n",
       "      <td>3_&lt;=35</td>\n",
       "      <td>Y</td>\n",
       "      <td>F</td>\n",
       "      <td>Married</td>\n",
       "      <td>U</td>\n",
       "      <td>Sales/Service</td>\n",
       "      <td>1Low</td>\n",
       "      <td>Owner</td>\n",
       "      <td>Midwest</td>\n",
       "      <td>4</td>\n",
       "      <td>E</td>\n",
       "    </tr>\n",
       "    <tr>\n",
       "      <th>39998</th>\n",
       "      <td>39998</td>\n",
       "      <td>N</td>\n",
       "      <td>M</td>\n",
       "      <td>1. HS</td>\n",
       "      <td>402210</td>\n",
       "      <td>7_&gt;65</td>\n",
       "      <td>Y</td>\n",
       "      <td>E</td>\n",
       "      <td>NaN</td>\n",
       "      <td>Y</td>\n",
       "      <td>Sales/Service</td>\n",
       "      <td>1Low</td>\n",
       "      <td>NaN</td>\n",
       "      <td>West</td>\n",
       "      <td>2</td>\n",
       "      <td>B</td>\n",
       "    </tr>\n",
       "    <tr>\n",
       "      <th>39999</th>\n",
       "      <td>39999</td>\n",
       "      <td>N</td>\n",
       "      <td>F</td>\n",
       "      <td>3. Bach</td>\n",
       "      <td>836030</td>\n",
       "      <td>7_&gt;65</td>\n",
       "      <td>Y</td>\n",
       "      <td>B</td>\n",
       "      <td>Married</td>\n",
       "      <td>N</td>\n",
       "      <td>Retired</td>\n",
       "      <td>2Med</td>\n",
       "      <td>Owner</td>\n",
       "      <td>Northeast</td>\n",
       "      <td>1</td>\n",
       "      <td>J</td>\n",
       "    </tr>\n",
       "  </tbody>\n",
       "</table>\n",
       "<p>40000 rows × 16 columns</p>\n",
       "</div>"
      ],
      "text/plain": [
       "       lead_id flag gender        education  house_val     age online  \\\n",
       "0            0    Y      M          4. Grad     756460   1_Unk      N   \n",
       "1            1    N      F          3. Bach     213171   7_>65      N   \n",
       "2            2    N      M  2. Some College     111147  2_<=25      Y   \n",
       "3            3    Y      M  2. Some College     354151  2_<=25      Y   \n",
       "4            4    Y      F  2. Some College     117087   1_Unk      Y   \n",
       "...        ...  ...    ...              ...        ...     ...    ...   \n",
       "39995    39995    Y      F          3. Bach          0   7_>65      Y   \n",
       "39996    39996    N      F            1. HS     213596  4_<=45      N   \n",
       "39997    39997    Y      M           0. <HS     134070  3_<=35      Y   \n",
       "39998    39998    N      M            1. HS     402210   7_>65      Y   \n",
       "39999    39999    N      F          3. Bach     836030   7_>65      Y   \n",
       "\n",
       "      customer_psy marriage child     occupation mortgage house_owner  \\\n",
       "0                B      NaN     U   Professional     1Low         NaN   \n",
       "1                E      NaN     U   Professional     1Low       Owner   \n",
       "2                C      NaN     Y   Professional     1Low       Owner   \n",
       "3                B   Single     U  Sales/Service     1Low         NaN   \n",
       "4                J  Married     Y  Sales/Service     1Low         NaN   \n",
       "...            ...      ...   ...            ...      ...         ...   \n",
       "39995            C      NaN     U        Retired     1Low         NaN   \n",
       "39996            I  Married     U    Blue Collar     1Low       Owner   \n",
       "39997            F  Married     U  Sales/Service     1Low       Owner   \n",
       "39998            E      NaN     Y  Sales/Service     1Low         NaN   \n",
       "39999            B  Married     N        Retired     2Med       Owner   \n",
       "\n",
       "          region  car_prob fam_income  \n",
       "0        Midwest         1          L  \n",
       "1      Northeast         3          G  \n",
       "2        Midwest         1          J  \n",
       "3           West         2          L  \n",
       "4          South         7          H  \n",
       "...          ...       ...        ...  \n",
       "39995      South         3          F  \n",
       "39996      South         1          D  \n",
       "39997    Midwest         4          E  \n",
       "39998       West         2          B  \n",
       "39999  Northeast         1          J  \n",
       "\n",
       "[40000 rows x 16 columns]"
      ]
     },
     "execution_count": 8,
     "metadata": {},
     "output_type": "execute_result"
    }
   ],
   "source": [
    "pd.read_csv('https://s3.amazonaws.com//realityengines.exampledatasets/sales_scoring/company_sales_data_v2.csv')"
   ]
  },
  {
   "cell_type": "markdown",
   "metadata": {
    "id": "kjURfQMHQWoM"
   },
   "source": [
    "Using the Create Dataset API, we can tell Abacus.AI the public S3 URI of where to find the datasets. We will also give each dataset a Refresh Schedule, which tells Abacus.AI when it should refresh the dataset (take an updated/latest copy of the dataset).\n",
    "\n",
    "If you're unfamiliar with Cron Syntax, Crontab Guru can help translate the syntax back into natural language: [https://crontab.guru/#0_12_\\*_\\*_\\*](https://crontab.guru/#0_12_*_*_*)\n",
    "\n",
    "**Note: This cron string will be evaluated in UTC time zone**"
   ]
  },
  {
   "cell_type": "code",
   "execution_count": 10,
   "metadata": {
    "id": "TP1gXiCriwyw"
   },
   "outputs": [],
   "source": [
    "lead_scoring_dataset = client.create_dataset_from_file_connector(name='Individual Company Sales Data',table_name='Individual_Company_Sales_Data',\n",
    "                                     location='s3://realityengines.exampledatasets/sales_scoring/company_sales_data_v2.csv',\n",
    "                                     refresh_schedule='0 12 * * *')\n",
    "datasets = [lead_scoring_dataset]"
   ]
  },
  {
   "cell_type": "markdown",
   "metadata": {
    "id": "hgHdAV7WLbAd"
   },
   "source": [
    "## 3. Create Feature Groups and add them to your Project\n",
    "\n",
    "Datasets are created at the organization level and can be used to create feature groups as follows:"
   ]
  },
  {
   "cell_type": "code",
   "execution_count": 15,
   "metadata": {
    "id": "-rbVGuNy2JdF"
   },
   "outputs": [],
   "source": [
    "feature_group = client.create_feature_group(table_name='Predictive_Lead_Scoring',sql='SELECT * FROM Individual_Comapny_Sales_DataS')"
   ]
  },
  {
   "cell_type": "markdown",
   "metadata": {
    "id": "IYflsN57LeTp"
   },
   "source": [
    "Adding Feature Group to the project:"
   ]
  },
  {
   "cell_type": "code",
   "execution_count": 16,
   "metadata": {
    "colab": {
     "base_uri": "https://localhost:8080/"
    },
    "id": "sjzCoSW12KHz",
    "outputId": "92283e78-9960-4cc6-a542-0586bdb72298"
   },
   "outputs": [],
   "source": [
    "client.add_feature_group_to_project(feature_group_id=feature_group.feature_group_id,project_id = lead_scoring_project.project_id)"
   ]
  },
  {
   "cell_type": "markdown",
   "metadata": {
    "id": "yqWvJWaTLkKp"
   },
   "source": [
    "Setting the Feature Group type according to the use case requirements:"
   ]
  },
  {
   "cell_type": "code",
   "execution_count": 17,
   "metadata": {
    "id": "_0lTrz_ELkdV"
   },
   "outputs": [],
   "source": [
    "client.set_feature_group_type(feature_group_id=feature_group.feature_group_id, project_id = lead_scoring_project.project_id, feature_group_type= \"LEADS\")"
   ]
  },
  {
   "cell_type": "markdown",
   "metadata": {
    "id": "BNBQ85GnLp5y"
   },
   "source": [
    "Check current Feature Group schema:"
   ]
  },
  {
   "cell_type": "code",
   "execution_count": 18,
   "metadata": {
    "id": "oyiyFv0TLqLp"
   },
   "outputs": [
    {
     "data": {
      "text/plain": [
       "[Feature(name='lead_id',\n",
       "   select_clause=None,\n",
       "   feature_mapping=None,\n",
       "   source_table='Individual_Comapny_Sales_Data122',\n",
       "   original_name=None,\n",
       "   using_clause=None,\n",
       "   order_clause=None,\n",
       "   where_clause=None,\n",
       "   feature_type='CATEGORICAL',\n",
       "   data_type='STRING',\n",
       "   columns=None,\n",
       "   point_in_time_info=None),\n",
       " Feature(name='flag',\n",
       "   select_clause=None,\n",
       "   feature_mapping=None,\n",
       "   source_table='Individual_Comapny_Sales_Data122',\n",
       "   original_name=None,\n",
       "   using_clause=None,\n",
       "   order_clause=None,\n",
       "   where_clause=None,\n",
       "   feature_type='CATEGORICAL',\n",
       "   data_type='STRING',\n",
       "   columns=None,\n",
       "   point_in_time_info=None),\n",
       " Feature(name='gender',\n",
       "   select_clause=None,\n",
       "   feature_mapping=None,\n",
       "   source_table='Individual_Comapny_Sales_Data122',\n",
       "   original_name=None,\n",
       "   using_clause=None,\n",
       "   order_clause=None,\n",
       "   where_clause=None,\n",
       "   feature_type='CATEGORICAL',\n",
       "   data_type='STRING',\n",
       "   columns=None,\n",
       "   point_in_time_info=None),\n",
       " Feature(name='education',\n",
       "   select_clause=None,\n",
       "   feature_mapping=None,\n",
       "   source_table='Individual_Comapny_Sales_Data122',\n",
       "   original_name=None,\n",
       "   using_clause=None,\n",
       "   order_clause=None,\n",
       "   where_clause=None,\n",
       "   feature_type='CATEGORICAL',\n",
       "   data_type='STRING',\n",
       "   columns=None,\n",
       "   point_in_time_info=None),\n",
       " Feature(name='house_val',\n",
       "   select_clause=None,\n",
       "   feature_mapping=None,\n",
       "   source_table='Individual_Comapny_Sales_Data122',\n",
       "   original_name=None,\n",
       "   using_clause=None,\n",
       "   order_clause=None,\n",
       "   where_clause=None,\n",
       "   feature_type='NUMERICAL',\n",
       "   data_type='INTEGER',\n",
       "   columns=None,\n",
       "   point_in_time_info=None),\n",
       " Feature(name='age',\n",
       "   select_clause=None,\n",
       "   feature_mapping=None,\n",
       "   source_table='Individual_Comapny_Sales_Data122',\n",
       "   original_name=None,\n",
       "   using_clause=None,\n",
       "   order_clause=None,\n",
       "   where_clause=None,\n",
       "   feature_type='CATEGORICAL',\n",
       "   data_type='STRING',\n",
       "   columns=None,\n",
       "   point_in_time_info=None),\n",
       " Feature(name='online',\n",
       "   select_clause=None,\n",
       "   feature_mapping=None,\n",
       "   source_table='Individual_Comapny_Sales_Data122',\n",
       "   original_name=None,\n",
       "   using_clause=None,\n",
       "   order_clause=None,\n",
       "   where_clause=None,\n",
       "   feature_type='CATEGORICAL',\n",
       "   data_type='STRING',\n",
       "   columns=None,\n",
       "   point_in_time_info=None),\n",
       " Feature(name='customer_psy',\n",
       "   select_clause=None,\n",
       "   feature_mapping=None,\n",
       "   source_table='Individual_Comapny_Sales_Data122',\n",
       "   original_name=None,\n",
       "   using_clause=None,\n",
       "   order_clause=None,\n",
       "   where_clause=None,\n",
       "   feature_type='CATEGORICAL',\n",
       "   data_type='STRING',\n",
       "   columns=None,\n",
       "   point_in_time_info=None),\n",
       " Feature(name='marriage',\n",
       "   select_clause=None,\n",
       "   feature_mapping=None,\n",
       "   source_table='Individual_Comapny_Sales_Data122',\n",
       "   original_name=None,\n",
       "   using_clause=None,\n",
       "   order_clause=None,\n",
       "   where_clause=None,\n",
       "   feature_type='CATEGORICAL',\n",
       "   data_type='STRING',\n",
       "   columns=None,\n",
       "   point_in_time_info=None),\n",
       " Feature(name='child',\n",
       "   select_clause=None,\n",
       "   feature_mapping=None,\n",
       "   source_table='Individual_Comapny_Sales_Data122',\n",
       "   original_name=None,\n",
       "   using_clause=None,\n",
       "   order_clause=None,\n",
       "   where_clause=None,\n",
       "   feature_type='CATEGORICAL',\n",
       "   data_type='STRING',\n",
       "   columns=None,\n",
       "   point_in_time_info=None),\n",
       " Feature(name='occupation',\n",
       "   select_clause=None,\n",
       "   feature_mapping=None,\n",
       "   source_table='Individual_Comapny_Sales_Data122',\n",
       "   original_name=None,\n",
       "   using_clause=None,\n",
       "   order_clause=None,\n",
       "   where_clause=None,\n",
       "   feature_type='CATEGORICAL',\n",
       "   data_type='STRING',\n",
       "   columns=None,\n",
       "   point_in_time_info=None),\n",
       " Feature(name='mortgage',\n",
       "   select_clause=None,\n",
       "   feature_mapping=None,\n",
       "   source_table='Individual_Comapny_Sales_Data122',\n",
       "   original_name=None,\n",
       "   using_clause=None,\n",
       "   order_clause=None,\n",
       "   where_clause=None,\n",
       "   feature_type='CATEGORICAL',\n",
       "   data_type='STRING',\n",
       "   columns=None,\n",
       "   point_in_time_info=None),\n",
       " Feature(name='house_owner',\n",
       "   select_clause=None,\n",
       "   feature_mapping=None,\n",
       "   source_table='Individual_Comapny_Sales_Data122',\n",
       "   original_name=None,\n",
       "   using_clause=None,\n",
       "   order_clause=None,\n",
       "   where_clause=None,\n",
       "   feature_type='CATEGORICAL',\n",
       "   data_type='STRING',\n",
       "   columns=None,\n",
       "   point_in_time_info=None),\n",
       " Feature(name='region',\n",
       "   select_clause=None,\n",
       "   feature_mapping=None,\n",
       "   source_table='Individual_Comapny_Sales_Data122',\n",
       "   original_name=None,\n",
       "   using_clause=None,\n",
       "   order_clause=None,\n",
       "   where_clause=None,\n",
       "   feature_type='CATEGORICAL',\n",
       "   data_type='STRING',\n",
       "   columns=None,\n",
       "   point_in_time_info=None),\n",
       " Feature(name='car_prob',\n",
       "   select_clause=None,\n",
       "   feature_mapping=None,\n",
       "   source_table='Individual_Comapny_Sales_Data122',\n",
       "   original_name=None,\n",
       "   using_clause=None,\n",
       "   order_clause=None,\n",
       "   where_clause=None,\n",
       "   feature_type='CATEGORICAL',\n",
       "   data_type='STRING',\n",
       "   columns=None,\n",
       "   point_in_time_info=None),\n",
       " Feature(name='fam_income',\n",
       "   select_clause=None,\n",
       "   feature_mapping=None,\n",
       "   source_table='Individual_Comapny_Sales_Data122',\n",
       "   original_name=None,\n",
       "   using_clause=None,\n",
       "   order_clause=None,\n",
       "   where_clause=None,\n",
       "   feature_type='CATEGORICAL',\n",
       "   data_type='STRING',\n",
       "   columns=None,\n",
       "   point_in_time_info=None)]"
      ]
     },
     "execution_count": 18,
     "metadata": {},
     "output_type": "execute_result"
    }
   ],
   "source": [
    "client.get_feature_group_schema(feature_group_id=feature_group.feature_group_id)"
   ]
  },
  {
   "cell_type": "markdown",
   "metadata": {
    "id": "4zgu_4B2QkvC"
   },
   "source": [
    "#### For each **Use Case**, there are special **Column Mappings** that must be applied to a column to fulfill use case requirements. We can find the list of available **Column Mappings** by calling the *Describe Use Case Requirements* API:"
   ]
  },
  {
   "cell_type": "code",
   "execution_count": 20,
   "metadata": {
    "colab": {
     "base_uri": "https://localhost:8080/"
    },
    "id": "BKR3n9hkiy_h",
    "outputId": "b6877497-f785-450b-8d4d-76bbaa0d9f77"
   },
   "outputs": [
    {
     "data": {
      "text/plain": [
       "{'LEAD_ID': {'description': 'This is a unique identifier of each user in the user base.',\n",
       "  'allowed_feature_types': ['CATEGORICAL'],\n",
       "  'required': True},\n",
       " 'LEAD_SCORE': {'description': 'This denotes if the user turned into a lead (customer) or not. The score can be 0 or 1, 0 for not a customer yet and 1 for a customer',\n",
       "  'allowed_feature_types': ['CATEGORICAL', 'NUMERICAL'],\n",
       "  'required': True},\n",
       " 'IGNORE': {'description': 'Ignore this column in training',\n",
       "  'multiple': True,\n",
       "  'required': False}}"
      ]
     },
     "execution_count": 20,
     "metadata": {},
     "output_type": "execute_result"
    }
   ],
   "source": [
    "client.describe_use_case_requirements(use_case)[0].allowed_feature_mappings"
   ]
  },
  {
   "cell_type": "code",
   "execution_count": 21,
   "metadata": {
    "colab": {
     "base_uri": "https://localhost:8080/"
    },
    "id": "9U5cTl343giS",
    "outputId": "cdb71d4d-2ac1-43b0-c8ac-0069c8a9dc47"
   },
   "outputs": [
    {
     "data": {
      "text/plain": [
       "[Feature(name='lead_id',\n",
       "   select_clause=None,\n",
       "   feature_mapping='LEAD_ID',\n",
       "   source_table='Individual_Comapny_Sales_Data122',\n",
       "   original_name=None,\n",
       "   using_clause=None,\n",
       "   order_clause=None,\n",
       "   where_clause=None,\n",
       "   feature_type='CATEGORICAL',\n",
       "   data_type='STRING',\n",
       "   columns=None,\n",
       "   point_in_time_info=None),\n",
       " Feature(name='flag',\n",
       "   select_clause=None,\n",
       "   feature_mapping='LEAD_SCORE',\n",
       "   source_table='Individual_Comapny_Sales_Data122',\n",
       "   original_name=None,\n",
       "   using_clause=None,\n",
       "   order_clause=None,\n",
       "   where_clause=None,\n",
       "   feature_type='CATEGORICAL',\n",
       "   data_type='STRING',\n",
       "   columns=None,\n",
       "   point_in_time_info=None),\n",
       " Feature(name='gender',\n",
       "   select_clause=None,\n",
       "   feature_mapping=None,\n",
       "   source_table='Individual_Comapny_Sales_Data122',\n",
       "   original_name=None,\n",
       "   using_clause=None,\n",
       "   order_clause=None,\n",
       "   where_clause=None,\n",
       "   feature_type='CATEGORICAL',\n",
       "   data_type='STRING',\n",
       "   columns=None,\n",
       "   point_in_time_info=None),\n",
       " Feature(name='education',\n",
       "   select_clause=None,\n",
       "   feature_mapping=None,\n",
       "   source_table='Individual_Comapny_Sales_Data122',\n",
       "   original_name=None,\n",
       "   using_clause=None,\n",
       "   order_clause=None,\n",
       "   where_clause=None,\n",
       "   feature_type='CATEGORICAL',\n",
       "   data_type='STRING',\n",
       "   columns=None,\n",
       "   point_in_time_info=None),\n",
       " Feature(name='house_val',\n",
       "   select_clause=None,\n",
       "   feature_mapping=None,\n",
       "   source_table='Individual_Comapny_Sales_Data122',\n",
       "   original_name=None,\n",
       "   using_clause=None,\n",
       "   order_clause=None,\n",
       "   where_clause=None,\n",
       "   feature_type='NUMERICAL',\n",
       "   data_type='INTEGER',\n",
       "   columns=None,\n",
       "   point_in_time_info=None),\n",
       " Feature(name='age',\n",
       "   select_clause=None,\n",
       "   feature_mapping=None,\n",
       "   source_table='Individual_Comapny_Sales_Data122',\n",
       "   original_name=None,\n",
       "   using_clause=None,\n",
       "   order_clause=None,\n",
       "   where_clause=None,\n",
       "   feature_type='CATEGORICAL',\n",
       "   data_type='STRING',\n",
       "   columns=None,\n",
       "   point_in_time_info=None),\n",
       " Feature(name='online',\n",
       "   select_clause=None,\n",
       "   feature_mapping=None,\n",
       "   source_table='Individual_Comapny_Sales_Data122',\n",
       "   original_name=None,\n",
       "   using_clause=None,\n",
       "   order_clause=None,\n",
       "   where_clause=None,\n",
       "   feature_type='CATEGORICAL',\n",
       "   data_type='STRING',\n",
       "   columns=None,\n",
       "   point_in_time_info=None),\n",
       " Feature(name='customer_psy',\n",
       "   select_clause=None,\n",
       "   feature_mapping=None,\n",
       "   source_table='Individual_Comapny_Sales_Data122',\n",
       "   original_name=None,\n",
       "   using_clause=None,\n",
       "   order_clause=None,\n",
       "   where_clause=None,\n",
       "   feature_type='CATEGORICAL',\n",
       "   data_type='STRING',\n",
       "   columns=None,\n",
       "   point_in_time_info=None),\n",
       " Feature(name='marriage',\n",
       "   select_clause=None,\n",
       "   feature_mapping=None,\n",
       "   source_table='Individual_Comapny_Sales_Data122',\n",
       "   original_name=None,\n",
       "   using_clause=None,\n",
       "   order_clause=None,\n",
       "   where_clause=None,\n",
       "   feature_type='CATEGORICAL',\n",
       "   data_type='STRING',\n",
       "   columns=None,\n",
       "   point_in_time_info=None),\n",
       " Feature(name='child',\n",
       "   select_clause=None,\n",
       "   feature_mapping=None,\n",
       "   source_table='Individual_Comapny_Sales_Data122',\n",
       "   original_name=None,\n",
       "   using_clause=None,\n",
       "   order_clause=None,\n",
       "   where_clause=None,\n",
       "   feature_type='CATEGORICAL',\n",
       "   data_type='STRING',\n",
       "   columns=None,\n",
       "   point_in_time_info=None),\n",
       " Feature(name='occupation',\n",
       "   select_clause=None,\n",
       "   feature_mapping=None,\n",
       "   source_table='Individual_Comapny_Sales_Data122',\n",
       "   original_name=None,\n",
       "   using_clause=None,\n",
       "   order_clause=None,\n",
       "   where_clause=None,\n",
       "   feature_type='CATEGORICAL',\n",
       "   data_type='STRING',\n",
       "   columns=None,\n",
       "   point_in_time_info=None),\n",
       " Feature(name='mortgage',\n",
       "   select_clause=None,\n",
       "   feature_mapping=None,\n",
       "   source_table='Individual_Comapny_Sales_Data122',\n",
       "   original_name=None,\n",
       "   using_clause=None,\n",
       "   order_clause=None,\n",
       "   where_clause=None,\n",
       "   feature_type='CATEGORICAL',\n",
       "   data_type='STRING',\n",
       "   columns=None,\n",
       "   point_in_time_info=None),\n",
       " Feature(name='house_owner',\n",
       "   select_clause=None,\n",
       "   feature_mapping=None,\n",
       "   source_table='Individual_Comapny_Sales_Data122',\n",
       "   original_name=None,\n",
       "   using_clause=None,\n",
       "   order_clause=None,\n",
       "   where_clause=None,\n",
       "   feature_type='CATEGORICAL',\n",
       "   data_type='STRING',\n",
       "   columns=None,\n",
       "   point_in_time_info=None),\n",
       " Feature(name='region',\n",
       "   select_clause=None,\n",
       "   feature_mapping=None,\n",
       "   source_table='Individual_Comapny_Sales_Data122',\n",
       "   original_name=None,\n",
       "   using_clause=None,\n",
       "   order_clause=None,\n",
       "   where_clause=None,\n",
       "   feature_type='CATEGORICAL',\n",
       "   data_type='STRING',\n",
       "   columns=None,\n",
       "   point_in_time_info=None),\n",
       " Feature(name='car_prob',\n",
       "   select_clause=None,\n",
       "   feature_mapping=None,\n",
       "   source_table='Individual_Comapny_Sales_Data122',\n",
       "   original_name=None,\n",
       "   using_clause=None,\n",
       "   order_clause=None,\n",
       "   where_clause=None,\n",
       "   feature_type='CATEGORICAL',\n",
       "   data_type='STRING',\n",
       "   columns=None,\n",
       "   point_in_time_info=None),\n",
       " Feature(name='fam_income',\n",
       "   select_clause=None,\n",
       "   feature_mapping=None,\n",
       "   source_table='Individual_Comapny_Sales_Data122',\n",
       "   original_name=None,\n",
       "   using_clause=None,\n",
       "   order_clause=None,\n",
       "   where_clause=None,\n",
       "   feature_type='CATEGORICAL',\n",
       "   data_type='STRING',\n",
       "   columns=None,\n",
       "   point_in_time_info=None)]"
      ]
     },
     "execution_count": 21,
     "metadata": {},
     "output_type": "execute_result"
    }
   ],
   "source": [
    "client.set_feature_mapping(project_id = lead_scoring_project.project_id,feature_group_id= feature_group.feature_group_id, feature_name='lead_id',feature_mapping='LEAD_ID')\n",
    "client.set_feature_mapping(project_id = lead_scoring_project.project_id,feature_group_id= feature_group.feature_group_id, feature_name='flag',feature_mapping='LEAD_SCORE')"
   ]
  },
  {
   "cell_type": "markdown",
   "metadata": {
    "id": "7rHZoeQIQovL"
   },
   "source": [
    "For each required Feature Group Type within the use case, you must assign the Feature group to be used for training the model:"
   ]
  },
  {
   "cell_type": "code",
   "execution_count": null,
   "metadata": {
    "id": "qKydNQXBlFrr"
   },
   "outputs": [],
   "source": [
    "client.use_feature_group_for_training(project_id=lead_scoring_project.project_id, feature_group_id=feature_group.feature_group_id)"
   ]
  },
  {
   "cell_type": "markdown",
   "metadata": {
    "id": "67zIklM0QveG"
   },
   "source": [
    "Now that we've our feature groups assigned, we're almost ready to train a model!\n",
    "\n",
    "To be sure that our project is ready to go, let's call project.validate to confirm that all the project requirements have been met:"
   ]
  },
  {
   "cell_type": "code",
   "execution_count": null,
   "metadata": {
    "colab": {
     "base_uri": "https://localhost:8080/"
    },
    "id": "3ybMZtfli0yO",
    "outputId": "d2bb6ae1-24b9-4efc-ac92-533a52be98da"
   },
   "outputs": [],
   "source": [
    "lead_scoring_project.validate()"
   ]
  },
  {
   "cell_type": "markdown",
   "metadata": {
    "id": "a02-4OQTQtzV"
   },
   "source": [
    "## 4. Train a Model"
   ]
  },
  {
   "cell_type": "markdown",
   "metadata": {
    "id": "8RPMOaQ4Qxbq"
   },
   "source": [
    "For each **Use Case**, Abacus.AI has a bunch of options for training. We can call the *Get Training Config Options* API to see the available options."
   ]
  },
  {
   "cell_type": "code",
   "execution_count": null,
   "metadata": {
    "colab": {
     "base_uri": "https://localhost:8080/"
    },
    "id": "KbMeDubWi2Xd",
    "outputId": "c5ffb4e5-7d81-4c47-dca4-ec4dc91fdca7"
   },
   "outputs": [],
   "source": [
    "lead_scoring_project.get_training_config_options()"
   ]
  },
  {
   "cell_type": "markdown",
   "metadata": {
    "id": "_wEiOwHcQzi7"
   },
   "source": [
    "In this notebook, we'll just train with the default options, but definitely feel free to experiment, especially if you have familiarity with Machine Learning."
   ]
  },
  {
   "cell_type": "code",
   "execution_count": null,
   "metadata": {
    "colab": {
     "base_uri": "https://localhost:8080/"
    },
    "id": "tMoHAfB7i3ov",
    "outputId": "b87e33e4-2e75-465f-d03f-ea08f84b43cc"
   },
   "outputs": [],
   "source": [
    "lead_scoring_model = lead_scoring_project.train_model(training_config={})\n",
    "lead_scoring_model.to_dict()"
   ]
  },
  {
   "cell_type": "markdown",
   "metadata": {
    "id": "3yhVahD_Q1QJ"
   },
   "source": [
    "After we start training the model, we can call this blocking call that routinely checks the status of the model until it is trained and evaluated:"
   ]
  },
  {
   "cell_type": "code",
   "execution_count": null,
   "metadata": {
    "colab": {
     "base_uri": "https://localhost:8080/"
    },
    "id": "xJZiLJs2i9mu",
    "outputId": "836aac6f-cea5-4509-d7f4-ae19a20caec2"
   },
   "outputs": [],
   "source": [
    "lead_scoring_model.wait_for_evaluation()"
   ]
  },
  {
   "cell_type": "markdown",
   "metadata": {
    "id": "XaGq3SdPMMTj"
   },
   "source": [
    "**Note that model training might take some minutes to some hours depending upon the size of datasets, complexity of the models being trained and a variety of other factors**"
   ]
  },
  {
   "cell_type": "markdown",
   "metadata": {
    "id": "UA9fKC2rQ3O8"
   },
   "source": [
    "## **Checkpoint** [Optional]\n",
    "As model training can take an hours to complete, your page could time out or you might end up hitting the refresh button, this section helps you restore your progress:"
   ]
  },
  {
   "cell_type": "code",
   "execution_count": null,
   "metadata": {
    "id": "4hcAo4MuQ7lg"
   },
   "outputs": [],
   "source": [
    "!pip install abacusai\n",
    "import pandas as pd\n",
    "import pprint\n",
    "pp = pprint.PrettyPrinter(indent=2)\n",
    "api_key = ''  #@param {type: \"string\"}\n",
    "from abacusai import ApiClient\n",
    "client = ApiClient(api_key)\n",
    "lead_scoring_project = next(project for project in client.list_projects() if project.name == 'Predictive Lead Scoring Project')\n",
    "lead_scoring_model = lead_scoring_project.list_models()[-1]\n",
    "lead_scoring_model.wait_for_evaluation()"
   ]
  },
  {
   "cell_type": "markdown",
   "metadata": {
    "id": "RSdUH84xREGW"
   },
   "source": [
    "## Evaluate your Model Metrics\n",
    "\n",
    "After your model is done training you can inspect the model's quality by reviewing the model's metrics."
   ]
  },
  {
   "cell_type": "code",
   "execution_count": null,
   "metadata": {
    "colab": {
     "base_uri": "https://localhost:8080/"
    },
    "id": "CTikZzynjkmd",
    "outputId": "b51cd5ca-c8a7-4801-f5ca-9377316d0a64"
   },
   "outputs": [],
   "source": [
    "pp.pprint(lead_scoring_model.get_metrics().to_dict())"
   ]
  },
  {
   "cell_type": "markdown",
   "metadata": {
    "id": "5FPyG7sEQ5Rl"
   },
   "source": [
    "To get a better understanding on what these metrics mean, visit our [documentation](https://abacus.ai/app/help/useCases/SALES_SCORING/training) page."
   ]
  },
  {
   "cell_type": "markdown",
   "metadata": {
    "id": "pbi2d-0-SNVS"
   },
   "source": [
    "## 5. Deploy Model"
   ]
  },
  {
   "cell_type": "markdown",
   "metadata": {
    "id": "IqVUMBY9SOmB"
   },
   "source": [
    "After the model has been trained, we need to deploy the model to be able to start making predictions. Deploying a model will reserve cloud resources to host the model for Realtime and/or batch predictions."
   ]
  },
  {
   "cell_type": "code",
   "execution_count": null,
   "metadata": {
    "colab": {
     "base_uri": "https://localhost:8080/"
    },
    "id": "8b4QapObjltU",
    "outputId": "bb825e8a-093f-4e05-d981-4e71c2a0467d"
   },
   "outputs": [],
   "source": [
    "lead_scoring_deployment = client.create_deployment( name ='Lead Scoring Deployment', model_id=lead_scoring_model.model_id,description='Lead Scoring Deployment')\n",
    "lead_scoring_deployment.wait_for_deployment()"
   ]
  },
  {
   "cell_type": "markdown",
   "metadata": {
    "id": "v3EtPNZ-SV1J"
   },
   "source": [
    "After the model is deployed, we need to create a deployment token for authenticating prediction requests. This token is only authorized to predict on deployments in this project, so it's safe to embed this token inside of a user-facing application or website."
   ]
  },
  {
   "cell_type": "code",
   "execution_count": null,
   "metadata": {
    "colab": {
     "base_uri": "https://localhost:8080/",
     "height": 35
    },
    "id": "fVvVvX45jnGo",
    "outputId": "c64c28b4-af41-44b5-8c27-20e28e68980d"
   },
   "outputs": [],
   "source": [
    "deployment_token = lead_scoring_project.create_deployment_token().deployment_token\n",
    "deployment_token"
   ]
  },
  {
   "cell_type": "markdown",
   "metadata": {
    "id": "zicyhe0ISXlL"
   },
   "source": [
    "## 6. Predict\n"
   ]
  },
  {
   "cell_type": "markdown",
   "metadata": {
    "id": "GMmGUIviSZ1R"
   },
   "source": [
    "Now that you have an active deployment and a deployment token to authenticate requests, you can make the `predict_lead` API call below.\n",
    "\n",
    "This command will return the probability of a user with specified attributes being a lead. The prediction would be perfomed based on information about the leads of users with similar attributes."
   ]
  },
  {
   "cell_type": "code",
   "execution_count": null,
   "metadata": {
    "colab": {
     "base_uri": "https://localhost:8080/"
    },
    "id": "xktIvJATjoFA",
    "outputId": "33f0bfc6-ef36-4a56-9ac5-13d391ec935e"
   },
   "outputs": [],
   "source": [
    "ApiClient().predict_lead(deployment_token=deployment_token,\n",
    "                         deployment_id=lead_scoring_deployment.deployment_id,\n",
    "                         query_data={\"house_val\":329280,\"gender\":\"M\",\"age\":\"4_<=45\",\"online\":\"Y\",\"customer_psy\":\"D\",\"marriage\":\"Single\",\"child\":\"N\",\"occupation\":\"Professional\",\"mortgage\":\"1Low\",\"house_owner\":\"Owner\",\"region\":\"South\",\"car_prob\":\"3\",\"fam_income\":\"E\"})"
   ]
  }
 ],
 "metadata": {
  "colab": {
   "collapsed_sections": [],
   "name": "Copy of Predictive Lead Scoring Notebook.ipynb",
   "provenance": [],
   "toc_visible": true
  },
  "interpreter": {
   "hash": "31f2aee4e71d21fbe5cf8b01ff0e069b9275f58929596ceb00d14d90e3e16cd6"
  },
  "kernelspec": {
   "display_name": "Python 3.8.10 64-bit",
   "name": "python3"
  },
  "language_info": {
   "codemirror_mode": {
    "name": "ipython",
    "version": 3
   },
   "file_extension": ".py",
   "mimetype": "text/x-python",
   "name": "python",
   "nbconvert_exporter": "python",
   "pygments_lexer": "ipython3",
   "version": "3.8.10"
  }
 },
 "nbformat": 4,
 "nbformat_minor": 1
}
