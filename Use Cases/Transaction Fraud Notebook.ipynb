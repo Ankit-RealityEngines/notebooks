{
 "cells": [
  {
   "cell_type": "markdown",
   "metadata": {
    "colab_type": "text",
    "id": "36QBl1x7vdQT"
   },
   "source": [
    "## How-to guide for Transaction Fraud use-case on Abacus.AI platform\n",
    "\n",
    "This notebook provides you with a hands on environment to build a  model using the Abacus.AI Python Client Library.\n",
    "\n",
    "We'll be using the [Credit Card Fraud Transactions Dataset](https://s3.amazonaws.com/realityengines.exampledatasets/fraud_transactions/creditcard.csv), which contains attributes of a transaction made through a given credit card and the class of transaction fraud that took place. We will predict the class of fraud that occurs for a transaction with specified attributes."
   ]
  },
  {
   "cell_type": "markdown",
   "metadata": {
    "colab_type": "text",
    "id": "25VDJQKFxbti"
   },
   "source": [
    "1. Install the Abacus.AI library."
   ]
  },
  {
   "cell_type": "code",
   "execution_count": null,
   "metadata": {
    "colab": {
     "base_uri": "https://localhost:8080/",
     "height": 326
    },
    "colab_type": "code",
    "executionInfo": {
     "elapsed": 6416,
     "status": "ok",
     "timestamp": 1596737942069,
     "user": {
      "displayName": "Ashni Sheth",
      "photoUrl": "https://lh3.googleusercontent.com/a-/AOh14GiJ_2Wmsyck4UcIkioKJ0fnDbXK1T3Ve99O4UfHxvI=s64",
      "userId": "15098545459592232887"
     },
     "user_tz": 420
    },
    "id": "DVksulmJnO_n",
    "outputId": "1ecfa25e-d781-4479-bafe-b657c839aa8c"
   },
   "outputs": [],
   "source": [
    "!pip install abacusai"
   ]
  },
  {
   "cell_type": "markdown",
   "metadata": {
    "colab_type": "text",
    "id": "Y9P6NbNaxkAt"
   },
   "source": [
    "We'll also import pandas and pprint tools for neat visualization in this notebook."
   ]
  },
  {
   "cell_type": "code",
   "execution_count": null,
   "metadata": {
    "colab": {},
    "colab_type": "code",
    "id": "D7QqPII_nvjv"
   },
   "outputs": [],
   "source": [
    "import pandas as pd # A tool we'll use to download and preview CSV files\n",
    "import pprint # A tool to pretty print dictionary outputs\n",
    "pp = pprint.PrettyPrinter(indent=2)"
   ]
  },
  {
   "cell_type": "markdown",
   "metadata": {
    "colab_type": "text",
    "id": "CuU1oAhOxpI8"
   },
   "source": [
    "2. Add your Abacus.AI [API Key](https://abacus.ai/app/profile/apikey) generated using the API dashboard as follows:"
   ]
  },
  {
   "cell_type": "code",
   "execution_count": null,
   "metadata": {
    "colab": {},
    "colab_type": "code",
    "id": "cU5HqoYbnxlh"
   },
   "outputs": [],
   "source": [
    "#@title Abacus.AI API Key\n",
    "\n",
    "api_key = ''  #@param {type: \"string\"}"
   ]
  },
  {
   "cell_type": "markdown",
   "metadata": {
    "colab_type": "text",
    "id": "MenAFoezxvnI"
   },
   "source": [
    "3. Import the Abacus.AI library and instantiate a client"
   ]
  },
  {
   "cell_type": "code",
   "execution_count": null,
   "metadata": {
    "colab": {},
    "colab_type": "code",
    "id": "H8RB3YbKnx7i"
   },
   "outputs": [],
   "source": [
    "from abacusai import ApiClient\n",
    "client = ApiClient(api_key)"
   ]
  },
  {
   "cell_type": "markdown",
   "metadata": {
    "colab_type": "text",
    "id": "QvCc8UMQx3v9"
   },
   "source": [
    "## 1. Create a Project\n",
    "\n",
    "Abacus.AI projects are containers that have datasets and trained models. By specifying a business **Use Case**, Abacus.AI tailors the deep learning algorithms to produce the best performing model possible for your data.\n",
    "\n",
    "We'll call the `list_use_cases` method to retrieve a list of the available Use Cases currently available on the Abacus.AI platform."
   ]
  },
  {
   "cell_type": "code",
   "execution_count": null,
   "metadata": {
    "colab": {
     "base_uri": "https://localhost:8080/",
     "height": 326
    },
    "colab_type": "code",
    "executionInfo": {
     "elapsed": 770,
     "status": "ok",
     "timestamp": 1596737950834,
     "user": {
      "displayName": "Ashni Sheth",
      "photoUrl": "https://lh3.googleusercontent.com/a-/AOh14GiJ_2Wmsyck4UcIkioKJ0fnDbXK1T3Ve99O4UfHxvI=s64",
      "userId": "15098545459592232887"
     },
     "user_tz": 420
    },
    "id": "-z7AF_nknzVm",
    "outputId": "038f20dc-b96c-4353-ac49-da600edb0254"
   },
   "outputs": [],
   "source": [
    "client.list_use_cases()"
   ]
  },
  {
   "cell_type": "markdown",
   "metadata": {
    "colab_type": "text",
    "id": "uSuVCUSnyQvy"
   },
   "source": [
    "For this workshop, we're going to create a fraud prediction model using the Credit Card Transactions dataset. The 'FRAUD_TRANSACTIONS' use case is best tailored for this situation."
   ]
  },
  {
   "cell_type": "code",
   "execution_count": null,
   "metadata": {
    "colab": {},
    "colab_type": "code",
    "id": "2oaFcsLqn0ZK"
   },
   "outputs": [],
   "source": [
    "#@title Abacus.AI Use Case\n",
    "\n",
    "use_case = 'FRAUD_TRANSACTIONS'  #@param {type: \"string\"}"
   ]
  },
  {
   "cell_type": "markdown",
   "metadata": {
    "colab_type": "text",
    "id": "8TZXIyA8z1bZ"
   },
   "source": [
    "By calling the `describe_use_case_requirements` method we can view what datasets are required for this use_case."
   ]
  },
  {
   "cell_type": "code",
   "execution_count": null,
   "metadata": {
    "colab": {
     "base_uri": "https://localhost:8080/",
     "height": 459
    },
    "colab_type": "code",
    "executionInfo": {
     "elapsed": 758,
     "status": "ok",
     "timestamp": 1596737955550,
     "user": {
      "displayName": "Ashni Sheth",
      "photoUrl": "https://lh3.googleusercontent.com/a-/AOh14GiJ_2Wmsyck4UcIkioKJ0fnDbXK1T3Ve99O4UfHxvI=s64",
      "userId": "15098545459592232887"
     },
     "user_tz": 420
    },
    "id": "p9kLFFYTn7Az",
    "outputId": "985094f7-92ee-4c93-874e-33d9719fb5e8"
   },
   "outputs": [],
   "source": [
    "for requirement in client.describe_use_case_requirements(use_case):\n",
    "  pp.pprint(requirement.to_dict())"
   ]
  },
  {
   "cell_type": "markdown",
   "metadata": {
    "colab_type": "text",
    "id": "sD7YOtzaz6vU"
   },
   "source": [
    "Finally, let's create the project."
   ]
  },
  {
   "cell_type": "code",
   "execution_count": null,
   "metadata": {
    "colab": {
     "base_uri": "https://localhost:8080/",
     "height": 85
    },
    "colab_type": "code",
    "executionInfo": {
     "elapsed": 792,
     "status": "ok",
     "timestamp": 1596737958287,
     "user": {
      "displayName": "Ashni Sheth",
      "photoUrl": "https://lh3.googleusercontent.com/a-/AOh14GiJ_2Wmsyck4UcIkioKJ0fnDbXK1T3Ve99O4UfHxvI=s64",
      "userId": "15098545459592232887"
     },
     "user_tz": 420
    },
    "id": "h26aRY9Cn8UJ",
    "outputId": "624fc085-76c7-4096-c5ef-77be058a8be1"
   },
   "outputs": [],
   "source": [
    "fraud_project = client.create_project(name='Credit Card Fraud', use_case=use_case)\n",
    "fraud_project.to_dict()"
   ]
  },
  {
   "cell_type": "markdown",
   "metadata": {
    "colab_type": "text",
    "id": "PmaZ_ME61Cwi"
   },
   "source": [
    "## 2. Add Datasets to your Project\n",
    "\n",
    "Abacus.AI can read datasets directly from `AWS S3` or `Google Cloud Storage` buckets, otherwise you can also directly upload and store your datasets with Abacus.AI. For this workshop, we will have Abacus.AI read the datasets directly from a public S3 bucket's location.\n",
    "\n",
    "We are using one dataset for this notebook. We'll tell Abacus.AI how the dataset should be used when creating it by tagging the dataset with a special Abacus.AI **Dataset Type**.\n",
    "- [Credit Card Fraud Transactions](https://s3.amazonaws.com/realityengines.exampledatasets/fraud_transactions/creditcard.csv) (**TRANSACTIONS**): \n",
    "This dataset contains information about fraud transactions made in the past."
   ]
  },
  {
   "cell_type": "markdown",
   "metadata": {
    "colab_type": "text",
    "id": "ivlmREDM1jF2"
   },
   "source": [
    "### Add the dataset to Abacus.AI\n",
    "\n",
    "First we'll use Pandas to preview the file, then add it to Abacus.AI."
   ]
  },
  {
   "cell_type": "code",
   "execution_count": null,
   "metadata": {
    "colab": {
     "base_uri": "https://localhost:8080/",
     "height": 439
    },
    "colab_type": "code",
    "executionInfo": {
     "elapsed": 1330,
     "status": "ok",
     "timestamp": 1596737961580,
     "user": {
      "displayName": "Ashni Sheth",
      "photoUrl": "https://lh3.googleusercontent.com/a-/AOh14GiJ_2Wmsyck4UcIkioKJ0fnDbXK1T3Ve99O4UfHxvI=s64",
      "userId": "15098545459592232887"
     },
     "user_tz": 420
    },
    "id": "wwu11oqHyFMK",
    "outputId": "6faf3518-b450-45f8-b034-5feb18526a8f"
   },
   "outputs": [],
   "source": [
    "pd.read_csv('https://s3.amazonaws.com/realityengines.exampledatasets/fraud_transactions/creditcard.csv')"
   ]
  },
  {
   "cell_type": "markdown",
   "metadata": {
    "colab_type": "text",
    "id": "hLjgvdb31wPS"
   },
   "source": [
    "Using the Create Dataset API, we can tell Abacus.AI the public S3 URI of where to find the datasets. We will also give each dataset a Refresh Schedule, which tells Abacus.AI when it should refresh the dataset (take an updated/latest copy of the dataset).\n",
    "\n",
    "If you're unfamiliar with Cron Syntax, Crontab Guru can help translate the syntax back into natural language: [https://crontab.guru/#0_12_\\*_\\*_\\*](https://crontab.guru/#0_12_*_*_*)\n",
    "\n",
    "**Note: This cron string will be evaluated in UTC time zone**"
   ]
  },
  {
   "cell_type": "code",
   "execution_count": null,
   "metadata": {
    "colab": {},
    "colab_type": "code",
    "id": "Zbnyhge1yH18"
   },
   "outputs": [],
   "source": [
    "# Add the dataset to Abacus.AI\n",
    "fraud_dataset = client.create_dataset('Credit Card Fraud Transactions', \n",
    "                                     location='s3://realityengines.exampledatasets/fraud_transactions/creditcard.csv',\n",
    "                                     project_id=fraud_project.project_id, \n",
    "                                     dataset_type='TRANSACTIONS',\n",
    "                                     refresh_schedule='0 12 * * *')\n",
    "datasets = [fraud_dataset]"
   ]
  },
  {
   "cell_type": "markdown",
   "metadata": {
    "colab_type": "text",
    "id": "joPAeS0x15G0"
   },
   "source": [
    "### Check dataset processing status and get dataset schemas when processing finishes"
   ]
  },
  {
   "cell_type": "code",
   "execution_count": null,
   "metadata": {
    "colab": {
     "base_uri": "https://localhost:8080/",
     "height": 561
    },
    "colab_type": "code",
    "executionInfo": {
     "elapsed": 134206,
     "status": "ok",
     "timestamp": 1596738100299,
     "user": {
      "displayName": "Ashni Sheth",
      "photoUrl": "https://lh3.googleusercontent.com/a-/AOh14GiJ_2Wmsyck4UcIkioKJ0fnDbXK1T3Ve99O4UfHxvI=s64",
      "userId": "15098545459592232887"
     },
     "user_tz": 420
    },
    "id": "i021iKk1yKhV",
    "outputId": "cc465ca8-830f-4572-f061-fcac5ed9a1ab"
   },
   "outputs": [],
   "source": [
    "for dataset in datasets:\n",
    "    dataset.wait_for_inspection()\n",
    "    print(f'{dataset.name} Schema:')\n",
    "    pp.pprint(client.get_schema(fraud_project.project_id, dataset.dataset_id))"
   ]
  },
  {
   "cell_type": "markdown",
   "metadata": {
    "colab_type": "text",
    "id": "NEM8rQacsIec"
   },
   "source": [
    "Each column in a **Dataset** gets a **Column Data Type**.\n",
    "All we need to do now is to tell Abacus.AI what field we want to predict from our **Dataset**.\n",
    "\n",
    "For each **Dataset Type** in a **Use Case**, there are special **Column Mappings** that can be applied to a column. We can find the list of available **Column Mappings** by calling the *Describe Use Case Requirements* API."
   ]
  },
  {
   "cell_type": "code",
   "execution_count": null,
   "metadata": {
    "colab": {
     "base_uri": "https://localhost:8080/",
     "height": 139
    },
    "colab_type": "code",
    "executionInfo": {
     "elapsed": 522,
     "status": "ok",
     "timestamp": 1596738101295,
     "user": {
      "displayName": "Ashni Sheth",
      "photoUrl": "https://lh3.googleusercontent.com/a-/AOh14GiJ_2Wmsyck4UcIkioKJ0fnDbXK1T3Ve99O4UfHxvI=s64",
      "userId": "15098545459592232887"
     },
     "user_tz": 420
    },
    "id": "dvxohu9GoC9s",
    "outputId": "ce0bb2db-939e-473e-b698-dd6b9965785d"
   },
   "outputs": [],
   "source": [
    "client.describe_use_case_requirements(use_case)[0].allowed_column_mappings"
   ]
  },
  {
   "cell_type": "markdown",
   "metadata": {
    "colab_type": "text",
    "id": "fNqTc5v7sR8j"
   },
   "source": [
    "We would map the *Class* column as **TARGET**.\n",
    "\n",
    "The result of this call will be the updated schema after the **Column Mapping** is applied."
   ]
  },
  {
   "cell_type": "code",
   "execution_count": null,
   "metadata": {
    "colab": {
     "base_uri": "https://localhost:8080/",
     "height": 544
    },
    "colab_type": "code",
    "executionInfo": {
     "elapsed": 648,
     "status": "ok",
     "timestamp": 1596738118725,
     "user": {
      "displayName": "Ashni Sheth",
      "photoUrl": "https://lh3.googleusercontent.com/a-/AOh14GiJ_2Wmsyck4UcIkioKJ0fnDbXK1T3Ve99O4UfHxvI=s64",
      "userId": "15098545459592232887"
     },
     "user_tz": 420
    },
    "id": "uHx4lEJApksS",
    "outputId": "0d0fa805-1d9a-4511-fbf5-c26b52088726"
   },
   "outputs": [],
   "source": [
    "client.set_column_mapping(project_id=fraud_project.project_id, dataset_id=fraud_dataset.dataset_id,\n",
    "                          column='Class', column_mapping='TARGET')"
   ]
  },
  {
   "cell_type": "markdown",
   "metadata": {
    "colab_type": "text",
    "id": "s4zJ4dD1sWjc"
   },
   "source": [
    "## 3. Train a Model"
   ]
  },
  {
   "cell_type": "markdown",
   "metadata": {
    "colab_type": "text",
    "id": "qHyyJ9Wmsmsj"
   },
   "source": [
    "Now that we've uploaded the datasets, we're almost ready to train a model!\n",
    "\n",
    "To be sure that our project is ready to go, let's call `project.validate` to confirm that all the project requirements have been met."
   ]
  },
  {
   "cell_type": "code",
   "execution_count": null,
   "metadata": {
    "colab": {
     "base_uri": "https://localhost:8080/",
     "height": 34
    },
    "colab_type": "code",
    "executionInfo": {
     "elapsed": 652,
     "status": "ok",
     "timestamp": 1596738122070,
     "user": {
      "displayName": "Ashni Sheth",
      "photoUrl": "https://lh3.googleusercontent.com/a-/AOh14GiJ_2Wmsyck4UcIkioKJ0fnDbXK1T3Ve99O4UfHxvI=s64",
      "userId": "15098545459592232887"
     },
     "user_tz": 420
    },
    "id": "H6xJbgRcoETn",
    "outputId": "2dac9567-5480-47f2-fb11-9296e296b87d"
   },
   "outputs": [],
   "source": [
    "fraud_project.validate()"
   ]
  },
  {
   "cell_type": "markdown",
   "metadata": {
    "colab_type": "text",
    "id": "8mZ32i0OsprC"
   },
   "source": [
    "For each **Use Case**, Abacus.AI has a bunch of options for training. We can call the *Get Training Config Options* API to see the available options."
   ]
  },
  {
   "cell_type": "code",
   "execution_count": null,
   "metadata": {
    "colab": {
     "base_uri": "https://localhost:8080/",
     "height": 88
    },
    "colab_type": "code",
    "executionInfo": {
     "elapsed": 481,
     "status": "ok",
     "timestamp": 1596738125426,
     "user": {
      "displayName": "Ashni Sheth",
      "photoUrl": "https://lh3.googleusercontent.com/a-/AOh14GiJ_2Wmsyck4UcIkioKJ0fnDbXK1T3Ve99O4UfHxvI=s64",
      "userId": "15098545459592232887"
     },
     "user_tz": 420
    },
    "id": "dQ0h9AKKoFf-",
    "outputId": "e340b2c1-9f6b-44a4-ffe2-c9d9fb1afa8b"
   },
   "outputs": [],
   "source": [
    "fraud_project.get_training_config_options()"
   ]
  },
  {
   "cell_type": "markdown",
   "metadata": {
    "colab_type": "text",
    "id": "FzBf8crhsxB0"
   },
   "source": [
    "In this notebook, we'll just train with the default options, but definitely feel free to experiment, especially if you have familiarity with Machine Learning."
   ]
  },
  {
   "cell_type": "code",
   "execution_count": null,
   "metadata": {
    "colab": {
     "base_uri": "https://localhost:8080/",
     "height": 255
    },
    "colab_type": "code",
    "executionInfo": {
     "elapsed": 824,
     "status": "ok",
     "timestamp": 1596738129177,
     "user": {
      "displayName": "Ashni Sheth",
      "photoUrl": "https://lh3.googleusercontent.com/a-/AOh14GiJ_2Wmsyck4UcIkioKJ0fnDbXK1T3Ve99O4UfHxvI=s64",
      "userId": "15098545459592232887"
     },
     "user_tz": 420
    },
    "id": "5LUXTTvKoGwt",
    "outputId": "f4524bd5-2e57-431e-883d-39b118765d40"
   },
   "outputs": [],
   "source": [
    "fraud_model = fraud_project.train_model(training_config={})\n",
    "fraud_model.to_dict()"
   ]
  },
  {
   "cell_type": "markdown",
   "metadata": {
    "colab_type": "text",
    "id": "_lSL30yms6SP"
   },
   "source": [
    "After we start training the model, we can call this blocking call that routinely checks the status of the model until it is trained and evaluated:"
   ]
  },
  {
   "cell_type": "code",
   "execution_count": null,
   "metadata": {
    "colab": {
     "base_uri": "https://localhost:8080/",
     "height": 54
    },
    "colab_type": "code",
    "executionInfo": {
     "elapsed": 1079606,
     "status": "ok",
     "timestamp": 1596740259059,
     "user": {
      "displayName": "Ashni Sheth",
      "photoUrl": "https://lh3.googleusercontent.com/a-/AOh14GiJ_2Wmsyck4UcIkioKJ0fnDbXK1T3Ve99O4UfHxvI=s64",
      "userId": "15098545459592232887"
     },
     "user_tz": 420
    },
    "id": "IK1fw2aNoI4i",
    "outputId": "e47bc5bd-6974-429a-ba05-0eaed3f7a4ec"
   },
   "outputs": [],
   "source": [
    "fraud_model.wait_for_evaluation()"
   ]
  },
  {
   "cell_type": "markdown",
   "metadata": {
    "colab_type": "text",
    "id": "xzmH9_Qvs-bY"
   },
   "source": [
    "## **(Checkpoint)**\n",
    "Training can take an hour or two to complete, but we encourage you to run the remaining calls on your own time. If your page times out or you hit refresh, you can restore your progress in this section."
   ]
  },
  {
   "cell_type": "code",
   "execution_count": null,
   "metadata": {
    "colab": {},
    "colab_type": "code",
    "id": "RlVf0fZgtDbN"
   },
   "outputs": [],
   "source": [
    "!pip install abacusai\n",
    "import pandas as pd\n",
    "import pprint\n",
    "pp = pprint.PrettyPrinter(indent=2)\n",
    "api_key = ''  #@param {type: \"string\"}\n",
    "from abacusai import ApiClient\n",
    "client = ApiClient(api_key)\n",
    "fraud_project = next(project for project in client.list_projects() if project.name == 'Credit Card Fraud Transactions')\n",
    "fraud_model = fraud_project.list_models()[-1]\n",
    "fraud_model.wait_for_evaluation()"
   ]
  },
  {
   "cell_type": "markdown",
   "metadata": {
    "colab_type": "text",
    "id": "lQcbadWltWsJ"
   },
   "source": [
    "## Evaluate your Model Metrics\n",
    "\n",
    "After your model is done training you can inspect the model's quality by reviewing the model's metrics\n"
   ]
  },
  {
   "cell_type": "code",
   "execution_count": null,
   "metadata": {
    "colab": {
     "base_uri": "https://localhost:8080/",
     "height": 289
    },
    "colab_type": "code",
    "executionInfo": {
     "elapsed": 766,
     "status": "ok",
     "timestamp": 1596742259516,
     "user": {
      "displayName": "Ashni Sheth",
      "photoUrl": "https://lh3.googleusercontent.com/a-/AOh14GiJ_2Wmsyck4UcIkioKJ0fnDbXK1T3Ve99O4UfHxvI=s64",
      "userId": "15098545459592232887"
     },
     "user_tz": 420
    },
    "id": "KOa3ct8doKe4",
    "outputId": "12dcd17c-d83b-4504-98d1-237aa4e2b146"
   },
   "outputs": [],
   "source": [
    "pp.pprint(fraud_model.get_metrics().to_dict())"
   ]
  },
  {
   "cell_type": "markdown",
   "metadata": {
    "colab_type": "text",
    "id": "JCG6cwhetZ2g"
   },
   "source": [
    "To get a better understanding on what these metrics mean, visit our [documentation](https://abacus.ai/app/help/useCases/FRAUD_ACCOUNT/training) page."
   ]
  },
  {
   "cell_type": "markdown",
   "metadata": {
    "colab_type": "text",
    "id": "Y8YGFS-SwOdh"
   },
   "source": [
    "## 4. Deploy Model"
   ]
  },
  {
   "cell_type": "markdown",
   "metadata": {
    "colab_type": "text",
    "id": "mNP84bjDwPEw"
   },
   "source": [
    "After the model has been trained, we need to deploy the model to be able to start making predictions. Deploying a model will reserve cloud resources to host the model for Realtime and/or batch predictions."
   ]
  },
  {
   "cell_type": "code",
   "execution_count": null,
   "metadata": {
    "colab": {
     "base_uri": "https://localhost:8080/",
     "height": 54
    },
    "colab_type": "code",
    "executionInfo": {
     "elapsed": 49717,
     "status": "ok",
     "timestamp": 1596742311153,
     "user": {
      "displayName": "Ashni Sheth",
      "photoUrl": "https://lh3.googleusercontent.com/a-/AOh14GiJ_2Wmsyck4UcIkioKJ0fnDbXK1T3Ve99O4UfHxvI=s64",
      "userId": "15098545459592232887"
     },
     "user_tz": 420
    },
    "id": "G7xdUZvXoLm-",
    "outputId": "4b585395-a704-4acf-ae6b-d8aa5e39223d"
   },
   "outputs": [],
   "source": [
    "fraud_deployment = fraud_model.create_deployment('Credit Card Fraud Deployment')\n",
    "fraud_deployment.wait_for_deployment()"
   ]
  },
  {
   "cell_type": "markdown",
   "metadata": {
    "colab_type": "text",
    "id": "qVcCSqF1wWBO"
   },
   "source": [
    "After the model is deployed, we need to create a deployment token for authenticating prediction requests. This token is only authorized to predict on deployments in this project, so it's safe to embed this token inside of a user-facing application or website. \n"
   ]
  },
  {
   "cell_type": "code",
   "execution_count": null,
   "metadata": {
    "colab": {
     "base_uri": "https://localhost:8080/",
     "height": 35
    },
    "colab_type": "code",
    "executionInfo": {
     "elapsed": 740,
     "status": "ok",
     "timestamp": 1596742334841,
     "user": {
      "displayName": "Ashni Sheth",
      "photoUrl": "https://lh3.googleusercontent.com/a-/AOh14GiJ_2Wmsyck4UcIkioKJ0fnDbXK1T3Ve99O4UfHxvI=s64",
      "userId": "15098545459592232887"
     },
     "user_tz": 420
    },
    "id": "iZxSaipooMWu",
    "outputId": "6be84622-e6d7-43c1-c651-8099b69ddf8c"
   },
   "outputs": [],
   "source": [
    "deployment_token = fraud_project.create_deployment_token().deployment_token\n",
    "deployment_token"
   ]
  },
  {
   "cell_type": "markdown",
   "metadata": {
    "colab_type": "text",
    "id": "-7oKzllSwYyw"
   },
   "source": [
    "## 5. Predict\n"
   ]
  },
  {
   "cell_type": "markdown",
   "metadata": {
    "colab_type": "text",
    "id": "jkgSiD_owZYW"
   },
   "source": [
    "Now that you have an active deployment and a deployment token to authenticate requests, you can call the `predict_fraud` command below.\n",
    "\n",
    "This command will return the probability of a transaction being of each class of fraud. The prediction would be perfomed based on previous transaction frauds for credit credit cards with similar IDs.\n"
   ]
  },
  {
   "cell_type": "code",
   "execution_count": null,
   "metadata": {
    "colab": {
     "base_uri": "https://localhost:8080/",
     "height": 34
    },
    "colab_type": "code",
    "executionInfo": {
     "elapsed": 1380,
     "status": "ok",
     "timestamp": 1596742337705,
     "user": {
      "displayName": "Ashni Sheth",
      "photoUrl": "https://lh3.googleusercontent.com/a-/AOh14GiJ_2Wmsyck4UcIkioKJ0fnDbXK1T3Ve99O4UfHxvI=s64",
      "userId": "15098545459592232887"
     },
     "user_tz": 420
    },
    "id": "uEaCdSSroOKE",
    "outputId": "949fe962-77b2-4d74-86e0-7b885a0b6303"
   },
   "outputs": [],
   "source": [
    "ApiClient().predict_fraud(deployment_token=deployment_token, \n",
    "               deployment_id=fraud_deployment.deployment_id, \n",
    "               query_data={\"Time\":37569,\"V1\":-1.9863495,\"V2\":1.6931525,\"V3\":0.6006504,\"V4\":0.33007008,\"V5\":0.6902556,\"V6\":0.20807104,\"V7\":1.169273,\"V8\":-0.7722932})"
   ]
  }
 ],
 "metadata": {
  "colab": {
   "collapsed_sections": [],
   "name": "Transaction Fraud Notebook.ipynb",
   "provenance": [],
   "toc_visible": true
  },
  "kernelspec": {
   "display_name": "Python 3",
   "name": "python3"
  }
 },
 "nbformat": 4,
 "nbformat_minor": 0
}
