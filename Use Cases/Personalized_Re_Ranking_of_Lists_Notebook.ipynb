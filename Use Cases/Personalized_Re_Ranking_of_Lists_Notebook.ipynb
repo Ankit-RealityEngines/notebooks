{
 "cells": [
  {
   "cell_type": "markdown",
   "metadata": {
    "id": "EHSfCXVoeUD0"
   },
   "source": [
    "## How-to guide for Personalized Re-Ranking of Lists use-case on Abacus.AI platform\n",
    "This notebook provides you with a hands on environment to build a model that provides a personalized re-ranking of a list according to your data using the Abacus.AI Python Client Library.\n",
    "\n",
    "We'll be using the [User Item Recommendations](https://s3.amazonaws.com//realityengines.exampledatasets/user_recommendations/user_movie_ratings.csv), [Movie Attributes](https://s3.amazonaws.com//realityengines.exampledatasets/user_recommendations/movies_metadata.csv), and [User Attributes](https://s3.amazonaws.com//realityengines.exampledatasets/user_recommendations/users_metadata.csv) datasets in this notebook as an example. "
   ]
  },
  {
   "cell_type": "markdown",
   "metadata": {
    "id": "V1RiZTmrfGZG"
   },
   "source": [
    "1. Install the Abacus.AI library."
   ]
  },
  {
   "cell_type": "code",
   "execution_count": null,
   "metadata": {
    "colab": {
     "base_uri": "https://localhost:8080/"
    },
    "id": "byGW8eZpz7gs",
    "outputId": "0666940a-ad30-441c-cc89-7138cd5c0512"
   },
   "outputs": [],
   "source": [
    "!pip install abacusai"
   ]
  },
  {
   "cell_type": "markdown",
   "metadata": {
    "id": "oIfoJXVwfIYk"
   },
   "source": [
    "We'll also import pandas and pprint tools for neat visualization in this notebook."
   ]
  },
  {
   "cell_type": "code",
   "execution_count": 1,
   "metadata": {
    "id": "-6bFhtIK0BXz"
   },
   "outputs": [],
   "source": [
    "import pandas as pd # A tool we'll use to download and preview CSV files\n",
    "import pprint # A tool to pretty print dictionary outputs\n",
    "pp = pprint.PrettyPrinter(indent=2)"
   ]
  },
  {
   "cell_type": "markdown",
   "metadata": {
    "id": "nYdAcbWffI6u"
   },
   "source": [
    "2. Add your Abacus.AI [API Key](https://abacus.ai/app/profile/apikey) generated using the API dashboard as follows:"
   ]
  },
  {
   "cell_type": "code",
   "execution_count": 2,
   "metadata": {
    "id": "OZ31qQsvtrUX"
   },
   "outputs": [],
   "source": [
    "#@title Abacus.AI API Key\n",
    "\n",
    "api_key = '2fdecde877dc45fab937eff82b70eff0'  #@param {type: \"string\"}"
   ]
  },
  {
   "cell_type": "markdown",
   "metadata": {
    "id": "oT1voX51fWPV"
   },
   "source": [
    "3. Import the Abacus.AI library and instantiate a client."
   ]
  },
  {
   "cell_type": "code",
   "execution_count": 3,
   "metadata": {
    "colab": {
     "base_uri": "https://localhost:8080/"
    },
    "id": "568Ukjm60DNb",
    "outputId": "9fa8f88c-ca5b-41ca-bfa7-f0ca05b16127"
   },
   "outputs": [],
   "source": [
    "from abacusai import ApiClient\n",
    "client = ApiClient(api_key)"
   ]
  },
  {
   "cell_type": "markdown",
   "metadata": {
    "id": "fiYJ7C6dfXko"
   },
   "source": [
    "## 1. Create a Project\n",
    "\n",
    "Abacus.AI projects are containers that have datasets and trained models. By specifying a business **Use Case**, Abacus.AI tailors the deep learning algorithms to produce the best performing model catered specifically for your data.\n",
    "\n",
    "We'll call the `list_use_cases` method to retrieve a list of the Use Cases currently available on the Abacus.AI platform."
   ]
  },
  {
   "cell_type": "code",
   "execution_count": 4,
   "metadata": {
    "colab": {
     "base_uri": "https://localhost:8080/"
    },
    "id": "CIbkqkfp0EXy",
    "outputId": "b6b48adf-d9b6-4849-bc0b-bf406d49687e"
   },
   "outputs": [
    {
     "data": {
      "text/plain": [
       "[UseCase(use_case='UCPLUGANDPLAY',\n",
       "   pretty_name='Plug & Play Your Tensorflow Model',\n",
       "   description='Upload your already trained model and leverage our model serving infrastructure.. Host your models on our infrastructure and get a JSON api with auto scaling and more!'),\n",
       " UseCase(use_case='EMBEDDINGS_ONLY',\n",
       "   pretty_name='Vector Matching Engine',\n",
       "   description='Upload embeddings and leverage our similarity search infrastructure.. Scale to high traffic, update your index in near realtime'),\n",
       " UseCase(use_case='MODEL_WITH_EMBEDDINGS',\n",
       "   pretty_name='Tensorflow Model With Vector Matching Engine',\n",
       "   description='Upload your already trained model and leverage our model serving infrastructure.. Host your models on our infrastructure and get a JSON api with auto scaling and more!'),\n",
       " UseCase(use_case='TORCH_MODEL_WITH_EMBEDDINGS',\n",
       "   pretty_name='PyTorch Model With Vector Matching Engine',\n",
       "   description='Upload your already trained model and leverage our model serving infrastructure.. Host your models on our infrastructure and get a JSON api with auto scaling and more!'),\n",
       " UseCase(use_case='PYTHON_MODEL',\n",
       "   pretty_name='Custom Python Model',\n",
       "   description='Upload your training code and let Abacus.AI handle training. Host your models on our infrastructure and get a JSON api with auto scaling and more!'),\n",
       " UseCase(use_case='DOCKER_MODEL',\n",
       "   pretty_name='Plug & Play Your Dockerized Model',\n",
       "   description='Upload your already trained model and leverage our model serving infrastructure.. Host your models on our infrastructure and get a JSON api with auto scaling and more!'),\n",
       " UseCase(use_case='DOCKER_MODEL_WITH_EMBEDDINGS',\n",
       "   pretty_name='Plug & Play Your Dockerized Model with Vector Matching Engine',\n",
       "   description='Upload your already trained model and leverage our model serving infrastructure.. Host your models on our infrastructure and get a JSON api with auto scaling and more!'),\n",
       " UseCase(use_case='CUSTOMER_CHURN',\n",
       "   pretty_name='Customer Churn Prediction',\n",
       "   description='Identify customers who are most likely to churn out of your system and send them marketing promotions/emails to retain them. Deploy a real-time deep learning model that identifies customers who are most likely to leave and increase retention.'),\n",
       " UseCase(use_case='ENERGY',\n",
       "   pretty_name='Real-Time Forecasting',\n",
       "   description='Accurately forecast energy or computation usage in real-time. Make downstream planning decisions based on your predictions. We use generative modeling (GANs) to augment your dataset with synthetic data. This unique approach allows us to make accurate predictions in real-time, even when you have little historical data.'),\n",
       " UseCase(use_case='FINANCIAL_METRICS',\n",
       "   pretty_name='Financial Metrics Forecasting',\n",
       "   description='Accurately plan your cash flow, revenue, and sales with state-of-the-art deep learning-based forecasting. We use generative modeling (GANs) to augment your dataset with synthetic data. This unique approach allows us to make accurate predictions, even when you have little historical data.'),\n",
       " UseCase(use_case='FRAUD_ACCOUNT',\n",
       "   pretty_name='Account Takeover and Defense',\n",
       "   description=\"Shield your customers from account takeovers by blocking bots and fake sign-ups. Behind the scenes, our AI engine will develop a custom deep learning model to prevent bot attacks and stops account takeovers in real-time. Setup is super simple and doesn't require any engineering or cumbersome data preparation.\"),\n",
       " UseCase(use_case='FRAUD_THREAT',\n",
       "   pretty_name='Intelligent Threat Detection',\n",
       "   description=\"Stop breachers in their tracks by continuously monitoring your environment for malicious activity. Prevent alert fatigue by reducing the number of false positives over time. Behind the scenes, our AI engine develops a deep learning model customized for your data to continuously monitors all your logs and alerts you of any malicious activity. Setup is super simple and doesn't require any ML expertise.\"),\n",
       " UseCase(use_case='FRAUD_TRANSACTIONS',\n",
       "   pretty_name='Transaction/Credit Card Fraud',\n",
       "   description=\"Accept payments with confidence, reduce chargebacks, and catch payment fraud instantly as it happens. Behind the scenes, our AI engine develops a custom deep learning model for you that prevents transaction fraud and catches fraudsters in real-time. Set up is super simple and doesn't require any engineering and cumbersome data preparation.\"),\n",
       " UseCase(use_case='OPERATIONS_CLOUD',\n",
       "   pretty_name='Cloud Spend Alerts',\n",
       "   description='Deploy state-of-the-art deep learning models to monitor your cloud spend, spot anomalies, spot runaway incidents, mitigate cost incidents, and get alerts so they can be remedied as quickly as possible. Use deep learning to find anomalies in your cloud usage and get alerts on them to mitigate cost incidents.'),\n",
       " UseCase(use_case='CLOUD_SPEND',\n",
       "   pretty_name='Cloud Spend Alerts',\n",
       "   description='Deploy state-of-the-art deep learning models to monitor your cloud spend, spot anomalies, spot runaway incidents, mitigate cost incidents, and get alerts so they can be remedied as quickly as possible. Use deep learning to find anomalies in your cloud usage and get alerts on them to mitigate cost incidents.'),\n",
       " UseCase(use_case='TIMESERIES_ANOMALY_DETECTION',\n",
       "   pretty_name='Timeseries Anomaly Detection',\n",
       "   description='Spot anomalies in your time series data by using deep learning models to increase revenue, save costs and reduce risks. With Abacus.AI you can set up state of the art deep learning models for time series anomaly detection within hours. These models adjust in real time and spot both simple one dimensional and complex multidimensional anomalies. Our models also help you find the root cause of the anomalies. No cumbersome data preparation or engineering effort to deploy the models in production are required.'),\n",
       " UseCase(use_case='OPERATIONS_MAINTENANCE',\n",
       "   pretty_name='Predictive Maintenance',\n",
       "   description='Leverage deep learning models to proactively assess the health of your assets and perform timely maintenance to reduce downtime and save costs. With Abacus.ai you can set up state of the art deep learning models for predictive maintenance within hours. These models learn from your past failures as well as spot anomalies that can lead to new failures. No cumbersome data preparation or engineering effort to deploy the models in production is required.'),\n",
       " UseCase(use_case='PERS_PROMOTIONS',\n",
       "   pretty_name='Personalized Promotions',\n",
       "   description='Send personalized promotions to your customers and increase engagement. Personalize promotions based on catalog items, marketing messages, delivery channels, and discount terms. Deploy a real-time deep learning model that targets relevant promotions to customers and increases engagement. No cumbersome data preparation required and setup is super easy.'),\n",
       " UseCase(use_case='PREDICTING',\n",
       "   pretty_name='Predictive Modeling',\n",
       "   description='Use historical data to predict future occurrences. Train state-of-the-art predictive models customized specifically according to your data and deploy it in production in hours, not months!. You can create a deep learning model for your specific needs simply by pointing us to your data and specifying the inputs/outputs. Our expert AI engine will do the data cleaning and processing, algorithm selection (classification or regression), and model creation. You will be ready to generate intelligent predictions from the deployed model in production in just a few hours.'),\n",
       " UseCase(use_case='RETAIL',\n",
       "   pretty_name='Demand Forecasting',\n",
       "   description='Accurately forecast retail demand. We use generative modeling (GANs) to augment your dataset with synthetic data. This allows us to make accurate predictions even when you have little historical data.'),\n",
       " UseCase(use_case='SALES_FORECASTING',\n",
       "   pretty_name='Sales and Revenue Forecasting',\n",
       "   description='Forecast sales and revenue across your sales reps, products, business units, and locations. Use deep learning to forecast your sales across multiple dimensions. Make better planning discussions and anticipate future problems so you can mitigate them.'),\n",
       " UseCase(use_case='SALES_SCORING',\n",
       "   pretty_name='Predictive Lead Scoring',\n",
       "   description='Identify the sales leads that are most likely to convert into paying customers and increase revenue. Just point our AI engine to your data, and it will create a deep learning model customized for your data to score all your leads and identify the best ones for conversion.'),\n",
       " UseCase(use_case='USER_RANKINGS',\n",
       "   pretty_name='Personalized Search',\n",
       "   description='Re-rank search results or list of items based on a user preferences. Maximize user engagement and revenue. Our unique blend of reinforcement learning and deep learning-based technology works even when you have little historical data and have to deal with a fast-changing catalog or multiple new users.'),\n",
       " UseCase(use_case='NAMED_ENTITY_RECOGNITION',\n",
       "   pretty_name='Text extraction and classification',\n",
       "   description='Find and label fields within text documents such as emails, chats, receipts, invoices or any other unstructured data set. With Abacus.AI you can set up state of the art deep learning models for text extraction and classification within hours. Based on your specific domain and use-case, Abacus.AI can fine-tune pre-trained models, apply transfer learning or simply train new language models from scratch.  No cumbersome data preparation or engineering effort to deploy the models in production are required.'),\n",
       " UseCase(use_case='USER_RECOMMENDATIONS',\n",
       "   pretty_name='Personalized Recommendations',\n",
       "   description='Increase user engagement and revenue with personalized recommendations on your app/website. Our unique blend of reinforcement learning and deep learning-based technology works even when you have little historical data and have to deal with a fast-changing catalog or multiple new users.'),\n",
       " UseCase(use_case='USER_RELATED',\n",
       "   pretty_name='Related Items',\n",
       "   description='Maximize revenue and user engagement. Immerse your customers into your app/website by providing them with a rich browse and related items experience. Our unique blend of reinforcement learning and deep learning-based technology works even when you have little historical data and have to deal with a fast-changing catalog or multiple new users.'),\n",
       " UseCase(use_case='VISION',\n",
       "   pretty_name='Image Classification & Detection',\n",
       "   description='Train an image classification & detection model specific to your domain and use it to classify and detect relevant objects. With Abacus.AI you can set up state of the art deep learning models for Image classification & detection within hours. Based on your specific domain and use-case, Abacus.AI can fine-tune pre-trained models, apply transfer learning or simply train new vision models from scratch. No cumbersome data preparation or engineering effort to deploy the models in production are required.')]"
      ]
     },
     "execution_count": 4,
     "metadata": {},
     "output_type": "execute_result"
    }
   ],
   "source": [
    "client.list_use_cases()"
   ]
  },
  {
   "cell_type": "markdown",
   "metadata": {
    "id": "j0kBH0I1fZQw"
   },
   "source": [
    "In this notebook, we're going to create a model that provides a personalized re-ranking of an input list based on User-Item Interactions, User Attributes, and Item Attributes. The 'USER_RANKINGS' use case is best tailored for this situation. For the purpose of taking an example, we will use the IMDB movie dataset that has movie metadata, user metadata, and user-movie ratings."
   ]
  },
  {
   "cell_type": "code",
   "execution_count": 5,
   "metadata": {
    "id": "iynQW6Qf0HbH"
   },
   "outputs": [],
   "source": [
    "#@title Abacus.AI Use Case\n",
    "\n",
    "use_case = 'USER_RANKINGS'  #@param {type: \"string\"}"
   ]
  },
  {
   "cell_type": "markdown",
   "metadata": {
    "id": "E40EobHhfgGd"
   },
   "source": [
    "By calling the `describe_use_case_requirements` method we can view what datasets are required for this use_case."
   ]
  },
  {
   "cell_type": "code",
   "execution_count": 6,
   "metadata": {
    "colab": {
     "base_uri": "https://localhost:8080/"
    },
    "id": "YhY7weCu0LHP",
    "outputId": "1d90b99a-655d-49e0-f233-f03d148dc6c0"
   },
   "outputs": [
    {
     "name": "stdout",
     "output_type": "stream",
     "text": [
      "{ 'allowed_feature_mappings': { 'ACTION_TYPE': { 'allowed_feature_types': [ 'CATEGORICAL'],\n",
      "                                                 'description': 'This is an '\n",
      "                                                                'optional '\n",
      "                                                                'column and '\n",
      "                                                                'specifies the '\n",
      "                                                                'type of '\n",
      "                                                                'action the '\n",
      "                                                                'user took. '\n",
      "                                                                'This could '\n",
      "                                                                'include any '\n",
      "                                                                'action that '\n",
      "                                                                'is specific '\n",
      "                                                                'to you (e.g., '\n",
      "                                                                'view, click, '\n",
      "                                                                'purchase, '\n",
      "                                                                'rating, '\n",
      "                                                                'comment, '\n",
      "                                                                'like, etc). '\n",
      "                                                                'You can '\n",
      "                                                                'always upload '\n",
      "                                                                'a dataset '\n",
      "                                                                'that has no '\n",
      "                                                                'action_type '\n",
      "                                                                'column if all '\n",
      "                                                                'the actions '\n",
      "                                                                'in the '\n",
      "                                                                'dataset are '\n",
      "                                                                'the same '\n",
      "                                                                '(e.g., a '\n",
      "                                                                'dataset of '\n",
      "                                                                'only '\n",
      "                                                                'purchases or '\n",
      "                                                                'clicks).',\n",
      "                                                 'required': False},\n",
      "                                'ACTION_WEIGHT': { 'allowed_feature_types': [ 'NUMERICAL'],\n",
      "                                                   'description': 'This is an '\n",
      "                                                                  'optional '\n",
      "                                                                  'column that '\n",
      "                                                                  'specifies '\n",
      "                                                                  'the weight '\n",
      "                                                                  'of the '\n",
      "                                                                  'action '\n",
      "                                                                  '(e.g., '\n",
      "                                                                  'video watch '\n",
      "                                                                  'time, price '\n",
      "                                                                  'of item '\n",
      "                                                                  'purchased). '\n",
      "                                                                  'This is '\n",
      "                                                                  'used to '\n",
      "                                                                  'optimize '\n",
      "                                                                  'the the '\n",
      "                                                                  'model to '\n",
      "                                                                  'maximize '\n",
      "                                                                  'actions '\n",
      "                                                                  'with this '\n",
      "                                                                  'value.',\n",
      "                                                   'required': False},\n",
      "                                'IGNORE': { 'description': 'Ignore this column '\n",
      "                                                           'in training',\n",
      "                                            'multiple': True,\n",
      "                                            'required': False},\n",
      "                                'ITEM_ID': { 'allowed_feature_types': [ 'CATEGORICAL'],\n",
      "                                             'description': 'This is the '\n",
      "                                                            'unique identifier '\n",
      "                                                            'of each item in '\n",
      "                                                            'your catalog. '\n",
      "                                                            'This is typically '\n",
      "                                                            'your product id, '\n",
      "                                                            'article id, or '\n",
      "                                                            'the video id.',\n",
      "                                             'required': True},\n",
      "                                'TIMESTAMP': { 'allowed_feature_types': [ 'TIMESTAMP'],\n",
      "                                               'description': 'The timestamp '\n",
      "                                                              'when a '\n",
      "                                                              'particular '\n",
      "                                                              'action '\n",
      "                                                              'occurred.',\n",
      "                                               'required': False},\n",
      "                                'USER_ID': { 'allowed_feature_types': [ 'CATEGORICAL'],\n",
      "                                             'description': 'This is a unique '\n",
      "                                                            'identifier of '\n",
      "                                                            'each user in your '\n",
      "                                                            'user base.',\n",
      "                                             'required': True}},\n",
      "  'allowed_nested_feature_mappings': None,\n",
      "  'dataset_type': 'USER_ITEM_INTERACTIONS',\n",
      "  'description': 'This dataset corresponds to all the user-item interactions '\n",
      "                 'on your website or application. For example, all the actions '\n",
      "                 '(e.g. click, purchase, view) taken by a particular user on a '\n",
      "                 'particular item (e.g product, video. article) recorded as a '\n",
      "                 'time-based log.',\n",
      "  'name': 'User-Item Interactions',\n",
      "  'required': True}\n",
      "{ 'allowed_feature_mappings': { 'IGNORE': { 'description': 'Ignore this column '\n",
      "                                                           'in training',\n",
      "                                            'multiple': True,\n",
      "                                            'required': False},\n",
      "                                'ITEM_ID': { 'allowed_feature_types': [ 'CATEGORICAL'],\n",
      "                                             'description': 'The unique '\n",
      "                                                            'identifier for '\n",
      "                                                            'the catalog item. '\n",
      "                                                            'For example, this '\n",
      "                                                            'could be product '\n",
      "                                                            'id, article id or '\n",
      "                                                            'video id.',\n",
      "                                             'required': True}},\n",
      "  'allowed_nested_feature_mappings': None,\n",
      "  'dataset_type': 'CATALOG_ATTRIBUTES',\n",
      "  'description': 'This dataset corresponds to all the information you have in '\n",
      "                 'your catalog. If you want to recommend actions instead of '\n",
      "                 'items to users, you can upload an action catalog.',\n",
      "  'name': 'Catalog Attributes',\n",
      "  'required': None}\n",
      "{ 'allowed_feature_mappings': { 'IGNORE': { 'description': 'Ignore this column '\n",
      "                                                           'in training',\n",
      "                                            'multiple': True,\n",
      "                                            'required': False},\n",
      "                                'USER_ID': { 'allowed_feature_types': [ 'CATEGORICAL'],\n",
      "                                             'description': 'The unique '\n",
      "                                                            'identifier for '\n",
      "                                                            'the user.',\n",
      "                                             'required': True}},\n",
      "  'allowed_nested_feature_mappings': None,\n",
      "  'dataset_type': 'USER_ATTRIBUTES',\n",
      "  'description': 'This dataset corresponds to all the attributes or meta-data '\n",
      "                 'that you have about your user. Any user profile information '\n",
      "                 'will be relevant here.',\n",
      "  'name': 'User Attributes',\n",
      "  'required': None}\n"
     ]
    }
   ],
   "source": [
    "for requirement in client.describe_use_case_requirements(use_case):\n",
    "  pp.pprint(requirement.to_dict())"
   ]
  },
  {
   "cell_type": "markdown",
   "metadata": {
    "id": "6aPuWKYMfhp0"
   },
   "source": [
    "Finally, let's create the project."
   ]
  },
  {
   "cell_type": "code",
   "execution_count": 7,
   "metadata": {
    "colab": {
     "base_uri": "https://localhost:8080/"
    },
    "id": "JFvg6AW20MKR",
    "outputId": "fac69a71-5e9a-4f73-88d2-08b0c30b913a"
   },
   "outputs": [
    {
     "data": {
      "text/plain": [
       "{'project_id': '25df6edf2',\n",
       " 'name': 'Re-Ranked Movies',\n",
       " 'use_case': 'USER_RANKINGS',\n",
       " 'created_at': '2021-11-24T19:27:51+00:00',\n",
       " 'feature_groups_enabled': True}"
      ]
     },
     "execution_count": 7,
     "metadata": {},
     "output_type": "execute_result"
    }
   ],
   "source": [
    "reranking_project = client.create_project(name='Re-Ranked Movies', use_case=use_case)\n",
    "reranking_project.to_dict()"
   ]
  },
  {
   "cell_type": "markdown",
   "metadata": {
    "id": "Zf8Fy1eaNasn"
   },
   "source": [
    "**Note: When feature_groups_enabled is False then the use case does not support feature groups (collection of ML features). Therefore, Datasets are created at the organization level and tied to a project to further use them for training ML models**"
   ]
  },
  {
   "cell_type": "markdown",
   "metadata": {
    "id": "Ne5LSDKmfjLY"
   },
   "source": [
    "## 2. Add Datasets to your Project\n",
    "\n",
    "Abacus.AI can read datasets directly from `AWS S3` or `Google Cloud Storage` buckets, otherwise you can also directly upload and store your datasets with Abacus.AI. For this notebook, we will have Abacus.AI read the datasets directly from a public S3 bucket's location.\n",
    "\n",
    "We are using three datasets for this notebook. We'll tell Abacus.AI how the datasets should be used when creating it by tagging each dataset with a special Abacus.AI **Dataset Type**.\n",
    "- [User Item Recommendations](https://s3.amazonaws.com//realityengines.exampledatasets/user_recommendations/user_movie_ratings.csv) (**USER_ITEM_INTERACTIONS**): \n",
    "This dataset contains information about multiple users' ratings of movies with specified IDs.\n",
    "- [Movie Attributes](https://s3.amazonaws.com//realityengines.exampledatasets/user_recommendations/movies_metadata.csv) (**CATALOG_ATTRIBUTES**): This dataset contains attributes about movies with specified IDs, such as each movie's name and genre.\n",
    "- [User Attributes](https://s3.amazonaws.com//realityengines.exampledatasets/user_recommendations/users_metadata.csv) (**USER_ATTRIBUTES**): This dataset contains information about users with specified IDs, such as their age, gender, occupation, and zip code. "
   ]
  },
  {
   "cell_type": "markdown",
   "metadata": {
    "id": "i4fBLEtifmsq"
   },
   "source": [
    "### Add the datasets to Abacus.AI\n",
    "\n",
    "First we'll use Pandas to preview the files, then add them to Abacus.AI platform."
   ]
  },
  {
   "cell_type": "code",
   "execution_count": 8,
   "metadata": {
    "colab": {
     "base_uri": "https://localhost:8080/",
     "height": 417
    },
    "id": "hvxYGd5o0NdW",
    "outputId": "f61fe747-8d80-41e5-a537-4315d5ab2cf0"
   },
   "outputs": [
    {
     "data": {
      "text/html": [
       "<div>\n",
       "<style scoped>\n",
       "    .dataframe tbody tr th:only-of-type {\n",
       "        vertical-align: middle;\n",
       "    }\n",
       "\n",
       "    .dataframe tbody tr th {\n",
       "        vertical-align: top;\n",
       "    }\n",
       "\n",
       "    .dataframe thead th {\n",
       "        text-align: right;\n",
       "    }\n",
       "</style>\n",
       "<table border=\"1\" class=\"dataframe\">\n",
       "  <thead>\n",
       "    <tr style=\"text-align: right;\">\n",
       "      <th></th>\n",
       "      <th>user_id</th>\n",
       "      <th>movie_id</th>\n",
       "      <th>rating</th>\n",
       "      <th>timestamp</th>\n",
       "    </tr>\n",
       "  </thead>\n",
       "  <tbody>\n",
       "    <tr>\n",
       "      <th>0</th>\n",
       "      <td>1</td>\n",
       "      <td>1193</td>\n",
       "      <td>5</td>\n",
       "      <td>978300760</td>\n",
       "    </tr>\n",
       "    <tr>\n",
       "      <th>1</th>\n",
       "      <td>1</td>\n",
       "      <td>3408</td>\n",
       "      <td>4</td>\n",
       "      <td>978300275</td>\n",
       "    </tr>\n",
       "    <tr>\n",
       "      <th>2</th>\n",
       "      <td>1</td>\n",
       "      <td>2355</td>\n",
       "      <td>5</td>\n",
       "      <td>978824291</td>\n",
       "    </tr>\n",
       "    <tr>\n",
       "      <th>3</th>\n",
       "      <td>1</td>\n",
       "      <td>1287</td>\n",
       "      <td>5</td>\n",
       "      <td>978302039</td>\n",
       "    </tr>\n",
       "    <tr>\n",
       "      <th>4</th>\n",
       "      <td>1</td>\n",
       "      <td>2804</td>\n",
       "      <td>5</td>\n",
       "      <td>978300719</td>\n",
       "    </tr>\n",
       "    <tr>\n",
       "      <th>...</th>\n",
       "      <td>...</td>\n",
       "      <td>...</td>\n",
       "      <td>...</td>\n",
       "      <td>...</td>\n",
       "    </tr>\n",
       "    <tr>\n",
       "      <th>575276</th>\n",
       "      <td>6040</td>\n",
       "      <td>1089</td>\n",
       "      <td>4</td>\n",
       "      <td>956704996</td>\n",
       "    </tr>\n",
       "    <tr>\n",
       "      <th>575277</th>\n",
       "      <td>6040</td>\n",
       "      <td>1094</td>\n",
       "      <td>5</td>\n",
       "      <td>956704887</td>\n",
       "    </tr>\n",
       "    <tr>\n",
       "      <th>575278</th>\n",
       "      <td>6040</td>\n",
       "      <td>562</td>\n",
       "      <td>5</td>\n",
       "      <td>956704746</td>\n",
       "    </tr>\n",
       "    <tr>\n",
       "      <th>575279</th>\n",
       "      <td>6040</td>\n",
       "      <td>1096</td>\n",
       "      <td>4</td>\n",
       "      <td>956715648</td>\n",
       "    </tr>\n",
       "    <tr>\n",
       "      <th>575280</th>\n",
       "      <td>6040</td>\n",
       "      <td>1097</td>\n",
       "      <td>4</td>\n",
       "      <td>956715569</td>\n",
       "    </tr>\n",
       "  </tbody>\n",
       "</table>\n",
       "<p>575281 rows × 4 columns</p>\n",
       "</div>"
      ],
      "text/plain": [
       "        user_id  movie_id  rating  timestamp\n",
       "0             1      1193       5  978300760\n",
       "1             1      3408       4  978300275\n",
       "2             1      2355       5  978824291\n",
       "3             1      1287       5  978302039\n",
       "4             1      2804       5  978300719\n",
       "...         ...       ...     ...        ...\n",
       "575276     6040      1089       4  956704996\n",
       "575277     6040      1094       5  956704887\n",
       "575278     6040       562       5  956704746\n",
       "575279     6040      1096       4  956715648\n",
       "575280     6040      1097       4  956715569\n",
       "\n",
       "[575281 rows x 4 columns]"
      ]
     },
     "execution_count": 8,
     "metadata": {},
     "output_type": "execute_result"
    }
   ],
   "source": [
    "pd.read_csv('https://s3.amazonaws.com//realityengines.exampledatasets/user_recommendations/user_movie_ratings.csv')"
   ]
  },
  {
   "cell_type": "code",
   "execution_count": 9,
   "metadata": {
    "colab": {
     "base_uri": "https://localhost:8080/",
     "height": 417
    },
    "id": "4GWiRN8J0gV1",
    "outputId": "1d9ad40c-db79-4326-cadf-a0e87b89831b"
   },
   "outputs": [
    {
     "data": {
      "text/html": [
       "<div>\n",
       "<style scoped>\n",
       "    .dataframe tbody tr th:only-of-type {\n",
       "        vertical-align: middle;\n",
       "    }\n",
       "\n",
       "    .dataframe tbody tr th {\n",
       "        vertical-align: top;\n",
       "    }\n",
       "\n",
       "    .dataframe thead th {\n",
       "        text-align: right;\n",
       "    }\n",
       "</style>\n",
       "<table border=\"1\" class=\"dataframe\">\n",
       "  <thead>\n",
       "    <tr style=\"text-align: right;\">\n",
       "      <th></th>\n",
       "      <th>movie_id</th>\n",
       "      <th>movie</th>\n",
       "      <th>genres</th>\n",
       "    </tr>\n",
       "  </thead>\n",
       "  <tbody>\n",
       "    <tr>\n",
       "      <th>0</th>\n",
       "      <td>1</td>\n",
       "      <td>Toy Story (1995)</td>\n",
       "      <td>Animation|Children's|Comedy</td>\n",
       "    </tr>\n",
       "    <tr>\n",
       "      <th>1</th>\n",
       "      <td>2</td>\n",
       "      <td>Jumanji (1995)</td>\n",
       "      <td>Adventure|Children's|Fantasy</td>\n",
       "    </tr>\n",
       "    <tr>\n",
       "      <th>2</th>\n",
       "      <td>3</td>\n",
       "      <td>Grumpier Old Men (1995)</td>\n",
       "      <td>Comedy|Romance</td>\n",
       "    </tr>\n",
       "    <tr>\n",
       "      <th>3</th>\n",
       "      <td>4</td>\n",
       "      <td>Waiting to Exhale (1995)</td>\n",
       "      <td>Comedy|Drama</td>\n",
       "    </tr>\n",
       "    <tr>\n",
       "      <th>4</th>\n",
       "      <td>5</td>\n",
       "      <td>Father of the Bride Part II (1995)</td>\n",
       "      <td>Comedy</td>\n",
       "    </tr>\n",
       "    <tr>\n",
       "      <th>...</th>\n",
       "      <td>...</td>\n",
       "      <td>...</td>\n",
       "      <td>...</td>\n",
       "    </tr>\n",
       "    <tr>\n",
       "      <th>3878</th>\n",
       "      <td>3948</td>\n",
       "      <td>Meet the Parents (2000)</td>\n",
       "      <td>Comedy</td>\n",
       "    </tr>\n",
       "    <tr>\n",
       "      <th>3879</th>\n",
       "      <td>3949</td>\n",
       "      <td>Requiem for a Dream (2000)</td>\n",
       "      <td>Drama</td>\n",
       "    </tr>\n",
       "    <tr>\n",
       "      <th>3880</th>\n",
       "      <td>3950</td>\n",
       "      <td>Tigerland (2000)</td>\n",
       "      <td>Drama</td>\n",
       "    </tr>\n",
       "    <tr>\n",
       "      <th>3881</th>\n",
       "      <td>3951</td>\n",
       "      <td>Two Family House (2000)</td>\n",
       "      <td>Drama</td>\n",
       "    </tr>\n",
       "    <tr>\n",
       "      <th>3882</th>\n",
       "      <td>3952</td>\n",
       "      <td>Contender, The (2000)</td>\n",
       "      <td>Drama|Thriller</td>\n",
       "    </tr>\n",
       "  </tbody>\n",
       "</table>\n",
       "<p>3883 rows × 3 columns</p>\n",
       "</div>"
      ],
      "text/plain": [
       "      movie_id                               movie  \\\n",
       "0            1                    Toy Story (1995)   \n",
       "1            2                      Jumanji (1995)   \n",
       "2            3             Grumpier Old Men (1995)   \n",
       "3            4            Waiting to Exhale (1995)   \n",
       "4            5  Father of the Bride Part II (1995)   \n",
       "...        ...                                 ...   \n",
       "3878      3948             Meet the Parents (2000)   \n",
       "3879      3949          Requiem for a Dream (2000)   \n",
       "3880      3950                    Tigerland (2000)   \n",
       "3881      3951             Two Family House (2000)   \n",
       "3882      3952               Contender, The (2000)   \n",
       "\n",
       "                            genres  \n",
       "0      Animation|Children's|Comedy  \n",
       "1     Adventure|Children's|Fantasy  \n",
       "2                   Comedy|Romance  \n",
       "3                     Comedy|Drama  \n",
       "4                           Comedy  \n",
       "...                            ...  \n",
       "3878                        Comedy  \n",
       "3879                         Drama  \n",
       "3880                         Drama  \n",
       "3881                         Drama  \n",
       "3882                Drama|Thriller  \n",
       "\n",
       "[3883 rows x 3 columns]"
      ]
     },
     "execution_count": 9,
     "metadata": {},
     "output_type": "execute_result"
    }
   ],
   "source": [
    "pd.read_csv('https://s3.amazonaws.com//realityengines.exampledatasets/user_recommendations/movies_metadata.csv')"
   ]
  },
  {
   "cell_type": "code",
   "execution_count": 10,
   "metadata": {
    "colab": {
     "base_uri": "https://localhost:8080/",
     "height": 417
    },
    "id": "jxMNEFlg0gpW",
    "outputId": "c64fc0db-b26a-4cbb-bf74-1dfb8a8938de"
   },
   "outputs": [
    {
     "data": {
      "text/html": [
       "<div>\n",
       "<style scoped>\n",
       "    .dataframe tbody tr th:only-of-type {\n",
       "        vertical-align: middle;\n",
       "    }\n",
       "\n",
       "    .dataframe tbody tr th {\n",
       "        vertical-align: top;\n",
       "    }\n",
       "\n",
       "    .dataframe thead th {\n",
       "        text-align: right;\n",
       "    }\n",
       "</style>\n",
       "<table border=\"1\" class=\"dataframe\">\n",
       "  <thead>\n",
       "    <tr style=\"text-align: right;\">\n",
       "      <th></th>\n",
       "      <th>user_id</th>\n",
       "      <th>gender</th>\n",
       "      <th>age</th>\n",
       "      <th>occupation</th>\n",
       "      <th>zip_code</th>\n",
       "    </tr>\n",
       "  </thead>\n",
       "  <tbody>\n",
       "    <tr>\n",
       "      <th>0</th>\n",
       "      <td>1</td>\n",
       "      <td>F</td>\n",
       "      <td>Under 18</td>\n",
       "      <td>K-12 student</td>\n",
       "      <td>48067</td>\n",
       "    </tr>\n",
       "    <tr>\n",
       "      <th>1</th>\n",
       "      <td>2</td>\n",
       "      <td>M</td>\n",
       "      <td>56+</td>\n",
       "      <td>self-employed</td>\n",
       "      <td>70072</td>\n",
       "    </tr>\n",
       "    <tr>\n",
       "      <th>2</th>\n",
       "      <td>3</td>\n",
       "      <td>M</td>\n",
       "      <td>25-34</td>\n",
       "      <td>scientist</td>\n",
       "      <td>55117</td>\n",
       "    </tr>\n",
       "    <tr>\n",
       "      <th>3</th>\n",
       "      <td>4</td>\n",
       "      <td>M</td>\n",
       "      <td>45-49</td>\n",
       "      <td>executive/managerial</td>\n",
       "      <td>02460</td>\n",
       "    </tr>\n",
       "    <tr>\n",
       "      <th>4</th>\n",
       "      <td>5</td>\n",
       "      <td>M</td>\n",
       "      <td>25-34</td>\n",
       "      <td>writer</td>\n",
       "      <td>55455</td>\n",
       "    </tr>\n",
       "    <tr>\n",
       "      <th>...</th>\n",
       "      <td>...</td>\n",
       "      <td>...</td>\n",
       "      <td>...</td>\n",
       "      <td>...</td>\n",
       "      <td>...</td>\n",
       "    </tr>\n",
       "    <tr>\n",
       "      <th>6035</th>\n",
       "      <td>6036</td>\n",
       "      <td>F</td>\n",
       "      <td>25-34</td>\n",
       "      <td>scientist</td>\n",
       "      <td>32603</td>\n",
       "    </tr>\n",
       "    <tr>\n",
       "      <th>6036</th>\n",
       "      <td>6037</td>\n",
       "      <td>F</td>\n",
       "      <td>45-49</td>\n",
       "      <td>academic/educator</td>\n",
       "      <td>76006</td>\n",
       "    </tr>\n",
       "    <tr>\n",
       "      <th>6037</th>\n",
       "      <td>6038</td>\n",
       "      <td>F</td>\n",
       "      <td>56+</td>\n",
       "      <td>academic/educator</td>\n",
       "      <td>14706</td>\n",
       "    </tr>\n",
       "    <tr>\n",
       "      <th>6038</th>\n",
       "      <td>6039</td>\n",
       "      <td>F</td>\n",
       "      <td>45-49</td>\n",
       "      <td>other</td>\n",
       "      <td>01060</td>\n",
       "    </tr>\n",
       "    <tr>\n",
       "      <th>6039</th>\n",
       "      <td>6040</td>\n",
       "      <td>M</td>\n",
       "      <td>25-34</td>\n",
       "      <td>doctor/health care</td>\n",
       "      <td>11106</td>\n",
       "    </tr>\n",
       "  </tbody>\n",
       "</table>\n",
       "<p>6040 rows × 5 columns</p>\n",
       "</div>"
      ],
      "text/plain": [
       "      user_id gender       age            occupation zip_code\n",
       "0           1      F  Under 18          K-12 student    48067\n",
       "1           2      M       56+         self-employed    70072\n",
       "2           3      M     25-34             scientist    55117\n",
       "3           4      M     45-49  executive/managerial    02460\n",
       "4           5      M     25-34                writer    55455\n",
       "...       ...    ...       ...                   ...      ...\n",
       "6035     6036      F     25-34             scientist    32603\n",
       "6036     6037      F     45-49     academic/educator    76006\n",
       "6037     6038      F       56+     academic/educator    14706\n",
       "6038     6039      F     45-49                 other    01060\n",
       "6039     6040      M     25-34    doctor/health care    11106\n",
       "\n",
       "[6040 rows x 5 columns]"
      ]
     },
     "execution_count": 10,
     "metadata": {},
     "output_type": "execute_result"
    }
   ],
   "source": [
    "pd.read_csv('https://s3.amazonaws.com//realityengines.exampledatasets/user_recommendations/users_metadata.csv')"
   ]
  },
  {
   "cell_type": "markdown",
   "metadata": {
    "id": "JzUn4W0RfoSz"
   },
   "source": [
    "Using the Create Dataset API, we can tell Abacus.AI the public S3 URI of where to find the datasets. We will also give each dataset a Refresh Schedule, which tells Abacus.AI when it should refresh the dataset (take an updated/latest copy of the dataset).\n",
    "\n",
    "If you're unfamiliar with Cron Syntax, Crontab Guru can help translate the syntax back into natural language: [https://crontab.guru/#0_12_\\*_\\*_\\*](https://crontab.guru/#0_12_*_*_*)\n",
    "\n",
    "**Note: This cron string will be evaluated in UTC time zone**"
   ]
  },
  {
   "cell_type": "code",
   "execution_count": 12,
   "metadata": {
    "id": "d0CR4Raz0iTP"
   },
   "outputs": [],
   "source": [
    "user_item_dataset = client.create_dataset_from_file_connector(name='User Item Recommendations19', table_name='User_Item_Recommendations199',\n",
    "                                     location='s3://realityengines.exampledatasets/user_recommendations/user_movie_ratings.csv',\n",
    "                                     refresh_schedule='0 12 * * *')\n",
    "\n",
    "movie_attributes_dataset = client.create_dataset_from_file_connector(name='Movie Attributes19', table_name='Movie_Attributes199',\n",
    "                                     location='s3://realityengines.exampledatasets/user_recommendations/movies_metadata.csv',\n",
    "                                     refresh_schedule='0 12 * * *')\n",
    "\n",
    "user_attributes_dataset = client.create_dataset_from_file_connector(name='User Attributes19', table_name='User_Attributes199',\n",
    "                                     location='s3://realityengines.exampledatasets/user_recommendations/users_metadata.csv',\n",
    "                                     refresh_schedule='0 12 * * *')\n",
    "\n",
    "datasets = [user_item_dataset, movie_attributes_dataset, user_attributes_dataset]"
   ]
  },
  {
   "cell_type": "markdown",
   "metadata": {
    "id": "Ga7LdWNefqKP"
   },
   "source": [
    "## 3. Create Feature Groups and add them to your Project\n",
    "\n",
    "Datasets are created at the organization level and can be used to create feature groups as follows:"
   ]
  },
  {
   "cell_type": "code",
   "execution_count": 13,
   "metadata": {
    "colab": {
     "base_uri": "https://localhost:8080/"
    },
    "id": "HcA36EQK0mnv",
    "outputId": "c30eba0d-2963-49d6-cf17-837d7e67f66e"
   },
   "outputs": [],
   "source": [
    "feature_group = client.create_feature_group(table_name='personalized_re_ranking',sql='SELECT * from User_Item_Recommendations199')"
   ]
  },
  {
   "cell_type": "markdown",
   "metadata": {},
   "source": [
    "Adding Feature Group to the project:"
   ]
  },
  {
   "cell_type": "code",
   "execution_count": 14,
   "metadata": {},
   "outputs": [],
   "source": [
    "client.add_feature_group_to_project(feature_group_id=feature_group.feature_group_id,project_id = reranking_project.project_id)"
   ]
  },
  {
   "cell_type": "markdown",
   "metadata": {},
   "source": [
    "Setting the Feature Group type according to the use case requirements:"
   ]
  },
  {
   "cell_type": "code",
   "execution_count": 15,
   "metadata": {},
   "outputs": [],
   "source": [
    "client.set_feature_group_type(feature_group_id=feature_group.feature_group_id, project_id = reranking_project.project_id, feature_group_type= \"USER_ITEM_INTERACTIONS\")"
   ]
  },
  {
   "cell_type": "markdown",
   "metadata": {},
   "source": [
    "Check current Feature Group schema:"
   ]
  },
  {
   "cell_type": "code",
   "execution_count": 16,
   "metadata": {},
   "outputs": [
    {
     "data": {
      "text/plain": [
       "[Feature(name='user_id',\n",
       "   select_clause=None,\n",
       "   feature_mapping=None,\n",
       "   source_table='User_Item_Recommendations199',\n",
       "   original_name=None,\n",
       "   using_clause=None,\n",
       "   order_clause=None,\n",
       "   where_clause=None,\n",
       "   feature_type='CATEGORICAL',\n",
       "   data_type='STRING',\n",
       "   columns=None,\n",
       "   point_in_time_info=None),\n",
       " Feature(name='movie_id',\n",
       "   select_clause=None,\n",
       "   feature_mapping=None,\n",
       "   source_table='User_Item_Recommendations199',\n",
       "   original_name=None,\n",
       "   using_clause=None,\n",
       "   order_clause=None,\n",
       "   where_clause=None,\n",
       "   feature_type='CATEGORICAL',\n",
       "   data_type='STRING',\n",
       "   columns=None,\n",
       "   point_in_time_info=None),\n",
       " Feature(name='rating',\n",
       "   select_clause=None,\n",
       "   feature_mapping=None,\n",
       "   source_table='User_Item_Recommendations199',\n",
       "   original_name=None,\n",
       "   using_clause=None,\n",
       "   order_clause=None,\n",
       "   where_clause=None,\n",
       "   feature_type='CATEGORICAL',\n",
       "   data_type='STRING',\n",
       "   columns=None,\n",
       "   point_in_time_info=None),\n",
       " Feature(name='timestamp',\n",
       "   select_clause=None,\n",
       "   feature_mapping=None,\n",
       "   source_table='User_Item_Recommendations199',\n",
       "   original_name=None,\n",
       "   using_clause=None,\n",
       "   order_clause=None,\n",
       "   where_clause=None,\n",
       "   feature_type='TIMESTAMP',\n",
       "   data_type='DATETIME',\n",
       "   columns=None,\n",
       "   point_in_time_info=None)]"
      ]
     },
     "execution_count": 16,
     "metadata": {},
     "output_type": "execute_result"
    }
   ],
   "source": [
    "client.get_feature_group_schema(feature_group_id=feature_group.feature_group_id)"
   ]
  },
  {
   "cell_type": "markdown",
   "metadata": {},
   "source": [
    "#### For each **Use Case**, there are special **Column Mappings** that must be applied to a column to fulfill use case requirements. We can find the list of available **Column Mappings** by calling the *Describe Use Case Requirements* API:"
   ]
  },
  {
   "cell_type": "code",
   "execution_count": 17,
   "metadata": {
    "colab": {
     "base_uri": "https://localhost:8080/"
    },
    "id": "pwKzbQOy0ok6",
    "outputId": "46b4be1f-feb6-468f-a3d1-d40cb0567058"
   },
   "outputs": [
    {
     "data": {
      "text/plain": [
       "{'ITEM_ID': {'description': 'This is the unique identifier of each item in your catalog. This is typically your product id, article id, or the video id.',\n",
       "  'allowed_feature_types': ['CATEGORICAL'],\n",
       "  'required': True},\n",
       " 'USER_ID': {'description': 'This is a unique identifier of each user in your user base.',\n",
       "  'allowed_feature_types': ['CATEGORICAL'],\n",
       "  'required': True},\n",
       " 'ACTION_TYPE': {'description': 'This is an optional column and specifies the type of action the user took. This could include any action that is specific to you (e.g., view, click, purchase, rating, comment, like, etc). You can always upload a dataset that has no action_type column if all the actions in the dataset are the same (e.g., a dataset of only purchases or clicks).',\n",
       "  'allowed_feature_types': ['CATEGORICAL'],\n",
       "  'required': False},\n",
       " 'TIMESTAMP': {'description': 'The timestamp when a particular action occurred.',\n",
       "  'allowed_feature_types': ['TIMESTAMP'],\n",
       "  'required': False},\n",
       " 'ACTION_WEIGHT': {'description': 'This is an optional column that specifies the weight of the action (e.g., video watch time, price of item purchased). This is used to optimize the the model to maximize actions with this value.',\n",
       "  'allowed_feature_types': ['NUMERICAL'],\n",
       "  'required': False},\n",
       " 'IGNORE': {'description': 'Ignore this column in training',\n",
       "  'multiple': True,\n",
       "  'required': False}}"
      ]
     },
     "execution_count": 17,
     "metadata": {},
     "output_type": "execute_result"
    }
   ],
   "source": [
    "client.describe_use_case_requirements(use_case)[0].allowed_feature_mappings"
   ]
  },
  {
   "cell_type": "code",
   "execution_count": 18,
   "metadata": {},
   "outputs": [
    {
     "data": {
      "text/plain": [
       "[Feature(name='user_id',\n",
       "   select_clause=None,\n",
       "   feature_mapping='USER_ID',\n",
       "   source_table='User_Item_Recommendations199',\n",
       "   original_name=None,\n",
       "   using_clause=None,\n",
       "   order_clause=None,\n",
       "   where_clause=None,\n",
       "   feature_type='CATEGORICAL',\n",
       "   data_type='STRING',\n",
       "   columns=None,\n",
       "   point_in_time_info=None),\n",
       " Feature(name='movie_id',\n",
       "   select_clause=None,\n",
       "   feature_mapping='ITEM_ID',\n",
       "   source_table='User_Item_Recommendations199',\n",
       "   original_name=None,\n",
       "   using_clause=None,\n",
       "   order_clause=None,\n",
       "   where_clause=None,\n",
       "   feature_type='CATEGORICAL',\n",
       "   data_type='STRING',\n",
       "   columns=None,\n",
       "   point_in_time_info=None),\n",
       " Feature(name='rating',\n",
       "   select_clause=None,\n",
       "   feature_mapping=None,\n",
       "   source_table='User_Item_Recommendations199',\n",
       "   original_name=None,\n",
       "   using_clause=None,\n",
       "   order_clause=None,\n",
       "   where_clause=None,\n",
       "   feature_type='CATEGORICAL',\n",
       "   data_type='STRING',\n",
       "   columns=None,\n",
       "   point_in_time_info=None),\n",
       " Feature(name='timestamp',\n",
       "   select_clause=None,\n",
       "   feature_mapping='TIMESTAMP',\n",
       "   source_table='User_Item_Recommendations199',\n",
       "   original_name=None,\n",
       "   using_clause=None,\n",
       "   order_clause=None,\n",
       "   where_clause=None,\n",
       "   feature_type='TIMESTAMP',\n",
       "   data_type='DATETIME',\n",
       "   columns=None,\n",
       "   point_in_time_info=None)]"
      ]
     },
     "execution_count": 18,
     "metadata": {},
     "output_type": "execute_result"
    }
   ],
   "source": [
    "client.set_feature_mapping(project_id = reranking_project.project_id,feature_group_id= feature_group.feature_group_id, feature_name='movie_id',feature_mapping='ITEM_ID')\n",
    "client.set_feature_mapping(project_id = reranking_project.project_id,feature_group_id= feature_group.feature_group_id, feature_name='user_id',feature_mapping='USER_ID')\n",
    "client.set_feature_mapping(project_id = reranking_project.project_id,feature_group_id= feature_group.feature_group_id, feature_name='timestamp',feature_mapping='TIMESTAMP')"
   ]
  },
  {
   "cell_type": "markdown",
   "metadata": {},
   "source": [
    "For each required Feature Group Type within the use case, you must assign the Feature group to be used for training the model:"
   ]
  },
  {
   "cell_type": "code",
   "execution_count": 20,
   "metadata": {},
   "outputs": [],
   "source": [
    "client.use_feature_group_for_training(project_id=reranking_project.project_id, feature_group_id=feature_group.feature_group_id)"
   ]
  },
  {
   "cell_type": "markdown",
   "metadata": {},
   "source": [
    "Now that we've our feature groups assigned, we're almost ready to train a model!\n",
    "\n",
    "To be sure that our project is ready to go, let's call project.validate to confirm that all the project requirements have been met:"
   ]
  },
  {
   "cell_type": "code",
   "execution_count": 21,
   "metadata": {
    "colab": {
     "base_uri": "https://localhost:8080/"
    },
    "id": "TbvMw1-a0rAD",
    "outputId": "0fdc612f-a807-489a-a674-92df4a8ce5a4"
   },
   "outputs": [
    {
     "data": {
      "text/plain": [
       "ProjectValidation(valid=True,\n",
       "  dataset_errors=[],\n",
       "  column_hints={})"
      ]
     },
     "execution_count": 21,
     "metadata": {},
     "output_type": "execute_result"
    }
   ],
   "source": [
    "reranking_project.validate()"
   ]
  },
  {
   "cell_type": "markdown",
   "metadata": {
    "id": "-fglg0h0fv1J"
   },
   "source": [
    "## 4. Train a Model"
   ]
  },
  {
   "cell_type": "markdown",
   "metadata": {
    "id": "_44j4tlafyVh"
   },
   "source": [
    "For each **Use Case**, Abacus.AI has a bunch of options for training. We can call the *Get Training Config Options* API to see the available options."
   ]
  },
  {
   "cell_type": "code",
   "execution_count": 22,
   "metadata": {
    "colab": {
     "base_uri": "https://localhost:8080/"
    },
    "id": "6pyLgPWG0sE-",
    "outputId": "f4b8a5bb-2acf-47bc-f743-d329b0346f01"
   },
   "outputs": [
    {
     "data": {
      "text/plain": [
       "[TrainingConfigOptions(name='TEST_SPLIT',\n",
       "   data_type='INTEGER',\n",
       "   value_type=None,\n",
       "   value_options=None,\n",
       "   value=None,\n",
       "   default=None,\n",
       "   options={'range': [5, 20]},\n",
       "   description='Percent of dataset to use for test data. We support using a range between 6% to 20% of your dataset to use as test data.',\n",
       "   required=None,\n",
       "   last_model_value=None),\n",
       " TrainingConfigOptions(name='DROPOUT_RATE',\n",
       "   data_type='INTEGER',\n",
       "   value_type=None,\n",
       "   value_options=None,\n",
       "   value=None,\n",
       "   default=None,\n",
       "   options={'range': [0, 90]},\n",
       "   description='Dropout percentage rate.',\n",
       "   required=None,\n",
       "   last_model_value=None),\n",
       " TrainingConfigOptions(name='BATCH_SIZE',\n",
       "   data_type='ENUM',\n",
       "   value_type=None,\n",
       "   value_options=None,\n",
       "   value=None,\n",
       "   default=None,\n",
       "   options={'values': [8, 16, 32, 64, 128, 256, 384, 512, 740, 1024]},\n",
       "   description='Batch size.',\n",
       "   required=None,\n",
       "   last_model_value=None),\n",
       " TrainingConfigOptions(name='SKIP_HISTORY_FILTERING',\n",
       "   data_type='BOOLEAN',\n",
       "   value_type=None,\n",
       "   value_options=None,\n",
       "   value=None,\n",
       "   default=False,\n",
       "   options=None,\n",
       "   description='Do not remove items which have past interactions from recommendations.',\n",
       "   required=None,\n",
       "   last_model_value=None),\n",
       " TrainingConfigOptions(name='MAX_HISTORY_LENGTH',\n",
       "   data_type='INTEGER',\n",
       "   value_type=None,\n",
       "   value_options=None,\n",
       "   value=None,\n",
       "   default=None,\n",
       "   options={'range': [0, 200]},\n",
       "   description='Maximum length of user-item history to include user in training examples.',\n",
       "   required=None,\n",
       "   last_model_value=None),\n",
       " TrainingConfigOptions(name='USE_ITEM_ATTRIBUTE_BUCKETING',\n",
       "   data_type='BOOLEAN',\n",
       "   value_type=None,\n",
       "   value_options=None,\n",
       "   value=None,\n",
       "   default=None,\n",
       "   options=None,\n",
       "   description='Prefer recommending items which have attribute similarity. Useful when we have natural item categories which are related, like e-commerce categories.',\n",
       "   required=None,\n",
       "   last_model_value=None),\n",
       " TrainingConfigOptions(name='UNORDERED_HISTORY',\n",
       "   data_type='BOOLEAN',\n",
       "   value_type=None,\n",
       "   value_options=None,\n",
       "   value=None,\n",
       "   default=False,\n",
       "   options=None,\n",
       "   description='Order of user item interactions is not important.',\n",
       "   required=None,\n",
       "   last_model_value=None),\n",
       " TrainingConfigOptions(name='MAX_USER_HISTORY_LEN_PERCENTILE',\n",
       "   data_type='INTEGER',\n",
       "   value_type=None,\n",
       "   value_options=None,\n",
       "   value=None,\n",
       "   default=None,\n",
       "   options={'range': [95, 100]},\n",
       "   description='Filter out users with history length above this percentile.',\n",
       "   required=None,\n",
       "   last_model_value=None),\n",
       " TrainingConfigOptions(name='DOWNSAMPLE_ITEM_POPULARITY_PERCENTILE',\n",
       "   data_type='DECIMAL',\n",
       "   value_type=None,\n",
       "   value_options=None,\n",
       "   value=None,\n",
       "   default=None,\n",
       "   options={'range': [0.1, 1.0]},\n",
       "   description='Downsample items more popular than this percentile.',\n",
       "   required=None,\n",
       "   last_model_value=None),\n",
       " TrainingConfigOptions(name='RECENT_DAYS_FOR_TRAINING',\n",
       "   data_type='INTEGER',\n",
       "   value_type=None,\n",
       "   value_options=None,\n",
       "   value=None,\n",
       "   default=None,\n",
       "   options={'range': [1, 1000]},\n",
       "   description='Limit training data to a certain latest number of days.',\n",
       "   required=None,\n",
       "   last_model_value=None),\n",
       " TrainingConfigOptions(name='TRAINING_START_DATE',\n",
       "   data_type='DATETIME',\n",
       "   value_type=None,\n",
       "   value_options=None,\n",
       "   value=None,\n",
       "   default=None,\n",
       "   options=None,\n",
       "   description='Only consider training interaction data after this date. Specified in the timezone of the dataset.',\n",
       "   required=None,\n",
       "   last_model_value=None),\n",
       " TrainingConfigOptions(name='TEST_ON_USER_SPLIT',\n",
       "   data_type='BOOLEAN',\n",
       "   value_type=None,\n",
       "   value_options=None,\n",
       "   value=None,\n",
       "   default=False,\n",
       "   options=None,\n",
       "   description='Use user splits instead of using time splits, when validating and testing the model.',\n",
       "   required=None,\n",
       "   last_model_value=None),\n",
       " TrainingConfigOptions(name='TRAINING_CANDIDATE_ITEMS_LIMIT',\n",
       "   data_type='INTEGER',\n",
       "   value_type=None,\n",
       "   value_options=None,\n",
       "   value=None,\n",
       "   default=None,\n",
       "   options={'range': [1000, 150000]},\n",
       "   description='Limit training data to these many \"best performing\" items. We use target events and weights to calculate it',\n",
       "   required=None,\n",
       "   last_model_value=None),\n",
       " TrainingConfigOptions(name='MIN_INTERACTIONS',\n",
       "   data_type='INTEGER',\n",
       "   value_type=None,\n",
       "   value_options=None,\n",
       "   value=None,\n",
       "   default=None,\n",
       "   options={'range': [0, 10000]},\n",
       "   description='Select candidate items with at least this many interactions.',\n",
       "   required=None,\n",
       "   last_model_value=None),\n",
       " TrainingConfigOptions(name='MIN_TARGET_INTERACTIONS',\n",
       "   data_type='INTEGER',\n",
       "   value_type=None,\n",
       "   value_options=None,\n",
       "   value=None,\n",
       "   default=None,\n",
       "   options={'range': [0, 10000]},\n",
       "   description='Select candidate items with at least this many target interactions.',\n",
       "   required=None,\n",
       "   last_model_value=None),\n",
       " TrainingConfigOptions(name='CANDIDATE_SELECTION_TARGET_RATE_SCORING',\n",
       "   data_type='BOOLEAN',\n",
       "   value_type=None,\n",
       "   value_options=None,\n",
       "   value=None,\n",
       "   default=False,\n",
       "   options=None,\n",
       "   description='Use the rate of target events to select the candidates instead of the total score. Use this to make sure new items are considered in the selection',\n",
       "   required=None,\n",
       "   last_model_value=None),\n",
       " TrainingConfigOptions(name='CANDIDATE_SELECTION_MAX_OTHER_EVENT_RATE',\n",
       "   data_type='DECIMAL',\n",
       "   value_type=None,\n",
       "   value_options=None,\n",
       "   value=None,\n",
       "   default=None,\n",
       "   options=None,\n",
       "   description='To prevent selecting outliers, cap the rate of target events (which are not part of session events) for candidate items to not exceed this value',\n",
       "   required=None,\n",
       "   last_model_value=None),\n",
       " TrainingConfigOptions(name='SEARCH_QUERY_COLUMN',\n",
       "   data_type='ENUM',\n",
       "   value_type=None,\n",
       "   value_options=None,\n",
       "   value=None,\n",
       "   default=None,\n",
       "   options={'values': ['rating']},\n",
       "   description='Column which specifies a search query term that will be used for personalization.',\n",
       "   required=None,\n",
       "   last_model_value=None),\n",
       " TrainingConfigOptions(name='EXPLORE_LOOKBACK_HOURS',\n",
       "   data_type='DECIMAL',\n",
       "   value_type=None,\n",
       "   value_options=None,\n",
       "   value=None,\n",
       "   default=None,\n",
       "   options={'range': [1, 168]},\n",
       "   description='Number of hours since creation time that an item is eligiblefor explore fraction.',\n",
       "   required=None,\n",
       "   last_model_value=None)]"
      ]
     },
     "execution_count": 22,
     "metadata": {},
     "output_type": "execute_result"
    }
   ],
   "source": [
    "reranking_project.get_training_config_options()"
   ]
  },
  {
   "cell_type": "markdown",
   "metadata": {
    "id": "hNKSHznVfz8p"
   },
   "source": [
    "In this notebook, we'll just train with the default options, but definitely feel free to experiment, especially if you have familiarity with Machine Learning."
   ]
  },
  {
   "cell_type": "code",
   "execution_count": 23,
   "metadata": {
    "colab": {
     "base_uri": "https://localhost:8080/"
    },
    "id": "VHhFnF_I0uk3",
    "outputId": "d28ba201-e764-4697-d61c-9a5f8f4871f6"
   },
   "outputs": [
    {
     "data": {
      "text/plain": [
       "{'name': 'Re-Ranked Movies Model',\n",
       " 'model_id': '72455e62a',\n",
       " 'model_config': {},\n",
       " 'created_at': '2021-11-24T20:03:57+00:00',\n",
       " 'project_id': '25df6edf2',\n",
       " 'shared': False,\n",
       " 'shared_at': None,\n",
       " 'train_function_name': None,\n",
       " 'predict_function_name': None,\n",
       " 'training_input_tables': None,\n",
       " 'source_code': None,\n",
       " 'location': None,\n",
       " 'refresh_schedules': None,\n",
       " 'latest_model_version': {'model_version': '2df64eb0',\n",
       "  'status': 'PENDING',\n",
       "  'model_id': '72455e62a',\n",
       "  'model_config': {},\n",
       "  'training_started_at': None,\n",
       "  'training_completed_at': None,\n",
       "  'dataset_versions': None,\n",
       "  'error': None,\n",
       "  'pending_deployment_ids': None,\n",
       "  'failed_deployment_ids': None}}"
      ]
     },
     "execution_count": 23,
     "metadata": {},
     "output_type": "execute_result"
    }
   ],
   "source": [
    "reranking_model = reranking_project.train_model(training_config={})\n",
    "reranking_model.to_dict()"
   ]
  },
  {
   "cell_type": "markdown",
   "metadata": {
    "id": "5Iu4dzTMf2NB"
   },
   "source": [
    "After we start training the model, we can call this blocking call that routinely checks the status of the model until it is trained and evaluated:"
   ]
  },
  {
   "cell_type": "code",
   "execution_count": 24,
   "metadata": {
    "colab": {
     "background_save": true
    },
    "id": "IPEuL8vG0zyl",
    "outputId": "731dada5-15d2-480e-91ff-efc12ce2e3f5"
   },
   "outputs": [],
   "source": [
    "reranking_model.wait_for_evaluation()"
   ]
  },
  {
   "cell_type": "markdown",
   "metadata": {
    "id": "njckgMmTNpsd"
   },
   "source": [
    "**Note that model training might take some minutes to some hours depending upon the size of datasets, complexity of the models being trained and a variety of other factors**"
   ]
  },
  {
   "cell_type": "markdown",
   "metadata": {
    "id": "3nWz9fRjf_fg"
   },
   "source": [
    "## **Checkpoint** [Optional]\n",
    "As model training can take an hours to complete, your page could time out or you might end up hitting the refresh button, this section helps you restore your progress:"
   ]
  },
  {
   "cell_type": "code",
   "execution_count": 1,
   "metadata": {
    "colab": {
     "base_uri": "https://localhost:8080/"
    },
    "id": "znF-nZyIgEdQ",
    "outputId": "4da971d8-5019-4ee1-833a-427efaa276ca"
   },
   "outputs": [
    {
     "name": "stdout",
     "output_type": "stream",
     "text": [
      "Requirement already satisfied: abacusai in /home/saim/.local/lib/python3.8/site-packages (0.32.9)\n",
      "Requirement already satisfied: fastavro in /home/saim/.local/lib/python3.8/site-packages (from abacusai) (1.4.7)\n",
      "Requirement already satisfied: packaging in /home/saim/.local/lib/python3.8/site-packages (from abacusai) (21.3)\n",
      "Requirement already satisfied: requests in /usr/lib/python3/dist-packages (from abacusai) (2.22.0)\n",
      "Requirement already satisfied: pandas in /home/saim/.local/lib/python3.8/site-packages (from abacusai) (1.3.4)\n",
      "Requirement already satisfied: pyparsing!=3.0.5,>=2.0.2 in /home/saim/.local/lib/python3.8/site-packages (from packaging->abacusai) (3.0.6)\n",
      "Requirement already satisfied: numpy>=1.17.3; platform_machine != \"aarch64\" and platform_machine != \"arm64\" and python_version < \"3.10\" in /home/saim/.local/lib/python3.8/site-packages (from pandas->abacusai) (1.21.4)\n",
      "Requirement already satisfied: pytz>=2017.3 in /usr/lib/python3/dist-packages (from pandas->abacusai) (2019.3)\n",
      "Requirement already satisfied: python-dateutil>=2.7.3 in /usr/lib/python3/dist-packages (from pandas->abacusai) (2.7.3)\n"
     ]
    },
    {
     "data": {
      "text/plain": [
       "Model(name='Re-Ranked Movies Model',\n",
       "  model_id='72455e62a',\n",
       "  model_config={},\n",
       "  created_at='2021-11-24T20:03:57+00:00',\n",
       "  project_id='25df6edf2',\n",
       "  shared=False,\n",
       "  shared_at=None,\n",
       "  train_function_name=None,\n",
       "  predict_function_name=None,\n",
       "  training_input_tables=None,\n",
       "  source_code=None,\n",
       "  location=None,\n",
       "  refresh_schedules=None,\n",
       "  latest_model_version=ModelVersion(model_version='2df64eb0',\n",
       "  status='COMPLETE',\n",
       "  model_id='72455e62a',\n",
       "  model_config={},\n",
       "  training_started_at='2021-11-24T20:05:53+00:00',\n",
       "  training_completed_at='2021-11-24T21:04:54+00:00',\n",
       "  dataset_versions=['f7067920e'],\n",
       "  error=None,\n",
       "  pending_deployment_ids=[],\n",
       "  failed_deployment_ids=[]))"
      ]
     },
     "execution_count": 1,
     "metadata": {},
     "output_type": "execute_result"
    }
   ],
   "source": [
    "!pip install abacusai\n",
    "import pandas as pd\n",
    "import pprint\n",
    "pp = pprint.PrettyPrinter(indent=2)\n",
    "api_key = '2fdecde877dc45fab937eff82b70eff0'  #@param {type: \"string\"}\n",
    "from abacusai import ApiClient\n",
    "client = ApiClient(api_key)\n",
    "reranking_project = next(project for project in client.list_projects() if project.name == 'Re-Ranked Movies')\n",
    "reranking_model = reranking_project.list_models()[-1]\n",
    "reranking_model.wait_for_evaluation()"
   ]
  },
  {
   "cell_type": "markdown",
   "metadata": {
    "id": "wO3WNhIKgPNm"
   },
   "source": [
    "## Evaluate your Model Metrics\n",
    "\n",
    "After your model is done training you can inspect the model's quality by reviewing the model's metrics:"
   ]
  },
  {
   "cell_type": "code",
   "execution_count": 2,
   "metadata": {
    "colab": {
     "base_uri": "https://localhost:8080/"
    },
    "id": "5OWduGvg00v8",
    "outputId": "c29530b5-9eb9-4210-940e-0acfb201bd13"
   },
   "outputs": [
    {
     "name": "stdout",
     "output_type": "stream",
     "text": [
      "{ 'baseline_metrics': None,\n",
      "  'metrics': { 'coverage': 0.4511746391168978,\n",
      "               'map': 0.061221039683096536,\n",
      "               'map@10': 0.06970096965622921,\n",
      "               'map@5': 0.08421448087431693,\n",
      "               'mrr': 0.24470498577438823,\n",
      "               'ndcg': 0.330879625622261,\n",
      "               'ndcg@10': 0.28277192204812096,\n",
      "               'ndcg@5': 0.24688789200373065,\n",
      "               'personalization@10': 0.966502239137158},\n",
      "  'model_id': '72455e62a',\n",
      "  'model_version': '2df64eb0',\n",
      "  'target_column': None}\n"
     ]
    }
   ],
   "source": [
    "pp.pprint(reranking_model.get_metrics().to_dict())"
   ]
  },
  {
   "cell_type": "markdown",
   "metadata": {
    "id": "3NDeaHd6gTbg"
   },
   "source": [
    "To get a better understanding on what these metrics mean, visit our [documentation](https://abacus.ai/app/help/useCases/USER_RANKINGS/training) page."
   ]
  },
  {
   "cell_type": "markdown",
   "metadata": {
    "id": "yTMmZGJrgdFh"
   },
   "source": [
    "## 5. Deploy Model"
   ]
  },
  {
   "cell_type": "markdown",
   "metadata": {
    "id": "UhsVrewJgeSN"
   },
   "source": [
    "After the model has been trained, we need to deploy the model to be able to start making predictions. Deploying a model will reserve cloud resources to host the model for Realtime and/or batch predictions."
   ]
  },
  {
   "cell_type": "code",
   "execution_count": 3,
   "metadata": {
    "colab": {
     "base_uri": "https://localhost:8080/"
    },
    "id": "89RaXpas01jF",
    "outputId": "548612ac-dec0-4020-95e3-47821a3ae89b"
   },
   "outputs": [
    {
     "data": {
      "text/plain": [
       "Deployment(deployment_id='14a15fb724',\n",
       "  name='Personalized Re-Ranking Deployment',\n",
       "  status='ACTIVE',\n",
       "  description='Personalized_Re-Ranking_Deployment',\n",
       "  deployed_at='2021-11-24T22:11:27+00:00',\n",
       "  created_at='2021-11-24T22:10:58+00:00',\n",
       "  project_id='25df6edf2',\n",
       "  model_id='72455e62a',\n",
       "  model_version='2df64eb0',\n",
       "  feature_group_id=None,\n",
       "  feature_group_version=None,\n",
       "  calls_per_second=5,\n",
       "  auto_deploy=True,\n",
       "  regions=[{'name': 'Us East 1', 'value': 'us-east-1'}],\n",
       "  error=None,\n",
       "  refresh_schedules=None)"
      ]
     },
     "execution_count": 3,
     "metadata": {},
     "output_type": "execute_result"
    }
   ],
   "source": [
    "reranking_deployment = client.create_deployment(name='Personalized Re-Ranking Deployment',model_id=reranking_model.model_id,description='Personalized_Re-Ranking_Deployment')\n",
    "reranking_deployment.wait_for_deployment()"
   ]
  },
  {
   "cell_type": "markdown",
   "metadata": {
    "id": "Adp0d1ebgcTO"
   },
   "source": [
    "After the model is deployed, we need to create a deployment token for authenticating prediction requests. This token is only authorized to predict on deployments in this project, so it's safe to embed this token inside of a user-facing application or website."
   ]
  },
  {
   "cell_type": "code",
   "execution_count": 4,
   "metadata": {
    "colab": {
     "base_uri": "https://localhost:8080/",
     "height": 35
    },
    "id": "GKc9lmcW02aT",
    "outputId": "5a326d97-08d4-4422-9a73-0b1024447ae6"
   },
   "outputs": [
    {
     "data": {
      "text/plain": [
       "'a4bb7ec2f74f48ecbc5a08cf5bb63c00'"
      ]
     },
     "execution_count": 4,
     "metadata": {},
     "output_type": "execute_result"
    }
   ],
   "source": [
    "deployment_token = reranking_project.create_deployment_token().deployment_token\n",
    "deployment_token"
   ]
  },
  {
   "cell_type": "markdown",
   "metadata": {
    "id": "dr1k8Jvbgj9r"
   },
   "source": [
    "## 6. Predict\n"
   ]
  },
  {
   "cell_type": "markdown",
   "metadata": {
    "id": "1E6VYyiBgkSK"
   },
   "source": [
    "Now that you have an active deployment and a deployment token to authenticate requests, you can make the `get_ranked_items` API call below.\n",
    "\n",
    "This command will return a list of re-ranked items for movies for the user whose unique identifier is 1. The ranking would be performed based on what movies the user liked in the past and how the movies and users are related to each other depending on their attributes."
   ]
  },
  {
   "cell_type": "code",
   "execution_count": 5,
   "metadata": {
    "colab": {
     "base_uri": "https://localhost:8080/"
    },
    "id": "EvuzmgbW03L_",
    "outputId": "b70a0ad1-3dd9-4b1d-c24e-296e48b9b425"
   },
   "outputs": [
    {
     "data": {
      "text/plain": [
       "[]"
      ]
     },
     "execution_count": 5,
     "metadata": {},
     "output_type": "execute_result"
    }
   ],
   "source": [
    "ApiClient().get_ranked_items(deployment_token=deployment_token,\n",
    "               deployment_id=reranking_deployment.deployment_id,\n",
    "               query_data={\"user_id\":\"12\"})"
   ]
  }
 ],
 "metadata": {
  "colab": {
   "collapsed_sections": [],
   "name": "Copy of Personalized Re-Ranking of Lists Notebook.ipynb",
   "provenance": [],
   "toc_visible": true
  },
  "interpreter": {
   "hash": "31f2aee4e71d21fbe5cf8b01ff0e069b9275f58929596ceb00d14d90e3e16cd6"
  },
  "kernelspec": {
   "display_name": "Python 3.8.10 64-bit",
   "name": "python3"
  },
  "language_info": {
   "codemirror_mode": {
    "name": "ipython",
    "version": 3
   },
   "file_extension": ".py",
   "mimetype": "text/x-python",
   "name": "python",
   "nbconvert_exporter": "python",
   "pygments_lexer": "ipython3",
   "version": "3.8.10"
  }
 },
 "nbformat": 4,
 "nbformat_minor": 1
}
