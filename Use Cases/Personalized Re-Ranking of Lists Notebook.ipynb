{
 "cells": [
  {
   "cell_type": "markdown",
   "metadata": {
    "colab_type": "text",
    "id": "EHSfCXVoeUD0"
   },
   "source": [
    "## How-to guide for Personalized Re-Ranking of Lists use-case on Abacus.AI platform\n",
    "This notebook provides you with a hands on environment to build a model that provides a personalized re-ranking of a list according to your data using the Abacus.AI Python Client Library.\n",
    "\n",
    "We'll be using the [User Item Recommendations](https://s3.amazonaws.com//realityengines.exampledatasets/user_recommendations/user_movie_ratings.csv), [Movie Attributes](https://s3.amazonaws.com//realityengines.exampledatasets/user_recommendations/movies_metadata.csv), and [User Attributes](https://s3.amazonaws.com//realityengines.exampledatasets/user_recommendations/users_metadata.csv) datasets in this notebook as an example. "
   ]
  },
  {
   "cell_type": "markdown",
   "metadata": {
    "colab_type": "text",
    "id": "V1RiZTmrfGZG"
   },
   "source": [
    "1. Install the Abacus.AI library."
   ]
  },
  {
   "cell_type": "code",
   "execution_count": null,
   "metadata": {
    "colab": {
     "base_uri": "https://localhost:8080/",
     "height": 326
    },
    "colab_type": "code",
    "executionInfo": {
     "elapsed": 4911,
     "status": "ok",
     "timestamp": 1596570769454,
     "user": {
      "displayName": "Ashni Sheth",
      "photoUrl": "https://lh3.googleusercontent.com/a-/AOh14Gj5hwKgDpwIJPCrdFXQB60XSkRPTEWGv9jeKLpnMo0=s64",
      "userId": "15098545459592232887"
     },
     "user_tz": 420
    },
    "id": "byGW8eZpz7gs",
    "outputId": "27f45a84-c40c-4bc0-d745-1fc39be67134"
   },
   "outputs": [],
   "source": [
    "!pip install abacusai"
   ]
  },
  {
   "cell_type": "markdown",
   "metadata": {
    "colab_type": "text",
    "id": "oIfoJXVwfIYk"
   },
   "source": [
    "We'll also import pandas and pprint tools for neat visualization in this notebook."
   ]
  },
  {
   "cell_type": "code",
   "execution_count": null,
   "metadata": {
    "colab": {},
    "colab_type": "code",
    "id": "-6bFhtIK0BXz"
   },
   "outputs": [],
   "source": [
    "import pandas as pd # A tool we'll use to download and preview CSV files\n",
    "import pprint # A tool to pretty print dictionary outputs\n",
    "pp = pprint.PrettyPrinter(indent=2)"
   ]
  },
  {
   "cell_type": "markdown",
   "metadata": {
    "colab_type": "text",
    "id": "nYdAcbWffI6u"
   },
   "source": [
    "2. Add your Abacus.AI [API Key](https://abacus.ai/app/profile/apikey) generated using the API dashboard as follows:"
   ]
  },
  {
   "cell_type": "code",
   "execution_count": null,
   "metadata": {
    "colab": {},
    "colab_type": "code",
    "id": "OZ31qQsvtrUX"
   },
   "outputs": [],
   "source": [
    "#@title Abacus.AI API Key\n",
    "\n",
    "api_key = ''  #@param {type: \"string\"}"
   ]
  },
  {
   "cell_type": "markdown",
   "metadata": {
    "colab_type": "text",
    "id": "oT1voX51fWPV"
   },
   "source": [
    "3. Import the Abacus.AI library and instantiate a client."
   ]
  },
  {
   "cell_type": "code",
   "execution_count": null,
   "metadata": {
    "colab": {},
    "colab_type": "code",
    "id": "568Ukjm60DNb"
   },
   "outputs": [],
   "source": [
    "from abacusai import ApiClient\n",
    "client = ApiClient(api_key)"
   ]
  },
  {
   "cell_type": "markdown",
   "metadata": {
    "colab_type": "text",
    "id": "fiYJ7C6dfXko"
   },
   "source": [
    "## 1. Create a Project\n",
    "\n",
    "Abacus.AI projects are containers that have datasets and trained models. By specifying a business **Use Case**, Abacus.AI tailors the deep learning algorithms to produce the best performing model catered specifically for your data.\n",
    "\n",
    "We'll call the `list_use_cases` method to retrieve a list of the Use Cases currently available on the Abacus.AI platform."
   ]
  },
  {
   "cell_type": "code",
   "execution_count": null,
   "metadata": {
    "colab": {
     "base_uri": "https://localhost:8080/",
     "height": 326
    },
    "colab_type": "code",
    "executionInfo": {
     "elapsed": 1270,
     "status": "ok",
     "timestamp": 1596570771077,
     "user": {
      "displayName": "Ashni Sheth",
      "photoUrl": "https://lh3.googleusercontent.com/a-/AOh14Gj5hwKgDpwIJPCrdFXQB60XSkRPTEWGv9jeKLpnMo0=s64",
      "userId": "15098545459592232887"
     },
     "user_tz": 420
    },
    "id": "CIbkqkfp0EXy",
    "outputId": "97875781-1c82-4133-e6eb-4c199bb47524"
   },
   "outputs": [],
   "source": [
    "client.list_use_cases()"
   ]
  },
  {
   "cell_type": "markdown",
   "metadata": {
    "colab_type": "text",
    "id": "j0kBH0I1fZQw"
   },
   "source": [
    "In this notebook, we're going to create a model that provides a personalized re-ranking of an input list based on User-Item Interactions, User Attributes, and Item Attributes. The 'USER_RANKINGS' use case is best tailored for this situation. For the purpose of taking an example, we will use the IMDB movie dataset that has movie metadata, user metadata, and user-movie ratings."
   ]
  },
  {
   "cell_type": "code",
   "execution_count": null,
   "metadata": {
    "colab": {},
    "colab_type": "code",
    "id": "iynQW6Qf0HbH"
   },
   "outputs": [],
   "source": [
    "#@title Abacus.AI Use Case\n",
    "\n",
    "use_case = 'USER_RANKINGS'  #@param {type: \"string\"}"
   ]
  },
  {
   "cell_type": "markdown",
   "metadata": {
    "colab_type": "text",
    "id": "E40EobHhfgGd"
   },
   "source": [
    "By calling the `describe_use_case_requirements` method we can view what datasets are required for this use_case."
   ]
  },
  {
   "cell_type": "code",
   "execution_count": null,
   "metadata": {
    "colab": {
     "base_uri": "https://localhost:8080/",
     "height": 1000
    },
    "colab_type": "code",
    "executionInfo": {
     "elapsed": 842,
     "status": "ok",
     "timestamp": 1596570774551,
     "user": {
      "displayName": "Ashni Sheth",
      "photoUrl": "https://lh3.googleusercontent.com/a-/AOh14Gj5hwKgDpwIJPCrdFXQB60XSkRPTEWGv9jeKLpnMo0=s64",
      "userId": "15098545459592232887"
     },
     "user_tz": 420
    },
    "id": "YhY7weCu0LHP",
    "outputId": "e4ab971a-152a-40f6-bc4e-bc436669f3ff"
   },
   "outputs": [],
   "source": [
    "for requirement in client.describe_use_case_requirements(use_case):\n",
    "  pp.pprint(requirement.to_dict())"
   ]
  },
  {
   "cell_type": "markdown",
   "metadata": {
    "colab_type": "text",
    "id": "6aPuWKYMfhp0"
   },
   "source": [
    "Finally, let's create the project."
   ]
  },
  {
   "cell_type": "code",
   "execution_count": null,
   "metadata": {
    "colab": {
     "base_uri": "https://localhost:8080/",
     "height": 85
    },
    "colab_type": "code",
    "executionInfo": {
     "elapsed": 689,
     "status": "ok",
     "timestamp": 1596570777774,
     "user": {
      "displayName": "Ashni Sheth",
      "photoUrl": "https://lh3.googleusercontent.com/a-/AOh14Gj5hwKgDpwIJPCrdFXQB60XSkRPTEWGv9jeKLpnMo0=s64",
      "userId": "15098545459592232887"
     },
     "user_tz": 420
    },
    "id": "JFvg6AW20MKR",
    "outputId": "74b9cf3d-8e9e-47c1-df9a-6354b7d1c7f5"
   },
   "outputs": [],
   "source": [
    "reranking_project = client.create_project(name='Re-Ranked Movies', use_case=use_case)\n",
    "reranking_project.to_dict()"
   ]
  },
  {
   "cell_type": "markdown",
   "metadata": {
    "colab_type": "text",
    "id": "Ne5LSDKmfjLY"
   },
   "source": [
    "## 2. Add Datasets to your Project\n",
    "\n",
    "Abacus.AI can read datasets directly from `AWS S3` or `Google Cloud Storage` buckets, otherwise you can also directly upload and store your datasets with Abacus.AI. For this notebook, we will have Abacus.AI read the datasets directly from a public S3 bucket's location.\n",
    "\n",
    "We are using three datasets for this notebook. We'll tell Abacus.AI how the datasets should be used when creating it by tagging each dataset with a special Abacus.AI **Dataset Type**.\n",
    "- [User Item Recommendations](https://s3.amazonaws.com//realityengines.exampledatasets/user_recommendations/user_movie_ratings.csv) (**USER_ITEM_INTERACTIONS**): \n",
    "This dataset contains information about multiple users' ratings of movies with specified IDs.\n",
    "- [Movie Attributes](https://s3.amazonaws.com//realityengines.exampledatasets/user_recommendations/movies_metadata.csv) (**CATALOG_ATTRIBUTES**): This dataset contains attributes about movies with specified IDs, such as each movie's name and genre.\n",
    "- [User Attributes](https://s3.amazonaws.com//realityengines.exampledatasets/user_recommendations/users_metadata.csv) (**USER_ATTRIBUTES**): This dataset contains information about users with specified IDs, such as their age, gender, occupation, and zip code. "
   ]
  },
  {
   "cell_type": "markdown",
   "metadata": {
    "colab_type": "text",
    "id": "i4fBLEtifmsq"
   },
   "source": [
    "### Add the datasets to Abacus.AI\n",
    "\n",
    "First we'll use Pandas to preview the files, then add them to Abacus.AI platform."
   ]
  },
  {
   "cell_type": "code",
   "execution_count": null,
   "metadata": {
    "colab": {
     "base_uri": "https://localhost:8080/",
     "height": 419
    },
    "colab_type": "code",
    "executionInfo": {
     "elapsed": 1441,
     "status": "ok",
     "timestamp": 1596570781910,
     "user": {
      "displayName": "Ashni Sheth",
      "photoUrl": "https://lh3.googleusercontent.com/a-/AOh14Gj5hwKgDpwIJPCrdFXQB60XSkRPTEWGv9jeKLpnMo0=s64",
      "userId": "15098545459592232887"
     },
     "user_tz": 420
    },
    "id": "hvxYGd5o0NdW",
    "outputId": "1f55e19c-0fa8-40fb-88d3-29dc588fd7e9"
   },
   "outputs": [],
   "source": [
    "pd.read_csv('https://s3.amazonaws.com//realityengines.exampledatasets/user_recommendations/user_movie_ratings.csv')"
   ]
  },
  {
   "cell_type": "code",
   "execution_count": null,
   "metadata": {
    "colab": {
     "base_uri": "https://localhost:8080/",
     "height": 419
    },
    "colab_type": "code",
    "executionInfo": {
     "elapsed": 867,
     "status": "ok",
     "timestamp": 1596570784747,
     "user": {
      "displayName": "Ashni Sheth",
      "photoUrl": "https://lh3.googleusercontent.com/a-/AOh14Gj5hwKgDpwIJPCrdFXQB60XSkRPTEWGv9jeKLpnMo0=s64",
      "userId": "15098545459592232887"
     },
     "user_tz": 420
    },
    "id": "4GWiRN8J0gV1",
    "outputId": "e21f8fd0-9b4e-4f52-8cca-f27af21759cb"
   },
   "outputs": [],
   "source": [
    "pd.read_csv('https://s3.amazonaws.com//realityengines.exampledatasets/user_recommendations/movies_metadata.csv')"
   ]
  },
  {
   "cell_type": "code",
   "execution_count": null,
   "metadata": {
    "colab": {
     "base_uri": "https://localhost:8080/",
     "height": 419
    },
    "colab_type": "code",
    "executionInfo": {
     "elapsed": 918,
     "status": "ok",
     "timestamp": 1596570788114,
     "user": {
      "displayName": "Ashni Sheth",
      "photoUrl": "https://lh3.googleusercontent.com/a-/AOh14Gj5hwKgDpwIJPCrdFXQB60XSkRPTEWGv9jeKLpnMo0=s64",
      "userId": "15098545459592232887"
     },
     "user_tz": 420
    },
    "id": "jxMNEFlg0gpW",
    "outputId": "02fe9a4a-a3a4-4ba6-9111-eb7593571779"
   },
   "outputs": [],
   "source": [
    "pd.read_csv('https://s3.amazonaws.com//realityengines.exampledatasets/user_recommendations/users_metadata.csv')"
   ]
  },
  {
   "cell_type": "markdown",
   "metadata": {
    "colab_type": "text",
    "id": "JzUn4W0RfoSz"
   },
   "source": [
    "Using the Create Dataset API, we can tell Abacus.AI the public S3 URI of where to find the datasets. We will also give each dataset a Refresh Schedule, which tells Abacus.AI when it should refresh the dataset (take an updated/latest copy of the dataset).\n",
    "\n",
    "If you're unfamiliar with Cron Syntax, Crontab Guru can help translate the syntax back into natural language: [https://crontab.guru/#0_12_\\*_\\*_\\*](https://crontab.guru/#0_12_*_*_*)\n",
    "\n",
    "**Note: This cron string will be evaluated in UTC time zone**"
   ]
  },
  {
   "cell_type": "code",
   "execution_count": null,
   "metadata": {
    "colab": {},
    "colab_type": "code",
    "id": "d0CR4Raz0iTP"
   },
   "outputs": [],
   "source": [
    "user_item_dataset = client.create_dataset('User Item Recommendations', \n",
    "                                     location='s3://realityengines.exampledatasets/user_recommendations/user_movie_ratings.csv',\n",
    "                                     project_id=reranking_project.project_id, \n",
    "                                     dataset_type='USER_ITEM_INTERACTIONS',\n",
    "                                     refresh_schedule='0 12 * * *')\n",
    "\n",
    "movie_attributes_dataset = client.create_dataset('Movie Attributes', \n",
    "                                     location='s3://realityengines.exampledatasets/user_recommendations/movies_metadata.csv',\n",
    "                                     project_id=reranking_project.project_id, \n",
    "                                     dataset_type='CATALOG_ATTRIBUTES',\n",
    "                                     refresh_schedule='0 12 * * *')\n",
    "\n",
    "user_attributes_dataset = client.create_dataset('User Attributes', \n",
    "                                     location='s3://realityengines.exampledatasets/user_recommendations/users_metadata.csv',\n",
    "                                     project_id=reranking_project.project_id, \n",
    "                                     dataset_type='USER_ATTRIBUTES',\n",
    "                                     refresh_schedule='0 12 * * *')\n",
    "\n",
    "datasets = [user_item_dataset, movie_attributes_dataset, user_attributes_dataset]"
   ]
  },
  {
   "cell_type": "markdown",
   "metadata": {
    "colab_type": "text",
    "id": "Ga7LdWNefqKP"
   },
   "source": [
    "### Check dataset processing status and get dataset schemas when processing finishes"
   ]
  },
  {
   "cell_type": "code",
   "execution_count": null,
   "metadata": {
    "colab": {
     "base_uri": "https://localhost:8080/",
     "height": 272
    },
    "colab_type": "code",
    "executionInfo": {
     "elapsed": 70990,
     "status": "ok",
     "timestamp": 1596570908370,
     "user": {
      "displayName": "Ashni Sheth",
      "photoUrl": "https://lh3.googleusercontent.com/a-/AOh14Gj5hwKgDpwIJPCrdFXQB60XSkRPTEWGv9jeKLpnMo0=s64",
      "userId": "15098545459592232887"
     },
     "user_tz": 420
    },
    "id": "HcA36EQK0mnv",
    "outputId": "9c2b520e-9652-4909-cd6e-f9a822a880bd"
   },
   "outputs": [],
   "source": [
    "for dataset in datasets:\n",
    "    dataset.wait_for_inspection()\n",
    "    print(f'{dataset.name} Schema:')\n",
    "    pp.pprint(client.get_schema(reranking_project.project_id, dataset.dataset_id))"
   ]
  },
  {
   "cell_type": "markdown",
   "metadata": {
    "colab_type": "text",
    "id": "iadVPXv1fs1l"
   },
   "source": [
    "Each column in a **Dataset** is associated with a **Column Data Type**.\n",
    "All we need to do now is to tell Abacus.AI what field we want to predict from our **Dataset**.\n",
    "\n",
    "For each **Dataset Type** in a **Use Case**, there are special **Column Mappings** that can be applied to a column. We can find the list of available **Column Mappings** by calling the *Describe Use Case Requirements* API."
   ]
  },
  {
   "cell_type": "code",
   "execution_count": null,
   "metadata": {
    "colab": {
     "base_uri": "https://localhost:8080/",
     "height": 292
    },
    "colab_type": "code",
    "executionInfo": {
     "elapsed": 1117,
     "status": "ok",
     "timestamp": 1596571558524,
     "user": {
      "displayName": "Ashni Sheth",
      "photoUrl": "https://lh3.googleusercontent.com/a-/AOh14Gj5hwKgDpwIJPCrdFXQB60XSkRPTEWGv9jeKLpnMo0=s64",
      "userId": "15098545459592232887"
     },
     "user_tz": 420
    },
    "id": "pwKzbQOy0ok6",
    "outputId": "b31d0e5f-ca27-472f-f129-9a2c68485840"
   },
   "outputs": [],
   "source": [
    "client.describe_use_case_requirements(use_case)[0].allowed_column_mappings"
   ]
  },
  {
   "cell_type": "markdown",
   "metadata": {
    "colab_type": "text",
    "id": "1Tzp3-_qfuTq"
   },
   "source": [
    "We would map the *movie_id* column as **ITEM_ID**, the *user_id* column as **USER_ID**, and the *timestamp* column as **TIMESTAMP**.\n",
    "\n",
    "The result of this call will be the updated schema after the **Column Mapping** is applied as stated above."
   ]
  },
  {
   "cell_type": "code",
   "execution_count": null,
   "metadata": {
    "colab": {
     "base_uri": "https://localhost:8080/",
     "height": 85
    },
    "colab_type": "code",
    "executionInfo": {
     "elapsed": 1615,
     "status": "ok",
     "timestamp": 1596571582590,
     "user": {
      "displayName": "Ashni Sheth",
      "photoUrl": "https://lh3.googleusercontent.com/a-/AOh14Gj5hwKgDpwIJPCrdFXQB60XSkRPTEWGv9jeKLpnMo0=s64",
      "userId": "15098545459592232887"
     },
     "user_tz": 420
    },
    "id": "4j8_nwFJ0p7h",
    "outputId": "c1f393d6-288c-4776-890c-3b819c0cd108"
   },
   "outputs": [],
   "source": [
    "client.set_column_mapping(project_id=reranking_project.project_id, dataset_id=user_item_dataset.dataset_id,\n",
    "                          column='movie_id', column_mapping='ITEM_ID')\n",
    "\n",
    "client.set_column_mapping(project_id=reranking_project.project_id, dataset_id=user_item_dataset.dataset_id,\n",
    "                          column='user_id', column_mapping='USER_ID')\n",
    "\n",
    "client.set_column_mapping(project_id=reranking_project.project_id, dataset_id=user_item_dataset.dataset_id,\n",
    "                          column='timestamp', column_mapping='TIMESTAMP')"
   ]
  },
  {
   "cell_type": "markdown",
   "metadata": {
    "colab_type": "text",
    "id": "-fglg0h0fv1J"
   },
   "source": [
    "## 3. Train a Model"
   ]
  },
  {
   "cell_type": "markdown",
   "metadata": {
    "colab_type": "text",
    "id": "eP-vouFwfw5n"
   },
   "source": [
    "Now that we've uploaded the datasets, we're almost ready to train a model!\n",
    "\n",
    "To be sure that our project is ready to go, let's call `project.validate` to confirm that all the project requirements have been met."
   ]
  },
  {
   "cell_type": "code",
   "execution_count": null,
   "metadata": {
    "colab": {
     "base_uri": "https://localhost:8080/",
     "height": 34
    },
    "colab_type": "code",
    "executionInfo": {
     "elapsed": 627,
     "status": "ok",
     "timestamp": 1596571587469,
     "user": {
      "displayName": "Ashni Sheth",
      "photoUrl": "https://lh3.googleusercontent.com/a-/AOh14Gj5hwKgDpwIJPCrdFXQB60XSkRPTEWGv9jeKLpnMo0=s64",
      "userId": "15098545459592232887"
     },
     "user_tz": 420
    },
    "id": "TbvMw1-a0rAD",
    "outputId": "67e5183f-3f73-48b7-9544-97a013ff074a"
   },
   "outputs": [],
   "source": [
    "reranking_project.validate()"
   ]
  },
  {
   "cell_type": "markdown",
   "metadata": {
    "colab_type": "text",
    "id": "_44j4tlafyVh"
   },
   "source": [
    "For each **Use Case**, Abacus.AI has a bunch of options for training. We can call the *Get Training Config Options* API to see the available options."
   ]
  },
  {
   "cell_type": "code",
   "execution_count": null,
   "metadata": {
    "colab": {
     "base_uri": "https://localhost:8080/",
     "height": 207
    },
    "colab_type": "code",
    "executionInfo": {
     "elapsed": 439,
     "status": "ok",
     "timestamp": 1596571589391,
     "user": {
      "displayName": "Ashni Sheth",
      "photoUrl": "https://lh3.googleusercontent.com/a-/AOh14Gj5hwKgDpwIJPCrdFXQB60XSkRPTEWGv9jeKLpnMo0=s64",
      "userId": "15098545459592232887"
     },
     "user_tz": 420
    },
    "id": "6pyLgPWG0sE-",
    "outputId": "62caa05c-5465-42a8-cff8-bf2632ee622c"
   },
   "outputs": [],
   "source": [
    "reranking_project.get_training_config_options()"
   ]
  },
  {
   "cell_type": "markdown",
   "metadata": {
    "colab_type": "text",
    "id": "hNKSHznVfz8p"
   },
   "source": [
    "In this notebook, we'll just train with the default options, but definitely feel free to experiment, especially if you have familiarity with Machine Learning."
   ]
  },
  {
   "cell_type": "code",
   "execution_count": null,
   "metadata": {
    "colab": {
     "base_uri": "https://localhost:8080/",
     "height": 255
    },
    "colab_type": "code",
    "executionInfo": {
     "elapsed": 652,
     "status": "ok",
     "timestamp": 1596571591489,
     "user": {
      "displayName": "Ashni Sheth",
      "photoUrl": "https://lh3.googleusercontent.com/a-/AOh14Gj5hwKgDpwIJPCrdFXQB60XSkRPTEWGv9jeKLpnMo0=s64",
      "userId": "15098545459592232887"
     },
     "user_tz": 420
    },
    "id": "VHhFnF_I0uk3",
    "outputId": "5e8c7042-3d4d-4072-89bc-4a8e452e858b"
   },
   "outputs": [],
   "source": [
    "reranking_model = reranking_project.train_model(training_config={})\n",
    "reranking_model.to_dict()"
   ]
  },
  {
   "cell_type": "markdown",
   "metadata": {
    "colab_type": "text",
    "id": "5Iu4dzTMf2NB"
   },
   "source": [
    "After we start training the model, we can call this blocking call that routinely checks the status of the model until it is trained and evaluated:"
   ]
  },
  {
   "cell_type": "code",
   "execution_count": null,
   "metadata": {
    "colab": {
     "base_uri": "https://localhost:8080/",
     "height": 54
    },
    "colab_type": "code",
    "executionInfo": {
     "elapsed": 1663756,
     "status": "ok",
     "timestamp": 1596574538584,
     "user": {
      "displayName": "Ashni Sheth",
      "photoUrl": "https://lh3.googleusercontent.com/a-/AOh14Gj5hwKgDpwIJPCrdFXQB60XSkRPTEWGv9jeKLpnMo0=s64",
      "userId": "15098545459592232887"
     },
     "user_tz": 420
    },
    "id": "IPEuL8vG0zyl",
    "outputId": "074c3458-7c94-4ffa-d376-b4acce4cbebf"
   },
   "outputs": [],
   "source": [
    "reranking_model.wait_for_evaluation()"
   ]
  },
  {
   "cell_type": "markdown",
   "metadata": {
    "colab_type": "text",
    "id": "3nWz9fRjf_fg"
   },
   "source": [
    "## **(Checkpoint)**\n",
    "Training can take an hour or two to complete, but we encourage you to run the remaining calls on your own time. If your page times out or you hit refresh, you can restore your progress using the code segment below:"
   ]
  },
  {
   "cell_type": "code",
   "execution_count": null,
   "metadata": {
    "colab": {},
    "colab_type": "code",
    "id": "znF-nZyIgEdQ"
   },
   "outputs": [],
   "source": [
    "!pip install abacusai\n",
    "import pandas as pd\n",
    "import pprint\n",
    "pp = pprint.PrettyPrinter(indent=2)\n",
    "api_key = ''  #@param {type: \"string\"}\n",
    "from abacusai import ApiClient\n",
    "client = ApiClient(api_key)\n",
    "reranking_project = next(project for project in client.list_projects() if project.name == 'Re-Ranked Movies')\n",
    "reranking_model = reranking_project.list_models()[-1]\n",
    "reranking_model.wait_for_evaluation()"
   ]
  },
  {
   "cell_type": "markdown",
   "metadata": {
    "colab_type": "text",
    "id": "wO3WNhIKgPNm"
   },
   "source": [
    "## Evaluate your Model Metrics\n",
    "\n",
    "After your model is done training you can inspect the model's quality by reviewing the model's metrics:"
   ]
  },
  {
   "cell_type": "code",
   "execution_count": null,
   "metadata": {
    "colab": {
     "base_uri": "https://localhost:8080/",
     "height": 204
    },
    "colab_type": "code",
    "executionInfo": {
     "elapsed": 341,
     "status": "ok",
     "timestamp": 1596574570610,
     "user": {
      "displayName": "Ashni Sheth",
      "photoUrl": "https://lh3.googleusercontent.com/a-/AOh14Gj5hwKgDpwIJPCrdFXQB60XSkRPTEWGv9jeKLpnMo0=s64",
      "userId": "15098545459592232887"
     },
     "user_tz": 420
    },
    "id": "5OWduGvg00v8",
    "outputId": "c9d7275b-a3e1-4070-97e9-3f4a6174b45d"
   },
   "outputs": [],
   "source": [
    "pp.pprint(reranking_model.get_metrics().to_dict())"
   ]
  },
  {
   "cell_type": "markdown",
   "metadata": {
    "colab_type": "text",
    "id": "3NDeaHd6gTbg"
   },
   "source": [
    "To get a better understanding on what these metrics mean, visit our [documentation](https://abacus.ai/app/help/useCases/USER_RANKINGS/training) page."
   ]
  },
  {
   "cell_type": "markdown",
   "metadata": {
    "colab_type": "text",
    "id": "yTMmZGJrgdFh"
   },
   "source": [
    "## 4. Deploy Model"
   ]
  },
  {
   "cell_type": "markdown",
   "metadata": {
    "colab_type": "text",
    "id": "UhsVrewJgeSN"
   },
   "source": [
    "After the model has been trained, we need to deploy the model to be able to start making predictions. Deploying a model will reserve cloud resources to host the model for Realtime and/or batch predictions."
   ]
  },
  {
   "cell_type": "code",
   "execution_count": null,
   "metadata": {
    "colab": {
     "base_uri": "https://localhost:8080/",
     "height": 54
    },
    "colab_type": "code",
    "executionInfo": {
     "elapsed": 106491,
     "status": "ok",
     "timestamp": 1596574680882,
     "user": {
      "displayName": "Ashni Sheth",
      "photoUrl": "https://lh3.googleusercontent.com/a-/AOh14Gj5hwKgDpwIJPCrdFXQB60XSkRPTEWGv9jeKLpnMo0=s64",
      "userId": "15098545459592232887"
     },
     "user_tz": 420
    },
    "id": "89RaXpas01jF",
    "outputId": "6ca7326f-8323-4820-b412-759d04eead9f"
   },
   "outputs": [],
   "source": [
    "reranking_deployment = reranking_model.create_deployment('Personalized Re-Ranking Deployment')\n",
    "reranking_deployment.wait_for_deployment()"
   ]
  },
  {
   "cell_type": "markdown",
   "metadata": {
    "colab_type": "text",
    "id": "Adp0d1ebgcTO"
   },
   "source": [
    "After the model is deployed, we need to create a deployment token for authenticating prediction requests. This token is only authorized to predict on deployments in this project, so it's safe to embed this token inside of a user-facing application or website."
   ]
  },
  {
   "cell_type": "code",
   "execution_count": null,
   "metadata": {
    "colab": {
     "base_uri": "https://localhost:8080/",
     "height": 35
    },
    "colab_type": "code",
    "executionInfo": {
     "elapsed": 521,
     "status": "ok",
     "timestamp": 1596574706414,
     "user": {
      "displayName": "Ashni Sheth",
      "photoUrl": "https://lh3.googleusercontent.com/a-/AOh14Gj5hwKgDpwIJPCrdFXQB60XSkRPTEWGv9jeKLpnMo0=s64",
      "userId": "15098545459592232887"
     },
     "user_tz": 420
    },
    "id": "GKc9lmcW02aT",
    "outputId": "9459f8ce-0ce6-4435-95d7-d6bcc87868fb"
   },
   "outputs": [],
   "source": [
    "deployment_token = reranking_project.create_deployment_token().deployment_token\n",
    "deployment_token"
   ]
  },
  {
   "cell_type": "markdown",
   "metadata": {
    "colab_type": "text",
    "id": "dr1k8Jvbgj9r"
   },
   "source": [
    "## 5. Predict\n"
   ]
  },
  {
   "cell_type": "markdown",
   "metadata": {
    "colab_type": "text",
    "id": "1E6VYyiBgkSK"
   },
   "source": [
    "Now that you have an active deployment and a deployment token to authenticate requests, you can make the `get_ranked_items` API call below.\n",
    "\n",
    "This command will return a list of re-ranked items for movies for the user whose unique identifier is 1. The ranking would be performed based on what movies the user liked in the past and how the movies and users are related to each other depending on their attributes."
   ]
  },
  {
   "cell_type": "code",
   "execution_count": null,
   "metadata": {
    "colab": {
     "base_uri": "https://localhost:8080/",
     "height": 867
    },
    "colab_type": "code",
    "executionInfo": {
     "elapsed": 1144,
     "status": "ok",
     "timestamp": 1596574795847,
     "user": {
      "displayName": "Ashni Sheth",
      "photoUrl": "https://lh3.googleusercontent.com/a-/AOh14Gj5hwKgDpwIJPCrdFXQB60XSkRPTEWGv9jeKLpnMo0=s64",
      "userId": "15098545459592232887"
     },
     "user_tz": 420
    },
    "id": "EvuzmgbW03L_",
    "outputId": "159e7cf5-ab45-4c27-d43a-b19ee7750f39"
   },
   "outputs": [],
   "source": [
    "ApiClient().get_ranked_items(deployment_token=deployment_token, \n",
    "               deployment_id=reranking_deployment.deployment_id, \n",
    "               query_data={\"user_id\":\"1\"})"
   ]
  }
 ],
 "metadata": {
  "colab": {
   "collapsed_sections": [],
   "name": "Personalized Re-Ranking of Lists Notebook.ipynb",
   "provenance": [],
   "toc_visible": true
  },
  "kernelspec": {
   "display_name": "Python 3",
   "name": "python3"
  }
 },
 "nbformat": 4,
 "nbformat_minor": 0
}
