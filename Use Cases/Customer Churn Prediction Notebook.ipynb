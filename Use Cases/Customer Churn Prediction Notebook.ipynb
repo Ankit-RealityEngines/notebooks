{
 "cells": [
  {
   "cell_type": "markdown",
   "metadata": {
    "id": "ddP4J1g68RJI"
   },
   "source": [
    "## How-to guide for Customer Churn use-case on Abacus.AI platform\n",
    "This notebook provides you with a hands on environment to build a customer churn prediction model using the Abacus.AI Python Client Library.\n",
    "\n",
    "We'll be using the [Telco Customer Churn Dataset](https://s3.amazonaws.com//realityengines.exampledatasets/customer_churn/telco.csv), which contains information about multiple users, their attributes, and whether or not they churned."
   ]
  },
  {
   "cell_type": "markdown",
   "metadata": {
    "id": "Q07yJYbl8jRf"
   },
   "source": [
    "1. Install the Abacus.AI library"
   ]
  },
  {
   "cell_type": "code",
   "execution_count": 1,
   "metadata": {
    "id": "z4Q6TANGq2ew"
   },
   "outputs": [
    {
     "name": "stdout",
     "output_type": "stream",
     "text": [
      "Defaulting to user installation because normal site-packages is not writeable\n",
      "Requirement already satisfied: abacusai in /shared/home/ankit/.local/lib/python3.8/site-packages (0.30.8)\n",
      "Requirement already satisfied: fastavro in /usr/local/lib/python3.8/dist-packages (from abacusai) (0.23.3)\n",
      "Requirement already satisfied: pandas in /usr/local/lib/python3.8/dist-packages (from abacusai) (1.0.5)\n",
      "Requirement already satisfied: packaging in /usr/local/lib/python3.8/dist-packages (from abacusai) (21.0)\n",
      "Requirement already satisfied: requests in /usr/local/lib/python3.8/dist-packages (from abacusai) (2.25.1)\n",
      "Requirement already satisfied: pytz in /usr/local/lib/python3.8/dist-packages (from fastavro->abacusai) (2021.1)\n",
      "Requirement already satisfied: pyparsing>=2.0.2 in /usr/local/lib/python3.8/dist-packages (from packaging->abacusai) (2.4.7)\n",
      "Requirement already satisfied: numpy>=1.13.3 in /usr/local/lib/python3.8/dist-packages (from pandas->abacusai) (1.19.5)\n",
      "Requirement already satisfied: python-dateutil>=2.6.1 in /usr/local/lib/python3.8/dist-packages (from pandas->abacusai) (2.8.2)\n",
      "Requirement already satisfied: six>=1.5 in /usr/local/lib/python3.8/dist-packages (from python-dateutil>=2.6.1->pandas->abacusai) (1.15.0)\n",
      "Requirement already satisfied: certifi>=2017.4.17 in /usr/lib/python3/dist-packages (from requests->abacusai) (2019.11.28)\n",
      "Requirement already satisfied: idna<3,>=2.5 in /usr/lib/python3/dist-packages (from requests->abacusai) (2.8)\n",
      "Requirement already satisfied: chardet<5,>=3.0.2 in /usr/lib/python3/dist-packages (from requests->abacusai) (3.0.4)\n",
      "Requirement already satisfied: urllib3<1.27,>=1.21.1 in /usr/lib/python3/dist-packages (from requests->abacusai) (1.25.8)\n"
     ]
    }
   ],
   "source": [
    "!pip install abacusai"
   ]
  },
  {
   "cell_type": "markdown",
   "metadata": {
    "id": "NvzIcK0f8k10"
   },
   "source": [
    "We'll also import pandas and pprint tools for visualization in this notebook."
   ]
  },
  {
   "cell_type": "code",
   "execution_count": 2,
   "metadata": {
    "id": "QwPpORt-q_P1"
   },
   "outputs": [],
   "source": [
    "import pandas as pd # A tool we'll use to download and preview CSV files\n",
    "import pprint # A tool to pretty print dictionary outputs\n",
    "pp = pprint.PrettyPrinter(indent=2)"
   ]
  },
  {
   "cell_type": "markdown",
   "metadata": {
    "id": "02oc2aQx8n9v"
   },
   "source": [
    "2. Add your Abacus.AI [API Key](https://abacus.ai/app/profile/apikey) generated using the API dashboard as follows:"
   ]
  },
  {
   "cell_type": "code",
   "execution_count": 3,
   "metadata": {
    "id": "p6dWZh0mrI1c"
   },
   "outputs": [],
   "source": [
    "#@title Abacus.AI API Key\n",
    "api_key = '2fdecde877dc45fab937eff82b70eff0'  #@param {type: \"string\"}"
   ]
  },
  {
   "cell_type": "markdown",
   "metadata": {
    "id": "Rxg00rPH8qmv"
   },
   "source": [
    "3. Import the Abacus.AI library and instantiate a client."
   ]
  },
  {
   "cell_type": "code",
   "execution_count": 4,
   "metadata": {
    "id": "tNfA4MU6rKOA"
   },
   "outputs": [
    {
     "name": "stderr",
     "output_type": "stream",
     "text": [
      "WARNING:root:A new version of the Abacus.AI library is available\n",
      "WARNING:root:Current Version: 0.30.8 -> New Version: 0.30.9\n"
     ]
    }
   ],
   "source": [
    "from abacusai import ApiClient\n",
    "client = ApiClient(api_key)"
   ]
  },
  {
   "cell_type": "markdown",
   "metadata": {
    "id": "rpXXFg4n8spr"
   },
   "source": [
    "## 1. Create a Project\n",
    "\n",
    "Abacus.AI projects are containers that have ML features and trained models. By specifying a business **Use Case**, Abacus.AI tailors the deep learning algorithms to produce the best performing model catered specifically for your data.\n",
    "\n",
    "We'll call the `list_use_cases` method to retrieve a list of the Use Cases currently available on the Abacus.AI platform."
   ]
  },
  {
   "cell_type": "code",
   "execution_count": 5,
   "metadata": {
    "id": "e1f_-ap7rMYv"
   },
   "outputs": [
    {
     "data": {
      "text/plain": [
       "[UseCase(use_case='UCPLUGANDPLAY', pretty_name='Plug & Play Your Tensorflow Model', description='Upload your already trained model and leverage our model serving infrastructure.. Host your models on our infrastructure and get a JSON api with auto scaling and more!'),\n",
       " UseCase(use_case='EMBEDDINGS_ONLY', pretty_name='Vector Matching Engine', description='Upload embeddings and leverage our similarity search infrastructure.. Scale to high traffic, update your index in near realtime'),\n",
       " UseCase(use_case='MODEL_WITH_EMBEDDINGS', pretty_name='Tensorflow Model With Vector Matching Engine', description='Upload your already trained model and leverage our model serving infrastructure.. Host your models on our infrastructure and get a JSON api with auto scaling and more!'),\n",
       " UseCase(use_case='TORCH_MODEL_WITH_EMBEDDINGS', pretty_name='PyTorch Model With Vector Matching Engine', description='Upload your already trained model and leverage our model serving infrastructure.. Host your models on our infrastructure and get a JSON api with auto scaling and more!'),\n",
       " UseCase(use_case='DOCKER_MODEL', pretty_name='Plug & Play Your Dockerized Model', description='Upload your already trained model and leverage our model serving infrastructure.. Host your models on our infrastructure and get a JSON api with auto scaling and more!'),\n",
       " UseCase(use_case='DOCKER_MODEL_WITH_EMBEDDINGS', pretty_name='Plug & Play Your Dockerized Model with Vector Matching Engine', description='Upload your already trained model and leverage our model serving infrastructure.. Host your models on our infrastructure and get a JSON api with auto scaling and more!'),\n",
       " UseCase(use_case='CUSTOMER_CHURN', pretty_name='Customer Churn Prediction', description='Identify customers who are most likely to churn out of your system and send them marketing promotions/emails to retain them. Deploy a real-time deep learning model that identifies customers who are most likely to leave and increase retention.'),\n",
       " UseCase(use_case='ENERGY', pretty_name='Real-Time Forecasting', description='Accurately forecast energy or computation usage in real-time. Make downstream planning decisions based on your predictions. We use generative modeling (GANs) to augment your dataset with synthetic data. This unique approach allows us to make accurate predictions in real-time, even when you have little historical data.'),\n",
       " UseCase(use_case='FINANCIAL_METRICS', pretty_name='Financial Metrics Forecasting', description='Accurately plan your cash flow, revenue, and sales with state-of-the-art deep learning-based forecasting. We use generative modeling (GANs) to augment your dataset with synthetic data. This unique approach allows us to make accurate predictions, even when you have little historical data.'),\n",
       " UseCase(use_case='FRAUD_ACCOUNT', pretty_name='Account Takeover and Defense', description=\"Shield your customers from account takeovers by blocking bots and fake sign-ups. Behind the scenes, our AI engine will develop a custom deep learning model to prevent bot attacks and stops account takeovers in real-time. Setup is super simple and doesn't require any engineering or cumbersome data preparation.\"),\n",
       " UseCase(use_case='FRAUD_THREAT', pretty_name='Intelligent Threat Detection', description=\"Stop breachers in their tracks by continuously monitoring your environment for malicious activity. Prevent alert fatigue by reducing the number of false positives over time. Behind the scenes, our AI engine develops a deep learning model customized for your data to continuously monitors all your logs and alerts you of any malicious activity. Setup is super simple and doesn't require any ML expertise.\"),\n",
       " UseCase(use_case='FRAUD_TRANSACTIONS', pretty_name='Transaction/Credit Card Fraud', description=\"Accept payments with confidence, reduce chargebacks, and catch payment fraud instantly as it happens. Behind the scenes, our AI engine develops a custom deep learning model for you that prevents transaction fraud and catches fraudsters in real-time. Set up is super simple and doesn't require any engineering and cumbersome data preparation.\"),\n",
       " UseCase(use_case='OPERATIONS_CLOUD', pretty_name='Cloud Spend Alerts', description='Deploy state-of-the-art deep learning models to monitor your cloud spend, spot anomalies, spot runaway incidents, mitigate cost incidents, and get alerts so they can be remedied as quickly as possible. Use deep learning to find anomalies in your cloud usage and get alerts on them to mitigate cost incidents.'),\n",
       " UseCase(use_case='CLOUD_SPEND', pretty_name='Cloud Spend Alerts', description='Deploy state-of-the-art deep learning models to monitor your cloud spend, spot anomalies, spot runaway incidents, mitigate cost incidents, and get alerts so they can be remedied as quickly as possible. Use deep learning to find anomalies in your cloud usage and get alerts on them to mitigate cost incidents.'),\n",
       " UseCase(use_case='TIMESERIES_ANOMALY_DETECTION', pretty_name='Timeseries Anomaly Detection', description='Spot anomalies in your time series data by using deep learning models to increase revenue, save costs and reduce risks. With Abacus.AI you can set up state of the art deep learning models for time series anomaly detection within hours. These models adjust in real time and spot both simple one dimensional and complex multidimensional anomalies. Our models also help you find the root cause of the anomalies. No cumbersome data preparation or engineering effort to deploy the models in production are required.'),\n",
       " UseCase(use_case='OPERATIONS_MAINTENANCE', pretty_name='Predictive Maintenance', description='Leverage deep learning models to proactively assess the health of your assets and perform timely maintenance to reduce downtime and save costs. With Abacus.ai you can set up state of the art deep learning models for predictive maintenance within hours. These models learn from your past failures as well as spot anomalies that can lead to new failures. No cumbersome data preparation or engineering effort to deploy the models in production is required.'),\n",
       " UseCase(use_case='PERS_PROMOTIONS', pretty_name='Personalized Promotions', description='Send personalized promotions to your customers and increase engagement. Personalize promotions based on catalog items, marketing messages, delivery channels, and discount terms. Deploy a real-time deep learning model that targets relevant promotions to customers and increases engagement. No cumbersome data preparation required and setup is super easy.'),\n",
       " UseCase(use_case='PREDICTING', pretty_name='Predictive Modeling', description='Use historical data to predict future occurrences. Train state-of-the-art predictive models customized specifically according to your data and deploy it in production in hours, not months!. You can create a deep learning model for your specific needs simply by pointing us to your data and specifying the inputs/outputs. Our expert AI engine will do the data cleaning and processing, algorithm selection (classification or regression), and model creation. You will be ready to generate intelligent predictions from the deployed model in production in just a few hours.'),\n",
       " UseCase(use_case='RETAIL', pretty_name='Demand Forecasting', description='Accurately forecast retail demand. We use generative modeling (GANs) to augment your dataset with synthetic data. This allows us to make accurate predictions even when you have little historical data.'),\n",
       " UseCase(use_case='SALES_FORECASTING', pretty_name='Sales and Revenue Forecasting', description='Forecast sales and revenue across your sales reps, products, business units, and locations. Use deep learning to forecast your sales across multiple dimensions. Make better planning discussions and anticipate future problems so you can mitigate them.'),\n",
       " UseCase(use_case='SALES_SCORING', pretty_name='Predictive Lead Scoring', description='Identify the sales leads that are most likely to convert into paying customers and increase revenue. Just point our AI engine to your data, and it will create a deep learning model customized for your data to score all your leads and identify the best ones for conversion.'),\n",
       " UseCase(use_case='USER_RANKINGS', pretty_name='Personalized Search', description='Re-rank search results or list of items based on a user preferences. Maximize user engagement and revenue. Our unique blend of reinforcement learning and deep learning-based technology works even when you have little historical data and have to deal with a fast-changing catalog or multiple new users.'),\n",
       " UseCase(use_case='NAMED_ENTITY_RECOGNITION', pretty_name='Text extraction and classification', description='Find and label fields within text documents such as emails, chats, receipts, invoices or any other unstructured data set. With Abacus.AI you can set up state of the art deep learning models for text extraction and classification within hours. Based on your specific domain and use-case, Abacus.AI can fine-tune pre-trained models, apply transfer learning or simply train new language models from scratch.  No cumbersome data preparation or engineering effort to deploy the models in production are required.'),\n",
       " UseCase(use_case='USER_RECOMMENDATIONS', pretty_name='Personalized Recommendations', description='Increase user engagement and revenue with personalized recommendations on your app/website. Our unique blend of reinforcement learning and deep learning-based technology works even when you have little historical data and have to deal with a fast-changing catalog or multiple new users.'),\n",
       " UseCase(use_case='USER_RELATED', pretty_name='Related Items', description='Maximize revenue and user engagement. Immerse your customers into your app/website by providing them with a rich browse and related items experience. Our unique blend of reinforcement learning and deep learning-based technology works even when you have little historical data and have to deal with a fast-changing catalog or multiple new users.')]"
      ]
     },
     "execution_count": 5,
     "metadata": {},
     "output_type": "execute_result"
    }
   ],
   "source": [
    "client.list_use_cases()"
   ]
  },
  {
   "cell_type": "markdown",
   "metadata": {
    "id": "jimfsdFf8t2U"
   },
   "source": [
    "In this notebook, we're going to create a customer churn prediction model using the Telco Customer Churn dataset. The 'CUSTOMER_CHURN' use case is best tailored for this situation. For the purpose of taking an example, we will be using the [Telco Customer Churn Dataset](https://s3.amazonaws.com//realityengines.exampledatasets/customer_churn/telco.csv) that has user information, attributes, and whether or not they churned."
   ]
  },
  {
   "cell_type": "code",
   "execution_count": 6,
   "metadata": {
    "id": "8is59yg9rN2a"
   },
   "outputs": [],
   "source": [
    "#@title Abacus.AI Use Case\n",
    "use_case = 'CUSTOMER_CHURN'  #@param {type: \"string\"}"
   ]
  },
  {
   "cell_type": "markdown",
   "metadata": {
    "id": "UkRaPf4t80Ww"
   },
   "source": [
    "By calling the `describe_use_case_requirements` method we can view what features are required for this use_case and what features are recommended."
   ]
  },
  {
   "cell_type": "code",
   "execution_count": 7,
   "metadata": {
    "id": "XsyiQeZBrQox"
   },
   "outputs": [
    {
     "name": "stdout",
     "output_type": "stream",
     "text": [
      "{ 'allowed_column_mappings': { 'CHURNED_YN': { 'allowed_data_types': [ 'CATEGORICAL'],\n",
      "                                               'description': 'Specifies '\n",
      "                                                              'whether a user '\n",
      "                                                              'has churned out '\n",
      "                                                              'or not.  You '\n",
      "                                                              'need some '\n",
      "                                                              'examples of '\n",
      "                                                              'users that have '\n",
      "                                                              'churned out, '\n",
      "                                                              'for our AI '\n",
      "                                                              'engine to '\n",
      "                                                              'create a '\n",
      "                                                              'predictive '\n",
      "                                                              'model.',\n",
      "                                               'required': True},\n",
      "                               'IGNORE': { 'description': 'Ignore this column '\n",
      "                                                          'in training',\n",
      "                                           'multiple': True,\n",
      "                                           'required': False},\n",
      "                               'USER_ID': { 'allowed_data_types': [ 'CATEGORICAL'],\n",
      "                                            'description': 'The unique '\n",
      "                                                           'identifier for the '\n",
      "                                                           'user.',\n",
      "                                            'required': True}},\n",
      "  'dataset_type': 'USER_ATTRIBUTES',\n",
      "  'description': 'This dataset corresponds to the user attributes relevant to '\n",
      "                 'predict if the customer/user is going to churn out or not.',\n",
      "  'name': 'User Attributes',\n",
      "  'required': True}\n"
     ]
    }
   ],
   "source": [
    "for requirement in client.describe_use_case_requirements(use_case):\n",
    "  pp.pprint(requirement.to_dict())"
   ]
  },
  {
   "cell_type": "markdown",
   "metadata": {
    "id": "gfaARhOL83Lk"
   },
   "source": [
    "Finally, let's create the project."
   ]
  },
  {
   "cell_type": "code",
   "execution_count": 8,
   "metadata": {
    "id": "bD_jOVUFrRz4"
   },
   "outputs": [
    {
     "data": {
      "text/plain": [
       "{'project_id': '563d44e42',\n",
       " 'name': 'Customer Churn Prediction',\n",
       " 'use_case': 'CUSTOMER_CHURN',\n",
       " 'created_at': '2021-10-11T01:17:20+00:00',\n",
       " 'feature_groups_enabled': True}"
      ]
     },
     "execution_count": 8,
     "metadata": {},
     "output_type": "execute_result"
    }
   ],
   "source": [
    "churn_project = client.create_project(name='Customer Churn Prediction', use_case=use_case)\n",
    "churn_project.to_dict()"
   ]
  },
  {
   "cell_type": "markdown",
   "metadata": {},
   "source": [
    "**Note: When feature_groups_enabled is True then the use case supports feature groups (collection of ML features). Feature groups are created at the organization level and can be tied to a project to further use it for training ML models**"
   ]
  },
  {
   "cell_type": "markdown",
   "metadata": {
    "id": "Ul4eakvYEkEJ"
   },
   "source": [
    "## 2. Add Datasets to your Project\n",
    "\n",
    "Abacus.AI can read datasets directly from `AWS S3`, `Google Cloud Storage`, and other cloud storage buckets, you can also connect your dataset connector and pull your data from them (bigquery, snowflake, etc.). Otherwise you can also directly upload and store your datasets with Abacus.AI. For this notebook, we will have Abacus.AI read the datasets directly from a public S3 bucket's location.\n",
    "\n",
    "We are using one dataset for this notebook. We'll tell Abacus.AI how the dataset should be used when creating it by tagging the dataset with a special Abacus.AI **Dataset Type**.\n",
    "- [Telco Customer Churn Dataset](https://s3.amazonaws.com//realityengines.exampledatasets/customer_churn/telco.csv) (**USER_ATTRIBUTES**): \n",
    "This dataset contains information about multiple users for a specified company, along with whether or not they churned."
   ]
  },
  {
   "cell_type": "markdown",
   "metadata": {
    "id": "Aomom3Q19MB9"
   },
   "source": [
    "### Add the dataset to Abacus.AI\n",
    "\n",
    "First we'll use Pandas to preview the file, then add it to Abacus.AI."
   ]
  },
  {
   "cell_type": "code",
   "execution_count": 9,
   "metadata": {
    "id": "Ya8X1qm0rXn9"
   },
   "outputs": [
    {
     "data": {
      "text/html": [
       "<div>\n",
       "<style scoped>\n",
       "    .dataframe tbody tr th:only-of-type {\n",
       "        vertical-align: middle;\n",
       "    }\n",
       "\n",
       "    .dataframe tbody tr th {\n",
       "        vertical-align: top;\n",
       "    }\n",
       "\n",
       "    .dataframe thead th {\n",
       "        text-align: right;\n",
       "    }\n",
       "</style>\n",
       "<table border=\"1\" class=\"dataframe\">\n",
       "  <thead>\n",
       "    <tr style=\"text-align: right;\">\n",
       "      <th></th>\n",
       "      <th>customerID</th>\n",
       "      <th>gender</th>\n",
       "      <th>SeniorCitizen</th>\n",
       "      <th>Partner</th>\n",
       "      <th>Dependents</th>\n",
       "      <th>tenure</th>\n",
       "      <th>PhoneService</th>\n",
       "      <th>MultipleLines</th>\n",
       "      <th>InternetService</th>\n",
       "      <th>OnlineSecurity</th>\n",
       "      <th>...</th>\n",
       "      <th>DeviceProtection</th>\n",
       "      <th>TechSupport</th>\n",
       "      <th>StreamingTV</th>\n",
       "      <th>StreamingMovies</th>\n",
       "      <th>Contract</th>\n",
       "      <th>PaperlessBilling</th>\n",
       "      <th>PaymentMethod</th>\n",
       "      <th>MonthlyCharges</th>\n",
       "      <th>TotalCharges</th>\n",
       "      <th>Churn</th>\n",
       "    </tr>\n",
       "  </thead>\n",
       "  <tbody>\n",
       "    <tr>\n",
       "      <th>0</th>\n",
       "      <td>7590-VHVEG</td>\n",
       "      <td>Female</td>\n",
       "      <td>0</td>\n",
       "      <td>Yes</td>\n",
       "      <td>No</td>\n",
       "      <td>1</td>\n",
       "      <td>No</td>\n",
       "      <td>No phone service</td>\n",
       "      <td>DSL</td>\n",
       "      <td>No</td>\n",
       "      <td>...</td>\n",
       "      <td>No</td>\n",
       "      <td>No</td>\n",
       "      <td>No</td>\n",
       "      <td>No</td>\n",
       "      <td>Month-to-month</td>\n",
       "      <td>Yes</td>\n",
       "      <td>Electronic check</td>\n",
       "      <td>29.85</td>\n",
       "      <td>29.85</td>\n",
       "      <td>No</td>\n",
       "    </tr>\n",
       "    <tr>\n",
       "      <th>1</th>\n",
       "      <td>5575-GNVDE</td>\n",
       "      <td>Male</td>\n",
       "      <td>0</td>\n",
       "      <td>No</td>\n",
       "      <td>No</td>\n",
       "      <td>34</td>\n",
       "      <td>Yes</td>\n",
       "      <td>No</td>\n",
       "      <td>DSL</td>\n",
       "      <td>Yes</td>\n",
       "      <td>...</td>\n",
       "      <td>Yes</td>\n",
       "      <td>No</td>\n",
       "      <td>No</td>\n",
       "      <td>No</td>\n",
       "      <td>One year</td>\n",
       "      <td>No</td>\n",
       "      <td>Mailed check</td>\n",
       "      <td>56.95</td>\n",
       "      <td>1889.5</td>\n",
       "      <td>No</td>\n",
       "    </tr>\n",
       "    <tr>\n",
       "      <th>2</th>\n",
       "      <td>3668-QPYBK</td>\n",
       "      <td>Male</td>\n",
       "      <td>0</td>\n",
       "      <td>No</td>\n",
       "      <td>No</td>\n",
       "      <td>2</td>\n",
       "      <td>Yes</td>\n",
       "      <td>No</td>\n",
       "      <td>DSL</td>\n",
       "      <td>Yes</td>\n",
       "      <td>...</td>\n",
       "      <td>No</td>\n",
       "      <td>No</td>\n",
       "      <td>No</td>\n",
       "      <td>No</td>\n",
       "      <td>Month-to-month</td>\n",
       "      <td>Yes</td>\n",
       "      <td>Mailed check</td>\n",
       "      <td>53.85</td>\n",
       "      <td>108.15</td>\n",
       "      <td>Yes</td>\n",
       "    </tr>\n",
       "    <tr>\n",
       "      <th>3</th>\n",
       "      <td>7795-CFOCW</td>\n",
       "      <td>Male</td>\n",
       "      <td>0</td>\n",
       "      <td>No</td>\n",
       "      <td>No</td>\n",
       "      <td>45</td>\n",
       "      <td>No</td>\n",
       "      <td>No phone service</td>\n",
       "      <td>DSL</td>\n",
       "      <td>Yes</td>\n",
       "      <td>...</td>\n",
       "      <td>Yes</td>\n",
       "      <td>Yes</td>\n",
       "      <td>No</td>\n",
       "      <td>No</td>\n",
       "      <td>One year</td>\n",
       "      <td>No</td>\n",
       "      <td>Bank transfer (automatic)</td>\n",
       "      <td>42.30</td>\n",
       "      <td>1840.75</td>\n",
       "      <td>No</td>\n",
       "    </tr>\n",
       "    <tr>\n",
       "      <th>4</th>\n",
       "      <td>9237-HQITU</td>\n",
       "      <td>Female</td>\n",
       "      <td>0</td>\n",
       "      <td>No</td>\n",
       "      <td>No</td>\n",
       "      <td>2</td>\n",
       "      <td>Yes</td>\n",
       "      <td>No</td>\n",
       "      <td>Fiber optic</td>\n",
       "      <td>No</td>\n",
       "      <td>...</td>\n",
       "      <td>No</td>\n",
       "      <td>No</td>\n",
       "      <td>No</td>\n",
       "      <td>No</td>\n",
       "      <td>Month-to-month</td>\n",
       "      <td>Yes</td>\n",
       "      <td>Electronic check</td>\n",
       "      <td>70.70</td>\n",
       "      <td>151.65</td>\n",
       "      <td>Yes</td>\n",
       "    </tr>\n",
       "    <tr>\n",
       "      <th>...</th>\n",
       "      <td>...</td>\n",
       "      <td>...</td>\n",
       "      <td>...</td>\n",
       "      <td>...</td>\n",
       "      <td>...</td>\n",
       "      <td>...</td>\n",
       "      <td>...</td>\n",
       "      <td>...</td>\n",
       "      <td>...</td>\n",
       "      <td>...</td>\n",
       "      <td>...</td>\n",
       "      <td>...</td>\n",
       "      <td>...</td>\n",
       "      <td>...</td>\n",
       "      <td>...</td>\n",
       "      <td>...</td>\n",
       "      <td>...</td>\n",
       "      <td>...</td>\n",
       "      <td>...</td>\n",
       "      <td>...</td>\n",
       "      <td>...</td>\n",
       "    </tr>\n",
       "    <tr>\n",
       "      <th>7038</th>\n",
       "      <td>6840-RESVB</td>\n",
       "      <td>Male</td>\n",
       "      <td>0</td>\n",
       "      <td>Yes</td>\n",
       "      <td>Yes</td>\n",
       "      <td>24</td>\n",
       "      <td>Yes</td>\n",
       "      <td>Yes</td>\n",
       "      <td>DSL</td>\n",
       "      <td>Yes</td>\n",
       "      <td>...</td>\n",
       "      <td>Yes</td>\n",
       "      <td>Yes</td>\n",
       "      <td>Yes</td>\n",
       "      <td>Yes</td>\n",
       "      <td>One year</td>\n",
       "      <td>Yes</td>\n",
       "      <td>Mailed check</td>\n",
       "      <td>84.80</td>\n",
       "      <td>1990.5</td>\n",
       "      <td>No</td>\n",
       "    </tr>\n",
       "    <tr>\n",
       "      <th>7039</th>\n",
       "      <td>2234-XADUH</td>\n",
       "      <td>Female</td>\n",
       "      <td>0</td>\n",
       "      <td>Yes</td>\n",
       "      <td>Yes</td>\n",
       "      <td>72</td>\n",
       "      <td>Yes</td>\n",
       "      <td>Yes</td>\n",
       "      <td>Fiber optic</td>\n",
       "      <td>No</td>\n",
       "      <td>...</td>\n",
       "      <td>Yes</td>\n",
       "      <td>No</td>\n",
       "      <td>Yes</td>\n",
       "      <td>Yes</td>\n",
       "      <td>One year</td>\n",
       "      <td>Yes</td>\n",
       "      <td>Credit card (automatic)</td>\n",
       "      <td>103.20</td>\n",
       "      <td>7362.9</td>\n",
       "      <td>No</td>\n",
       "    </tr>\n",
       "    <tr>\n",
       "      <th>7040</th>\n",
       "      <td>4801-JZAZL</td>\n",
       "      <td>Female</td>\n",
       "      <td>0</td>\n",
       "      <td>Yes</td>\n",
       "      <td>Yes</td>\n",
       "      <td>11</td>\n",
       "      <td>No</td>\n",
       "      <td>No phone service</td>\n",
       "      <td>DSL</td>\n",
       "      <td>Yes</td>\n",
       "      <td>...</td>\n",
       "      <td>No</td>\n",
       "      <td>No</td>\n",
       "      <td>No</td>\n",
       "      <td>No</td>\n",
       "      <td>Month-to-month</td>\n",
       "      <td>Yes</td>\n",
       "      <td>Electronic check</td>\n",
       "      <td>29.60</td>\n",
       "      <td>346.45</td>\n",
       "      <td>No</td>\n",
       "    </tr>\n",
       "    <tr>\n",
       "      <th>7041</th>\n",
       "      <td>8361-LTMKD</td>\n",
       "      <td>Male</td>\n",
       "      <td>1</td>\n",
       "      <td>Yes</td>\n",
       "      <td>No</td>\n",
       "      <td>4</td>\n",
       "      <td>Yes</td>\n",
       "      <td>Yes</td>\n",
       "      <td>Fiber optic</td>\n",
       "      <td>No</td>\n",
       "      <td>...</td>\n",
       "      <td>No</td>\n",
       "      <td>No</td>\n",
       "      <td>No</td>\n",
       "      <td>No</td>\n",
       "      <td>Month-to-month</td>\n",
       "      <td>Yes</td>\n",
       "      <td>Mailed check</td>\n",
       "      <td>74.40</td>\n",
       "      <td>306.6</td>\n",
       "      <td>Yes</td>\n",
       "    </tr>\n",
       "    <tr>\n",
       "      <th>7042</th>\n",
       "      <td>3186-AJIEK</td>\n",
       "      <td>Male</td>\n",
       "      <td>0</td>\n",
       "      <td>No</td>\n",
       "      <td>No</td>\n",
       "      <td>66</td>\n",
       "      <td>Yes</td>\n",
       "      <td>No</td>\n",
       "      <td>Fiber optic</td>\n",
       "      <td>Yes</td>\n",
       "      <td>...</td>\n",
       "      <td>Yes</td>\n",
       "      <td>Yes</td>\n",
       "      <td>Yes</td>\n",
       "      <td>Yes</td>\n",
       "      <td>Two year</td>\n",
       "      <td>Yes</td>\n",
       "      <td>Bank transfer (automatic)</td>\n",
       "      <td>105.65</td>\n",
       "      <td>6844.5</td>\n",
       "      <td>No</td>\n",
       "    </tr>\n",
       "  </tbody>\n",
       "</table>\n",
       "<p>7043 rows × 21 columns</p>\n",
       "</div>"
      ],
      "text/plain": [
       "      customerID  gender  SeniorCitizen Partner Dependents  tenure  \\\n",
       "0     7590-VHVEG  Female              0     Yes         No       1   \n",
       "1     5575-GNVDE    Male              0      No         No      34   \n",
       "2     3668-QPYBK    Male              0      No         No       2   \n",
       "3     7795-CFOCW    Male              0      No         No      45   \n",
       "4     9237-HQITU  Female              0      No         No       2   \n",
       "...          ...     ...            ...     ...        ...     ...   \n",
       "7038  6840-RESVB    Male              0     Yes        Yes      24   \n",
       "7039  2234-XADUH  Female              0     Yes        Yes      72   \n",
       "7040  4801-JZAZL  Female              0     Yes        Yes      11   \n",
       "7041  8361-LTMKD    Male              1     Yes         No       4   \n",
       "7042  3186-AJIEK    Male              0      No         No      66   \n",
       "\n",
       "     PhoneService     MultipleLines InternetService OnlineSecurity  ...  \\\n",
       "0              No  No phone service             DSL             No  ...   \n",
       "1             Yes                No             DSL            Yes  ...   \n",
       "2             Yes                No             DSL            Yes  ...   \n",
       "3              No  No phone service             DSL            Yes  ...   \n",
       "4             Yes                No     Fiber optic             No  ...   \n",
       "...           ...               ...             ...            ...  ...   \n",
       "7038          Yes               Yes             DSL            Yes  ...   \n",
       "7039          Yes               Yes     Fiber optic             No  ...   \n",
       "7040           No  No phone service             DSL            Yes  ...   \n",
       "7041          Yes               Yes     Fiber optic             No  ...   \n",
       "7042          Yes                No     Fiber optic            Yes  ...   \n",
       "\n",
       "     DeviceProtection TechSupport StreamingTV StreamingMovies        Contract  \\\n",
       "0                  No          No          No              No  Month-to-month   \n",
       "1                 Yes          No          No              No        One year   \n",
       "2                  No          No          No              No  Month-to-month   \n",
       "3                 Yes         Yes          No              No        One year   \n",
       "4                  No          No          No              No  Month-to-month   \n",
       "...               ...         ...         ...             ...             ...   \n",
       "7038              Yes         Yes         Yes             Yes        One year   \n",
       "7039              Yes          No         Yes             Yes        One year   \n",
       "7040               No          No          No              No  Month-to-month   \n",
       "7041               No          No          No              No  Month-to-month   \n",
       "7042              Yes         Yes         Yes             Yes        Two year   \n",
       "\n",
       "     PaperlessBilling              PaymentMethod MonthlyCharges  TotalCharges  \\\n",
       "0                 Yes           Electronic check          29.85         29.85   \n",
       "1                  No               Mailed check          56.95        1889.5   \n",
       "2                 Yes               Mailed check          53.85        108.15   \n",
       "3                  No  Bank transfer (automatic)          42.30       1840.75   \n",
       "4                 Yes           Electronic check          70.70        151.65   \n",
       "...               ...                        ...            ...           ...   \n",
       "7038              Yes               Mailed check          84.80        1990.5   \n",
       "7039              Yes    Credit card (automatic)         103.20        7362.9   \n",
       "7040              Yes           Electronic check          29.60        346.45   \n",
       "7041              Yes               Mailed check          74.40         306.6   \n",
       "7042              Yes  Bank transfer (automatic)         105.65        6844.5   \n",
       "\n",
       "     Churn  \n",
       "0       No  \n",
       "1       No  \n",
       "2      Yes  \n",
       "3       No  \n",
       "4      Yes  \n",
       "...    ...  \n",
       "7038    No  \n",
       "7039    No  \n",
       "7040    No  \n",
       "7041   Yes  \n",
       "7042    No  \n",
       "\n",
       "[7043 rows x 21 columns]"
      ]
     },
     "execution_count": 9,
     "metadata": {},
     "output_type": "execute_result"
    }
   ],
   "source": [
    "pd.read_csv('https://s3.amazonaws.com//realityengines.exampledatasets/customer_churn/telco.csv')"
   ]
  },
  {
   "cell_type": "markdown",
   "metadata": {
    "id": "KFOlKo8P9JSJ"
   },
   "source": [
    "Using the Create Dataset API, we can tell Abacus.AI the public S3 URI of where to find the datasets. We will also give each dataset a Refresh Schedule, which tells Abacus.AI when it should refresh the dataset (take an updated/latest copy of the dataset).\n",
    "\n",
    "If you're unfamiliar with Cron Syntax, Crontab Guru can help translate the syntax back into natural language: [https://crontab.guru/#0_12_\\*_\\*_\\*](https://crontab.guru/#0_12_*_*_*)\n",
    "\n",
    "**Note: This cron string will be evaluated in UTC time zone**"
   ]
  },
  {
   "cell_type": "code",
   "execution_count": 10,
   "metadata": {
    "id": "3XOVpmKErjkE"
   },
   "outputs": [],
   "source": [
    "churn_dataset = client.create_dataset_from_file_connector(name='Telco Customer Churn', \n",
    "                                     location='s3://realityengines.exampledatasets/customer_churn/telco.csv', table_name='churn_prediction', refresh_schedule = '0 12 * * *')\n",
    "\n",
    "datasets = [churn_dataset]"
   ]
  },
  {
   "cell_type": "markdown",
   "metadata": {},
   "source": [
    "## 3. Create Feature Groups and add them to your Project\n",
    "\n",
    "Datasets are created at the organization level and can be used to create feature groups as follows:"
   ]
  },
  {
   "cell_type": "code",
   "execution_count": 11,
   "metadata": {},
   "outputs": [],
   "source": [
    "feature_group = client.create_feature_group(table_name='churn_pred_fg', sql='SELECT * FROM churn_prediction')"
   ]
  },
  {
   "cell_type": "markdown",
   "metadata": {},
   "source": [
    "Adding Feature Group to the project:"
   ]
  },
  {
   "cell_type": "code",
   "execution_count": 12,
   "metadata": {},
   "outputs": [],
   "source": [
    "client.add_feature_group_to_project(feature_group_id=feature_group.feature_group_id,project_id = churn_project.project_id)"
   ]
  },
  {
   "cell_type": "markdown",
   "metadata": {},
   "source": [
    "Setting the Feature Group type according to the use case requirements:"
   ]
  },
  {
   "cell_type": "code",
   "execution_count": 14,
   "metadata": {},
   "outputs": [],
   "source": [
    "client.set_feature_group_type(feature_group_id=feature_group.feature_group_id, project_id = churn_project.project_id, feature_group_type= \"USER_ATTRIBUTES\")"
   ]
  },
  {
   "cell_type": "markdown",
   "metadata": {
    "id": "F2KHhw9D9RCE"
   },
   "source": [
    "Check current Feature Group schema:"
   ]
  },
  {
   "cell_type": "code",
   "execution_count": 15,
   "metadata": {},
   "outputs": [
    {
     "data": {
      "text/plain": [
       "[FeatureColumn(name='customerID', select_clause=None, column_data_type='CATEGORICAL', column_mapping=None, source_table='churn_prediction', original_name=None, using_clause=None, order_clause=None, where_clause=None, columns=NestedColumn(name=None, select_clause=None, data_type=None, data_use=None, source_table=None, original_name=None), point_in_time_info=PointInTimeFeature(history_table_name=None, aggregation_keys=None, timestamp_key=None, historical_timestamp_key=None, lookback_window_seconds=None, lookback_window_lag_seconds=None, lookback_count=None, lookback_until_position=None, expression=None)),\n",
       " FeatureColumn(name='gender', select_clause=None, column_data_type='CATEGORICAL', column_mapping=None, source_table='churn_prediction', original_name=None, using_clause=None, order_clause=None, where_clause=None, columns=NestedColumn(name=None, select_clause=None, data_type=None, data_use=None, source_table=None, original_name=None), point_in_time_info=PointInTimeFeature(history_table_name=None, aggregation_keys=None, timestamp_key=None, historical_timestamp_key=None, lookback_window_seconds=None, lookback_window_lag_seconds=None, lookback_count=None, lookback_until_position=None, expression=None)),\n",
       " FeatureColumn(name='SeniorCitizen', select_clause=None, column_data_type='CATEGORICAL', column_mapping=None, source_table='churn_prediction', original_name=None, using_clause=None, order_clause=None, where_clause=None, columns=NestedColumn(name=None, select_clause=None, data_type=None, data_use=None, source_table=None, original_name=None), point_in_time_info=PointInTimeFeature(history_table_name=None, aggregation_keys=None, timestamp_key=None, historical_timestamp_key=None, lookback_window_seconds=None, lookback_window_lag_seconds=None, lookback_count=None, lookback_until_position=None, expression=None)),\n",
       " FeatureColumn(name='Partner', select_clause=None, column_data_type='CATEGORICAL', column_mapping=None, source_table='churn_prediction', original_name=None, using_clause=None, order_clause=None, where_clause=None, columns=NestedColumn(name=None, select_clause=None, data_type=None, data_use=None, source_table=None, original_name=None), point_in_time_info=PointInTimeFeature(history_table_name=None, aggregation_keys=None, timestamp_key=None, historical_timestamp_key=None, lookback_window_seconds=None, lookback_window_lag_seconds=None, lookback_count=None, lookback_until_position=None, expression=None)),\n",
       " FeatureColumn(name='Dependents', select_clause=None, column_data_type='CATEGORICAL', column_mapping=None, source_table='churn_prediction', original_name=None, using_clause=None, order_clause=None, where_clause=None, columns=NestedColumn(name=None, select_clause=None, data_type=None, data_use=None, source_table=None, original_name=None), point_in_time_info=PointInTimeFeature(history_table_name=None, aggregation_keys=None, timestamp_key=None, historical_timestamp_key=None, lookback_window_seconds=None, lookback_window_lag_seconds=None, lookback_count=None, lookback_until_position=None, expression=None)),\n",
       " FeatureColumn(name='tenure', select_clause=None, column_data_type='NUMERICAL', column_mapping=None, source_table='churn_prediction', original_name=None, using_clause=None, order_clause=None, where_clause=None, columns=NestedColumn(name=None, select_clause=None, data_type=None, data_use=None, source_table=None, original_name=None), point_in_time_info=PointInTimeFeature(history_table_name=None, aggregation_keys=None, timestamp_key=None, historical_timestamp_key=None, lookback_window_seconds=None, lookback_window_lag_seconds=None, lookback_count=None, lookback_until_position=None, expression=None)),\n",
       " FeatureColumn(name='PhoneService', select_clause=None, column_data_type='CATEGORICAL', column_mapping=None, source_table='churn_prediction', original_name=None, using_clause=None, order_clause=None, where_clause=None, columns=NestedColumn(name=None, select_clause=None, data_type=None, data_use=None, source_table=None, original_name=None), point_in_time_info=PointInTimeFeature(history_table_name=None, aggregation_keys=None, timestamp_key=None, historical_timestamp_key=None, lookback_window_seconds=None, lookback_window_lag_seconds=None, lookback_count=None, lookback_until_position=None, expression=None)),\n",
       " FeatureColumn(name='MultipleLines', select_clause=None, column_data_type='CATEGORICAL', column_mapping=None, source_table='churn_prediction', original_name=None, using_clause=None, order_clause=None, where_clause=None, columns=NestedColumn(name=None, select_clause=None, data_type=None, data_use=None, source_table=None, original_name=None), point_in_time_info=PointInTimeFeature(history_table_name=None, aggregation_keys=None, timestamp_key=None, historical_timestamp_key=None, lookback_window_seconds=None, lookback_window_lag_seconds=None, lookback_count=None, lookback_until_position=None, expression=None)),\n",
       " FeatureColumn(name='InternetService', select_clause=None, column_data_type='CATEGORICAL', column_mapping=None, source_table='churn_prediction', original_name=None, using_clause=None, order_clause=None, where_clause=None, columns=NestedColumn(name=None, select_clause=None, data_type=None, data_use=None, source_table=None, original_name=None), point_in_time_info=PointInTimeFeature(history_table_name=None, aggregation_keys=None, timestamp_key=None, historical_timestamp_key=None, lookback_window_seconds=None, lookback_window_lag_seconds=None, lookback_count=None, lookback_until_position=None, expression=None)),\n",
       " FeatureColumn(name='OnlineSecurity', select_clause=None, column_data_type='CATEGORICAL', column_mapping=None, source_table='churn_prediction', original_name=None, using_clause=None, order_clause=None, where_clause=None, columns=NestedColumn(name=None, select_clause=None, data_type=None, data_use=None, source_table=None, original_name=None), point_in_time_info=PointInTimeFeature(history_table_name=None, aggregation_keys=None, timestamp_key=None, historical_timestamp_key=None, lookback_window_seconds=None, lookback_window_lag_seconds=None, lookback_count=None, lookback_until_position=None, expression=None)),\n",
       " FeatureColumn(name='OnlineBackup', select_clause=None, column_data_type='CATEGORICAL', column_mapping=None, source_table='churn_prediction', original_name=None, using_clause=None, order_clause=None, where_clause=None, columns=NestedColumn(name=None, select_clause=None, data_type=None, data_use=None, source_table=None, original_name=None), point_in_time_info=PointInTimeFeature(history_table_name=None, aggregation_keys=None, timestamp_key=None, historical_timestamp_key=None, lookback_window_seconds=None, lookback_window_lag_seconds=None, lookback_count=None, lookback_until_position=None, expression=None)),\n",
       " FeatureColumn(name='DeviceProtection', select_clause=None, column_data_type='CATEGORICAL', column_mapping=None, source_table='churn_prediction', original_name=None, using_clause=None, order_clause=None, where_clause=None, columns=NestedColumn(name=None, select_clause=None, data_type=None, data_use=None, source_table=None, original_name=None), point_in_time_info=PointInTimeFeature(history_table_name=None, aggregation_keys=None, timestamp_key=None, historical_timestamp_key=None, lookback_window_seconds=None, lookback_window_lag_seconds=None, lookback_count=None, lookback_until_position=None, expression=None)),\n",
       " FeatureColumn(name='TechSupport', select_clause=None, column_data_type='CATEGORICAL', column_mapping=None, source_table='churn_prediction', original_name=None, using_clause=None, order_clause=None, where_clause=None, columns=NestedColumn(name=None, select_clause=None, data_type=None, data_use=None, source_table=None, original_name=None), point_in_time_info=PointInTimeFeature(history_table_name=None, aggregation_keys=None, timestamp_key=None, historical_timestamp_key=None, lookback_window_seconds=None, lookback_window_lag_seconds=None, lookback_count=None, lookback_until_position=None, expression=None)),\n",
       " FeatureColumn(name='StreamingTV', select_clause=None, column_data_type='CATEGORICAL', column_mapping=None, source_table='churn_prediction', original_name=None, using_clause=None, order_clause=None, where_clause=None, columns=NestedColumn(name=None, select_clause=None, data_type=None, data_use=None, source_table=None, original_name=None), point_in_time_info=PointInTimeFeature(history_table_name=None, aggregation_keys=None, timestamp_key=None, historical_timestamp_key=None, lookback_window_seconds=None, lookback_window_lag_seconds=None, lookback_count=None, lookback_until_position=None, expression=None)),\n",
       " FeatureColumn(name='StreamingMovies', select_clause=None, column_data_type='CATEGORICAL', column_mapping=None, source_table='churn_prediction', original_name=None, using_clause=None, order_clause=None, where_clause=None, columns=NestedColumn(name=None, select_clause=None, data_type=None, data_use=None, source_table=None, original_name=None), point_in_time_info=PointInTimeFeature(history_table_name=None, aggregation_keys=None, timestamp_key=None, historical_timestamp_key=None, lookback_window_seconds=None, lookback_window_lag_seconds=None, lookback_count=None, lookback_until_position=None, expression=None)),\n",
       " FeatureColumn(name='Contract', select_clause=None, column_data_type='CATEGORICAL', column_mapping=None, source_table='churn_prediction', original_name=None, using_clause=None, order_clause=None, where_clause=None, columns=NestedColumn(name=None, select_clause=None, data_type=None, data_use=None, source_table=None, original_name=None), point_in_time_info=PointInTimeFeature(history_table_name=None, aggregation_keys=None, timestamp_key=None, historical_timestamp_key=None, lookback_window_seconds=None, lookback_window_lag_seconds=None, lookback_count=None, lookback_until_position=None, expression=None)),\n",
       " FeatureColumn(name='PaperlessBilling', select_clause=None, column_data_type='CATEGORICAL', column_mapping=None, source_table='churn_prediction', original_name=None, using_clause=None, order_clause=None, where_clause=None, columns=NestedColumn(name=None, select_clause=None, data_type=None, data_use=None, source_table=None, original_name=None), point_in_time_info=PointInTimeFeature(history_table_name=None, aggregation_keys=None, timestamp_key=None, historical_timestamp_key=None, lookback_window_seconds=None, lookback_window_lag_seconds=None, lookback_count=None, lookback_until_position=None, expression=None)),\n",
       " FeatureColumn(name='PaymentMethod', select_clause=None, column_data_type='CATEGORICAL', column_mapping=None, source_table='churn_prediction', original_name=None, using_clause=None, order_clause=None, where_clause=None, columns=NestedColumn(name=None, select_clause=None, data_type=None, data_use=None, source_table=None, original_name=None), point_in_time_info=PointInTimeFeature(history_table_name=None, aggregation_keys=None, timestamp_key=None, historical_timestamp_key=None, lookback_window_seconds=None, lookback_window_lag_seconds=None, lookback_count=None, lookback_until_position=None, expression=None)),\n",
       " FeatureColumn(name='MonthlyCharges', select_clause=None, column_data_type='NUMERICAL', column_mapping=None, source_table='churn_prediction', original_name=None, using_clause=None, order_clause=None, where_clause=None, columns=NestedColumn(name=None, select_clause=None, data_type=None, data_use=None, source_table=None, original_name=None), point_in_time_info=PointInTimeFeature(history_table_name=None, aggregation_keys=None, timestamp_key=None, historical_timestamp_key=None, lookback_window_seconds=None, lookback_window_lag_seconds=None, lookback_count=None, lookback_until_position=None, expression=None)),\n",
       " FeatureColumn(name='TotalCharges', select_clause=None, column_data_type='NUMERICAL', column_mapping=None, source_table='churn_prediction', original_name=None, using_clause=None, order_clause=None, where_clause=None, columns=NestedColumn(name=None, select_clause=None, data_type=None, data_use=None, source_table=None, original_name=None), point_in_time_info=PointInTimeFeature(history_table_name=None, aggregation_keys=None, timestamp_key=None, historical_timestamp_key=None, lookback_window_seconds=None, lookback_window_lag_seconds=None, lookback_count=None, lookback_until_position=None, expression=None)),\n",
       " FeatureColumn(name='Churn', select_clause=None, column_data_type='CATEGORICAL', column_mapping=None, source_table='churn_prediction', original_name=None, using_clause=None, order_clause=None, where_clause=None, columns=NestedColumn(name=None, select_clause=None, data_type=None, data_use=None, source_table=None, original_name=None), point_in_time_info=PointInTimeFeature(history_table_name=None, aggregation_keys=None, timestamp_key=None, historical_timestamp_key=None, lookback_window_seconds=None, lookback_window_lag_seconds=None, lookback_count=None, lookback_until_position=None, expression=None))]"
      ]
     },
     "execution_count": 15,
     "metadata": {},
     "output_type": "execute_result"
    }
   ],
   "source": [
    "client.get_feature_group_schema(feature_group_id=feature_group.feature_group_id)"
   ]
  },
  {
   "cell_type": "markdown",
   "metadata": {
    "id": "00uO2jYw9Swu"
   },
   "source": [
    "#### For each **Use Case**, there are special **Column Mappings** that must be applied to a column to fulfill use case requirements. We can find the list of available **Column Mappings** by calling the *Describe Use Case Requirements* API:"
   ]
  },
  {
   "cell_type": "code",
   "execution_count": 16,
   "metadata": {
    "id": "Lmf335Ulr9cl"
   },
   "outputs": [
    {
     "data": {
      "text/plain": [
       "{'CHURNED_YN': {'description': 'Specifies whether a user has churned out or not.  You need some examples of users that have churned out, for our AI engine to create a predictive model.',\n",
       "  'allowed_data_types': ['CATEGORICAL'],\n",
       "  'required': True},\n",
       " 'USER_ID': {'description': 'The unique identifier for the user.',\n",
       "  'allowed_data_types': ['CATEGORICAL'],\n",
       "  'required': True},\n",
       " 'IGNORE': {'description': 'Ignore this column in training',\n",
       "  'multiple': True,\n",
       "  'required': False}}"
      ]
     },
     "execution_count": 16,
     "metadata": {},
     "output_type": "execute_result"
    }
   ],
   "source": [
    "client.describe_use_case_requirements(use_case)[0].allowed_column_mappings"
   ]
  },
  {
   "cell_type": "code",
   "execution_count": 17,
   "metadata": {},
   "outputs": [
    {
     "data": {
      "text/plain": [
       "[FeatureColumn(name='customerID', select_clause=None, column_data_type='CATEGORICAL', column_mapping=None, source_table='churn_prediction', original_name=None, using_clause=None, order_clause=None, where_clause=None, columns=NestedColumn(name=None, select_clause=None, data_type=None, data_use=None, source_table=None, original_name=None), point_in_time_info=PointInTimeFeature(history_table_name=None, aggregation_keys=None, timestamp_key=None, historical_timestamp_key=None, lookback_window_seconds=None, lookback_window_lag_seconds=None, lookback_count=None, lookback_until_position=None, expression=None)),\n",
       " FeatureColumn(name='gender', select_clause=None, column_data_type='CATEGORICAL', column_mapping=None, source_table='churn_prediction', original_name=None, using_clause=None, order_clause=None, where_clause=None, columns=NestedColumn(name=None, select_clause=None, data_type=None, data_use=None, source_table=None, original_name=None), point_in_time_info=PointInTimeFeature(history_table_name=None, aggregation_keys=None, timestamp_key=None, historical_timestamp_key=None, lookback_window_seconds=None, lookback_window_lag_seconds=None, lookback_count=None, lookback_until_position=None, expression=None)),\n",
       " FeatureColumn(name='SeniorCitizen', select_clause=None, column_data_type='CATEGORICAL', column_mapping=None, source_table='churn_prediction', original_name=None, using_clause=None, order_clause=None, where_clause=None, columns=NestedColumn(name=None, select_clause=None, data_type=None, data_use=None, source_table=None, original_name=None), point_in_time_info=PointInTimeFeature(history_table_name=None, aggregation_keys=None, timestamp_key=None, historical_timestamp_key=None, lookback_window_seconds=None, lookback_window_lag_seconds=None, lookback_count=None, lookback_until_position=None, expression=None)),\n",
       " FeatureColumn(name='Partner', select_clause=None, column_data_type='CATEGORICAL', column_mapping=None, source_table='churn_prediction', original_name=None, using_clause=None, order_clause=None, where_clause=None, columns=NestedColumn(name=None, select_clause=None, data_type=None, data_use=None, source_table=None, original_name=None), point_in_time_info=PointInTimeFeature(history_table_name=None, aggregation_keys=None, timestamp_key=None, historical_timestamp_key=None, lookback_window_seconds=None, lookback_window_lag_seconds=None, lookback_count=None, lookback_until_position=None, expression=None)),\n",
       " FeatureColumn(name='Dependents', select_clause=None, column_data_type='CATEGORICAL', column_mapping=None, source_table='churn_prediction', original_name=None, using_clause=None, order_clause=None, where_clause=None, columns=NestedColumn(name=None, select_clause=None, data_type=None, data_use=None, source_table=None, original_name=None), point_in_time_info=PointInTimeFeature(history_table_name=None, aggregation_keys=None, timestamp_key=None, historical_timestamp_key=None, lookback_window_seconds=None, lookback_window_lag_seconds=None, lookback_count=None, lookback_until_position=None, expression=None)),\n",
       " FeatureColumn(name='tenure', select_clause=None, column_data_type='NUMERICAL', column_mapping=None, source_table='churn_prediction', original_name=None, using_clause=None, order_clause=None, where_clause=None, columns=NestedColumn(name=None, select_clause=None, data_type=None, data_use=None, source_table=None, original_name=None), point_in_time_info=PointInTimeFeature(history_table_name=None, aggregation_keys=None, timestamp_key=None, historical_timestamp_key=None, lookback_window_seconds=None, lookback_window_lag_seconds=None, lookback_count=None, lookback_until_position=None, expression=None)),\n",
       " FeatureColumn(name='PhoneService', select_clause=None, column_data_type='CATEGORICAL', column_mapping=None, source_table='churn_prediction', original_name=None, using_clause=None, order_clause=None, where_clause=None, columns=NestedColumn(name=None, select_clause=None, data_type=None, data_use=None, source_table=None, original_name=None), point_in_time_info=PointInTimeFeature(history_table_name=None, aggregation_keys=None, timestamp_key=None, historical_timestamp_key=None, lookback_window_seconds=None, lookback_window_lag_seconds=None, lookback_count=None, lookback_until_position=None, expression=None)),\n",
       " FeatureColumn(name='MultipleLines', select_clause=None, column_data_type='CATEGORICAL', column_mapping=None, source_table='churn_prediction', original_name=None, using_clause=None, order_clause=None, where_clause=None, columns=NestedColumn(name=None, select_clause=None, data_type=None, data_use=None, source_table=None, original_name=None), point_in_time_info=PointInTimeFeature(history_table_name=None, aggregation_keys=None, timestamp_key=None, historical_timestamp_key=None, lookback_window_seconds=None, lookback_window_lag_seconds=None, lookback_count=None, lookback_until_position=None, expression=None)),\n",
       " FeatureColumn(name='InternetService', select_clause=None, column_data_type='CATEGORICAL', column_mapping=None, source_table='churn_prediction', original_name=None, using_clause=None, order_clause=None, where_clause=None, columns=NestedColumn(name=None, select_clause=None, data_type=None, data_use=None, source_table=None, original_name=None), point_in_time_info=PointInTimeFeature(history_table_name=None, aggregation_keys=None, timestamp_key=None, historical_timestamp_key=None, lookback_window_seconds=None, lookback_window_lag_seconds=None, lookback_count=None, lookback_until_position=None, expression=None)),\n",
       " FeatureColumn(name='OnlineSecurity', select_clause=None, column_data_type='CATEGORICAL', column_mapping=None, source_table='churn_prediction', original_name=None, using_clause=None, order_clause=None, where_clause=None, columns=NestedColumn(name=None, select_clause=None, data_type=None, data_use=None, source_table=None, original_name=None), point_in_time_info=PointInTimeFeature(history_table_name=None, aggregation_keys=None, timestamp_key=None, historical_timestamp_key=None, lookback_window_seconds=None, lookback_window_lag_seconds=None, lookback_count=None, lookback_until_position=None, expression=None)),\n",
       " FeatureColumn(name='OnlineBackup', select_clause=None, column_data_type='CATEGORICAL', column_mapping=None, source_table='churn_prediction', original_name=None, using_clause=None, order_clause=None, where_clause=None, columns=NestedColumn(name=None, select_clause=None, data_type=None, data_use=None, source_table=None, original_name=None), point_in_time_info=PointInTimeFeature(history_table_name=None, aggregation_keys=None, timestamp_key=None, historical_timestamp_key=None, lookback_window_seconds=None, lookback_window_lag_seconds=None, lookback_count=None, lookback_until_position=None, expression=None)),\n",
       " FeatureColumn(name='DeviceProtection', select_clause=None, column_data_type='CATEGORICAL', column_mapping=None, source_table='churn_prediction', original_name=None, using_clause=None, order_clause=None, where_clause=None, columns=NestedColumn(name=None, select_clause=None, data_type=None, data_use=None, source_table=None, original_name=None), point_in_time_info=PointInTimeFeature(history_table_name=None, aggregation_keys=None, timestamp_key=None, historical_timestamp_key=None, lookback_window_seconds=None, lookback_window_lag_seconds=None, lookback_count=None, lookback_until_position=None, expression=None)),\n",
       " FeatureColumn(name='TechSupport', select_clause=None, column_data_type='CATEGORICAL', column_mapping=None, source_table='churn_prediction', original_name=None, using_clause=None, order_clause=None, where_clause=None, columns=NestedColumn(name=None, select_clause=None, data_type=None, data_use=None, source_table=None, original_name=None), point_in_time_info=PointInTimeFeature(history_table_name=None, aggregation_keys=None, timestamp_key=None, historical_timestamp_key=None, lookback_window_seconds=None, lookback_window_lag_seconds=None, lookback_count=None, lookback_until_position=None, expression=None)),\n",
       " FeatureColumn(name='StreamingTV', select_clause=None, column_data_type='CATEGORICAL', column_mapping=None, source_table='churn_prediction', original_name=None, using_clause=None, order_clause=None, where_clause=None, columns=NestedColumn(name=None, select_clause=None, data_type=None, data_use=None, source_table=None, original_name=None), point_in_time_info=PointInTimeFeature(history_table_name=None, aggregation_keys=None, timestamp_key=None, historical_timestamp_key=None, lookback_window_seconds=None, lookback_window_lag_seconds=None, lookback_count=None, lookback_until_position=None, expression=None)),\n",
       " FeatureColumn(name='StreamingMovies', select_clause=None, column_data_type='CATEGORICAL', column_mapping=None, source_table='churn_prediction', original_name=None, using_clause=None, order_clause=None, where_clause=None, columns=NestedColumn(name=None, select_clause=None, data_type=None, data_use=None, source_table=None, original_name=None), point_in_time_info=PointInTimeFeature(history_table_name=None, aggregation_keys=None, timestamp_key=None, historical_timestamp_key=None, lookback_window_seconds=None, lookback_window_lag_seconds=None, lookback_count=None, lookback_until_position=None, expression=None)),\n",
       " FeatureColumn(name='Contract', select_clause=None, column_data_type='CATEGORICAL', column_mapping=None, source_table='churn_prediction', original_name=None, using_clause=None, order_clause=None, where_clause=None, columns=NestedColumn(name=None, select_clause=None, data_type=None, data_use=None, source_table=None, original_name=None), point_in_time_info=PointInTimeFeature(history_table_name=None, aggregation_keys=None, timestamp_key=None, historical_timestamp_key=None, lookback_window_seconds=None, lookback_window_lag_seconds=None, lookback_count=None, lookback_until_position=None, expression=None)),\n",
       " FeatureColumn(name='PaperlessBilling', select_clause=None, column_data_type='CATEGORICAL', column_mapping=None, source_table='churn_prediction', original_name=None, using_clause=None, order_clause=None, where_clause=None, columns=NestedColumn(name=None, select_clause=None, data_type=None, data_use=None, source_table=None, original_name=None), point_in_time_info=PointInTimeFeature(history_table_name=None, aggregation_keys=None, timestamp_key=None, historical_timestamp_key=None, lookback_window_seconds=None, lookback_window_lag_seconds=None, lookback_count=None, lookback_until_position=None, expression=None)),\n",
       " FeatureColumn(name='PaymentMethod', select_clause=None, column_data_type='CATEGORICAL', column_mapping=None, source_table='churn_prediction', original_name=None, using_clause=None, order_clause=None, where_clause=None, columns=NestedColumn(name=None, select_clause=None, data_type=None, data_use=None, source_table=None, original_name=None), point_in_time_info=PointInTimeFeature(history_table_name=None, aggregation_keys=None, timestamp_key=None, historical_timestamp_key=None, lookback_window_seconds=None, lookback_window_lag_seconds=None, lookback_count=None, lookback_until_position=None, expression=None)),\n",
       " FeatureColumn(name='MonthlyCharges', select_clause=None, column_data_type='NUMERICAL', column_mapping=None, source_table='churn_prediction', original_name=None, using_clause=None, order_clause=None, where_clause=None, columns=NestedColumn(name=None, select_clause=None, data_type=None, data_use=None, source_table=None, original_name=None), point_in_time_info=PointInTimeFeature(history_table_name=None, aggregation_keys=None, timestamp_key=None, historical_timestamp_key=None, lookback_window_seconds=None, lookback_window_lag_seconds=None, lookback_count=None, lookback_until_position=None, expression=None)),\n",
       " FeatureColumn(name='TotalCharges', select_clause=None, column_data_type='NUMERICAL', column_mapping=None, source_table='churn_prediction', original_name=None, using_clause=None, order_clause=None, where_clause=None, columns=NestedColumn(name=None, select_clause=None, data_type=None, data_use=None, source_table=None, original_name=None), point_in_time_info=PointInTimeFeature(history_table_name=None, aggregation_keys=None, timestamp_key=None, historical_timestamp_key=None, lookback_window_seconds=None, lookback_window_lag_seconds=None, lookback_count=None, lookback_until_position=None, expression=None)),\n",
       " FeatureColumn(name='Churn', select_clause=None, column_data_type='CATEGORICAL', column_mapping='CHURNED_YN', source_table='churn_prediction', original_name=None, using_clause=None, order_clause=None, where_clause=None, columns=NestedColumn(name=None, select_clause=None, data_type=None, data_use=None, source_table=None, original_name=None), point_in_time_info=PointInTimeFeature(history_table_name=None, aggregation_keys=None, timestamp_key=None, historical_timestamp_key=None, lookback_window_seconds=None, lookback_window_lag_seconds=None, lookback_count=None, lookback_until_position=None, expression=None))]"
      ]
     },
     "execution_count": 17,
     "metadata": {},
     "output_type": "execute_result"
    }
   ],
   "source": [
    "client.set_feature_group_column_mapping(project_id = churn_project.project_id,feature_group_id= feature_group.feature_group_id, column='Churn',column_mapping='CHURNED_YN')"
   ]
  },
  {
   "cell_type": "markdown",
   "metadata": {},
   "source": [
    "client.set_feature_group_column_mapping(project_id = churn_project.project_id,feature_group_id= feature_group.feature_group_id, column='customerID',column_mapping='USER_ID')"
   ]
  },
  {
   "cell_type": "markdown",
   "metadata": {},
   "source": [
    "For each required Feature Group Type within the use case, you must assign the Feature group to be used for training the model:"
   ]
  },
  {
   "cell_type": "code",
   "execution_count": 19,
   "metadata": {},
   "outputs": [],
   "source": [
    "client.use_feature_group_for_training(project_id = churn_project.project_id,feature_group_id= feature_group.feature_group_id)"
   ]
  },
  {
   "cell_type": "markdown",
   "metadata": {},
   "source": [
    "Now that we've our feature groups assigned, we're almost ready to train a model!\n",
    "\n",
    "To be sure that our project is ready to go, let's call project.validate to confirm that all the project requirements have been met:"
   ]
  },
  {
   "cell_type": "code",
   "execution_count": 20,
   "metadata": {},
   "outputs": [
    {
     "data": {
      "text/plain": [
       "ProjectValidation(valid=True, dataset_errors=[], column_hints={})"
      ]
     },
     "execution_count": 20,
     "metadata": {},
     "output_type": "execute_result"
    }
   ],
   "source": [
    "churn_project.validate()"
   ]
  },
  {
   "cell_type": "markdown",
   "metadata": {
    "id": "2-NAMlPK9aNo"
   },
   "source": [
    "## 4. Train a Model"
   ]
  },
  {
   "cell_type": "markdown",
   "metadata": {
    "id": "n4e20jc39m6X"
   },
   "source": [
    "For each **Use Case**, Abacus.AI has a bunch of options for training. We can call the *Get Training Config Options* API to see the available options."
   ]
  },
  {
   "cell_type": "code",
   "execution_count": 21,
   "metadata": {
    "id": "om4lWyg3sbFs"
   },
   "outputs": [
    {
     "data": {
      "text/plain": [
       "[TrainingConfigOptions(name='TEST_SPLIT', data_type='INTEGER', value_type=None, value_options=None, value=None, default=10, options={'range': [5, 20]}, description='Percent of dataset to use for test data. We support using a range between 5% to 20% of your dataset to use as test data.', required=None, last_model_value=None),\n",
       " TrainingConfigOptions(name='DROPOUT_RATE', data_type='INTEGER', value_type=None, value_options=None, value=None, default=None, options={'range': [0, 90]}, description='Dropout percentage rate.', required=None, last_model_value=None),\n",
       " TrainingConfigOptions(name='BATCH_SIZE', data_type='ENUM', value_type=None, value_options=None, value=None, default=None, options={'values': [8, 16, 32, 64, 128, 256, 384, 512, 740, 1024]}, description='Batch size.', required=None, last_model_value=None),\n",
       " TrainingConfigOptions(name='SAMPLING_UNIT_KEYS', data_type='ENUM_TAGS', value_type=None, value_options=None, value=None, default=None, options={'names': ['customerID', 'gender', 'SeniorCitizen', 'Partner', 'Dependents', 'PhoneService', 'MultipleLines', 'InternetService', 'OnlineSecurity', 'OnlineBackup', 'DeviceProtection', 'TechSupport', 'StreamingTV', 'StreamingMovies', 'Contract', 'PaperlessBilling', 'PaymentMethod'], 'values': ['customerID', 'gender', 'SeniorCitizen', 'Partner', 'Dependents', 'PhoneService', 'MultipleLines', 'InternetService', 'OnlineSecurity', 'OnlineBackup', 'DeviceProtection', 'TechSupport', 'StreamingTV', 'StreamingMovies', 'Contract', 'PaperlessBilling', 'PaymentMethod'], 'showItemId': True, 'newLine': True, 'oneColumn': True}, description='Constrain train/test separation to partition a column.', required=None, last_model_value=None),\n",
       " TrainingConfigOptions(name='TEST_ROW_INDICATOR', data_type='ENUM', value_type=None, value_options=None, value=None, default=None, options={'values': ['customerID', 'gender', 'SeniorCitizen', 'Partner', 'Dependents', 'PhoneService', 'MultipleLines', 'InternetService', 'OnlineSecurity', 'OnlineBackup', 'DeviceProtection', 'TechSupport', 'StreamingTV', 'StreamingMovies', 'Contract', 'PaperlessBilling', 'PaymentMethod']}, description='Column indicating which rows to use for training (TRAIN) and testing (TEST).', required=None, last_model_value=None),\n",
       " TrainingConfigOptions(name='SAMPLE_WEIGHT', data_type='ENUM', value_type=None, value_options=None, value=None, default=None, options={'values': ['tenure', 'MonthlyCharges', 'TotalCharges']}, description='Specify a column to use as the weight of a sample for training and eval.', required=None, last_model_value=None),\n",
       " TrainingConfigOptions(name='REBALANCE_CLASSES', data_type='BOOLEAN', value_type=None, value_options=None, value=None, default=None, options=None, description='Down sample training data to match target class ratios', required=None, last_model_value=None),\n",
       " TrainingConfigOptions(name='RARE_CLASS_AUGMENTATION_THRESHOLD', data_type='DECIMAL', value_type=None, value_options=None, value=None, default=0.1, options={'range': [0.01, 0.5]}, description='Augments any rare class whose relative frequency with respect to the most frequent class is less than this threshold.', required=None, last_model_value=None),\n",
       " TrainingConfigOptions(name='AUGMENTATION_STRATEGY', data_type='ENUM', value_type=None, value_options=None, value=None, default=None, options={'values': ['resample', 'smote']}, description='Strategy to deal with class imbalance and data augmentation.', required=None, last_model_value=None),\n",
       " TrainingConfigOptions(name='TRAINING_ROWS_DOWNSAMPLE_RATIO', data_type='DECIMAL', value_type=None, value_options=None, value=None, default=None, options={'range': [0.01, 0.9]}, description='Uses this ratio to train on a sample of the dataset provided.', required=None, last_model_value=None),\n",
       " TrainingConfigOptions(name='IGNORE_DATETIME_FEATURES', data_type='BOOLEAN', value_type=None, value_options=None, value=None, default=None, options=None, description='Remove all datetime features from the model. Useful while generalizing to different time periods', required=None, last_model_value=None),\n",
       " TrainingConfigOptions(name='USE_PRETRAINED_EMBEDDINGS', data_type='BOOLEAN', value_type=None, value_options=None, value=None, default=False, options=None, description='Whether to use pretrained embeddings or not', required=None, last_model_value=None),\n",
       " TrainingConfigOptions(name='MAX_TEXT_WORDS', data_type='INTEGER', value_type=None, value_options=None, value=None, default=None, options={'range': [100, 1000]}, description='Maximum number of words to use from text fields.', required=None, last_model_value=None),\n",
       " TrainingConfigOptions(name='AUTOML_ENSEMBLE_SIZE', data_type='INTEGER', value_type=None, value_options=None, value=None, default=None, options={'range': [2, 10]}, description='Number of architectures to ensemble While ensembling automl architectures', required=None, last_model_value=None),\n",
       " TrainingConfigOptions(name='AUTOML_INITIAL_LEARNING_RATE', data_type='DECIMAL', value_type=None, value_options=None, value=None, default=None, options={'range': [0.0001, 0.01]}, description='Initial learning rate for automl seed architectures', required=None, last_model_value=None)]"
      ]
     },
     "execution_count": 21,
     "metadata": {},
     "output_type": "execute_result"
    }
   ],
   "source": [
    "churn_project.get_training_config_options()"
   ]
  },
  {
   "cell_type": "markdown",
   "metadata": {
    "id": "UJwXinxc9op2"
   },
   "source": [
    "In this notebook, we'll just train with the default options, but definitely feel free to experiment, especially if you have familiarity with Machine Learning."
   ]
  },
  {
   "cell_type": "code",
   "execution_count": 22,
   "metadata": {
    "id": "DCNUnNrIsc-5"
   },
   "outputs": [
    {
     "data": {
      "text/plain": [
       "Model(name='Customer Churn Prediction Model', model_id='eb93cbf00', model_config={}, created_at='2021-10-11T01:40:47+00:00', project_id='563d44e42', shared=False, shared_at=None, location=ModelLocation(location=None, artifact_names=None), refresh_schedules=RefreshSchedule(refresh_policy_id=None, next_run_time=None, cron=None, refresh_type=None), latest_model_version=ModelVersion(model_version='15b12394f4', status='PENDING', model_id={'sharedAt': None, 'notDeployable': False, 'algorithm': 'baseline_dnn', 'shared': False, 'baselineModelId': 413470, 'modelId': 'eb93cbf00', 'modelGroupId': 256390, 'location': None, 'modelConfig': {}, 'updatedAt': '2021-10-11T01:40:47+00:00', 'name': 'Customer Churn Prediction Model', 'createdAt': '2021-10-11T01:40:47+00:00'}, model_config={}, training_started_at=None, training_completed_at=None, dataset_versions=None, error=None, pending_deployment_ids=None, failed_deployment_ids=None))"
      ]
     },
     "execution_count": 22,
     "metadata": {},
     "output_type": "execute_result"
    }
   ],
   "source": [
    "churn_model = churn_project.train_model(training_config={})\n",
    "churn_model"
   ]
  },
  {
   "cell_type": "markdown",
   "metadata": {
    "id": "5VAz1mew9t98"
   },
   "source": [
    "After we start training the model, we can call this blocking call that routinely checks the status of the model until it is trained and evaluated:"
   ]
  },
  {
   "cell_type": "code",
   "execution_count": 23,
   "metadata": {
    "id": "D5tAAbF7shT7"
   },
   "outputs": [
    {
     "data": {
      "text/plain": [
       "Model(name='Customer Churn Prediction Model', model_id='eb93cbf00', model_config={}, created_at='2021-10-11T01:40:47+00:00', project_id='563d44e42', shared=False, shared_at=None, location=ModelLocation(location=None, artifact_names=None), refresh_schedules=RefreshSchedule(refresh_policy_id=None, next_run_time=None, cron=None, refresh_type=None), latest_model_version=ModelVersion(model_version='15b12394f4', status='COMPLETE', model_id={'sharedAt': None, 'notDeployable': False, 'algorithm': 'baseline_dnn', 'shared': False, 'baselineModelId': 413470, 'modelId': 'eb93cbf00', 'modelGroupId': 256390, 'location': None, 'modelConfig': {}, 'updatedAt': '2021-10-11T01:40:47+00:00', 'name': 'Customer Churn Prediction Model', 'createdAt': '2021-10-11T01:40:47+00:00'}, model_config={}, training_started_at='2021-10-11T01:43:58+00:00', training_completed_at='2021-10-11T01:48:54+00:00', dataset_versions=['d92899988'], error=None, pending_deployment_ids=[], failed_deployment_ids=[]))"
      ]
     },
     "execution_count": 23,
     "metadata": {},
     "output_type": "execute_result"
    }
   ],
   "source": [
    "churn_model.wait_for_evaluation()"
   ]
  },
  {
   "cell_type": "markdown",
   "metadata": {},
   "source": [
    "**Note that model training might take some minutes to some hours depending upon the size of datasets, complexity of the models being trained and a variety of other factors**"
   ]
  },
  {
   "cell_type": "markdown",
   "metadata": {
    "id": "LQmikFI69voK"
   },
   "source": [
    "## **Checkpoint** [Optional]\n",
    "As model training can take an hours to complete, your page could time out or you might end up hitting the refresh button, this section helps you restore your progress:"
   ]
  },
  {
   "cell_type": "code",
   "execution_count": 28,
   "metadata": {
    "id": "nGZpsw679wTf"
   },
   "outputs": [
    {
     "name": "stdout",
     "output_type": "stream",
     "text": [
      "Defaulting to user installation because normal site-packages is not writeable\n",
      "Requirement already satisfied: abacusai in /shared/home/ankit/.local/lib/python3.8/site-packages (0.30.8)\n",
      "Requirement already satisfied: packaging in /usr/local/lib/python3.8/dist-packages (from abacusai) (21.0)\n",
      "Requirement already satisfied: requests in /usr/local/lib/python3.8/dist-packages (from abacusai) (2.25.1)\n",
      "Requirement already satisfied: pandas in /usr/local/lib/python3.8/dist-packages (from abacusai) (1.0.5)\n",
      "Requirement already satisfied: fastavro in /usr/local/lib/python3.8/dist-packages (from abacusai) (0.23.3)\n",
      "Requirement already satisfied: pytz in /usr/local/lib/python3.8/dist-packages (from fastavro->abacusai) (2021.1)\n",
      "Requirement already satisfied: pyparsing>=2.0.2 in /usr/local/lib/python3.8/dist-packages (from packaging->abacusai) (2.4.7)\n",
      "Requirement already satisfied: numpy>=1.13.3 in /usr/local/lib/python3.8/dist-packages (from pandas->abacusai) (1.19.5)\n",
      "Requirement already satisfied: python-dateutil>=2.6.1 in /usr/local/lib/python3.8/dist-packages (from pandas->abacusai) (2.8.2)\n",
      "Requirement already satisfied: six>=1.5 in /usr/local/lib/python3.8/dist-packages (from python-dateutil>=2.6.1->pandas->abacusai) (1.15.0)\n",
      "Requirement already satisfied: urllib3<1.27,>=1.21.1 in /usr/lib/python3/dist-packages (from requests->abacusai) (1.25.8)\n",
      "Requirement already satisfied: idna<3,>=2.5 in /usr/lib/python3/dist-packages (from requests->abacusai) (2.8)\n",
      "Requirement already satisfied: chardet<5,>=3.0.2 in /usr/lib/python3/dist-packages (from requests->abacusai) (3.0.4)\n",
      "Requirement already satisfied: certifi>=2017.4.17 in /usr/lib/python3/dist-packages (from requests->abacusai) (2019.11.28)\n"
     ]
    },
    {
     "name": "stderr",
     "output_type": "stream",
     "text": [
      "WARNING:root:A new version of the Abacus.AI library is available\n",
      "WARNING:root:Current Version: 0.30.8 -> New Version: 0.30.9\n"
     ]
    },
    {
     "data": {
      "text/plain": [
       "Model(name='Customer Churn Prediction Model', model_id='eb93cbf00', model_config={}, created_at='2021-10-11T01:40:47+00:00', project_id='563d44e42', shared=False, shared_at=None, location=ModelLocation(location=None, artifact_names=None), refresh_schedules=RefreshSchedule(refresh_policy_id=None, next_run_time=None, cron=None, refresh_type=None), latest_model_version=ModelVersion(model_version='15b12394f4', status='COMPLETE', model_id={'sharedAt': None, 'notDeployable': False, 'algorithm': 'baseline_dnn', 'shared': False, 'baselineModelId': 413470, 'modelId': 'eb93cbf00', 'modelGroupId': 256390, 'location': None, 'modelConfig': {}, 'updatedAt': '2021-10-11T01:40:47+00:00', 'name': 'Customer Churn Prediction Model', 'createdAt': '2021-10-11T01:40:47+00:00'}, model_config={}, training_started_at='2021-10-11T01:43:58+00:00', training_completed_at='2021-10-11T01:48:54+00:00', dataset_versions=['d92899988'], error=None, pending_deployment_ids=[], failed_deployment_ids=[]))"
      ]
     },
     "execution_count": 28,
     "metadata": {},
     "output_type": "execute_result"
    }
   ],
   "source": [
    "!pip install abacusai\n",
    "import pandas as pd\n",
    "import pprint\n",
    "pp = pprint.PrettyPrinter(indent=2)\n",
    "api_key = '2fdecde877dc45fab937eff82b70eff0'  #@param {type: \"string\"}\n",
    "from abacusai import ApiClient\n",
    "client = ApiClient(api_key)\n",
    "churn_project = next(project for project in client.list_projects() if project.name == 'Customer Churn Prediction')\n",
    "churn_model = churn_project.list_models()[-1]\n",
    "churn_model.wait_for_evaluation()"
   ]
  },
  {
   "cell_type": "markdown",
   "metadata": {
    "id": "oYYlzif_96cq"
   },
   "source": [
    "## 5. Evaluate your Model Metrics\n",
    "\n",
    "After your model is done training you can inspect the model's quality by reviewing the model's metrics:"
   ]
  },
  {
   "cell_type": "code",
   "execution_count": 24,
   "metadata": {
    "id": "1xMbq3Gxsjot"
   },
   "outputs": [
    {
     "name": "stdout",
     "output_type": "stream",
     "text": [
      "{ 'baseline_metrics': None,\n",
      "  'metrics': { 'acc': 0.8028368794326242,\n",
      "               'auc': 0.83403720462544,\n",
      "               'className': ['No', 'Yes'],\n",
      "               'confusion': [ { 'actual': 'No',\n",
      "                                'freq': [ 0.10588235294117644,\n",
      "                                          0.10588235294117648],\n",
      "                                'predicted': [456, 54]},\n",
      "                              { 'actual': 'Yes',\n",
      "                                'freq': [ 0.4358974358974359,\n",
      "                                          0.4358974358974359],\n",
      "                                'predicted': [85, 110]}],\n",
      "               'ignoreCorrelatedColumns': [],\n",
      "               'logLoss': 0.4444681207822313,\n",
      "               'precision': [0.8428835489833642, 0.6707317073170732],\n",
      "               'recall': [0.8941176470588236, 0.5641025641025641],\n",
      "               'support': [510, 195],\n",
      "               'trainSupport': [4149, 1485]},\n",
      "  'model_id': 'eb93cbf00',\n",
      "  'model_version': '15b12394f4',\n",
      "  'target_column': None}\n"
     ]
    }
   ],
   "source": [
    "pp.pprint(churn_model.get_metrics().to_dict())"
   ]
  },
  {
   "cell_type": "markdown",
   "metadata": {
    "id": "cSnO3E__981U"
   },
   "source": [
    "To get a better understanding on what these metrics mean, visit our [documentation](https://abacus.ai/app/help/useCases/CUSTOMER_CHURN/training) page."
   ]
  },
  {
   "cell_type": "markdown",
   "metadata": {
    "id": "mxo469uk-C-u"
   },
   "source": [
    "## 6. Deploy Model"
   ]
  },
  {
   "cell_type": "markdown",
   "metadata": {
    "id": "GXSSPA7u-DPE"
   },
   "source": [
    "After the model has been trained, we need to deploy the model to be able to start making predictions. Deploying a model will reserve cloud resources to host the model for Realtime and/or batch predictions."
   ]
  },
  {
   "cell_type": "code",
   "execution_count": 29,
   "metadata": {
    "id": "eQUlbDyxslCn"
   },
   "outputs": [
    {
     "data": {
      "text/plain": [
       "Deployment(deployment_id='5232d960', name='Customer Churn Deployment', status='ACTIVE', description='Customer Churn Prediction Model Deployment', deployed_at='2021-10-11T01:53:11+00:00', created_at='2021-10-11T01:52:26+00:00', project_id='563d44e42', model_id='eb93cbf00', model_version='15b12394f4', feature_group_id=None, feature_group_version=None, calls_per_second=5, auto_deploy=True, regions=[{'name': 'Us East 1', 'value': 'us-east-1'}], error=None, refresh_schedules=RefreshSchedule(refresh_policy_id=None, next_run_time=None, cron=None, refresh_type=None))"
      ]
     },
     "execution_count": 29,
     "metadata": {},
     "output_type": "execute_result"
    }
   ],
   "source": [
    "churn_deployment = client.create_deployment(name='Customer Churn Deployment', description='Customer Churn Prediction Model Deployment', model_id=churn_model.model_id)\n",
    "churn_deployment.wait_for_deployment()"
   ]
  },
  {
   "cell_type": "markdown",
   "metadata": {
    "id": "XPckbCKK-Ggl"
   },
   "source": [
    "After the model is deployed, we need to create a deployment token for authenticating prediction requests. This token is only authorized to predict on deployments in this project, so it's safe to embed this token inside of a user-facing application or website."
   ]
  },
  {
   "cell_type": "code",
   "execution_count": null,
   "metadata": {
    "id": "FgcMV2vasmPz"
   },
   "outputs": [],
   "source": [
    "deployment_token = churn_project.create_deployment_token().deployment_token\n",
    "deployment_token"
   ]
  },
  {
   "cell_type": "markdown",
   "metadata": {
    "id": "H-MxqAGG-ITD"
   },
   "source": [
    "## 7. Predict\n"
   ]
  },
  {
   "cell_type": "markdown",
   "metadata": {
    "id": "H92B6oiv-Jnc"
   },
   "source": [
    "Now that you have an active deployment and a deployment token to authenticate requests, you can make the `predict_churn` API call below.\n",
    "\n",
    "This command will return the probability of a user with specified attributes churning. The prediction would be performed based on the specified dataset, which, in this case, contains information about the user, their attributes, and whether or not they churned."
   ]
  },
  {
   "cell_type": "code",
   "execution_count": null,
   "metadata": {
    "id": "nyxbYJ03snPK"
   },
   "outputs": [],
   "source": [
    "ApiClient().predict_churn(deployment_token=deployment_token, \n",
    "               deployment_id=churn_deployment.deployment_id, \n",
    "               query_data={\"MonthlyCharges\":69.7,\"TotalCharges\":560.85,\"gender\":\"Male\",\"SeniorCitizen\":\"1\",\"Partner\":\"No\",\"Dependents\":\"No\",\"tenure\":\"8\",\"PhoneService\":\"Yes\",\"MultipleLines\":\"No\",\"InternetService\":\"Fiber optic\",\"OnlineSecurity\":\"No\",\"OnlineBackup\":\"No\",\"DeviceProtection\":\"No\",\"TechSupport\":\"No\",\"StreamingTV\":\"No\",\"StreamingMovies\":\"No\",\"Contract\":\"Month-to-month\",\"PaperlessBilling\":\"Yes\",\"PaymentMethod\":\"Electronic check\"})"
   ]
  }
 ],
 "metadata": {
  "colab": {
   "collapsed_sections": [],
   "name": "Customer Churn Prediction Notebook.ipynb",
   "provenance": [],
   "toc_visible": true
  },
  "kernelspec": {
   "display_name": "Python 3 (ipykernel)",
   "language": "python",
   "name": "python3"
  },
  "language_info": {
   "codemirror_mode": {
    "name": "ipython",
    "version": 3
   },
   "file_extension": ".py",
   "mimetype": "text/x-python",
   "name": "python",
   "nbconvert_exporter": "python",
   "pygments_lexer": "ipython3",
   "version": "3.8.10"
  }
 },
 "nbformat": 4,
 "nbformat_minor": 4
}
